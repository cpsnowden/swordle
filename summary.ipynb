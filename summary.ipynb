{
 "cells": [
  {
   "attachments": {},
   "cell_type": "markdown",
   "metadata": {},
   "source": []
  },
  {
   "attachments": {},
   "cell_type": "markdown",
   "metadata": {},
   "source": [
    "Notebook Components\n",
    "\n",
    "1. Load model\n",
    "2. Deploy to webserver backend locally\n",
    "3. Activate streamlit frontend locally\n",
    "4. Make them talk to each other"
   ]
  },
  {
   "attachments": {},
   "cell_type": "markdown",
   "metadata": {},
   "source": [
    "This notebook is intended to capture the process of taking the saved model file and demonstrating it's functionality in a basic frontend.\n",
    "\n",
    "We first load the model, then deploy it to a uvicorn web-server. We then start the simple frontend and demonstrate that they communicate via FastAPI.\n",
    "\n",
    "The model is saved as a protobuf, and the scripts necessary for saving and loading are contained within the scripts folder."
   ]
  },
  {
   "cell_type": "markdown",
   "metadata": {},
   "source": []
  }
 ],
 "metadata": {
  "language_info": {
   "name": "python"
  },
  "orig_nbformat": 4
 },
 "nbformat": 4,
 "nbformat_minor": 2
}
