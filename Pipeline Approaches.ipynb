{
 "cells": [
  {
   "cell_type": "code",
   "execution_count": 44,
   "id": "cd2d007e",
   "metadata": {},
   "outputs": [],
   "source": [
    "from sklearn.compose import ColumnTransformer, make_column_transformer, make_column_selector\n",
    "from sklearn.preprocessing import OneHotEncoder, FunctionTransformer\n",
    "import pandas as pd\n",
    "from sklearn.pipeline import Pipeline"
   ]
  },
  {
   "cell_type": "code",
   "execution_count": 150,
   "id": "bcb97a7a",
   "metadata": {},
   "outputs": [],
   "source": [
    "def normalize(df: pd.DataFrame) -> pd.DataFrame:\n",
    "    mean = df.mean(axis=1)\n",
    "    std = df.std(axis=1)\n",
    "    mean_diff = df.subtract(mean, axis='index')\n",
    "    return mean_diff.divide(std, axis='index')"
   ]
  },
  {
   "cell_type": "code",
   "execution_count": 65,
   "id": "7f2034af",
   "metadata": {},
   "outputs": [],
   "source": [
    "LANDMARK_NAME = [\n",
    "    \"WRIST\",\n",
    "    \"THUMB_CMC\",\n",
    "    \"THUMB_MCP\",\n",
    "    \"THUMB_IP\",\n",
    "    \"THUMB_TIP\",\n",
    "    \"INDEX_FINGER_MCP\",\n",
    "    \"INDEX_FINGER_PIP\",\n",
    "    \"INDEX_FINGER_DIP\",\n",
    "    \"INDEX_FINGER_TIP\",\n",
    "    \"MIDDLE_FINGER_MCP\",\n",
    "    \"MIDDLE_FINGER_PIP\",\n",
    "    \"MIDDLE_FINGER_DIP\",\n",
    "    \"MIDDLE_FINGER_TIP\",\n",
    "    \"RING_FINGER_MCP\",\n",
    "    \"RING_FINGER_PIP\",\n",
    "    \"RING_FINGER_DIP\",\n",
    "    \"RING_FINGER_TIP\",\n",
    "    \"PINKY_MCP\",\n",
    "    \"PINKY_PIP\",\n",
    "    \"PINKY_DIP\",\n",
    "    \"PINKY_TIP\"\n",
    "]\n",
    "\n",
    "LANDMARK_NAME_XYZ = [name + coordinate for name in LANDMARK_NAME for coordinate in [\"_X\", \"_Y\", \"_Z\"]]"
   ]
  },
  {
   "cell_type": "code",
   "execution_count": 124,
   "id": "1eb3a164",
   "metadata": {},
   "outputs": [],
   "source": [
    "# https://scikit-learn.org/stable/auto_examples/miscellaneous/plot_set_output.html#sphx-glr-auto-examples-miscellaneous-plot-set-output-py\n",
    "def create_preprocessing() -> Pipeline:\n",
    "    \"\"\"\n",
    "\n",
    "    \"\"\"\n",
    "    frame_normalizer = ColumnTransformer(\n",
    "        [\n",
    "            (\"x\", FunctionTransformer(normalize, feature_names_out=\"one-to-one\"),\n",
    "             make_column_selector(pattern=\"_(?:x|X)$\")),\n",
    "            (\"y\", FunctionTransformer(normalize, feature_names_out=\"one-to-one\"),\n",
    "             make_column_selector(pattern=\"_(?:y|Y)$\")),\n",
    "            (\"z\", FunctionTransformer(normalize, feature_names_out=\"one-to-one\"),\n",
    "             make_column_selector(pattern=\"_(?:z|Z)$\")),\n",
    "        ],\n",
    "        remainder='drop',\n",
    "        verbose_feature_names_out=False\n",
    "    )\n",
    "    \n",
    "    column_reorder = FunctionTransformer(\n",
    "        lambda df: df[LANDMARK_NAME_XYZ], feature_names_out=lambda x,y: LANDMARK_NAME_XYZ\n",
    "    )\n",
    "    \n",
    "    return Pipeline([\n",
    "        (\"normalize_frame\", frame_normalizer),\n",
    "        (\"reorder_columns\", column_reorder)\n",
    "    ]).set_output(transform=\"pandas\")"
   ]
  },
  {
   "cell_type": "markdown",
   "id": "56eb3f2a",
   "metadata": {},
   "source": [
    "## Check KNN"
   ]
  },
  {
   "cell_type": "code",
   "execution_count": 144,
   "id": "cdceb093",
   "metadata": {},
   "outputs": [],
   "source": [
    "from sklearn.neighbors import KNeighborsClassifier\n",
    "\n",
    "preproc = create_preprocessing()\n",
    "full_pipeline = Pipeline([(\"preproc\", preproc), (\"knn\", KNeighborsClassifier())])"
   ]
  },
  {
   "cell_type": "code",
   "execution_count": 149,
   "id": "04f14aad",
   "metadata": {},
   "outputs": [
    {
     "data": {
      "text/plain": [
       "0.9670710571923743"
      ]
     },
     "metadata": {},
     "output_type": "display_data"
    },
    {
     "data": {
      "text/plain": [
       "0.9488272921108742"
      ]
     },
     "metadata": {},
     "output_type": "display_data"
    }
   ],
   "source": [
    "from sklearn.model_selection import train_test_split\n",
    "from sklearn.preprocessing import LabelEncoder\n",
    "\n",
    "data = pd.read_csv(\"raw_data/images_ds.csv\").dropna()\n",
    "X = data.drop(columns = [\"Unnamed: 0\", \"PATH\", \"TARGET\"])\n",
    "y = data[\"TARGET\"]\n",
    "\n",
    "X_train, X_test, y_train, y_test = train_test_split(X, y, test_size=0.2, random_state=42)\n",
    "\n",
    "le = LabelEncoder()\n",
    "y_train_encoded = le.fit_transform(y_train)\n",
    "y_test_encoded = le.transform(y_test)\n",
    "\n",
    "full_pipeline.fit(X_train, y_train_encoded)\n",
    "\n",
    "display(full_pipeline.score(X_train, y_train_encoded))\n",
    "display(full_pipeline.score(X_test, y_test_encoded))"
   ]
  },
  {
   "cell_type": "code",
   "execution_count": 151,
   "id": "8b38240b",
   "metadata": {},
   "outputs": [],
   "source": [
    "data = pd.read_csv(\"raw_data/dataset-3.csv\").dropna()\n",
    "X = data.drop(columns = [\"Unnamed: 0\", \"PATH\", \"TARGET\"])\n",
    "y = data[\"TARGET\"]\n"
   ]
  },
  {
   "cell_type": "code",
   "execution_count": 152,
   "id": "4d290331",
   "metadata": {},
   "outputs": [
    {
     "data": {
      "text/plain": [
       "0.9795534406604031"
      ]
     },
     "metadata": {},
     "output_type": "display_data"
    },
    {
     "data": {
      "text/plain": [
       "0.9691566711434261"
      ]
     },
     "metadata": {},
     "output_type": "display_data"
    }
   ],
   "source": [
    "X_train, X_test, y_train, y_test = train_test_split(X, y, test_size=0.2, random_state=42)\n",
    "\n",
    "le = LabelEncoder()\n",
    "y_train_encoded = le.fit_transform(y_train)\n",
    "y_test_encoded = le.transform(y_test)\n",
    "\n",
    "full_pipeline.fit(X_train, y_train_encoded)\n",
    "\n",
    "display(full_pipeline.score(X_train, y_train_encoded))\n",
    "display(full_pipeline.score(X_test, y_test_encoded))"
   ]
  },
  {
   "cell_type": "markdown",
   "id": "2f65ef09",
   "metadata": {},
   "source": [
    "## Check CNN"
   ]
  },
  {
   "cell_type": "code",
   "execution_count": null,
   "id": "9b7e05ad",
   "metadata": {},
   "outputs": [],
   "source": [
    "# See how to plug Keras into a SKLearn Pipeline \n",
    "# https://towardsdatascience.com/are-you-using-the-scikit-learn-wrapper-in-your-keras-deep-learning-model-a3005696ff38\n",
    "# https://www.adriangb.com/scikeras/stable/"
   ]
  },
  {
   "cell_type": "code",
   "execution_count": null,
   "id": "bf173403",
   "metadata": {},
   "outputs": [],
   "source": []
  }
 ],
 "metadata": {
  "kernelspec": {
   "display_name": "Python 3 (ipykernel)",
   "language": "python",
   "name": "python3"
  },
  "language_info": {
   "codemirror_mode": {
    "name": "ipython",
    "version": 3
   },
   "file_extension": ".py",
   "mimetype": "text/x-python",
   "name": "python",
   "nbconvert_exporter": "python",
   "pygments_lexer": "ipython3",
   "version": "3.10.6"
  },
  "toc": {
   "base_numbering": 1,
   "nav_menu": {},
   "number_sections": true,
   "sideBar": true,
   "skip_h1_title": false,
   "title_cell": "Table of Contents",
   "title_sidebar": "Contents",
   "toc_cell": false,
   "toc_position": {},
   "toc_section_display": true,
   "toc_window_display": false
  }
 },
 "nbformat": 4,
 "nbformat_minor": 5
}
