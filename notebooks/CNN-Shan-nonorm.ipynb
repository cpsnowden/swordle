{
 "cells": [
  {
   "cell_type": "markdown",
   "id": "4bdb1a64",
   "metadata": {},
   "source": [
    "# Sign Game Server"
   ]
  },
  {
   "cell_type": "markdown",
   "id": "f90694f4",
   "metadata": {},
   "source": [
    "Game Plan:"
   ]
  },
  {
   "cell_type": "code",
   "execution_count": 31,
   "id": "613a1722",
   "metadata": {},
   "outputs": [],
   "source": [
    "# Imports\n",
    "import numpy as np\n",
    "import pandas as pd\n",
    "import matplotlib.pyplot as plt\n",
    "from tensorflow.keras import models\n",
    "from tensorflow.keras import Sequential, layers\n",
    "from sklearn.preprocessing import LabelEncoder\n",
    "from sklearn.model_selection import train_test_split\n",
    "from tensorflow.keras.utils import to_categorical\n",
    "from tensorflow.keras.callbacks import EarlyStopping\n",
    "import string"
   ]
  },
  {
   "cell_type": "code",
   "execution_count": 32,
   "id": "0161ffc0",
   "metadata": {},
   "outputs": [],
   "source": [
    "from sign_game.ml.evaluate import evaluate_model"
   ]
  },
  {
   "cell_type": "code",
   "execution_count": 33,
   "id": "17df61f2",
   "metadata": {
    "collapsed": true
   },
   "outputs": [],
   "source": [
    "!pip list | grep sign_game"
   ]
  },
  {
   "cell_type": "markdown",
   "id": "bf1a4ebd",
   "metadata": {},
   "source": [
    "protobuf 3.11.0"
   ]
  },
  {
   "cell_type": "markdown",
   "id": "3e8360e0",
   "metadata": {},
   "source": [
    "## Dataset Preprocessing"
   ]
  },
  {
   "cell_type": "code",
   "execution_count": 79,
   "id": "70fb64fa",
   "metadata": {},
   "outputs": [],
   "source": [
    "# Dataset\n",
    "df1 = pd.read_csv('../raw_data/csv_data/train.csv')\n",
    "df2 = pd.read_csv('../raw_data/csv_data/test.csv')"
   ]
  },
  {
   "cell_type": "code",
   "execution_count": 80,
   "id": "6eab2407",
   "metadata": {},
   "outputs": [],
   "source": [
    "df = df1.copy().dropna().reset_index()\n",
    "test_df = df2.copy().dropna().reset_index()"
   ]
  },
  {
   "cell_type": "code",
   "execution_count": 81,
   "id": "16decf9a",
   "metadata": {},
   "outputs": [
    {
     "data": {
      "text/plain": [
       "Index(['index', 'Unnamed: 0', 'WRIST_X', 'WRIST_Y', 'WRIST_Z', 'THUMB_CMC_X',\n",
       "       'THUMB_CMC_Y', 'THUMB_CMC_Z', 'THUMB_MCP_X', 'THUMB_MCP_Y',\n",
       "       'THUMB_MCP_Z', 'THUMB_IP_X', 'THUMB_IP_Y', 'THUMB_IP_Z', 'THUMB_TIP_X',\n",
       "       'THUMB_TIP_Y', 'THUMB_TIP_Z', 'INDEX_FINGER_MCP_X',\n",
       "       'INDEX_FINGER_MCP_Y', 'INDEX_FINGER_MCP_Z', 'INDEX_FINGER_PIP_X',\n",
       "       'INDEX_FINGER_PIP_Y', 'INDEX_FINGER_PIP_Z', 'INDEX_FINGER_DIP_X',\n",
       "       'INDEX_FINGER_DIP_Y', 'INDEX_FINGER_DIP_Z', 'INDEX_FINGER_TIP_X',\n",
       "       'INDEX_FINGER_TIP_Y', 'INDEX_FINGER_TIP_Z', 'MIDDLE_FINGER_MCP_X',\n",
       "       'MIDDLE_FINGER_MCP_Y', 'MIDDLE_FINGER_MCP_Z', 'MIDDLE_FINGER_PIP_X',\n",
       "       'MIDDLE_FINGER_PIP_Y', 'MIDDLE_FINGER_PIP_Z', 'MIDDLE_FINGER_DIP_X',\n",
       "       'MIDDLE_FINGER_DIP_Y', 'MIDDLE_FINGER_DIP_Z', 'MIDDLE_FINGER_TIP_X',\n",
       "       'MIDDLE_FINGER_TIP_Y', 'MIDDLE_FINGER_TIP_Z', 'RING_FINGER_MCP_X',\n",
       "       'RING_FINGER_MCP_Y', 'RING_FINGER_MCP_Z', 'RING_FINGER_PIP_X',\n",
       "       'RING_FINGER_PIP_Y', 'RING_FINGER_PIP_Z', 'RING_FINGER_DIP_X',\n",
       "       'RING_FINGER_DIP_Y', 'RING_FINGER_DIP_Z', 'RING_FINGER_TIP_X',\n",
       "       'RING_FINGER_TIP_Y', 'RING_FINGER_TIP_Z', 'PINKY_MCP_X', 'PINKY_MCP_Y',\n",
       "       'PINKY_MCP_Z', 'PINKY_PIP_X', 'PINKY_PIP_Y', 'PINKY_PIP_Z',\n",
       "       'PINKY_DIP_X', 'PINKY_DIP_Y', 'PINKY_DIP_Z', 'PINKY_TIP_X',\n",
       "       'PINKY_TIP_Y', 'PINKY_TIP_Z', 'TARGET', 'PATH'],\n",
       "      dtype='object')"
      ]
     },
     "execution_count": 81,
     "metadata": {},
     "output_type": "execute_result"
    }
   ],
   "source": [
    "df.columns"
   ]
  },
  {
   "cell_type": "code",
   "execution_count": 82,
   "id": "7097a18b",
   "metadata": {},
   "outputs": [
    {
     "data": {
      "text/html": [
       "<div>\n",
       "<style scoped>\n",
       "    .dataframe tbody tr th:only-of-type {\n",
       "        vertical-align: middle;\n",
       "    }\n",
       "\n",
       "    .dataframe tbody tr th {\n",
       "        vertical-align: top;\n",
       "    }\n",
       "\n",
       "    .dataframe thead th {\n",
       "        text-align: right;\n",
       "    }\n",
       "</style>\n",
       "<table border=\"1\" class=\"dataframe\">\n",
       "  <thead>\n",
       "    <tr style=\"text-align: right;\">\n",
       "      <th></th>\n",
       "      <th>WRIST_X</th>\n",
       "      <th>WRIST_Y</th>\n",
       "      <th>WRIST_Z</th>\n",
       "      <th>THUMB_CMC_X</th>\n",
       "      <th>THUMB_CMC_Y</th>\n",
       "      <th>THUMB_CMC_Z</th>\n",
       "      <th>THUMB_MCP_X</th>\n",
       "      <th>THUMB_MCP_Y</th>\n",
       "      <th>THUMB_MCP_Z</th>\n",
       "      <th>THUMB_IP_X</th>\n",
       "      <th>...</th>\n",
       "      <th>PINKY_MCP_Z</th>\n",
       "      <th>PINKY_PIP_X</th>\n",
       "      <th>PINKY_PIP_Y</th>\n",
       "      <th>PINKY_PIP_Z</th>\n",
       "      <th>PINKY_DIP_X</th>\n",
       "      <th>PINKY_DIP_Y</th>\n",
       "      <th>PINKY_DIP_Z</th>\n",
       "      <th>PINKY_TIP_X</th>\n",
       "      <th>PINKY_TIP_Y</th>\n",
       "      <th>PINKY_TIP_Z</th>\n",
       "    </tr>\n",
       "  </thead>\n",
       "  <tbody>\n",
       "    <tr>\n",
       "      <th>0</th>\n",
       "      <td>0.580146</td>\n",
       "      <td>0.730645</td>\n",
       "      <td>-1.177116e-06</td>\n",
       "      <td>0.473765</td>\n",
       "      <td>0.671982</td>\n",
       "      <td>-0.048995</td>\n",
       "      <td>0.387580</td>\n",
       "      <td>0.538928</td>\n",
       "      <td>-0.069621</td>\n",
       "      <td>0.441531</td>\n",
       "      <td>...</td>\n",
       "      <td>-0.059356</td>\n",
       "      <td>0.695745</td>\n",
       "      <td>0.415271</td>\n",
       "      <td>-0.096098</td>\n",
       "      <td>0.671739</td>\n",
       "      <td>0.495591</td>\n",
       "      <td>-0.073339</td>\n",
       "      <td>0.664304</td>\n",
       "      <td>0.510604</td>\n",
       "      <td>-0.047599</td>\n",
       "    </tr>\n",
       "    <tr>\n",
       "      <th>1</th>\n",
       "      <td>0.445952</td>\n",
       "      <td>0.761564</td>\n",
       "      <td>-5.865483e-07</td>\n",
       "      <td>0.341784</td>\n",
       "      <td>0.663544</td>\n",
       "      <td>-0.049271</td>\n",
       "      <td>0.302874</td>\n",
       "      <td>0.512108</td>\n",
       "      <td>-0.071219</td>\n",
       "      <td>0.395074</td>\n",
       "      <td>...</td>\n",
       "      <td>-0.054139</td>\n",
       "      <td>0.649678</td>\n",
       "      <td>0.354256</td>\n",
       "      <td>-0.068198</td>\n",
       "      <td>0.641034</td>\n",
       "      <td>0.366634</td>\n",
       "      <td>-0.072729</td>\n",
       "      <td>0.621034</td>\n",
       "      <td>0.409713</td>\n",
       "      <td>-0.072052</td>\n",
       "    </tr>\n",
       "    <tr>\n",
       "      <th>2</th>\n",
       "      <td>0.225931</td>\n",
       "      <td>0.832181</td>\n",
       "      <td>1.781775e-06</td>\n",
       "      <td>0.387265</td>\n",
       "      <td>0.749331</td>\n",
       "      <td>0.024833</td>\n",
       "      <td>0.521656</td>\n",
       "      <td>0.661899</td>\n",
       "      <td>0.017178</td>\n",
       "      <td>0.645383</td>\n",
       "      <td>...</td>\n",
       "      <td>-0.064048</td>\n",
       "      <td>0.408083</td>\n",
       "      <td>0.353560</td>\n",
       "      <td>-0.073689</td>\n",
       "      <td>0.495536</td>\n",
       "      <td>0.308308</td>\n",
       "      <td>-0.076379</td>\n",
       "      <td>0.574876</td>\n",
       "      <td>0.282047</td>\n",
       "      <td>-0.078049</td>\n",
       "    </tr>\n",
       "    <tr>\n",
       "      <th>3</th>\n",
       "      <td>0.539091</td>\n",
       "      <td>0.918612</td>\n",
       "      <td>-5.109345e-07</td>\n",
       "      <td>0.645941</td>\n",
       "      <td>0.846850</td>\n",
       "      <td>-0.006828</td>\n",
       "      <td>0.677403</td>\n",
       "      <td>0.755252</td>\n",
       "      <td>0.004011</td>\n",
       "      <td>0.601994</td>\n",
       "      <td>...</td>\n",
       "      <td>0.064850</td>\n",
       "      <td>0.389593</td>\n",
       "      <td>0.665900</td>\n",
       "      <td>0.069766</td>\n",
       "      <td>0.418992</td>\n",
       "      <td>0.735415</td>\n",
       "      <td>0.093706</td>\n",
       "      <td>0.444080</td>\n",
       "      <td>0.775207</td>\n",
       "      <td>0.114414</td>\n",
       "    </tr>\n",
       "    <tr>\n",
       "      <th>4</th>\n",
       "      <td>0.732511</td>\n",
       "      <td>0.814176</td>\n",
       "      <td>7.756363e-08</td>\n",
       "      <td>0.636504</td>\n",
       "      <td>0.784360</td>\n",
       "      <td>-0.085297</td>\n",
       "      <td>0.522966</td>\n",
       "      <td>0.728116</td>\n",
       "      <td>-0.153700</td>\n",
       "      <td>0.417040</td>\n",
       "      <td>...</td>\n",
       "      <td>-0.126519</td>\n",
       "      <td>0.848234</td>\n",
       "      <td>0.502867</td>\n",
       "      <td>-0.185572</td>\n",
       "      <td>0.827085</td>\n",
       "      <td>0.601483</td>\n",
       "      <td>-0.153147</td>\n",
       "      <td>0.784853</td>\n",
       "      <td>0.626364</td>\n",
       "      <td>-0.114238</td>\n",
       "    </tr>\n",
       "    <tr>\n",
       "      <th>...</th>\n",
       "      <td>...</td>\n",
       "      <td>...</td>\n",
       "      <td>...</td>\n",
       "      <td>...</td>\n",
       "      <td>...</td>\n",
       "      <td>...</td>\n",
       "      <td>...</td>\n",
       "      <td>...</td>\n",
       "      <td>...</td>\n",
       "      <td>...</td>\n",
       "      <td>...</td>\n",
       "      <td>...</td>\n",
       "      <td>...</td>\n",
       "      <td>...</td>\n",
       "      <td>...</td>\n",
       "      <td>...</td>\n",
       "      <td>...</td>\n",
       "      <td>...</td>\n",
       "      <td>...</td>\n",
       "      <td>...</td>\n",
       "      <td>...</td>\n",
       "    </tr>\n",
       "    <tr>\n",
       "      <th>43295</th>\n",
       "      <td>0.741618</td>\n",
       "      <td>0.645042</td>\n",
       "      <td>2.154786e-07</td>\n",
       "      <td>0.770277</td>\n",
       "      <td>0.579488</td>\n",
       "      <td>-0.085343</td>\n",
       "      <td>0.782202</td>\n",
       "      <td>0.506932</td>\n",
       "      <td>-0.149878</td>\n",
       "      <td>0.761967</td>\n",
       "      <td>...</td>\n",
       "      <td>-0.092626</td>\n",
       "      <td>0.578097</td>\n",
       "      <td>0.695811</td>\n",
       "      <td>-0.167554</td>\n",
       "      <td>0.657868</td>\n",
       "      <td>0.686865</td>\n",
       "      <td>-0.172817</td>\n",
       "      <td>0.702142</td>\n",
       "      <td>0.666721</td>\n",
       "      <td>-0.157109</td>\n",
       "    </tr>\n",
       "    <tr>\n",
       "      <th>43296</th>\n",
       "      <td>0.137764</td>\n",
       "      <td>0.510845</td>\n",
       "      <td>-2.493652e-07</td>\n",
       "      <td>0.147000</td>\n",
       "      <td>0.370611</td>\n",
       "      <td>-0.053444</td>\n",
       "      <td>0.240493</td>\n",
       "      <td>0.247799</td>\n",
       "      <td>-0.080846</td>\n",
       "      <td>0.355257</td>\n",
       "      <td>...</td>\n",
       "      <td>-0.103268</td>\n",
       "      <td>0.485470</td>\n",
       "      <td>0.565702</td>\n",
       "      <td>-0.180807</td>\n",
       "      <td>0.390456</td>\n",
       "      <td>0.543748</td>\n",
       "      <td>-0.165693</td>\n",
       "      <td>0.316944</td>\n",
       "      <td>0.524513</td>\n",
       "      <td>-0.132549</td>\n",
       "    </tr>\n",
       "    <tr>\n",
       "      <th>43297</th>\n",
       "      <td>0.137497</td>\n",
       "      <td>0.557135</td>\n",
       "      <td>-6.068033e-07</td>\n",
       "      <td>0.175437</td>\n",
       "      <td>0.396056</td>\n",
       "      <td>-0.011387</td>\n",
       "      <td>0.259040</td>\n",
       "      <td>0.284953</td>\n",
       "      <td>-0.009870</td>\n",
       "      <td>0.337952</td>\n",
       "      <td>...</td>\n",
       "      <td>-0.038636</td>\n",
       "      <td>0.470347</td>\n",
       "      <td>0.440237</td>\n",
       "      <td>-0.074310</td>\n",
       "      <td>0.396895</td>\n",
       "      <td>0.424846</td>\n",
       "      <td>-0.061589</td>\n",
       "      <td>0.335858</td>\n",
       "      <td>0.431777</td>\n",
       "      <td>-0.037805</td>\n",
       "    </tr>\n",
       "    <tr>\n",
       "      <th>43298</th>\n",
       "      <td>0.281278</td>\n",
       "      <td>0.972573</td>\n",
       "      <td>1.029575e-06</td>\n",
       "      <td>0.193043</td>\n",
       "      <td>0.919504</td>\n",
       "      <td>-0.061134</td>\n",
       "      <td>0.130964</td>\n",
       "      <td>0.825261</td>\n",
       "      <td>-0.102737</td>\n",
       "      <td>0.181962</td>\n",
       "      <td>...</td>\n",
       "      <td>-0.113234</td>\n",
       "      <td>0.337720</td>\n",
       "      <td>0.726585</td>\n",
       "      <td>-0.159835</td>\n",
       "      <td>0.281542</td>\n",
       "      <td>0.781124</td>\n",
       "      <td>-0.155015</td>\n",
       "      <td>0.261030</td>\n",
       "      <td>0.821271</td>\n",
       "      <td>-0.138690</td>\n",
       "    </tr>\n",
       "    <tr>\n",
       "      <th>43299</th>\n",
       "      <td>0.690669</td>\n",
       "      <td>0.723621</td>\n",
       "      <td>-1.350822e-07</td>\n",
       "      <td>0.604417</td>\n",
       "      <td>0.686137</td>\n",
       "      <td>-0.025395</td>\n",
       "      <td>0.524300</td>\n",
       "      <td>0.626584</td>\n",
       "      <td>-0.050222</td>\n",
       "      <td>0.452890</td>\n",
       "      <td>...</td>\n",
       "      <td>-0.066101</td>\n",
       "      <td>0.660639</td>\n",
       "      <td>0.419856</td>\n",
       "      <td>-0.093568</td>\n",
       "      <td>0.613886</td>\n",
       "      <td>0.383119</td>\n",
       "      <td>-0.109057</td>\n",
       "      <td>0.564711</td>\n",
       "      <td>0.368373</td>\n",
       "      <td>-0.115669</td>\n",
       "    </tr>\n",
       "  </tbody>\n",
       "</table>\n",
       "<p>43300 rows × 63 columns</p>\n",
       "</div>"
      ],
      "text/plain": [
       "        WRIST_X   WRIST_Y       WRIST_Z  THUMB_CMC_X  THUMB_CMC_Y  \\\n",
       "0      0.580146  0.730645 -1.177116e-06     0.473765     0.671982   \n",
       "1      0.445952  0.761564 -5.865483e-07     0.341784     0.663544   \n",
       "2      0.225931  0.832181  1.781775e-06     0.387265     0.749331   \n",
       "3      0.539091  0.918612 -5.109345e-07     0.645941     0.846850   \n",
       "4      0.732511  0.814176  7.756363e-08     0.636504     0.784360   \n",
       "...         ...       ...           ...          ...          ...   \n",
       "43295  0.741618  0.645042  2.154786e-07     0.770277     0.579488   \n",
       "43296  0.137764  0.510845 -2.493652e-07     0.147000     0.370611   \n",
       "43297  0.137497  0.557135 -6.068033e-07     0.175437     0.396056   \n",
       "43298  0.281278  0.972573  1.029575e-06     0.193043     0.919504   \n",
       "43299  0.690669  0.723621 -1.350822e-07     0.604417     0.686137   \n",
       "\n",
       "       THUMB_CMC_Z  THUMB_MCP_X  THUMB_MCP_Y  THUMB_MCP_Z  THUMB_IP_X  ...  \\\n",
       "0        -0.048995     0.387580     0.538928    -0.069621    0.441531  ...   \n",
       "1        -0.049271     0.302874     0.512108    -0.071219    0.395074  ...   \n",
       "2         0.024833     0.521656     0.661899     0.017178    0.645383  ...   \n",
       "3        -0.006828     0.677403     0.755252     0.004011    0.601994  ...   \n",
       "4        -0.085297     0.522966     0.728116    -0.153700    0.417040  ...   \n",
       "...            ...          ...          ...          ...         ...  ...   \n",
       "43295    -0.085343     0.782202     0.506932    -0.149878    0.761967  ...   \n",
       "43296    -0.053444     0.240493     0.247799    -0.080846    0.355257  ...   \n",
       "43297    -0.011387     0.259040     0.284953    -0.009870    0.337952  ...   \n",
       "43298    -0.061134     0.130964     0.825261    -0.102737    0.181962  ...   \n",
       "43299    -0.025395     0.524300     0.626584    -0.050222    0.452890  ...   \n",
       "\n",
       "       PINKY_MCP_Z  PINKY_PIP_X  PINKY_PIP_Y  PINKY_PIP_Z  PINKY_DIP_X  \\\n",
       "0        -0.059356     0.695745     0.415271    -0.096098     0.671739   \n",
       "1        -0.054139     0.649678     0.354256    -0.068198     0.641034   \n",
       "2        -0.064048     0.408083     0.353560    -0.073689     0.495536   \n",
       "3         0.064850     0.389593     0.665900     0.069766     0.418992   \n",
       "4        -0.126519     0.848234     0.502867    -0.185572     0.827085   \n",
       "...            ...          ...          ...          ...          ...   \n",
       "43295    -0.092626     0.578097     0.695811    -0.167554     0.657868   \n",
       "43296    -0.103268     0.485470     0.565702    -0.180807     0.390456   \n",
       "43297    -0.038636     0.470347     0.440237    -0.074310     0.396895   \n",
       "43298    -0.113234     0.337720     0.726585    -0.159835     0.281542   \n",
       "43299    -0.066101     0.660639     0.419856    -0.093568     0.613886   \n",
       "\n",
       "       PINKY_DIP_Y  PINKY_DIP_Z  PINKY_TIP_X  PINKY_TIP_Y  PINKY_TIP_Z  \n",
       "0         0.495591    -0.073339     0.664304     0.510604    -0.047599  \n",
       "1         0.366634    -0.072729     0.621034     0.409713    -0.072052  \n",
       "2         0.308308    -0.076379     0.574876     0.282047    -0.078049  \n",
       "3         0.735415     0.093706     0.444080     0.775207     0.114414  \n",
       "4         0.601483    -0.153147     0.784853     0.626364    -0.114238  \n",
       "...            ...          ...          ...          ...          ...  \n",
       "43295     0.686865    -0.172817     0.702142     0.666721    -0.157109  \n",
       "43296     0.543748    -0.165693     0.316944     0.524513    -0.132549  \n",
       "43297     0.424846    -0.061589     0.335858     0.431777    -0.037805  \n",
       "43298     0.781124    -0.155015     0.261030     0.821271    -0.138690  \n",
       "43299     0.383119    -0.109057     0.564711     0.368373    -0.115669  \n",
       "\n",
       "[43300 rows x 63 columns]"
      ]
     },
     "metadata": {},
     "output_type": "display_data"
    },
    {
     "data": {
      "text/html": [
       "<div>\n",
       "<style scoped>\n",
       "    .dataframe tbody tr th:only-of-type {\n",
       "        vertical-align: middle;\n",
       "    }\n",
       "\n",
       "    .dataframe tbody tr th {\n",
       "        vertical-align: top;\n",
       "    }\n",
       "\n",
       "    .dataframe thead th {\n",
       "        text-align: right;\n",
       "    }\n",
       "</style>\n",
       "<table border=\"1\" class=\"dataframe\">\n",
       "  <thead>\n",
       "    <tr style=\"text-align: right;\">\n",
       "      <th></th>\n",
       "      <th>WRIST_X</th>\n",
       "      <th>WRIST_Y</th>\n",
       "      <th>WRIST_Z</th>\n",
       "      <th>THUMB_CMC_X</th>\n",
       "      <th>THUMB_CMC_Y</th>\n",
       "      <th>THUMB_CMC_Z</th>\n",
       "      <th>THUMB_MCP_X</th>\n",
       "      <th>THUMB_MCP_Y</th>\n",
       "      <th>THUMB_MCP_Z</th>\n",
       "      <th>THUMB_IP_X</th>\n",
       "      <th>...</th>\n",
       "      <th>PINKY_MCP_Z</th>\n",
       "      <th>PINKY_PIP_X</th>\n",
       "      <th>PINKY_PIP_Y</th>\n",
       "      <th>PINKY_PIP_Z</th>\n",
       "      <th>PINKY_DIP_X</th>\n",
       "      <th>PINKY_DIP_Y</th>\n",
       "      <th>PINKY_DIP_Z</th>\n",
       "      <th>PINKY_TIP_X</th>\n",
       "      <th>PINKY_TIP_Y</th>\n",
       "      <th>PINKY_TIP_Z</th>\n",
       "    </tr>\n",
       "  </thead>\n",
       "  <tbody>\n",
       "    <tr>\n",
       "      <th>0</th>\n",
       "      <td>0.637210</td>\n",
       "      <td>0.809412</td>\n",
       "      <td>3.020628e-07</td>\n",
       "      <td>0.512774</td>\n",
       "      <td>0.712112</td>\n",
       "      <td>-0.034217</td>\n",
       "      <td>0.458524</td>\n",
       "      <td>0.560906</td>\n",
       "      <td>-0.044048</td>\n",
       "      <td>0.522763</td>\n",
       "      <td>...</td>\n",
       "      <td>-0.049284</td>\n",
       "      <td>0.665756</td>\n",
       "      <td>0.339019</td>\n",
       "      <td>-0.064839</td>\n",
       "      <td>0.651039</td>\n",
       "      <td>0.261719</td>\n",
       "      <td>-0.075527</td>\n",
       "      <td>0.636476</td>\n",
       "      <td>0.196306</td>\n",
       "      <td>-0.086300</td>\n",
       "    </tr>\n",
       "    <tr>\n",
       "      <th>1</th>\n",
       "      <td>0.551169</td>\n",
       "      <td>0.491262</td>\n",
       "      <td>2.062316e-06</td>\n",
       "      <td>0.671859</td>\n",
       "      <td>0.519571</td>\n",
       "      <td>-0.147540</td>\n",
       "      <td>0.755878</td>\n",
       "      <td>0.502617</td>\n",
       "      <td>-0.289627</td>\n",
       "      <td>0.763081</td>\n",
       "      <td>...</td>\n",
       "      <td>-0.426825</td>\n",
       "      <td>0.366051</td>\n",
       "      <td>0.368505</td>\n",
       "      <td>-0.551383</td>\n",
       "      <td>0.379163</td>\n",
       "      <td>0.490967</td>\n",
       "      <td>-0.609301</td>\n",
       "      <td>0.404357</td>\n",
       "      <td>0.584193</td>\n",
       "      <td>-0.653821</td>\n",
       "    </tr>\n",
       "    <tr>\n",
       "      <th>2</th>\n",
       "      <td>0.686294</td>\n",
       "      <td>0.713084</td>\n",
       "      <td>1.565869e-07</td>\n",
       "      <td>0.572719</td>\n",
       "      <td>0.676401</td>\n",
       "      <td>-0.015456</td>\n",
       "      <td>0.469417</td>\n",
       "      <td>0.611907</td>\n",
       "      <td>-0.038461</td>\n",
       "      <td>0.375150</td>\n",
       "      <td>...</td>\n",
       "      <td>-0.090517</td>\n",
       "      <td>0.577764</td>\n",
       "      <td>0.336889</td>\n",
       "      <td>-0.126363</td>\n",
       "      <td>0.509202</td>\n",
       "      <td>0.300105</td>\n",
       "      <td>-0.146626</td>\n",
       "      <td>0.446786</td>\n",
       "      <td>0.294199</td>\n",
       "      <td>-0.158336</td>\n",
       "    </tr>\n",
       "    <tr>\n",
       "      <th>3</th>\n",
       "      <td>0.613139</td>\n",
       "      <td>0.778134</td>\n",
       "      <td>-1.897673e-07</td>\n",
       "      <td>0.491187</td>\n",
       "      <td>0.746994</td>\n",
       "      <td>-0.076983</td>\n",
       "      <td>0.359688</td>\n",
       "      <td>0.653980</td>\n",
       "      <td>-0.116892</td>\n",
       "      <td>0.261926</td>\n",
       "      <td>...</td>\n",
       "      <td>-0.058633</td>\n",
       "      <td>0.703964</td>\n",
       "      <td>0.442102</td>\n",
       "      <td>-0.105841</td>\n",
       "      <td>0.683945</td>\n",
       "      <td>0.520048</td>\n",
       "      <td>-0.077680</td>\n",
       "      <td>0.682067</td>\n",
       "      <td>0.547024</td>\n",
       "      <td>-0.043198</td>\n",
       "    </tr>\n",
       "    <tr>\n",
       "      <th>4</th>\n",
       "      <td>0.506356</td>\n",
       "      <td>0.615224</td>\n",
       "      <td>3.498056e-07</td>\n",
       "      <td>0.438446</td>\n",
       "      <td>0.587186</td>\n",
       "      <td>-0.102750</td>\n",
       "      <td>0.351638</td>\n",
       "      <td>0.539882</td>\n",
       "      <td>-0.180144</td>\n",
       "      <td>0.252407</td>\n",
       "      <td>...</td>\n",
       "      <td>-0.072659</td>\n",
       "      <td>0.606038</td>\n",
       "      <td>0.308292</td>\n",
       "      <td>-0.097601</td>\n",
       "      <td>0.578553</td>\n",
       "      <td>0.248617</td>\n",
       "      <td>-0.109266</td>\n",
       "      <td>0.537409</td>\n",
       "      <td>0.210431</td>\n",
       "      <td>-0.117112</td>\n",
       "    </tr>\n",
       "    <tr>\n",
       "      <th>...</th>\n",
       "      <td>...</td>\n",
       "      <td>...</td>\n",
       "      <td>...</td>\n",
       "      <td>...</td>\n",
       "      <td>...</td>\n",
       "      <td>...</td>\n",
       "      <td>...</td>\n",
       "      <td>...</td>\n",
       "      <td>...</td>\n",
       "      <td>...</td>\n",
       "      <td>...</td>\n",
       "      <td>...</td>\n",
       "      <td>...</td>\n",
       "      <td>...</td>\n",
       "      <td>...</td>\n",
       "      <td>...</td>\n",
       "      <td>...</td>\n",
       "      <td>...</td>\n",
       "      <td>...</td>\n",
       "      <td>...</td>\n",
       "      <td>...</td>\n",
       "    </tr>\n",
       "    <tr>\n",
       "      <th>172624</th>\n",
       "      <td>0.263627</td>\n",
       "      <td>0.535312</td>\n",
       "      <td>1.611651e-06</td>\n",
       "      <td>0.403528</td>\n",
       "      <td>0.515474</td>\n",
       "      <td>-0.044685</td>\n",
       "      <td>0.528242</td>\n",
       "      <td>0.477760</td>\n",
       "      <td>-0.076475</td>\n",
       "      <td>0.636806</td>\n",
       "      <td>...</td>\n",
       "      <td>-0.072697</td>\n",
       "      <td>0.511867</td>\n",
       "      <td>0.300635</td>\n",
       "      <td>-0.104773</td>\n",
       "      <td>0.586523</td>\n",
       "      <td>0.267756</td>\n",
       "      <td>-0.125436</td>\n",
       "      <td>0.653001</td>\n",
       "      <td>0.246486</td>\n",
       "      <td>-0.139497</td>\n",
       "    </tr>\n",
       "    <tr>\n",
       "      <th>172625</th>\n",
       "      <td>0.511463</td>\n",
       "      <td>0.861062</td>\n",
       "      <td>-6.020041e-07</td>\n",
       "      <td>0.422419</td>\n",
       "      <td>0.782233</td>\n",
       "      <td>-0.031144</td>\n",
       "      <td>0.358993</td>\n",
       "      <td>0.701005</td>\n",
       "      <td>-0.049130</td>\n",
       "      <td>0.316516</td>\n",
       "      <td>...</td>\n",
       "      <td>-0.022426</td>\n",
       "      <td>0.669151</td>\n",
       "      <td>0.621616</td>\n",
       "      <td>-0.054109</td>\n",
       "      <td>0.701926</td>\n",
       "      <td>0.587407</td>\n",
       "      <td>-0.057539</td>\n",
       "      <td>0.728264</td>\n",
       "      <td>0.546679</td>\n",
       "      <td>-0.052590</td>\n",
       "    </tr>\n",
       "    <tr>\n",
       "      <th>172626</th>\n",
       "      <td>0.388389</td>\n",
       "      <td>0.807437</td>\n",
       "      <td>-1.529737e-06</td>\n",
       "      <td>0.297456</td>\n",
       "      <td>0.727686</td>\n",
       "      <td>-0.032727</td>\n",
       "      <td>0.267988</td>\n",
       "      <td>0.594614</td>\n",
       "      <td>-0.051199</td>\n",
       "      <td>0.319311</td>\n",
       "      <td>...</td>\n",
       "      <td>-0.038180</td>\n",
       "      <td>0.462980</td>\n",
       "      <td>0.431043</td>\n",
       "      <td>-0.044108</td>\n",
       "      <td>0.438205</td>\n",
       "      <td>0.470834</td>\n",
       "      <td>-0.030186</td>\n",
       "      <td>0.426073</td>\n",
       "      <td>0.528956</td>\n",
       "      <td>-0.021680</td>\n",
       "    </tr>\n",
       "    <tr>\n",
       "      <th>172627</th>\n",
       "      <td>0.646333</td>\n",
       "      <td>0.695424</td>\n",
       "      <td>-4.513188e-07</td>\n",
       "      <td>0.534227</td>\n",
       "      <td>0.634776</td>\n",
       "      <td>-0.003656</td>\n",
       "      <td>0.461395</td>\n",
       "      <td>0.557774</td>\n",
       "      <td>-0.019350</td>\n",
       "      <td>0.403825</td>\n",
       "      <td>...</td>\n",
       "      <td>-0.072576</td>\n",
       "      <td>0.643492</td>\n",
       "      <td>0.271827</td>\n",
       "      <td>-0.086607</td>\n",
       "      <td>0.615850</td>\n",
       "      <td>0.193169</td>\n",
       "      <td>-0.093982</td>\n",
       "      <td>0.581839</td>\n",
       "      <td>0.125560</td>\n",
       "      <td>-0.097428</td>\n",
       "    </tr>\n",
       "    <tr>\n",
       "      <th>172628</th>\n",
       "      <td>0.539760</td>\n",
       "      <td>0.685292</td>\n",
       "      <td>-7.676005e-07</td>\n",
       "      <td>0.639693</td>\n",
       "      <td>0.594974</td>\n",
       "      <td>-0.042994</td>\n",
       "      <td>0.705962</td>\n",
       "      <td>0.468826</td>\n",
       "      <td>-0.052880</td>\n",
       "      <td>0.709367</td>\n",
       "      <td>...</td>\n",
       "      <td>-0.011845</td>\n",
       "      <td>0.419989</td>\n",
       "      <td>0.299554</td>\n",
       "      <td>-0.040614</td>\n",
       "      <td>0.420554</td>\n",
       "      <td>0.236544</td>\n",
       "      <td>-0.046661</td>\n",
       "      <td>0.423603</td>\n",
       "      <td>0.179599</td>\n",
       "      <td>-0.039264</td>\n",
       "    </tr>\n",
       "  </tbody>\n",
       "</table>\n",
       "<p>172629 rows × 63 columns</p>\n",
       "</div>"
      ],
      "text/plain": [
       "         WRIST_X   WRIST_Y       WRIST_Z  THUMB_CMC_X  THUMB_CMC_Y  \\\n",
       "0       0.637210  0.809412  3.020628e-07     0.512774     0.712112   \n",
       "1       0.551169  0.491262  2.062316e-06     0.671859     0.519571   \n",
       "2       0.686294  0.713084  1.565869e-07     0.572719     0.676401   \n",
       "3       0.613139  0.778134 -1.897673e-07     0.491187     0.746994   \n",
       "4       0.506356  0.615224  3.498056e-07     0.438446     0.587186   \n",
       "...          ...       ...           ...          ...          ...   \n",
       "172624  0.263627  0.535312  1.611651e-06     0.403528     0.515474   \n",
       "172625  0.511463  0.861062 -6.020041e-07     0.422419     0.782233   \n",
       "172626  0.388389  0.807437 -1.529737e-06     0.297456     0.727686   \n",
       "172627  0.646333  0.695424 -4.513188e-07     0.534227     0.634776   \n",
       "172628  0.539760  0.685292 -7.676005e-07     0.639693     0.594974   \n",
       "\n",
       "        THUMB_CMC_Z  THUMB_MCP_X  THUMB_MCP_Y  THUMB_MCP_Z  THUMB_IP_X  ...  \\\n",
       "0         -0.034217     0.458524     0.560906    -0.044048    0.522763  ...   \n",
       "1         -0.147540     0.755878     0.502617    -0.289627    0.763081  ...   \n",
       "2         -0.015456     0.469417     0.611907    -0.038461    0.375150  ...   \n",
       "3         -0.076983     0.359688     0.653980    -0.116892    0.261926  ...   \n",
       "4         -0.102750     0.351638     0.539882    -0.180144    0.252407  ...   \n",
       "...             ...          ...          ...          ...         ...  ...   \n",
       "172624    -0.044685     0.528242     0.477760    -0.076475    0.636806  ...   \n",
       "172625    -0.031144     0.358993     0.701005    -0.049130    0.316516  ...   \n",
       "172626    -0.032727     0.267988     0.594614    -0.051199    0.319311  ...   \n",
       "172627    -0.003656     0.461395     0.557774    -0.019350    0.403825  ...   \n",
       "172628    -0.042994     0.705962     0.468826    -0.052880    0.709367  ...   \n",
       "\n",
       "        PINKY_MCP_Z  PINKY_PIP_X  PINKY_PIP_Y  PINKY_PIP_Z  PINKY_DIP_X  \\\n",
       "0         -0.049284     0.665756     0.339019    -0.064839     0.651039   \n",
       "1         -0.426825     0.366051     0.368505    -0.551383     0.379163   \n",
       "2         -0.090517     0.577764     0.336889    -0.126363     0.509202   \n",
       "3         -0.058633     0.703964     0.442102    -0.105841     0.683945   \n",
       "4         -0.072659     0.606038     0.308292    -0.097601     0.578553   \n",
       "...             ...          ...          ...          ...          ...   \n",
       "172624    -0.072697     0.511867     0.300635    -0.104773     0.586523   \n",
       "172625    -0.022426     0.669151     0.621616    -0.054109     0.701926   \n",
       "172626    -0.038180     0.462980     0.431043    -0.044108     0.438205   \n",
       "172627    -0.072576     0.643492     0.271827    -0.086607     0.615850   \n",
       "172628    -0.011845     0.419989     0.299554    -0.040614     0.420554   \n",
       "\n",
       "        PINKY_DIP_Y  PINKY_DIP_Z  PINKY_TIP_X  PINKY_TIP_Y  PINKY_TIP_Z  \n",
       "0          0.261719    -0.075527     0.636476     0.196306    -0.086300  \n",
       "1          0.490967    -0.609301     0.404357     0.584193    -0.653821  \n",
       "2          0.300105    -0.146626     0.446786     0.294199    -0.158336  \n",
       "3          0.520048    -0.077680     0.682067     0.547024    -0.043198  \n",
       "4          0.248617    -0.109266     0.537409     0.210431    -0.117112  \n",
       "...             ...          ...          ...          ...          ...  \n",
       "172624     0.267756    -0.125436     0.653001     0.246486    -0.139497  \n",
       "172625     0.587407    -0.057539     0.728264     0.546679    -0.052590  \n",
       "172626     0.470834    -0.030186     0.426073     0.528956    -0.021680  \n",
       "172627     0.193169    -0.093982     0.581839     0.125560    -0.097428  \n",
       "172628     0.236544    -0.046661     0.423603     0.179599    -0.039264  \n",
       "\n",
       "[172629 rows x 63 columns]"
      ]
     },
     "metadata": {},
     "output_type": "display_data"
    }
   ],
   "source": [
    "X_test = test_df.drop(columns=['index', 'Unnamed: 0', 'PATH', 'TARGET'])\n",
    "X_train = df.drop(columns=['index', 'Unnamed: 0', 'PATH', 'TARGET'])\n",
    "display(X_test)\n",
    "display(X_train)"
   ]
  },
  {
   "cell_type": "code",
   "execution_count": 98,
   "id": "2d583035",
   "metadata": {},
   "outputs": [
    {
     "data": {
      "text/plain": [
       "0         B\n",
       "1         M\n",
       "2         C\n",
       "3         T\n",
       "4         C\n",
       "         ..\n",
       "172624    Q\n",
       "172625    Y\n",
       "172626    E\n",
       "172627    F\n",
       "172628    I\n",
       "Name: TARGET, Length: 172629, dtype: object"
      ]
     },
     "metadata": {},
     "output_type": "display_data"
    },
    {
     "data": {
      "text/plain": [
       "0        S\n",
       "1        E\n",
       "2        C\n",
       "3        X\n",
       "4        L\n",
       "        ..\n",
       "43295    Z\n",
       "43296    G\n",
       "43297    G\n",
       "43298    V\n",
       "43299    C\n",
       "Name: TARGET, Length: 43300, dtype: object"
      ]
     },
     "metadata": {},
     "output_type": "display_data"
    }
   ],
   "source": [
    "y_test=test_df['TARGET']\n",
    "y_train=df['TARGET']\n",
    "display(y_train)\n",
    "display(y_test)"
   ]
  },
  {
   "cell_type": "code",
   "execution_count": 99,
   "id": "25d78695",
   "metadata": {},
   "outputs": [
    {
     "data": {
      "text/plain": [
       "L    7735\n",
       "F    7616\n",
       "D    7488\n",
       "K    7311\n",
       "B    7252\n",
       "E    7213\n",
       "R    7153\n",
       "A    7101\n",
       "I    7080\n",
       "Z    7006\n",
       "V    6897\n",
       "X    6897\n",
       "W    6863\n",
       "O    6854\n",
       "Y    6698\n",
       "J    6682\n",
       "S    6674\n",
       "C    6615\n",
       "T    6459\n",
       "G    6396\n",
       "H    6077\n",
       "U    5546\n",
       "M    5434\n",
       "P    5411\n",
       "Q    5192\n",
       "N    4979\n",
       "Name: TARGET, dtype: int64"
      ]
     },
     "metadata": {},
     "output_type": "display_data"
    },
    {
     "data": {
      "text/plain": [
       "F    1911\n",
       "K    1875\n",
       "L    1873\n",
       "D    1860\n",
       "Z    1829\n",
       "E    1810\n",
       "X    1793\n",
       "B    1774\n",
       "R    1771\n",
       "A    1764\n",
       "I    1740\n",
       "Y    1735\n",
       "W    1715\n",
       "O    1706\n",
       "V    1701\n",
       "T    1689\n",
       "C    1681\n",
       "J    1665\n",
       "G    1629\n",
       "S    1627\n",
       "H    1530\n",
       "Q    1390\n",
       "M    1365\n",
       "U    1347\n",
       "P    1300\n",
       "N    1220\n",
       "Name: TARGET, dtype: int64"
      ]
     },
     "metadata": {},
     "output_type": "display_data"
    }
   ],
   "source": [
    "display(y_train.value_counts())\n",
    "display(y_test.value_counts())"
   ]
  },
  {
   "cell_type": "code",
   "execution_count": 100,
   "id": "ccd7ab34",
   "metadata": {},
   "outputs": [],
   "source": [
    "# Encoding letters to numerical, A-Z = 0-25\n",
    "y_train = pd.Categorical(y_train)\n",
    "y_test = pd.Categorical(y_test)"
   ]
  },
  {
   "cell_type": "code",
   "execution_count": 101,
   "id": "7f9a0e97",
   "metadata": {},
   "outputs": [
    {
     "data": {
      "text/plain": [
       "CategoricalDtype(categories=['A', 'B', 'C', 'D', 'E', 'F', 'G', 'H', 'I', 'J', 'K', 'L',\n",
       "                  'M', 'N', 'O', 'P', 'Q', 'R', 'S', 'T', 'U', 'V', 'W', 'X',\n",
       "                  'Y', 'Z'],\n",
       ", ordered=False)"
      ]
     },
     "metadata": {},
     "output_type": "display_data"
    },
    {
     "data": {
      "text/plain": [
       "CategoricalDtype(categories=['A', 'B', 'C', 'D', 'E', 'F', 'G', 'H', 'I', 'J', 'K', 'L',\n",
       "                  'M', 'N', 'O', 'P', 'Q', 'R', 'S', 'T', 'U', 'V', 'W', 'X',\n",
       "                  'Y', 'Z'],\n",
       ", ordered=False)"
      ]
     },
     "metadata": {},
     "output_type": "display_data"
    }
   ],
   "source": [
    "display(y_train.dtype)\n",
    "display(y_test.dtype)\n"
   ]
  },
  {
   "cell_type": "code",
   "execution_count": 102,
   "id": "f71b92cf",
   "metadata": {},
   "outputs": [
    {
     "data": {
      "text/plain": [
       "['A',\n",
       " 'B',\n",
       " 'C',\n",
       " 'D',\n",
       " 'E',\n",
       " 'F',\n",
       " 'G',\n",
       " 'H',\n",
       " 'I',\n",
       " 'J',\n",
       " 'K',\n",
       " 'L',\n",
       " 'M',\n",
       " 'N',\n",
       " 'O',\n",
       " 'P',\n",
       " 'Q',\n",
       " 'R',\n",
       " 'S',\n",
       " 'T',\n",
       " 'U',\n",
       " 'V',\n",
       " 'W',\n",
       " 'X',\n",
       " 'Y',\n",
       " 'Z']"
      ]
     },
     "metadata": {},
     "output_type": "display_data"
    }
   ],
   "source": [
    "cat_list = list(y_train.categories)\n",
    "display(cat_list)"
   ]
  },
  {
   "cell_type": "code",
   "execution_count": 103,
   "id": "742ccf7f",
   "metadata": {},
   "outputs": [
    {
     "data": {
      "text/plain": [
       "172629"
      ]
     },
     "metadata": {},
     "output_type": "display_data"
    },
    {
     "data": {
      "text/plain": [
       "array([ 1, 12,  2, ...,  4,  5,  8], dtype=int8)"
      ]
     },
     "metadata": {},
     "output_type": "display_data"
    },
    {
     "data": {
      "text/plain": [
       "43300"
      ]
     },
     "metadata": {},
     "output_type": "display_data"
    },
    {
     "data": {
      "text/plain": [
       "array([18,  4,  2, ...,  6, 21,  2], dtype=int8)"
      ]
     },
     "metadata": {},
     "output_type": "display_data"
    }
   ],
   "source": [
    "y_test = y_test.codes\n",
    "y_train = y_train.codes\n",
    "display(len(y_train))\n",
    "display(y_train)\n",
    "display(len(y_test))\n",
    "display(y_test)"
   ]
  },
  {
   "cell_type": "code",
   "execution_count": 104,
   "id": "9532d9d5",
   "metadata": {},
   "outputs": [
    {
     "data": {
      "text/plain": [
       "((172629, 63, 1), (172629,), (43300, 63, 1), (43300,))"
      ]
     },
     "execution_count": 104,
     "metadata": {},
     "output_type": "execute_result"
    }
   ],
   "source": [
    "X_train.shape, y_train.shape, X_test.shape, y_test.shape"
   ]
  },
  {
   "cell_type": "code",
   "execution_count": 105,
   "id": "4c950fd9",
   "metadata": {},
   "outputs": [
    {
     "name": "stdout",
     "output_type": "stream",
     "text": [
      "26\n"
     ]
    }
   ],
   "source": [
    "classes = len(cat_list)\n",
    "print(classes)"
   ]
  },
  {
   "cell_type": "code",
   "execution_count": 106,
   "id": "e5e0ec70",
   "metadata": {},
   "outputs": [
    {
     "data": {
      "text/plain": [
       "array([[0., 1., 0., ..., 0., 0., 0.],\n",
       "       [0., 0., 0., ..., 0., 0., 0.],\n",
       "       [0., 0., 1., ..., 0., 0., 0.],\n",
       "       ...,\n",
       "       [0., 0., 0., ..., 0., 0., 0.],\n",
       "       [0., 0., 0., ..., 0., 0., 0.],\n",
       "       [0., 0., 0., ..., 0., 0., 0.]], dtype=float32)"
      ]
     },
     "execution_count": 106,
     "metadata": {},
     "output_type": "execute_result"
    }
   ],
   "source": [
    "y_train = to_categorical(y_train, num_classes=classes)\n",
    "y_train"
   ]
  },
  {
   "cell_type": "code",
   "execution_count": 107,
   "id": "7be218c8",
   "metadata": {},
   "outputs": [],
   "source": [
    "y_test = to_categorical(y_test, num_classes=classes)"
   ]
  },
  {
   "cell_type": "code",
   "execution_count": 108,
   "id": "4cc17e15",
   "metadata": {},
   "outputs": [
    {
     "name": "stdout",
     "output_type": "stream",
     "text": [
      "(172629, 63, 1) (43300, 63, 1)\n"
     ]
    }
   ],
   "source": [
    "X_train = np.reshape(np.array(X_train), (X_train.shape[0], X_train.shape[1], 1)).astype(np.float32)\n",
    "X_test = np.reshape(np.array(X_test), (X_test.shape[0], X_test.shape[1], 1)).astype(np.float32)\n",
    "print(X_train.shape, X_test.shape)"
   ]
  },
  {
   "cell_type": "markdown",
   "id": "946143c5",
   "metadata": {},
   "source": [
    "## CNN Model"
   ]
  },
  {
   "cell_type": "markdown",
   "id": "af8da51d",
   "metadata": {
    "heading_collapsed": true
   },
   "source": [
    "### Original CNN"
   ]
  },
  {
   "cell_type": "code",
   "execution_count": 49,
   "id": "74c1254f",
   "metadata": {
    "hidden": true
   },
   "outputs": [],
   "source": [
    "# Architecture\n",
    "# model = models.Sequential()\n",
    "# model.add(layers.Conv1D(filters=512, kernel_size=7, strides=1, padding='causal', input_shape=X_train.shape[1:3], activation='relu'))\n",
    "# model.add(layers.Conv1D(filters=512, kernel_size=7, strides=1, padding='causal', activation='relu'))\n",
    "# model.add(layers.MaxPooling1D(pool_size=2))\n",
    "# model.add(layers.Conv1D(filters=256, kernel_size=5, strides=1, padding='causal', activation='relu'))\n",
    "# model.add(layers.Conv1D(filters=256, kernel_size=5, strides=1, padding='causal', activation='relu'))\n",
    "# model.add(layers.MaxPooling1D(pool_size=2))\n",
    "# model.add(layers.Conv1D(filters=256, kernel_size=3, strides=1, padding='causal', activation='relu'))\n",
    "# model.add(layers.Conv1D(filters=256, kernel_size=3, strides=1, padding='causal', activation='relu'))\n",
    "# model.add(layers.MaxPooling1D(pool_size=2))\n",
    "# model.add(layers.Dropout(0.2))\n",
    "# model.add(layers.Flatten())\n",
    "# model.add(layers.Dense(256, activation='relu'))\n",
    "# model.add(layers.Dense(26, activation='softmax')) \n",
    "#accuracy: 0.89"
   ]
  },
  {
   "cell_type": "markdown",
   "id": "927c0abd",
   "metadata": {
    "heading_collapsed": true
   },
   "source": [
    "### Reduced CNN 1"
   ]
  },
  {
   "cell_type": "code",
   "execution_count": 50,
   "id": "566c941d",
   "metadata": {
    "hidden": true
   },
   "outputs": [],
   "source": [
    "# model = models.Sequential()\n",
    "# model.add(layers.Conv1D(filters=64, kernel_size=3, strides=1, padding='causal', input_shape=X_train.shape[1:3], activation='relu'))\n",
    "# model.add(layers.MaxPooling1D(pool_size=2))\n",
    "# model.add(layers.Conv1D(filters=64, kernel_size=3, strides=1, padding='causal', activation='relu'))\n",
    "# model.add(layers.MaxPooling1D(pool_size=2))\n",
    "# model.add(layers.Conv1D(filters=64, kernel_size=3, strides=1, padding='causal', activation='relu'))\n",
    "# model.add(layers.MaxPooling1D(pool_size=2))\n",
    "# model.add(layers.Dropout(0.2))\n",
    "# model.add(layers.Flatten())\n",
    "# model.add(layers.Dense(256, activation='relu'))\n",
    "# model.add(layers.Dense(26, activation='softmax'))\n",
    "# accuracy: 0.71"
   ]
  },
  {
   "cell_type": "markdown",
   "id": "2b0d4a25",
   "metadata": {
    "heading_collapsed": true
   },
   "source": [
    "### Reduced CNN 2"
   ]
  },
  {
   "cell_type": "code",
   "execution_count": 51,
   "id": "1f3e95bf",
   "metadata": {
    "hidden": true
   },
   "outputs": [],
   "source": [
    "# model = models.Sequential()\n",
    "# model.add(layers.Conv1D(filters=32, kernel_size=3, strides=1, padding='causal', input_shape=X_train.shape[1:3], activation='relu'))\n",
    "# model.add(layers.MaxPooling1D(pool_size=2))\n",
    "# model.add(layers.Conv1D(filters=64, kernel_size=3, strides=1, padding='causal', activation='relu'))\n",
    "# model.add(layers.MaxPooling1D(pool_size=2))\n",
    "# model.add(layers.Conv1D(filters=128, kernel_size=3, strides=1, padding='causal', activation='relu'))\n",
    "# model.add(layers.MaxPooling1D(pool_size=2))\n",
    "# model.add(layers.Dropout(0.2))\n",
    "# model.add(layers.Flatten())\n",
    "# model.add(layers.Dense(256, activation='relu'))\n",
    "# model.add(layers.Dense(26, activation='softmax'))\n",
    "# accuracy: 0.81"
   ]
  },
  {
   "cell_type": "markdown",
   "id": "f708177a",
   "metadata": {
    "heading_collapsed": true
   },
   "source": [
    "### Reduced CNN 3"
   ]
  },
  {
   "cell_type": "code",
   "execution_count": 52,
   "id": "349677b3",
   "metadata": {
    "hidden": true
   },
   "outputs": [],
   "source": [
    "# model = models.Sequential()\n",
    "# model.add(layers.Conv1D(filters=64, kernel_size=3, strides=1, padding='causal', input_shape=X_train.shape[1:3], activation='relu'))\n",
    "# model.add(layers.MaxPooling1D(pool_size=2))\n",
    "# model.add(layers.Conv1D(filters=128, kernel_size=3, strides=1, padding='causal', activation='relu'))\n",
    "# model.add(layers.MaxPooling1D(pool_size=2))\n",
    "# model.add(layers.Conv1D(filters=256, kernel_size=3, strides=1, padding='causal', activation='relu'))\n",
    "# model.add(layers.MaxPooling1D(pool_size=2))\n",
    "# model.add(layers.Dropout(0.2))\n",
    "# model.add(layers.Flatten())\n",
    "# model.add(layers.Dense(256, activation='relu'))\n",
    "# model.add(layers.Dense(26, activation='softmax'))\n",
    "# accuracy: 0.86"
   ]
  },
  {
   "cell_type": "markdown",
   "id": "3f3d25d2",
   "metadata": {},
   "source": [
    "### Reduced CNN 4"
   ]
  },
  {
   "cell_type": "code",
   "execution_count": 53,
   "id": "999d57e6",
   "metadata": {},
   "outputs": [],
   "source": [
    "model = models.Sequential()\n",
    "model.add(layers.Conv1D(filters=16, kernel_size=3, strides=1, padding='causal', input_shape=X_train.shape[1:3], activation='relu'))\n",
    "model.add(layers.MaxPooling1D(pool_size=2))\n",
    "model.add(layers.Conv1D(filters=32, kernel_size=3, strides=1, padding='causal', activation='relu'))\n",
    "model.add(layers.MaxPooling1D(pool_size=2))\n",
    "model.add(layers.Conv1D(filters=64, kernel_size=3, strides=1, padding='causal', activation='relu'))\n",
    "model.add(layers.MaxPooling1D(pool_size=2))\n",
    "model.add(layers.Dropout(0.2))\n",
    "model.add(layers.Flatten())\n",
    "model.add(layers.Dense(128, activation='relu'))\n",
    "model.add(layers.Dense(26, activation='softmax'))"
   ]
  },
  {
   "cell_type": "code",
   "execution_count": 54,
   "id": "90b9dba5",
   "metadata": {},
   "outputs": [],
   "source": [
    "model.compile(loss = 'categorical_crossentropy', optimizer='adam', metrics=['accuracy'])"
   ]
  },
  {
   "cell_type": "code",
   "execution_count": 55,
   "id": "db4bf013",
   "metadata": {},
   "outputs": [
    {
     "name": "stdout",
     "output_type": "stream",
     "text": [
      "Model: \"sequential_1\"\n",
      "_________________________________________________________________\n",
      " Layer (type)                Output Shape              Param #   \n",
      "=================================================================\n",
      " conv1d_3 (Conv1D)           (None, 63, 16)            64        \n",
      "                                                                 \n",
      " max_pooling1d_3 (MaxPooling  (None, 31, 16)           0         \n",
      " 1D)                                                             \n",
      "                                                                 \n",
      " conv1d_4 (Conv1D)           (None, 31, 32)            1568      \n",
      "                                                                 \n",
      " max_pooling1d_4 (MaxPooling  (None, 15, 32)           0         \n",
      " 1D)                                                             \n",
      "                                                                 \n",
      " conv1d_5 (Conv1D)           (None, 15, 64)            6208      \n",
      "                                                                 \n",
      " max_pooling1d_5 (MaxPooling  (None, 7, 64)            0         \n",
      " 1D)                                                             \n",
      "                                                                 \n",
      " dropout_1 (Dropout)         (None, 7, 64)             0         \n",
      "                                                                 \n",
      " flatten_1 (Flatten)         (None, 448)               0         \n",
      "                                                                 \n",
      " dense_2 (Dense)             (None, 128)               57472     \n",
      "                                                                 \n",
      " dense_3 (Dense)             (None, 26)                3354      \n",
      "                                                                 \n",
      "=================================================================\n",
      "Total params: 68,666\n",
      "Trainable params: 68,666\n",
      "Non-trainable params: 0\n",
      "_________________________________________________________________\n"
     ]
    }
   ],
   "source": [
    "model.summary()"
   ]
  },
  {
   "cell_type": "code",
   "execution_count": 56,
   "id": "ba2b7c38",
   "metadata": {},
   "outputs": [],
   "source": [
    "es = EarlyStopping(patience=1, restore_best_weights=True)"
   ]
  },
  {
   "cell_type": "code",
   "execution_count": 57,
   "id": "a56582a4",
   "metadata": {
    "scrolled": true
   },
   "outputs": [
    {
     "name": "stdout",
     "output_type": "stream",
     "text": [
      "Epoch 1/500\n",
      "3777/3777 [==============================] - 42s 11ms/step - loss: 0.7536 - accuracy: 0.7719 - val_loss: 0.3112 - val_accuracy: 0.9151\n",
      "Epoch 2/500\n",
      "3777/3777 [==============================] - 39s 10ms/step - loss: 0.2926 - accuracy: 0.9138 - val_loss: 0.2100 - val_accuracy: 0.9379\n",
      "Epoch 3/500\n",
      "3777/3777 [==============================] - 38s 10ms/step - loss: 0.2188 - accuracy: 0.9340 - val_loss: 0.1704 - val_accuracy: 0.9481\n",
      "Epoch 4/500\n",
      "3777/3777 [==============================] - 47s 12ms/step - loss: 0.1874 - accuracy: 0.9430 - val_loss: 0.1501 - val_accuracy: 0.9550\n",
      "Epoch 5/500\n",
      "3777/3777 [==============================] - 43s 11ms/step - loss: 0.1659 - accuracy: 0.9487 - val_loss: 0.1379 - val_accuracy: 0.9587\n",
      "Epoch 6/500\n",
      "3777/3777 [==============================] - 36s 9ms/step - loss: 0.1506 - accuracy: 0.9523 - val_loss: 0.1330 - val_accuracy: 0.9599\n",
      "Epoch 7/500\n",
      "3777/3777 [==============================] - 37s 10ms/step - loss: 0.1412 - accuracy: 0.9547 - val_loss: 0.1298 - val_accuracy: 0.9600\n",
      "Epoch 8/500\n",
      "3777/3777 [==============================] - 36s 10ms/step - loss: 0.1315 - accuracy: 0.9580 - val_loss: 0.1238 - val_accuracy: 0.9613\n",
      "Epoch 9/500\n",
      "3777/3777 [==============================] - 36s 10ms/step - loss: 0.1248 - accuracy: 0.9597 - val_loss: 0.1118 - val_accuracy: 0.9655\n",
      "Epoch 10/500\n",
      "3777/3777 [==============================] - 38s 10ms/step - loss: 0.1178 - accuracy: 0.9621 - val_loss: 0.1098 - val_accuracy: 0.9665\n",
      "Epoch 11/500\n",
      "3777/3777 [==============================] - 48s 13ms/step - loss: 0.1139 - accuracy: 0.9633 - val_loss: 0.1083 - val_accuracy: 0.9673\n",
      "Epoch 12/500\n",
      "3777/3777 [==============================] - 47s 12ms/step - loss: 0.1085 - accuracy: 0.9651 - val_loss: 0.1057 - val_accuracy: 0.9679\n",
      "Epoch 13/500\n",
      "3777/3777 [==============================] - 47s 12ms/step - loss: 0.1053 - accuracy: 0.9658 - val_loss: 0.1062 - val_accuracy: 0.9679\n",
      "CPU times: user 12min 8s, sys: 46.7 s, total: 12min 55s\n",
      "Wall time: 8min 52s\n"
     ]
    }
   ],
   "source": [
    "%%time\n",
    "history = model.fit(X_train, \n",
    "                    y_train,\n",
    "                    epochs=500, \n",
    "                    validation_split=0.3, \n",
    "                    callbacks=es)"
   ]
  },
  {
   "cell_type": "code",
   "execution_count": 120,
   "id": "f25e0463",
   "metadata": {},
   "outputs": [
    {
     "name": "stdout",
     "output_type": "stream",
     "text": [
      "1354/1354 [==============================] - 8s 6ms/step\n"
     ]
    },
    {
     "data": {
      "text/plain": [
       "array([[1.0557124e-08, 5.8376333e-12, 1.4637779e-16, ..., 2.2243075e-06,\n",
       "        2.9823685e-15, 1.1136707e-12],\n",
       "       [2.3434762e-10, 5.5152008e-11, 2.7179203e-10, ..., 5.6107519e-09,\n",
       "        5.8193133e-12, 4.9808678e-11],\n",
       "       [4.3284726e-20, 7.2724919e-17, 9.9839503e-01, ..., 2.2251296e-09,\n",
       "        9.2515642e-14, 2.4162743e-11],\n",
       "       ...,\n",
       "       [2.6753341e-15, 2.0271691e-20, 7.8762552e-12, ..., 6.8333650e-10,\n",
       "        1.9055424e-11, 3.1266711e-05],\n",
       "       [1.2476325e-20, 2.2484562e-14, 1.6444434e-11, ..., 2.4435412e-10,\n",
       "        1.2699757e-12, 1.9831571e-08],\n",
       "       [3.8974379e-12, 1.1268823e-10, 9.9988818e-01, ..., 4.0927063e-07,\n",
       "        3.8087775e-10, 5.7627136e-11]], dtype=float32)"
      ]
     },
     "metadata": {},
     "output_type": "display_data"
    },
    {
     "name": "stdout",
     "output_type": "stream",
     "text": [
      "CPU times: user 9.22 s, sys: 563 ms, total: 9.78 s\n",
      "Wall time: 9.79 s\n"
     ]
    }
   ],
   "source": [
    "%%time\n",
    "y_pred = model.predict(X_test)\n",
    "display(y_pred)"
   ]
  },
  {
   "cell_type": "code",
   "execution_count": 121,
   "id": "dd6a0ec8",
   "metadata": {},
   "outputs": [
    {
     "data": {
      "text/plain": [
       "array([[0, 0, 0, ..., 0, 0, 0],\n",
       "       [0, 0, 0, ..., 0, 0, 0],\n",
       "       [0, 0, 1, ..., 0, 0, 0],\n",
       "       ...,\n",
       "       [0, 0, 0, ..., 0, 0, 0],\n",
       "       [0, 0, 0, ..., 0, 0, 0],\n",
       "       [0, 0, 1, ..., 0, 0, 0]])"
      ]
     },
     "metadata": {},
     "output_type": "display_data"
    },
    {
     "data": {
      "text/plain": [
       "array([18,  4,  2, ...,  6, 21,  2])"
      ]
     },
     "metadata": {},
     "output_type": "display_data"
    }
   ],
   "source": [
    "y_pred = np.array([[round(b) for b in a] for a in y_pred]) \n",
    "display(y_pred)\n",
    "display(y_test)"
   ]
  },
  {
   "cell_type": "code",
   "execution_count": 122,
   "id": "df159869",
   "metadata": {},
   "outputs": [
    {
     "data": {
      "text/plain": [
       "array([18,  4,  2, ...,  6, 21,  2])"
      ]
     },
     "execution_count": 122,
     "metadata": {},
     "output_type": "execute_result"
    }
   ],
   "source": [
    "y_pred = np.argmax(y_pred, axis=1)\n",
    "y_pred\n"
   ]
  },
  {
   "cell_type": "code",
   "execution_count": 112,
   "id": "977e32af",
   "metadata": {},
   "outputs": [
    {
     "data": {
      "text/plain": [
       "array([18,  4,  2, ...,  6, 21,  2])"
      ]
     },
     "execution_count": 112,
     "metadata": {},
     "output_type": "execute_result"
    }
   ],
   "source": [
    "y_test= np.argmax(y_test, axis=1)\n",
    "y_test\n"
   ]
  },
  {
   "cell_type": "code",
   "execution_count": 119,
   "id": "80bb901f",
   "metadata": {},
   "outputs": [
    {
     "data": {
      "text/plain": [
       "array([ 1, 12,  2, ...,  4,  5,  8])"
      ]
     },
     "execution_count": 119,
     "metadata": {},
     "output_type": "execute_result"
    }
   ],
   "source": [
    "y_train"
   ]
  },
  {
   "cell_type": "code",
   "execution_count": 123,
   "id": "9c728c7f",
   "metadata": {},
   "outputs": [
    {
     "data": {
      "image/png": "[encoded data removed]",
      "text/plain": [
       "<Figure size 1000x800 with 2 Axes>"
      ]
     },
     "metadata": {},
     "output_type": "display_data"
    },
    {
     "name": "stdout",
     "output_type": "stream",
     "text": [
      "              precision    recall  f1-score   support\n",
      "\n",
      "           0       0.77      0.98      0.87      1764\n",
      "           1       0.98      0.99      0.99      1774\n",
      "           2       0.98      0.97      0.98      1681\n",
      "           3       0.99      0.98      0.99      1860\n",
      "           4       0.98      0.98      0.98      1810\n",
      "           5       1.00      0.98      0.99      1911\n",
      "           6       0.98      0.95      0.96      1629\n",
      "           7       0.97      0.97      0.97      1530\n",
      "           8       0.95      0.96      0.95      1740\n",
      "           9       0.98      0.96      0.97      1665\n",
      "          10       1.00      0.97      0.98      1875\n",
      "          11       1.00      0.98      0.99      1873\n",
      "          12       0.97      0.90      0.93      1365\n",
      "          13       0.91      0.95      0.93      1220\n",
      "          14       0.98      0.98      0.98      1706\n",
      "          15       0.97      0.98      0.97      1300\n",
      "          16       0.96      0.97      0.96      1390\n",
      "          17       0.98      0.96      0.97      1771\n",
      "          18       0.96      0.95      0.96      1627\n",
      "          19       0.96      0.95      0.96      1689\n",
      "          20       0.96      0.93      0.94      1347\n",
      "          21       0.98      0.98      0.98      1701\n",
      "          22       0.99      0.98      0.99      1715\n",
      "          23       0.98      0.95      0.97      1793\n",
      "          24       0.99      0.96      0.97      1735\n",
      "          25       0.99      0.96      0.98      1829\n",
      "\n",
      "    accuracy                           0.97     43300\n",
      "   macro avg       0.97      0.96      0.97     43300\n",
      "weighted avg       0.97      0.97      0.97     43300\n",
      "\n",
      "Accuracy: 0.9656120092378753\n"
     ]
    }
   ],
   "source": [
    "evaluate_model(y_test, y_pred)"
   ]
  },
  {
   "cell_type": "code",
   "execution_count": null,
   "id": "7fcceb75",
   "metadata": {},
   "outputs": [],
   "source": [
    "model.save(model, filepath='CNN-nonorm-chonkyboi-evaluated')"
   ]
  }
 ],
 "metadata": {
  "kernelspec": {
   "display_name": "Python 3 (ipykernel)",
   "language": "python",
   "name": "python3"
  },
  "language_info": {
   "codemirror_mode": {
    "name": "ipython",
    "version": 3
   },
   "file_extension": ".py",
   "mimetype": "text/x-python",
   "name": "python",
   "nbconvert_exporter": "python",
   "pygments_lexer": "ipython3",
   "version": "3.10.6"
  },
  "toc": {
   "base_numbering": 1,
   "nav_menu": {},
   "number_sections": true,
   "sideBar": true,
   "skip_h1_title": false,
   "title_cell": "Table of Contents",
   "title_sidebar": "Contents",
   "toc_cell": false,
   "toc_position": {},
   "toc_section_display": true,
   "toc_window_display": false
  }
 },
 "nbformat": 4,
 "nbformat_minor": 5
}
