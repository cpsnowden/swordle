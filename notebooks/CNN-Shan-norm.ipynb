{
 "cells": [
  {
   "cell_type": "markdown",
   "id": "4bdb1a64",
   "metadata": {},
   "source": [
    "# Sign Game Server"
   ]
  },
  {
   "cell_type": "markdown",
   "id": "f90694f4",
   "metadata": {},
   "source": [
    "Game Plan:"
   ]
  },
  {
   "cell_type": "code",
   "execution_count": 1,
   "id": "613a1722",
   "metadata": {},
   "outputs": [
    {
     "name": "stderr",
     "output_type": "stream",
     "text": [
      "2023-03-13 15:00:47.767062: I tensorflow/core/platform/cpu_feature_guard.cc:193] This TensorFlow binary is optimized with oneAPI Deep Neural Network Library (oneDNN) to use the following CPU instructions in performance-critical operations:  AVX2 FMA\n",
      "To enable them in other operations, rebuild TensorFlow with the appropriate compiler flags.\n",
      "2023-03-13 15:00:47.980489: W tensorflow/stream_executor/platform/default/dso_loader.cc:64] Could not load dynamic library 'libcudart.so.11.0'; dlerror: libcudart.so.11.0: cannot open shared object file: No such file or directory\n",
      "2023-03-13 15:00:47.980516: I tensorflow/stream_executor/cuda/cudart_stub.cc:29] Ignore above cudart dlerror if you do not have a GPU set up on your machine.\n",
      "2023-03-13 15:00:48.024341: E tensorflow/stream_executor/cuda/cuda_blas.cc:2981] Unable to register cuBLAS factory: Attempting to register factory for plugin cuBLAS when one has already been registered\n",
      "2023-03-13 15:00:49.288656: W tensorflow/stream_executor/platform/default/dso_loader.cc:64] Could not load dynamic library 'libnvinfer.so.7'; dlerror: libnvinfer.so.7: cannot open shared object file: No such file or directory\n",
      "2023-03-13 15:00:49.288777: W tensorflow/stream_executor/platform/default/dso_loader.cc:64] Could not load dynamic library 'libnvinfer_plugin.so.7'; dlerror: libnvinfer_plugin.so.7: cannot open shared object file: No such file or directory\n",
      "2023-03-13 15:00:49.288792: W tensorflow/compiler/tf2tensorrt/utils/py_utils.cc:38] TF-TRT Warning: Cannot dlopen some TensorRT libraries. If you would like to use Nvidia GPU with TensorRT, please make sure the missing libraries mentioned above are installed properly.\n"
     ]
    }
   ],
   "source": [
    "# Imports\n",
    "import numpy as np\n",
    "import pandas as pd\n",
    "import matplotlib.pyplot as plt\n",
    "from tensorflow.keras import models\n",
    "from tensorflow.keras import Sequential, layers\n",
    "from sklearn.preprocessing import LabelEncoder\n",
    "from sklearn.model_selection import train_test_split\n",
    "from tensorflow.keras.utils import to_categorical\n",
    "from tensorflow.keras.callbacks import EarlyStopping\n",
    "import string"
   ]
  },
  {
   "cell_type": "code",
   "execution_count": 2,
   "id": "0161ffc0",
   "metadata": {},
   "outputs": [],
   "source": [
    "from sign_game.ml.evaluate import evaluate_model\n",
    "from sign_game.ml.landmarks_utils import normalize_handmarks_per_image "
   ]
  },
  {
   "cell_type": "code",
   "execution_count": 3,
   "id": "17df61f2",
   "metadata": {
    "collapsed": true
   },
   "outputs": [],
   "source": [
    "!pip list | grep sign_game"
   ]
  },
  {
   "cell_type": "markdown",
   "id": "bf1a4ebd",
   "metadata": {},
   "source": [
    "protobuf 3.11.0"
   ]
  },
  {
   "cell_type": "markdown",
   "id": "3e8360e0",
   "metadata": {},
   "source": [
    "## Dataset Preprocessing"
   ]
  },
  {
   "cell_type": "code",
   "execution_count": 4,
   "id": "70fb64fa",
   "metadata": {},
   "outputs": [],
   "source": [
    "# Dataset\n",
    "df1 = pd.read_csv('../raw_data/csv_data/train.csv')\n",
    "df2 = pd.read_csv('../raw_data/csv_data/test.csv')"
   ]
  },
  {
   "cell_type": "code",
   "execution_count": 5,
   "id": "53d71b72",
   "metadata": {},
   "outputs": [],
   "source": [
    "df1 = normalize_handmarks_per_image(df1) \n",
    "df2 = normalize_handmarks_per_image(df2) "
   ]
  },
  {
   "cell_type": "code",
   "execution_count": 6,
   "id": "6eab2407",
   "metadata": {},
   "outputs": [],
   "source": [
    "df = df1.copy().dropna().reset_index()\n",
    "test_df = df2.copy().dropna().reset_index()"
   ]
  },
  {
   "cell_type": "code",
   "execution_count": 7,
   "id": "16decf9a",
   "metadata": {},
   "outputs": [
    {
     "data": {
      "text/plain": [
       "Index(['index', 'Unnamed: 0', 'WRIST_X', 'WRIST_Y', 'WRIST_Z', 'THUMB_CMC_X',\n",
       "       'THUMB_CMC_Y', 'THUMB_CMC_Z', 'THUMB_MCP_X', 'THUMB_MCP_Y',\n",
       "       'THUMB_MCP_Z', 'THUMB_IP_X', 'THUMB_IP_Y', 'THUMB_IP_Z', 'THUMB_TIP_X',\n",
       "       'THUMB_TIP_Y', 'THUMB_TIP_Z', 'INDEX_FINGER_MCP_X',\n",
       "       'INDEX_FINGER_MCP_Y', 'INDEX_FINGER_MCP_Z', 'INDEX_FINGER_PIP_X',\n",
       "       'INDEX_FINGER_PIP_Y', 'INDEX_FINGER_PIP_Z', 'INDEX_FINGER_DIP_X',\n",
       "       'INDEX_FINGER_DIP_Y', 'INDEX_FINGER_DIP_Z', 'INDEX_FINGER_TIP_X',\n",
       "       'INDEX_FINGER_TIP_Y', 'INDEX_FINGER_TIP_Z', 'MIDDLE_FINGER_MCP_X',\n",
       "       'MIDDLE_FINGER_MCP_Y', 'MIDDLE_FINGER_MCP_Z', 'MIDDLE_FINGER_PIP_X',\n",
       "       'MIDDLE_FINGER_PIP_Y', 'MIDDLE_FINGER_PIP_Z', 'MIDDLE_FINGER_DIP_X',\n",
       "       'MIDDLE_FINGER_DIP_Y', 'MIDDLE_FINGER_DIP_Z', 'MIDDLE_FINGER_TIP_X',\n",
       "       'MIDDLE_FINGER_TIP_Y', 'MIDDLE_FINGER_TIP_Z', 'RING_FINGER_MCP_X',\n",
       "       'RING_FINGER_MCP_Y', 'RING_FINGER_MCP_Z', 'RING_FINGER_PIP_X',\n",
       "       'RING_FINGER_PIP_Y', 'RING_FINGER_PIP_Z', 'RING_FINGER_DIP_X',\n",
       "       'RING_FINGER_DIP_Y', 'RING_FINGER_DIP_Z', 'RING_FINGER_TIP_X',\n",
       "       'RING_FINGER_TIP_Y', 'RING_FINGER_TIP_Z', 'PINKY_MCP_X', 'PINKY_MCP_Y',\n",
       "       'PINKY_MCP_Z', 'PINKY_PIP_X', 'PINKY_PIP_Y', 'PINKY_PIP_Z',\n",
       "       'PINKY_DIP_X', 'PINKY_DIP_Y', 'PINKY_DIP_Z', 'PINKY_TIP_X',\n",
       "       'PINKY_TIP_Y', 'PINKY_TIP_Z', 'TARGET', 'PATH'],\n",
       "      dtype='object')"
      ]
     },
     "execution_count": 7,
     "metadata": {},
     "output_type": "execute_result"
    }
   ],
   "source": [
    "df.columns"
   ]
  },
  {
   "cell_type": "code",
   "execution_count": 8,
   "id": "7097a18b",
   "metadata": {},
   "outputs": [
    {
     "data": {
      "text/html": [
       "<div>\n",
       "<style scoped>\n",
       "    .dataframe tbody tr th:only-of-type {\n",
       "        vertical-align: middle;\n",
       "    }\n",
       "\n",
       "    .dataframe tbody tr th {\n",
       "        vertical-align: top;\n",
       "    }\n",
       "\n",
       "    .dataframe thead th {\n",
       "        text-align: right;\n",
       "    }\n",
       "</style>\n",
       "<table border=\"1\" class=\"dataframe\">\n",
       "  <thead>\n",
       "    <tr style=\"text-align: right;\">\n",
       "      <th></th>\n",
       "      <th>WRIST_X</th>\n",
       "      <th>WRIST_Y</th>\n",
       "      <th>WRIST_Z</th>\n",
       "      <th>THUMB_CMC_X</th>\n",
       "      <th>THUMB_CMC_Y</th>\n",
       "      <th>THUMB_CMC_Z</th>\n",
       "      <th>THUMB_MCP_X</th>\n",
       "      <th>THUMB_MCP_Y</th>\n",
       "      <th>THUMB_MCP_Z</th>\n",
       "      <th>THUMB_IP_X</th>\n",
       "      <th>...</th>\n",
       "      <th>PINKY_MCP_Z</th>\n",
       "      <th>PINKY_PIP_X</th>\n",
       "      <th>PINKY_PIP_Y</th>\n",
       "      <th>PINKY_PIP_Z</th>\n",
       "      <th>PINKY_DIP_X</th>\n",
       "      <th>PINKY_DIP_Y</th>\n",
       "      <th>PINKY_DIP_Z</th>\n",
       "      <th>PINKY_TIP_X</th>\n",
       "      <th>PINKY_TIP_Y</th>\n",
       "      <th>PINKY_TIP_Z</th>\n",
       "    </tr>\n",
       "  </thead>\n",
       "  <tbody>\n",
       "    <tr>\n",
       "      <th>0</th>\n",
       "      <td>0.385186</td>\n",
       "      <td>2.801575</td>\n",
       "      <td>1.882829</td>\n",
       "      <td>-0.751281</td>\n",
       "      <td>2.171180</td>\n",
       "      <td>0.556605</td>\n",
       "      <td>-1.671987</td>\n",
       "      <td>0.741385</td>\n",
       "      <td>-0.001712</td>\n",
       "      <td>-1.095631</td>\n",
       "      <td>...</td>\n",
       "      <td>0.276157</td>\n",
       "      <td>1.620127</td>\n",
       "      <td>-0.587439</td>\n",
       "      <td>-0.718412</td>\n",
       "      <td>1.363665</td>\n",
       "      <td>0.275684</td>\n",
       "      <td>-0.102359</td>\n",
       "      <td>1.284243</td>\n",
       "      <td>0.437009</td>\n",
       "      <td>0.594393</td>\n",
       "    </tr>\n",
       "    <tr>\n",
       "      <th>1</th>\n",
       "      <td>-0.529195</td>\n",
       "      <td>2.882589</td>\n",
       "      <td>1.980395</td>\n",
       "      <td>-1.591449</td>\n",
       "      <td>2.053460</td>\n",
       "      <td>0.622020</td>\n",
       "      <td>-1.988227</td>\n",
       "      <td>0.772498</td>\n",
       "      <td>0.016934</td>\n",
       "      <td>-1.048023</td>\n",
       "      <td>...</td>\n",
       "      <td>0.487825</td>\n",
       "      <td>1.548304</td>\n",
       "      <td>-0.562727</td>\n",
       "      <td>0.100223</td>\n",
       "      <td>1.460155</td>\n",
       "      <td>-0.458030</td>\n",
       "      <td>-0.024717</td>\n",
       "      <td>1.256206</td>\n",
       "      <td>-0.093634</td>\n",
       "      <td>-0.006031</td>\n",
       "    </tr>\n",
       "    <tr>\n",
       "      <th>2</th>\n",
       "      <td>-1.974264</td>\n",
       "      <td>2.387782</td>\n",
       "      <td>0.283919</td>\n",
       "      <td>-0.865484</td>\n",
       "      <td>1.895311</td>\n",
       "      <td>0.782621</td>\n",
       "      <td>0.058128</td>\n",
       "      <td>1.375598</td>\n",
       "      <td>0.628894</td>\n",
       "      <td>0.908451</td>\n",
       "      <td>...</td>\n",
       "      <td>-1.002453</td>\n",
       "      <td>-0.722410</td>\n",
       "      <td>-0.457209</td>\n",
       "      <td>-1.196080</td>\n",
       "      <td>-0.121388</td>\n",
       "      <td>-0.726194</td>\n",
       "      <td>-1.250116</td>\n",
       "      <td>0.423888</td>\n",
       "      <td>-0.882294</td>\n",
       "      <td>-1.283663</td>\n",
       "    </tr>\n",
       "    <tr>\n",
       "      <th>3</th>\n",
       "      <td>-0.048151</td>\n",
       "      <td>2.079766</td>\n",
       "      <td>-1.748567</td>\n",
       "      <td>1.107623</td>\n",
       "      <td>1.543114</td>\n",
       "      <td>-1.950030</td>\n",
       "      <td>1.447938</td>\n",
       "      <td>0.858132</td>\n",
       "      <td>-1.630203</td>\n",
       "      <td>0.632256</td>\n",
       "      <td>...</td>\n",
       "      <td>0.165067</td>\n",
       "      <td>-1.665231</td>\n",
       "      <td>0.189943</td>\n",
       "      <td>0.310140</td>\n",
       "      <td>-1.347223</td>\n",
       "      <td>0.709791</td>\n",
       "      <td>1.016574</td>\n",
       "      <td>-1.075852</td>\n",
       "      <td>1.007363</td>\n",
       "      <td>1.627645</td>\n",
       "    </tr>\n",
       "    <tr>\n",
       "      <th>4</th>\n",
       "      <td>0.616188</td>\n",
       "      <td>1.504579</td>\n",
       "      <td>2.531432</td>\n",
       "      <td>-0.059789</td>\n",
       "      <td>1.336091</td>\n",
       "      <td>1.223051</td>\n",
       "      <td>-0.859199</td>\n",
       "      <td>1.018260</td>\n",
       "      <td>0.173816</td>\n",
       "      <td>-1.605012</td>\n",
       "      <td>...</td>\n",
       "      <td>0.590740</td>\n",
       "      <td>1.430987</td>\n",
       "      <td>-0.254600</td>\n",
       "      <td>-0.315075</td>\n",
       "      <td>1.282074</td>\n",
       "      <td>0.302666</td>\n",
       "      <td>0.182305</td>\n",
       "      <td>0.984723</td>\n",
       "      <td>0.443271</td>\n",
       "      <td>0.779126</td>\n",
       "    </tr>\n",
       "    <tr>\n",
       "      <th>...</th>\n",
       "      <td>...</td>\n",
       "      <td>...</td>\n",
       "      <td>...</td>\n",
       "      <td>...</td>\n",
       "      <td>...</td>\n",
       "      <td>...</td>\n",
       "      <td>...</td>\n",
       "      <td>...</td>\n",
       "      <td>...</td>\n",
       "      <td>...</td>\n",
       "      <td>...</td>\n",
       "      <td>...</td>\n",
       "      <td>...</td>\n",
       "      <td>...</td>\n",
       "      <td>...</td>\n",
       "      <td>...</td>\n",
       "      <td>...</td>\n",
       "      <td>...</td>\n",
       "      <td>...</td>\n",
       "      <td>...</td>\n",
       "      <td>...</td>\n",
       "    </tr>\n",
       "    <tr>\n",
       "      <th>43295</th>\n",
       "      <td>1.061066</td>\n",
       "      <td>0.831383</td>\n",
       "      <td>2.510490</td>\n",
       "      <td>1.302601</td>\n",
       "      <td>0.287974</td>\n",
       "      <td>1.197491</td>\n",
       "      <td>1.403105</td>\n",
       "      <td>-0.313466</td>\n",
       "      <td>0.204638</td>\n",
       "      <td>1.232563</td>\n",
       "      <td>...</td>\n",
       "      <td>1.085446</td>\n",
       "      <td>-0.317100</td>\n",
       "      <td>1.252225</td>\n",
       "      <td>-0.067312</td>\n",
       "      <td>0.355212</td>\n",
       "      <td>1.178072</td>\n",
       "      <td>-0.148286</td>\n",
       "      <td>0.728359</td>\n",
       "      <td>1.011093</td>\n",
       "      <td>0.093383</td>\n",
       "    </tr>\n",
       "    <tr>\n",
       "      <th>43296</th>\n",
       "      <td>-1.748942</td>\n",
       "      <td>0.996553</td>\n",
       "      <td>2.156101</td>\n",
       "      <td>-1.691142</td>\n",
       "      <td>-0.161315</td>\n",
       "      <td>1.278577</td>\n",
       "      <td>-1.106035</td>\n",
       "      <td>-1.175345</td>\n",
       "      <td>0.828648</td>\n",
       "      <td>-0.387812</td>\n",
       "      <td>...</td>\n",
       "      <td>0.460497</td>\n",
       "      <td>0.427096</td>\n",
       "      <td>1.449490</td>\n",
       "      <td>-0.812675</td>\n",
       "      <td>-0.167529</td>\n",
       "      <td>1.268221</td>\n",
       "      <td>-0.564506</td>\n",
       "      <td>-0.627585</td>\n",
       "      <td>1.109405</td>\n",
       "      <td>-0.020285</td>\n",
       "    </tr>\n",
       "    <tr>\n",
       "      <th>43297</th>\n",
       "      <td>-2.052956</td>\n",
       "      <td>2.027840</td>\n",
       "      <td>0.790639</td>\n",
       "      <td>-1.740511</td>\n",
       "      <td>0.551800</td>\n",
       "      <td>0.471653</td>\n",
       "      <td>-1.052008</td>\n",
       "      <td>-0.466290</td>\n",
       "      <td>0.514142</td>\n",
       "      <td>-0.402144</td>\n",
       "      <td>...</td>\n",
       "      <td>-0.291703</td>\n",
       "      <td>0.688174</td>\n",
       "      <td>0.956647</td>\n",
       "      <td>-1.291090</td>\n",
       "      <td>0.083273</td>\n",
       "      <td>0.815614</td>\n",
       "      <td>-0.934715</td>\n",
       "      <td>-0.419391</td>\n",
       "      <td>0.879127</td>\n",
       "      <td>-0.268416</td>\n",
       "    </tr>\n",
       "    <tr>\n",
       "      <th>43298</th>\n",
       "      <td>0.533199</td>\n",
       "      <td>1.698503</td>\n",
       "      <td>2.804422</td>\n",
       "      <td>-0.455226</td>\n",
       "      <td>1.404728</td>\n",
       "      <td>1.459223</td>\n",
       "      <td>-1.150645</td>\n",
       "      <td>0.883024</td>\n",
       "      <td>0.543778</td>\n",
       "      <td>-0.579353</td>\n",
       "      <td>...</td>\n",
       "      <td>0.312806</td>\n",
       "      <td>1.165465</td>\n",
       "      <td>0.336787</td>\n",
       "      <td>-0.712601</td>\n",
       "      <td>0.536152</td>\n",
       "      <td>0.638695</td>\n",
       "      <td>-0.606545</td>\n",
       "      <td>0.306374</td>\n",
       "      <td>0.860937</td>\n",
       "      <td>-0.247325</td>\n",
       "    </tr>\n",
       "    <tr>\n",
       "      <th>43299</th>\n",
       "      <td>1.565261</td>\n",
       "      <td>2.239108</td>\n",
       "      <td>1.902746</td>\n",
       "      <td>0.531086</td>\n",
       "      <td>1.929451</td>\n",
       "      <td>1.268318</td>\n",
       "      <td>-0.429529</td>\n",
       "      <td>1.437481</td>\n",
       "      <td>0.648071</td>\n",
       "      <td>-1.285753</td>\n",
       "      <td>...</td>\n",
       "      <td>0.251367</td>\n",
       "      <td>1.205201</td>\n",
       "      <td>-0.270310</td>\n",
       "      <td>-0.434823</td>\n",
       "      <td>0.644621</td>\n",
       "      <td>-0.573790</td>\n",
       "      <td>-0.821779</td>\n",
       "      <td>0.055009</td>\n",
       "      <td>-0.695609</td>\n",
       "      <td>-0.986967</td>\n",
       "    </tr>\n",
       "  </tbody>\n",
       "</table>\n",
       "<p>43300 rows × 63 columns</p>\n",
       "</div>"
      ],
      "text/plain": [
       "        WRIST_X   WRIST_Y   WRIST_Z  THUMB_CMC_X  THUMB_CMC_Y  THUMB_CMC_Z  \\\n",
       "0      0.385186  2.801575  1.882829    -0.751281     2.171180     0.556605   \n",
       "1     -0.529195  2.882589  1.980395    -1.591449     2.053460     0.622020   \n",
       "2     -1.974264  2.387782  0.283919    -0.865484     1.895311     0.782621   \n",
       "3     -0.048151  2.079766 -1.748567     1.107623     1.543114    -1.950030   \n",
       "4      0.616188  1.504579  2.531432    -0.059789     1.336091     1.223051   \n",
       "...         ...       ...       ...          ...          ...          ...   \n",
       "43295  1.061066  0.831383  2.510490     1.302601     0.287974     1.197491   \n",
       "43296 -1.748942  0.996553  2.156101    -1.691142    -0.161315     1.278577   \n",
       "43297 -2.052956  2.027840  0.790639    -1.740511     0.551800     0.471653   \n",
       "43298  0.533199  1.698503  2.804422    -0.455226     1.404728     1.459223   \n",
       "43299  1.565261  2.239108  1.902746     0.531086     1.929451     1.268318   \n",
       "\n",
       "       THUMB_MCP_X  THUMB_MCP_Y  THUMB_MCP_Z  THUMB_IP_X  ...  PINKY_MCP_Z  \\\n",
       "0        -1.671987     0.741385    -0.001712   -1.095631  ...     0.276157   \n",
       "1        -1.988227     0.772498     0.016934   -1.048023  ...     0.487825   \n",
       "2         0.058128     1.375598     0.628894    0.908451  ...    -1.002453   \n",
       "3         1.447938     0.858132    -1.630203    0.632256  ...     0.165067   \n",
       "4        -0.859199     1.018260     0.173816   -1.605012  ...     0.590740   \n",
       "...            ...          ...          ...         ...  ...          ...   \n",
       "43295     1.403105    -0.313466     0.204638    1.232563  ...     1.085446   \n",
       "43296    -1.106035    -1.175345     0.828648   -0.387812  ...     0.460497   \n",
       "43297    -1.052008    -0.466290     0.514142   -0.402144  ...    -0.291703   \n",
       "43298    -1.150645     0.883024     0.543778   -0.579353  ...     0.312806   \n",
       "43299    -0.429529     1.437481     0.648071   -1.285753  ...     0.251367   \n",
       "\n",
       "       PINKY_PIP_X  PINKY_PIP_Y  PINKY_PIP_Z  PINKY_DIP_X  PINKY_DIP_Y  \\\n",
       "0         1.620127    -0.587439    -0.718412     1.363665     0.275684   \n",
       "1         1.548304    -0.562727     0.100223     1.460155    -0.458030   \n",
       "2        -0.722410    -0.457209    -1.196080    -0.121388    -0.726194   \n",
       "3        -1.665231     0.189943     0.310140    -1.347223     0.709791   \n",
       "4         1.430987    -0.254600    -0.315075     1.282074     0.302666   \n",
       "...            ...          ...          ...          ...          ...   \n",
       "43295    -0.317100     1.252225    -0.067312     0.355212     1.178072   \n",
       "43296     0.427096     1.449490    -0.812675    -0.167529     1.268221   \n",
       "43297     0.688174     0.956647    -1.291090     0.083273     0.815614   \n",
       "43298     1.165465     0.336787    -0.712601     0.536152     0.638695   \n",
       "43299     1.205201    -0.270310    -0.434823     0.644621    -0.573790   \n",
       "\n",
       "       PINKY_DIP_Z  PINKY_TIP_X  PINKY_TIP_Y  PINKY_TIP_Z  \n",
       "0        -0.102359     1.284243     0.437009     0.594393  \n",
       "1        -0.024717     1.256206    -0.093634    -0.006031  \n",
       "2        -1.250116     0.423888    -0.882294    -1.283663  \n",
       "3         1.016574    -1.075852     1.007363     1.627645  \n",
       "4         0.182305     0.984723     0.443271     0.779126  \n",
       "...            ...          ...          ...          ...  \n",
       "43295    -0.148286     0.728359     1.011093     0.093383  \n",
       "43296    -0.564506    -0.627585     1.109405    -0.020285  \n",
       "43297    -0.934715    -0.419391     0.879127    -0.268416  \n",
       "43298    -0.606545     0.306374     0.860937    -0.247325  \n",
       "43299    -0.821779     0.055009    -0.695609    -0.986967  \n",
       "\n",
       "[43300 rows x 63 columns]"
      ]
     },
     "metadata": {},
     "output_type": "display_data"
    },
    {
     "data": {
      "text/html": [
       "<div>\n",
       "<style scoped>\n",
       "    .dataframe tbody tr th:only-of-type {\n",
       "        vertical-align: middle;\n",
       "    }\n",
       "\n",
       "    .dataframe tbody tr th {\n",
       "        vertical-align: top;\n",
       "    }\n",
       "\n",
       "    .dataframe thead th {\n",
       "        text-align: right;\n",
       "    }\n",
       "</style>\n",
       "<table border=\"1\" class=\"dataframe\">\n",
       "  <thead>\n",
       "    <tr style=\"text-align: right;\">\n",
       "      <th></th>\n",
       "      <th>WRIST_X</th>\n",
       "      <th>WRIST_Y</th>\n",
       "      <th>WRIST_Z</th>\n",
       "      <th>THUMB_CMC_X</th>\n",
       "      <th>THUMB_CMC_Y</th>\n",
       "      <th>THUMB_CMC_Z</th>\n",
       "      <th>THUMB_MCP_X</th>\n",
       "      <th>THUMB_MCP_Y</th>\n",
       "      <th>THUMB_MCP_Z</th>\n",
       "      <th>THUMB_IP_X</th>\n",
       "      <th>...</th>\n",
       "      <th>PINKY_MCP_Z</th>\n",
       "      <th>PINKY_PIP_X</th>\n",
       "      <th>PINKY_PIP_Y</th>\n",
       "      <th>PINKY_PIP_Z</th>\n",
       "      <th>PINKY_DIP_X</th>\n",
       "      <th>PINKY_DIP_Y</th>\n",
       "      <th>PINKY_DIP_Z</th>\n",
       "      <th>PINKY_TIP_X</th>\n",
       "      <th>PINKY_TIP_Y</th>\n",
       "      <th>PINKY_TIP_Z</th>\n",
       "    </tr>\n",
       "  </thead>\n",
       "  <tbody>\n",
       "    <tr>\n",
       "      <th>0</th>\n",
       "      <td>1.142823</td>\n",
       "      <td>2.420187</td>\n",
       "      <td>1.735661</td>\n",
       "      <td>-0.338310</td>\n",
       "      <td>1.912172</td>\n",
       "      <td>0.524164</td>\n",
       "      <td>-0.984027</td>\n",
       "      <td>1.122712</td>\n",
       "      <td>0.176097</td>\n",
       "      <td>-0.219408</td>\n",
       "      <td>...</td>\n",
       "      <td>-0.009308</td>\n",
       "      <td>1.482592</td>\n",
       "      <td>-0.035783</td>\n",
       "      <td>-0.560045</td>\n",
       "      <td>1.307420</td>\n",
       "      <td>-0.439379</td>\n",
       "      <td>-0.938440</td>\n",
       "      <td>1.134088</td>\n",
       "      <td>-0.780904</td>\n",
       "      <td>-1.319878</td>\n",
       "    </tr>\n",
       "    <tr>\n",
       "      <th>1</th>\n",
       "      <td>-0.206491</td>\n",
       "      <td>0.405551</td>\n",
       "      <td>2.662816</td>\n",
       "      <td>0.642962</td>\n",
       "      <td>0.613478</td>\n",
       "      <td>1.909166</td>\n",
       "      <td>1.234313</td>\n",
       "      <td>0.488954</td>\n",
       "      <td>1.183384</td>\n",
       "      <td>1.285006</td>\n",
       "      <td>...</td>\n",
       "      <td>0.482572</td>\n",
       "      <td>-1.509404</td>\n",
       "      <td>-0.496083</td>\n",
       "      <td>-0.153672</td>\n",
       "      <td>-1.417121</td>\n",
       "      <td>0.403382</td>\n",
       "      <td>-0.449521</td>\n",
       "      <td>-1.239794</td>\n",
       "      <td>1.088117</td>\n",
       "      <td>-0.676929</td>\n",
       "    </tr>\n",
       "    <tr>\n",
       "      <th>2</th>\n",
       "      <td>1.973671</td>\n",
       "      <td>2.129013</td>\n",
       "      <td>1.686453</td>\n",
       "      <td>0.941413</td>\n",
       "      <td>1.879122</td>\n",
       "      <td>1.377149</td>\n",
       "      <td>0.002520</td>\n",
       "      <td>1.439787</td>\n",
       "      <td>0.916804</td>\n",
       "      <td>-0.854252</td>\n",
       "      <td>...</td>\n",
       "      <td>-0.124902</td>\n",
       "      <td>0.987267</td>\n",
       "      <td>-0.433660</td>\n",
       "      <td>-0.842227</td>\n",
       "      <td>0.364119</td>\n",
       "      <td>-0.684233</td>\n",
       "      <td>-1.247715</td>\n",
       "      <td>-0.203164</td>\n",
       "      <td>-0.724466</td>\n",
       "      <td>-1.482050</td>\n",
       "    </tr>\n",
       "    <tr>\n",
       "      <th>3</th>\n",
       "      <td>0.633569</td>\n",
       "      <td>2.440658</td>\n",
       "      <td>1.952173</td>\n",
       "      <td>-0.222620</td>\n",
       "      <td>2.144059</td>\n",
       "      <td>0.207797</td>\n",
       "      <td>-1.145840</td>\n",
       "      <td>1.258114</td>\n",
       "      <td>-0.696534</td>\n",
       "      <td>-1.832201</td>\n",
       "      <td>...</td>\n",
       "      <td>0.623584</td>\n",
       "      <td>1.271229</td>\n",
       "      <td>-0.759980</td>\n",
       "      <td>-0.446125</td>\n",
       "      <td>1.130678</td>\n",
       "      <td>-0.017559</td>\n",
       "      <td>0.191993</td>\n",
       "      <td>1.117493</td>\n",
       "      <td>0.239376</td>\n",
       "      <td>0.973327</td>\n",
       "    </tr>\n",
       "    <tr>\n",
       "      <th>4</th>\n",
       "      <td>0.288975</td>\n",
       "      <td>1.889581</td>\n",
       "      <td>2.051425</td>\n",
       "      <td>-0.330760</td>\n",
       "      <td>1.712542</td>\n",
       "      <td>0.713202</td>\n",
       "      <td>-1.122957</td>\n",
       "      <td>1.413860</td>\n",
       "      <td>-0.294774</td>\n",
       "      <td>-2.028529</td>\n",
       "      <td>...</td>\n",
       "      <td>1.105115</td>\n",
       "      <td>1.198654</td>\n",
       "      <td>-0.048417</td>\n",
       "      <td>0.780266</td>\n",
       "      <td>0.947835</td>\n",
       "      <td>-0.425212</td>\n",
       "      <td>0.628332</td>\n",
       "      <td>0.572357</td>\n",
       "      <td>-0.666319</td>\n",
       "      <td>0.526154</td>\n",
       "    </tr>\n",
       "    <tr>\n",
       "      <th>...</th>\n",
       "      <td>...</td>\n",
       "      <td>...</td>\n",
       "      <td>...</td>\n",
       "      <td>...</td>\n",
       "      <td>...</td>\n",
       "      <td>...</td>\n",
       "      <td>...</td>\n",
       "      <td>...</td>\n",
       "      <td>...</td>\n",
       "      <td>...</td>\n",
       "      <td>...</td>\n",
       "      <td>...</td>\n",
       "      <td>...</td>\n",
       "      <td>...</td>\n",
       "      <td>...</td>\n",
       "      <td>...</td>\n",
       "      <td>...</td>\n",
       "      <td>...</td>\n",
       "      <td>...</td>\n",
       "      <td>...</td>\n",
       "      <td>...</td>\n",
       "    </tr>\n",
       "    <tr>\n",
       "      <th>172624</th>\n",
       "      <td>-2.424385</td>\n",
       "      <td>1.942646</td>\n",
       "      <td>2.252828</td>\n",
       "      <td>-1.262070</td>\n",
       "      <td>1.769918</td>\n",
       "      <td>1.289735</td>\n",
       "      <td>-0.225938</td>\n",
       "      <td>1.441550</td>\n",
       "      <td>0.604598</td>\n",
       "      <td>0.676020</td>\n",
       "      <td>...</td>\n",
       "      <td>0.686034</td>\n",
       "      <td>-0.361986</td>\n",
       "      <td>-0.100667</td>\n",
       "      <td>-0.005276</td>\n",
       "      <td>0.258269</td>\n",
       "      <td>-0.386949</td>\n",
       "      <td>-0.450608</td>\n",
       "      <td>0.810567</td>\n",
       "      <td>-0.572144</td>\n",
       "      <td>-0.753644</td>\n",
       "    </tr>\n",
       "    <tr>\n",
       "      <th>172625</th>\n",
       "      <td>-0.070228</td>\n",
       "      <td>2.757199</td>\n",
       "      <td>1.983487</td>\n",
       "      <td>-0.836203</td>\n",
       "      <td>1.681637</td>\n",
       "      <td>0.724740</td>\n",
       "      <td>-1.381807</td>\n",
       "      <td>0.573358</td>\n",
       "      <td>-0.002208</td>\n",
       "      <td>-1.747205</td>\n",
       "      <td>...</td>\n",
       "      <td>1.077087</td>\n",
       "      <td>1.286252</td>\n",
       "      <td>-0.509846</td>\n",
       "      <td>-0.203457</td>\n",
       "      <td>1.568185</td>\n",
       "      <td>-0.976600</td>\n",
       "      <td>-0.342090</td>\n",
       "      <td>1.794751</td>\n",
       "      <td>-1.532300</td>\n",
       "      <td>-0.142066</td>\n",
       "    </tr>\n",
       "    <tr>\n",
       "      <th>172626</th>\n",
       "      <td>0.460274</td>\n",
       "      <td>2.872303</td>\n",
       "      <td>1.845231</td>\n",
       "      <td>-0.906331</td>\n",
       "      <td>2.136306</td>\n",
       "      <td>0.606434</td>\n",
       "      <td>-1.349189</td>\n",
       "      <td>0.908223</td>\n",
       "      <td>-0.092842</td>\n",
       "      <td>-0.577868</td>\n",
       "      <td>...</td>\n",
       "      <td>0.399985</td>\n",
       "      <td>1.581284</td>\n",
       "      <td>-0.601321</td>\n",
       "      <td>0.175610</td>\n",
       "      <td>1.208951</td>\n",
       "      <td>-0.234102</td>\n",
       "      <td>0.702588</td>\n",
       "      <td>1.026617</td>\n",
       "      <td>0.302288</td>\n",
       "      <td>1.024608</td>\n",
       "    </tr>\n",
       "    <tr>\n",
       "      <th>172627</th>\n",
       "      <td>1.395267</td>\n",
       "      <td>2.188025</td>\n",
       "      <td>1.324044</td>\n",
       "      <td>0.231435</td>\n",
       "      <td>1.817687</td>\n",
       "      <td>1.227704</td>\n",
       "      <td>-0.524672</td>\n",
       "      <td>1.347492</td>\n",
       "      <td>0.814041</td>\n",
       "      <td>-1.122341</td>\n",
       "      <td>...</td>\n",
       "      <td>-0.588866</td>\n",
       "      <td>1.365769</td>\n",
       "      <td>-0.398576</td>\n",
       "      <td>-0.958703</td>\n",
       "      <td>1.078800</td>\n",
       "      <td>-0.878881</td>\n",
       "      <td>-1.153086</td>\n",
       "      <td>0.725720</td>\n",
       "      <td>-1.291724</td>\n",
       "      <td>-1.243922</td>\n",
       "    </tr>\n",
       "    <tr>\n",
       "      <th>172628</th>\n",
       "      <td>-0.112878</td>\n",
       "      <td>2.418897</td>\n",
       "      <td>1.687350</td>\n",
       "      <td>1.008906</td>\n",
       "      <td>1.645078</td>\n",
       "      <td>0.183719</td>\n",
       "      <td>1.752809</td>\n",
       "      <td>0.564279</td>\n",
       "      <td>-0.162013</td>\n",
       "      <td>1.791028</td>\n",
       "      <td>...</td>\n",
       "      <td>1.273126</td>\n",
       "      <td>-1.457348</td>\n",
       "      <td>-0.885994</td>\n",
       "      <td>0.266974</td>\n",
       "      <td>-1.451001</td>\n",
       "      <td>-1.425841</td>\n",
       "      <td>0.055466</td>\n",
       "      <td>-1.416778</td>\n",
       "      <td>-1.913729</td>\n",
       "      <td>0.314177</td>\n",
       "    </tr>\n",
       "  </tbody>\n",
       "</table>\n",
       "<p>172629 rows × 63 columns</p>\n",
       "</div>"
      ],
      "text/plain": [
       "         WRIST_X   WRIST_Y   WRIST_Z  THUMB_CMC_X  THUMB_CMC_Y  THUMB_CMC_Z  \\\n",
       "0       1.142823  2.420187  1.735661    -0.338310     1.912172     0.524164   \n",
       "1      -0.206491  0.405551  2.662816     0.642962     0.613478     1.909166   \n",
       "2       1.973671  2.129013  1.686453     0.941413     1.879122     1.377149   \n",
       "3       0.633569  2.440658  1.952173    -0.222620     2.144059     0.207797   \n",
       "4       0.288975  1.889581  2.051425    -0.330760     1.712542     0.713202   \n",
       "...          ...       ...       ...          ...          ...          ...   \n",
       "172624 -2.424385  1.942646  2.252828    -1.262070     1.769918     1.289735   \n",
       "172625 -0.070228  2.757199  1.983487    -0.836203     1.681637     0.724740   \n",
       "172626  0.460274  2.872303  1.845231    -0.906331     2.136306     0.606434   \n",
       "172627  1.395267  2.188025  1.324044     0.231435     1.817687     1.227704   \n",
       "172628 -0.112878  2.418897  1.687350     1.008906     1.645078     0.183719   \n",
       "\n",
       "        THUMB_MCP_X  THUMB_MCP_Y  THUMB_MCP_Z  THUMB_IP_X  ...  PINKY_MCP_Z  \\\n",
       "0         -0.984027     1.122712     0.176097   -0.219408  ...    -0.009308   \n",
       "1          1.234313     0.488954     1.183384    1.285006  ...     0.482572   \n",
       "2          0.002520     1.439787     0.916804   -0.854252  ...    -0.124902   \n",
       "3         -1.145840     1.258114    -0.696534   -1.832201  ...     0.623584   \n",
       "4         -1.122957     1.413860    -0.294774   -2.028529  ...     1.105115   \n",
       "...             ...          ...          ...         ...  ...          ...   \n",
       "172624    -0.225938     1.441550     0.604598    0.676020  ...     0.686034   \n",
       "172625    -1.381807     0.573358    -0.002208   -1.747205  ...     1.077087   \n",
       "172626    -1.349189     0.908223    -0.092842   -0.577868  ...     0.399985   \n",
       "172627    -0.524672     1.347492     0.814041   -1.122341  ...    -0.588866   \n",
       "172628     1.752809     0.564279    -0.162013    1.791028  ...     1.273126   \n",
       "\n",
       "        PINKY_PIP_X  PINKY_PIP_Y  PINKY_PIP_Z  PINKY_DIP_X  PINKY_DIP_Y  \\\n",
       "0          1.482592    -0.035783    -0.560045     1.307420    -0.439379   \n",
       "1         -1.509404    -0.496083    -0.153672    -1.417121     0.403382   \n",
       "2          0.987267    -0.433660    -0.842227     0.364119    -0.684233   \n",
       "3          1.271229    -0.759980    -0.446125     1.130678    -0.017559   \n",
       "4          1.198654    -0.048417     0.780266     0.947835    -0.425212   \n",
       "...             ...          ...          ...          ...          ...   \n",
       "172624    -0.361986    -0.100667    -0.005276     0.258269    -0.386949   \n",
       "172625     1.286252    -0.509846    -0.203457     1.568185    -0.976600   \n",
       "172626     1.581284    -0.601321     0.175610     1.208951    -0.234102   \n",
       "172627     1.365769    -0.398576    -0.958703     1.078800    -0.878881   \n",
       "172628    -1.457348    -0.885994     0.266974    -1.451001    -1.425841   \n",
       "\n",
       "        PINKY_DIP_Z  PINKY_TIP_X  PINKY_TIP_Y  PINKY_TIP_Z  \n",
       "0         -0.938440     1.134088    -0.780904    -1.319878  \n",
       "1         -0.449521    -1.239794     1.088117    -0.676929  \n",
       "2         -1.247715    -0.203164    -0.724466    -1.482050  \n",
       "3          0.191993     1.117493     0.239376     0.973327  \n",
       "4          0.628332     0.572357    -0.666319     0.526154  \n",
       "...             ...          ...          ...          ...  \n",
       "172624    -0.450608     0.810567    -0.572144    -0.753644  \n",
       "172625    -0.342090     1.794751    -1.532300    -0.142066  \n",
       "172626     0.702588     1.026617     0.302288     1.024608  \n",
       "172627    -1.153086     0.725720    -1.291724    -1.243922  \n",
       "172628     0.055466    -1.416778    -1.913729     0.314177  \n",
       "\n",
       "[172629 rows x 63 columns]"
      ]
     },
     "metadata": {},
     "output_type": "display_data"
    }
   ],
   "source": [
    "X_test = test_df.drop(columns=['index', 'Unnamed: 0', 'PATH', 'TARGET'])\n",
    "X_train = df.drop(columns=['index', 'Unnamed: 0', 'PATH', 'TARGET'])\n",
    "display(X_test)\n",
    "display(X_train)"
   ]
  },
  {
   "cell_type": "code",
   "execution_count": 9,
   "id": "2d583035",
   "metadata": {},
   "outputs": [
    {
     "data": {
      "text/plain": [
       "0         B\n",
       "1         M\n",
       "2         C\n",
       "3         T\n",
       "4         C\n",
       "         ..\n",
       "172624    Q\n",
       "172625    Y\n",
       "172626    E\n",
       "172627    F\n",
       "172628    I\n",
       "Name: TARGET, Length: 172629, dtype: object"
      ]
     },
     "metadata": {},
     "output_type": "display_data"
    },
    {
     "data": {
      "text/plain": [
       "0        S\n",
       "1        E\n",
       "2        C\n",
       "3        X\n",
       "4        L\n",
       "        ..\n",
       "43295    Z\n",
       "43296    G\n",
       "43297    G\n",
       "43298    V\n",
       "43299    C\n",
       "Name: TARGET, Length: 43300, dtype: object"
      ]
     },
     "metadata": {},
     "output_type": "display_data"
    }
   ],
   "source": [
    "y_test=test_df['TARGET']\n",
    "y_train=df['TARGET']\n",
    "display(y_train)\n",
    "display(y_test)"
   ]
  },
  {
   "cell_type": "code",
   "execution_count": 10,
   "id": "25d78695",
   "metadata": {},
   "outputs": [
    {
     "data": {
      "text/plain": [
       "L    7735\n",
       "F    7616\n",
       "D    7488\n",
       "K    7311\n",
       "B    7252\n",
       "E    7213\n",
       "R    7153\n",
       "A    7101\n",
       "I    7080\n",
       "Z    7006\n",
       "V    6897\n",
       "X    6897\n",
       "W    6863\n",
       "O    6854\n",
       "Y    6698\n",
       "J    6682\n",
       "S    6674\n",
       "C    6615\n",
       "T    6459\n",
       "G    6396\n",
       "H    6077\n",
       "U    5546\n",
       "M    5434\n",
       "P    5411\n",
       "Q    5192\n",
       "N    4979\n",
       "Name: TARGET, dtype: int64"
      ]
     },
     "metadata": {},
     "output_type": "display_data"
    },
    {
     "data": {
      "text/plain": [
       "F    1911\n",
       "K    1875\n",
       "L    1873\n",
       "D    1860\n",
       "Z    1829\n",
       "E    1810\n",
       "X    1793\n",
       "B    1774\n",
       "R    1771\n",
       "A    1764\n",
       "I    1740\n",
       "Y    1735\n",
       "W    1715\n",
       "O    1706\n",
       "V    1701\n",
       "T    1689\n",
       "C    1681\n",
       "J    1665\n",
       "G    1629\n",
       "S    1627\n",
       "H    1530\n",
       "Q    1390\n",
       "M    1365\n",
       "U    1347\n",
       "P    1300\n",
       "N    1220\n",
       "Name: TARGET, dtype: int64"
      ]
     },
     "metadata": {},
     "output_type": "display_data"
    }
   ],
   "source": [
    "display(y_train.value_counts())\n",
    "display(y_test.value_counts())"
   ]
  },
  {
   "cell_type": "code",
   "execution_count": 11,
   "id": "ccd7ab34",
   "metadata": {},
   "outputs": [],
   "source": [
    "# Encoding letters to numerical, A-Z = 0-25\n",
    "y_train = pd.Categorical(y_train)\n",
    "y_test = pd.Categorical(y_test)"
   ]
  },
  {
   "cell_type": "code",
   "execution_count": 12,
   "id": "7f9a0e97",
   "metadata": {},
   "outputs": [
    {
     "data": {
      "text/plain": [
       "CategoricalDtype(categories=['A', 'B', 'C', 'D', 'E', 'F', 'G', 'H', 'I', 'J', 'K', 'L',\n",
       "                  'M', 'N', 'O', 'P', 'Q', 'R', 'S', 'T', 'U', 'V', 'W', 'X',\n",
       "                  'Y', 'Z'],\n",
       ", ordered=False)"
      ]
     },
     "metadata": {},
     "output_type": "display_data"
    },
    {
     "data": {
      "text/plain": [
       "CategoricalDtype(categories=['A', 'B', 'C', 'D', 'E', 'F', 'G', 'H', 'I', 'J', 'K', 'L',\n",
       "                  'M', 'N', 'O', 'P', 'Q', 'R', 'S', 'T', 'U', 'V', 'W', 'X',\n",
       "                  'Y', 'Z'],\n",
       ", ordered=False)"
      ]
     },
     "metadata": {},
     "output_type": "display_data"
    }
   ],
   "source": [
    "display(y_train.dtype)\n",
    "display(y_test.dtype)\n"
   ]
  },
  {
   "cell_type": "code",
   "execution_count": 13,
   "id": "f71b92cf",
   "metadata": {},
   "outputs": [
    {
     "data": {
      "text/plain": [
       "['A',\n",
       " 'B',\n",
       " 'C',\n",
       " 'D',\n",
       " 'E',\n",
       " 'F',\n",
       " 'G',\n",
       " 'H',\n",
       " 'I',\n",
       " 'J',\n",
       " 'K',\n",
       " 'L',\n",
       " 'M',\n",
       " 'N',\n",
       " 'O',\n",
       " 'P',\n",
       " 'Q',\n",
       " 'R',\n",
       " 'S',\n",
       " 'T',\n",
       " 'U',\n",
       " 'V',\n",
       " 'W',\n",
       " 'X',\n",
       " 'Y',\n",
       " 'Z']"
      ]
     },
     "metadata": {},
     "output_type": "display_data"
    }
   ],
   "source": [
    "cat_list = list(y_train.categories)\n",
    "display(cat_list)"
   ]
  },
  {
   "cell_type": "code",
   "execution_count": 14,
   "id": "742ccf7f",
   "metadata": {},
   "outputs": [
    {
     "data": {
      "text/plain": [
       "172629"
      ]
     },
     "metadata": {},
     "output_type": "display_data"
    },
    {
     "data": {
      "text/plain": [
       "array([ 1, 12,  2, ...,  4,  5,  8], dtype=int8)"
      ]
     },
     "metadata": {},
     "output_type": "display_data"
    },
    {
     "data": {
      "text/plain": [
       "43300"
      ]
     },
     "metadata": {},
     "output_type": "display_data"
    },
    {
     "data": {
      "text/plain": [
       "array([18,  4,  2, ...,  6, 21,  2], dtype=int8)"
      ]
     },
     "metadata": {},
     "output_type": "display_data"
    }
   ],
   "source": [
    "y_test = y_test.codes\n",
    "y_train = y_train.codes\n",
    "display(len(y_train))\n",
    "display(y_train)\n",
    "display(len(y_test))\n",
    "display(y_test)"
   ]
  },
  {
   "cell_type": "code",
   "execution_count": 15,
   "id": "9532d9d5",
   "metadata": {},
   "outputs": [
    {
     "data": {
      "text/plain": [
       "((172629, 63), (172629,), (43300, 63), (43300,))"
      ]
     },
     "execution_count": 15,
     "metadata": {},
     "output_type": "execute_result"
    }
   ],
   "source": [
    "X_train.shape, y_train.shape, X_test.shape, y_test.shape"
   ]
  },
  {
   "cell_type": "code",
   "execution_count": 16,
   "id": "4c950fd9",
   "metadata": {},
   "outputs": [
    {
     "name": "stdout",
     "output_type": "stream",
     "text": [
      "26\n"
     ]
    }
   ],
   "source": [
    "classes = len(cat_list)\n",
    "print(classes)"
   ]
  },
  {
   "cell_type": "code",
   "execution_count": 17,
   "id": "e5e0ec70",
   "metadata": {},
   "outputs": [
    {
     "data": {
      "text/plain": [
       "array([[0., 1., 0., ..., 0., 0., 0.],\n",
       "       [0., 0., 0., ..., 0., 0., 0.],\n",
       "       [0., 0., 1., ..., 0., 0., 0.],\n",
       "       ...,\n",
       "       [0., 0., 0., ..., 0., 0., 0.],\n",
       "       [0., 0., 0., ..., 0., 0., 0.],\n",
       "       [0., 0., 0., ..., 0., 0., 0.]], dtype=float32)"
      ]
     },
     "execution_count": 17,
     "metadata": {},
     "output_type": "execute_result"
    }
   ],
   "source": [
    "y_train = to_categorical(y_train, num_classes=classes)\n",
    "y_train"
   ]
  },
  {
   "cell_type": "code",
   "execution_count": 18,
   "id": "7be218c8",
   "metadata": {},
   "outputs": [],
   "source": [
    "y_test = to_categorical(y_test, num_classes=classes)"
   ]
  },
  {
   "cell_type": "code",
   "execution_count": 19,
   "id": "4cc17e15",
   "metadata": {},
   "outputs": [
    {
     "name": "stdout",
     "output_type": "stream",
     "text": [
      "(172629, 63, 1) (43300, 63, 1)\n"
     ]
    }
   ],
   "source": [
    "X_train = np.reshape(np.array(X_train), (X_train.shape[0], X_train.shape[1], 1)).astype(np.float32)\n",
    "X_test = np.reshape(np.array(X_test), (X_test.shape[0], X_test.shape[1], 1)).astype(np.float32)\n",
    "print(X_train.shape, X_test.shape)"
   ]
  },
  {
   "cell_type": "markdown",
   "id": "946143c5",
   "metadata": {},
   "source": [
    "## CNN Model"
   ]
  },
  {
   "cell_type": "markdown",
   "id": "af8da51d",
   "metadata": {
    "heading_collapsed": true
   },
   "source": [
    "### Original CNN"
   ]
  },
  {
   "cell_type": "code",
   "execution_count": 20,
   "id": "74c1254f",
   "metadata": {
    "hidden": true
   },
   "outputs": [],
   "source": [
    "# Architecture\n",
    "# model = models.Sequential()\n",
    "# model.add(layers.Conv1D(filters=512, kernel_size=7, strides=1, padding='causal', input_shape=X_train.shape[1:3], activation='relu'))\n",
    "# model.add(layers.Conv1D(filters=512, kernel_size=7, strides=1, padding='causal', activation='relu'))\n",
    "# model.add(layers.MaxPooling1D(pool_size=2))\n",
    "# model.add(layers.Conv1D(filters=256, kernel_size=5, strides=1, padding='causal', activation='relu'))\n",
    "# model.add(layers.Conv1D(filters=256, kernel_size=5, strides=1, padding='causal', activation='relu'))\n",
    "# model.add(layers.MaxPooling1D(pool_size=2))\n",
    "# model.add(layers.Conv1D(filters=256, kernel_size=3, strides=1, padding='causal', activation='relu'))\n",
    "# model.add(layers.Conv1D(filters=256, kernel_size=3, strides=1, padding='causal', activation='relu'))\n",
    "# model.add(layers.MaxPooling1D(pool_size=2))\n",
    "# model.add(layers.Dropout(0.2))\n",
    "# model.add(layers.Flatten())\n",
    "# model.add(layers.Dense(256, activation='relu'))\n",
    "# model.add(layers.Dense(26, activation='softmax')) \n",
    "#accuracy: 0.89"
   ]
  },
  {
   "cell_type": "markdown",
   "id": "927c0abd",
   "metadata": {
    "heading_collapsed": true
   },
   "source": [
    "### Reduced CNN 1"
   ]
  },
  {
   "cell_type": "code",
   "execution_count": 21,
   "id": "566c941d",
   "metadata": {
    "hidden": true
   },
   "outputs": [],
   "source": [
    "# model = models.Sequential()\n",
    "# model.add(layers.Conv1D(filters=64, kernel_size=3, strides=1, padding='causal', input_shape=X_train.shape[1:3], activation='relu'))\n",
    "# model.add(layers.MaxPooling1D(pool_size=2))\n",
    "# model.add(layers.Conv1D(filters=64, kernel_size=3, strides=1, padding='causal', activation='relu'))\n",
    "# model.add(layers.MaxPooling1D(pool_size=2))\n",
    "# model.add(layers.Conv1D(filters=64, kernel_size=3, strides=1, padding='causal', activation='relu'))\n",
    "# model.add(layers.MaxPooling1D(pool_size=2))\n",
    "# model.add(layers.Dropout(0.2))\n",
    "# model.add(layers.Flatten())\n",
    "# model.add(layers.Dense(256, activation='relu'))\n",
    "# model.add(layers.Dense(26, activation='softmax'))\n",
    "# accuracy: 0.71"
   ]
  },
  {
   "cell_type": "markdown",
   "id": "2b0d4a25",
   "metadata": {
    "heading_collapsed": true
   },
   "source": [
    "### Reduced CNN 2"
   ]
  },
  {
   "cell_type": "code",
   "execution_count": 22,
   "id": "1f3e95bf",
   "metadata": {
    "hidden": true
   },
   "outputs": [],
   "source": [
    "# model = models.Sequential()\n",
    "# model.add(layers.Conv1D(filters=32, kernel_size=3, strides=1, padding='causal', input_shape=X_train.shape[1:3], activation='relu'))\n",
    "# model.add(layers.MaxPooling1D(pool_size=2))\n",
    "# model.add(layers.Conv1D(filters=64, kernel_size=3, strides=1, padding='causal', activation='relu'))\n",
    "# model.add(layers.MaxPooling1D(pool_size=2))\n",
    "# model.add(layers.Conv1D(filters=128, kernel_size=3, strides=1, padding='causal', activation='relu'))\n",
    "# model.add(layers.MaxPooling1D(pool_size=2))\n",
    "# model.add(layers.Dropout(0.2))\n",
    "# model.add(layers.Flatten())\n",
    "# model.add(layers.Dense(256, activation='relu'))\n",
    "# model.add(layers.Dense(26, activation='softmax'))\n",
    "# accuracy: 0.81"
   ]
  },
  {
   "cell_type": "markdown",
   "id": "f708177a",
   "metadata": {
    "heading_collapsed": true
   },
   "source": [
    "### Reduced CNN 3"
   ]
  },
  {
   "cell_type": "code",
   "execution_count": 23,
   "id": "349677b3",
   "metadata": {
    "hidden": true
   },
   "outputs": [],
   "source": [
    "# model = models.Sequential()\n",
    "# model.add(layers.Conv1D(filters=64, kernel_size=3, strides=1, padding='causal', input_shape=X_train.shape[1:3], activation='relu'))\n",
    "# model.add(layers.MaxPooling1D(pool_size=2))\n",
    "# model.add(layers.Conv1D(filters=128, kernel_size=3, strides=1, padding='causal', activation='relu'))\n",
    "# model.add(layers.MaxPooling1D(pool_size=2))\n",
    "# model.add(layers.Conv1D(filters=256, kernel_size=3, strides=1, padding='causal', activation='relu'))\n",
    "# model.add(layers.MaxPooling1D(pool_size=2))\n",
    "# model.add(layers.Dropout(0.2))\n",
    "# model.add(layers.Flatten())\n",
    "# model.add(layers.Dense(256, activation='relu'))\n",
    "# model.add(layers.Dense(26, activation='softmax'))\n",
    "# accuracy: 0.86"
   ]
  },
  {
   "cell_type": "markdown",
   "id": "3f3d25d2",
   "metadata": {},
   "source": [
    "### Reduced CNN 4"
   ]
  },
  {
   "cell_type": "code",
   "execution_count": 24,
   "id": "999d57e6",
   "metadata": {},
   "outputs": [
    {
     "name": "stderr",
     "output_type": "stream",
     "text": [
      "2023-03-13 15:01:04.287938: E tensorflow/stream_executor/cuda/cuda_driver.cc:265] failed call to cuInit: CUDA_ERROR_NO_DEVICE: no CUDA-capable device is detected\n",
      "2023-03-13 15:01:04.288001: I tensorflow/stream_executor/cuda/cuda_diagnostics.cc:156] kernel driver does not appear to be running on this host (shan): /proc/driver/nvidia/version does not exist\n",
      "2023-03-13 15:01:04.289733: I tensorflow/core/platform/cpu_feature_guard.cc:193] This TensorFlow binary is optimized with oneAPI Deep Neural Network Library (oneDNN) to use the following CPU instructions in performance-critical operations:  AVX2 FMA\n",
      "To enable them in other operations, rebuild TensorFlow with the appropriate compiler flags.\n"
     ]
    }
   ],
   "source": [
    "model = models.Sequential()\n",
    "model.add(layers.Conv1D(filters=16, kernel_size=3, strides=1, padding='causal', input_shape=X_train.shape[1:3], activation='relu'))\n",
    "model.add(layers.MaxPooling1D(pool_size=2))\n",
    "model.add(layers.Conv1D(filters=32, kernel_size=3, strides=1, padding='causal', activation='relu'))\n",
    "model.add(layers.MaxPooling1D(pool_size=2))\n",
    "model.add(layers.Conv1D(filters=64, kernel_size=3, strides=1, padding='causal', activation='relu'))\n",
    "model.add(layers.MaxPooling1D(pool_size=2))\n",
    "model.add(layers.Dropout(0.2))\n",
    "model.add(layers.Flatten())\n",
    "model.add(layers.Dense(128, activation='relu'))\n",
    "model.add(layers.Dense(26, activation='softmax'))"
   ]
  },
  {
   "cell_type": "code",
   "execution_count": 25,
   "id": "90b9dba5",
   "metadata": {},
   "outputs": [],
   "source": [
    "model.compile(loss = 'categorical_crossentropy', optimizer='adam', metrics=['accuracy'])"
   ]
  },
  {
   "cell_type": "code",
   "execution_count": 26,
   "id": "db4bf013",
   "metadata": {},
   "outputs": [
    {
     "name": "stdout",
     "output_type": "stream",
     "text": [
      "Model: \"sequential\"\n",
      "_________________________________________________________________\n",
      " Layer (type)                Output Shape              Param #   \n",
      "=================================================================\n",
      " conv1d (Conv1D)             (None, 63, 16)            64        \n",
      "                                                                 \n",
      " max_pooling1d (MaxPooling1D  (None, 31, 16)           0         \n",
      " )                                                               \n",
      "                                                                 \n",
      " conv1d_1 (Conv1D)           (None, 31, 32)            1568      \n",
      "                                                                 \n",
      " max_pooling1d_1 (MaxPooling  (None, 15, 32)           0         \n",
      " 1D)                                                             \n",
      "                                                                 \n",
      " conv1d_2 (Conv1D)           (None, 15, 64)            6208      \n",
      "                                                                 \n",
      " max_pooling1d_2 (MaxPooling  (None, 7, 64)            0         \n",
      " 1D)                                                             \n",
      "                                                                 \n",
      " dropout (Dropout)           (None, 7, 64)             0         \n",
      "                                                                 \n",
      " flatten (Flatten)           (None, 448)               0         \n",
      "                                                                 \n",
      " dense (Dense)               (None, 128)               57472     \n",
      "                                                                 \n",
      " dense_1 (Dense)             (None, 26)                3354      \n",
      "                                                                 \n",
      "=================================================================\n",
      "Total params: 68,666\n",
      "Trainable params: 68,666\n",
      "Non-trainable params: 0\n",
      "_________________________________________________________________\n"
     ]
    }
   ],
   "source": [
    "model.summary()"
   ]
  },
  {
   "cell_type": "code",
   "execution_count": 27,
   "id": "ba2b7c38",
   "metadata": {},
   "outputs": [],
   "source": [
    "es = EarlyStopping(patience=1, restore_best_weights=True)"
   ]
  },
  {
   "cell_type": "code",
   "execution_count": 28,
   "id": "a56582a4",
   "metadata": {
    "scrolled": true
   },
   "outputs": [
    {
     "name": "stdout",
     "output_type": "stream",
     "text": [
      "Epoch 1/500\n",
      "3777/3777 [==============================] - 34s 9ms/step - loss: 0.3706 - accuracy: 0.8957 - val_loss: 0.1786 - val_accuracy: 0.9472\n",
      "Epoch 2/500\n",
      "3777/3777 [==============================] - 33s 9ms/step - loss: 0.1871 - accuracy: 0.9437 - val_loss: 0.1531 - val_accuracy: 0.9530\n",
      "Epoch 3/500\n",
      "3777/3777 [==============================] - 33s 9ms/step - loss: 0.1558 - accuracy: 0.9522 - val_loss: 0.1350 - val_accuracy: 0.9596\n",
      "Epoch 4/500\n",
      "3777/3777 [==============================] - 33s 9ms/step - loss: 0.1383 - accuracy: 0.9571 - val_loss: 0.1206 - val_accuracy: 0.9641\n",
      "Epoch 5/500\n",
      "3777/3777 [==============================] - 33s 9ms/step - loss: 0.1258 - accuracy: 0.9604 - val_loss: 0.1167 - val_accuracy: 0.9647\n",
      "Epoch 6/500\n",
      "3777/3777 [==============================] - 32s 9ms/step - loss: 0.1162 - accuracy: 0.9629 - val_loss: 0.1145 - val_accuracy: 0.9652\n",
      "Epoch 7/500\n",
      "3777/3777 [==============================] - 38s 10ms/step - loss: 0.1076 - accuracy: 0.9650 - val_loss: 0.1150 - val_accuracy: 0.9652\n",
      "CPU times: user 5min 36s, sys: 21 s, total: 5min 57s\n",
      "Wall time: 3min 55s\n"
     ]
    }
   ],
   "source": [
    "%%time\n",
    "history = model.fit(X_train, \n",
    "                    y_train,\n",
    "                    epochs=500, \n",
    "                    validation_split=0.3, \n",
    "                    callbacks=es)"
   ]
  },
  {
   "cell_type": "code",
   "execution_count": 29,
   "id": "f25e0463",
   "metadata": {},
   "outputs": [
    {
     "name": "stdout",
     "output_type": "stream",
     "text": [
      "1354/1354 [==============================] - 4s 3ms/step\n"
     ]
    },
    {
     "data": {
      "text/plain": [
       "array([[8.70202985e-06, 4.66001771e-09, 7.29418272e-15, ...,\n",
       "        2.65439216e-04, 1.59226278e-11, 1.67601932e-08],\n",
       "       [2.88581788e-07, 1.32489856e-06, 2.23861019e-09, ...,\n",
       "        8.39840959e-06, 2.13959140e-07, 1.78075403e-08],\n",
       "       [3.10832436e-11, 1.60171498e-06, 9.99209702e-01, ...,\n",
       "        1.08631326e-07, 3.59703906e-10, 2.85199331e-08],\n",
       "       ...,\n",
       "       [2.56409807e-11, 2.60703223e-14, 2.68890626e-14, ...,\n",
       "        4.28874401e-11, 1.53864380e-10, 7.04407285e-06],\n",
       "       [4.67954767e-17, 1.55927398e-12, 8.93672376e-12, ...,\n",
       "        1.54385359e-11, 4.39081271e-11, 1.80042960e-11],\n",
       "       [4.47274773e-10, 5.57508990e-08, 9.99995470e-01, ...,\n",
       "        2.54333685e-07, 8.26522965e-12, 1.34125822e-09]], dtype=float32)"
      ]
     },
     "metadata": {},
     "output_type": "display_data"
    },
    {
     "name": "stdout",
     "output_type": "stream",
     "text": [
      "CPU times: user 6.27 s, sys: 287 ms, total: 6.56 s\n",
      "Wall time: 32.5 s\n"
     ]
    }
   ],
   "source": [
    "%%time\n",
    "y_pred = model.predict(X_test)\n",
    "display(y_pred)"
   ]
  },
  {
   "cell_type": "code",
   "execution_count": 30,
   "id": "dd6a0ec8",
   "metadata": {},
   "outputs": [
    {
     "data": {
      "text/plain": [
       "array([[0, 0, 0, ..., 0, 0, 0],\n",
       "       [0, 0, 0, ..., 0, 0, 0],\n",
       "       [0, 0, 1, ..., 0, 0, 0],\n",
       "       ...,\n",
       "       [0, 0, 0, ..., 0, 0, 0],\n",
       "       [0, 0, 0, ..., 0, 0, 0],\n",
       "       [0, 0, 1, ..., 0, 0, 0]])"
      ]
     },
     "metadata": {},
     "output_type": "display_data"
    },
    {
     "data": {
      "text/plain": [
       "array([[0., 0., 0., ..., 0., 0., 0.],\n",
       "       [0., 0., 0., ..., 0., 0., 0.],\n",
       "       [0., 0., 1., ..., 0., 0., 0.],\n",
       "       ...,\n",
       "       [0., 0., 0., ..., 0., 0., 0.],\n",
       "       [0., 0., 0., ..., 0., 0., 0.],\n",
       "       [0., 0., 1., ..., 0., 0., 0.]], dtype=float32)"
      ]
     },
     "metadata": {},
     "output_type": "display_data"
    }
   ],
   "source": [
    "y_pred = np.array([[round(b) for b in a] for a in y_pred]) \n",
    "display(y_pred)\n",
    "display(y_test)"
   ]
  },
  {
   "cell_type": "code",
   "execution_count": 31,
   "id": "df159869",
   "metadata": {},
   "outputs": [
    {
     "data": {
      "text/plain": [
       "array([18,  4,  2, ...,  6, 21,  2])"
      ]
     },
     "execution_count": 31,
     "metadata": {},
     "output_type": "execute_result"
    }
   ],
   "source": [
    "y_pred = np.argmax(y_pred, axis=1)\n",
    "y_pred\n"
   ]
  },
  {
   "cell_type": "code",
   "execution_count": 32,
   "id": "977e32af",
   "metadata": {},
   "outputs": [
    {
     "data": {
      "text/plain": [
       "array([18,  4,  2, ...,  6, 21,  2])"
      ]
     },
     "execution_count": 32,
     "metadata": {},
     "output_type": "execute_result"
    }
   ],
   "source": [
    "y_test= np.argmax(y_test, axis=1)\n",
    "y_test\n"
   ]
  },
  {
   "cell_type": "code",
   "execution_count": 33,
   "id": "80bb901f",
   "metadata": {},
   "outputs": [
    {
     "data": {
      "text/plain": [
       "array([[0., 1., 0., ..., 0., 0., 0.],\n",
       "       [0., 0., 0., ..., 0., 0., 0.],\n",
       "       [0., 0., 1., ..., 0., 0., 0.],\n",
       "       ...,\n",
       "       [0., 0., 0., ..., 0., 0., 0.],\n",
       "       [0., 0., 0., ..., 0., 0., 0.],\n",
       "       [0., 0., 0., ..., 0., 0., 0.]], dtype=float32)"
      ]
     },
     "execution_count": 33,
     "metadata": {},
     "output_type": "execute_result"
    }
   ],
   "source": [
    "y_train"
   ]
  },
  {
   "cell_type": "code",
   "execution_count": 34,
   "id": "9c728c7f",
   "metadata": {},
   "outputs": [
    {
     "data": {
      "image/png": "[encoded data removed]",
      "text/plain": [
       "<Figure size 1000x800 with 2 Axes>"
      ]
     },
     "metadata": {},
     "output_type": "display_data"
    },
    {
     "name": "stdout",
     "output_type": "stream",
     "text": [
      "              precision    recall  f1-score   support\n",
      "\n",
      "           0       0.74      0.98      0.84      1764\n",
      "           1       0.97      0.98      0.98      1774\n",
      "           2       0.95      0.99      0.97      1681\n",
      "           3       1.00      0.97      0.99      1860\n",
      "           4       0.98      0.96      0.97      1810\n",
      "           5       1.00      0.97      0.98      1911\n",
      "           6       0.96      0.95      0.96      1629\n",
      "           7       0.96      0.97      0.96      1530\n",
      "           8       0.99      0.94      0.96      1740\n",
      "           9       0.98      0.96      0.97      1665\n",
      "          10       0.99      0.97      0.98      1875\n",
      "          11       0.99      0.98      0.99      1873\n",
      "          12       0.92      0.96      0.94      1365\n",
      "          13       0.98      0.89      0.93      1220\n",
      "          14       0.98      0.97      0.97      1706\n",
      "          15       0.96      0.98      0.97      1300\n",
      "          16       0.98      0.95      0.96      1390\n",
      "          17       0.98      0.96      0.97      1771\n",
      "          18       0.94      0.96      0.95      1627\n",
      "          19       0.96      0.95      0.95      1689\n",
      "          20       0.95      0.95      0.95      1347\n",
      "          21       0.99      0.97      0.98      1701\n",
      "          22       0.99      0.97      0.98      1715\n",
      "          23       0.97      0.95      0.96      1793\n",
      "          24       0.99      0.96      0.98      1735\n",
      "          25       0.99      0.95      0.97      1829\n",
      "\n",
      "    accuracy                           0.96     43300\n",
      "   macro avg       0.96      0.96      0.96     43300\n",
      "weighted avg       0.97      0.96      0.96     43300\n",
      "\n",
      "Accuracy: 0.9617782909930715\n"
     ]
    }
   ],
   "source": [
    "evaluate_model(y_test, y_pred)"
   ]
  },
  {
   "cell_type": "code",
   "execution_count": 35,
   "id": "7fcceb75",
   "metadata": {},
   "outputs": [
    {
     "name": "stderr",
     "output_type": "stream",
     "text": [
      "WARNING:absl:Found untraced functions such as _jit_compiled_convolution_op, _jit_compiled_convolution_op, _jit_compiled_convolution_op while saving (showing 3 of 3). These functions will not be directly callable after loading.\n"
     ]
    },
    {
     "name": "stdout",
     "output_type": "stream",
     "text": [
      "INFO:tensorflow:Assets written to: CNN-norm-chonkyboi-evaluated/assets\n"
     ]
    },
    {
     "name": "stderr",
     "output_type": "stream",
     "text": [
      "INFO:tensorflow:Assets written to: CNN-norm-chonkyboi-evaluated/assets\n"
     ]
    }
   ],
   "source": [
    "model.save(filepath='CNN-norm-chonkyboi-evaluated')"
   ]
  },
  {
   "cell_type": "code",
   "execution_count": null,
   "id": "a878938e",
   "metadata": {},
   "outputs": [],
   "source": []
  }
 ],
 "metadata": {
  "kernelspec": {
   "display_name": "Python 3 (ipykernel)",
   "language": "python",
   "name": "python3"
  },
  "language_info": {
   "codemirror_mode": {
    "name": "ipython",
    "version": 3
   },
   "file_extension": ".py",
   "mimetype": "text/x-python",
   "name": "python",
   "nbconvert_exporter": "python",
   "pygments_lexer": "ipython3",
   "version": "3.10.6"
  },
  "toc": {
   "base_numbering": 1,
   "nav_menu": {},
   "number_sections": true,
   "sideBar": true,
   "skip_h1_title": false,
   "title_cell": "Table of Contents",
   "title_sidebar": "Contents",
   "toc_cell": false,
   "toc_position": {},
   "toc_section_display": true,
   "toc_window_display": false
  }
 },
 "nbformat": 4,
 "nbformat_minor": 5
}
