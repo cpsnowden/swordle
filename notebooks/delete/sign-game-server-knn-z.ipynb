{
 "cells": [
  {
   "cell_type": "markdown",
   "id": "4bdb1a64",
   "metadata": {},
   "source": [
    "# Sign Game Server"
   ]
  },
  {
   "cell_type": "markdown",
   "id": "f90694f4",
   "metadata": {},
   "source": [
    "Game Plan:"
   ]
  },
  {
   "cell_type": "code",
   "execution_count": 1,
   "id": "613a1722",
   "metadata": {},
   "outputs": [],
   "source": [
    "# Imports\n",
    "import numpy as np\n",
    "import pandas as pd\n",
    "import matplotlib.pyplot as plt\n",
    "from sklearn.model_selection import train_test_split\n",
    "from sklearn.neighbors import KNeighborsClassifier\n",
    "from sklearn.model_selection import cross_validate\n",
    "from sklearn.preprocessing import LabelEncoder"
   ]
  },
  {
   "cell_type": "markdown",
   "id": "b1fa5920",
   "metadata": {
    "heading_collapsed": true
   },
   "source": [
    "## Later Code"
   ]
  },
  {
   "cell_type": "code",
   "execution_count": null,
   "id": "9cce4029",
   "metadata": {
    "hidden": true
   },
   "outputs": [],
   "source": [
    "# from tensorflow.keras.models import Sequential\n",
    "# from tensorflow.keras.layers import LSTM, Dense\n",
    "# from tensorflow.keras.callbacks import EarlyStopping\n",
    "\n",
    "\n",
    "# def initialize_model():\n",
    "#     model = Sequential()\n",
    "#     model.add(LSTM(units=, activation='tanh', return_sequence=True, inputshape=()))\n",
    "#     model.add(LSTM(units=, activation='tanh', return_sequences=True))\n",
    "#     model.add(LSTM(units=, activation='tanh', return_sequences=False))\n",
    "#     model.add(Dense(, activation='relu'))\n",
    "#     model.add(Dense(, activation='relu'))\n",
    "#     model.add(Dense(26, activation='softmax'))\n",
    "#     return model\n",
    "\n",
    "# def compile_model(model):\n",
    "#     model.compile(loss='categorical_crossentropy',\n",
    "#                   optimizer='adam',\n",
    "#                   metrics=['accuracy'])\n",
    "#     return model\n",
    "\n",
    "# def train_model(model: Model,\n",
    "#                 X: np.ndarray,\n",
    "#                 y: np.ndarray):\n",
    "#     es = EarlyStopping(monitor='val_loss',\n",
    "#                        patience=,\n",
    "#                        restore_best_weights=True,\n",
    "#                        verbose=0)\n",
    "    \n",
    "#     history = model.fit(X, y, epochs=1000, callbacks=[es], verbose=0)\n",
    "#     return model, history"
   ]
  },
  {
   "cell_type": "markdown",
   "id": "3e8360e0",
   "metadata": {},
   "source": [
    "## Dataset Cleaning"
   ]
  },
  {
   "cell_type": "code",
   "execution_count": 2,
   "id": "70fb64fa",
   "metadata": {},
   "outputs": [],
   "source": [
    "# Dataset\n",
    "df = pd.read_csv('../sample_sets/sample_training.csv')"
   ]
  },
  {
   "cell_type": "code",
   "execution_count": 3,
   "id": "e08859e1",
   "metadata": {},
   "outputs": [
    {
     "data": {
      "text/plain": [
       "(1033, 64)"
      ]
     },
     "execution_count": 3,
     "metadata": {},
     "output_type": "execute_result"
    }
   ],
   "source": [
    "df.shape"
   ]
  },
  {
   "cell_type": "code",
   "execution_count": 5,
   "id": "d3a2c4e0",
   "metadata": {},
   "outputs": [
    {
     "data": {
      "text/plain": [
       "Index(['class_type', 'wristX', 'wristY', 'wristZ', 'thumb_CmcX', 'thumb_CmcY',\n",
       "       'thumb_CmcZ', 'thumb_McpX', 'thumb_McpY', 'thumb_McpZ', 'thumb_IpX',\n",
       "       'thumb_IpY', 'thumb_IpZ', 'thumb_TipX', 'thumb_TipY', 'thumb_TipZ',\n",
       "       'index_McpX', 'index_McpY', 'index_McpZ', 'index_PipX', 'index_PipY',\n",
       "       'index_PipZ', 'index_DipX', 'index_DipY', 'index_DipZ', 'index_TipX',\n",
       "       'index_TipY', 'index_TipZ', 'middle_McpX', 'middle_McpY', 'middle_McpZ',\n",
       "       'middle_PipX', 'middle_PipY', 'middle_PipZ', 'middle_DipX',\n",
       "       'middle_DipY', 'middle_DipZ', 'middle_TipX', 'middle_TipY',\n",
       "       'middle_TipZ', 'ring_McpX', 'ring_McpY', 'ring_McpZ', 'ring_PipX',\n",
       "       'ring_PipY', 'ring_PipZ', 'ring_DipX', 'ring_DipY', 'ring_DipZ',\n",
       "       'ring_TipX', 'ring_TipY', 'ring_TipZ', 'pinky_McpX', 'pinky_McpY',\n",
       "       'pinky_McpZ', 'pinky_PipX', 'pinky_PipY', 'pinky_PipZ', 'pinky_DipX',\n",
       "       'pinky_DipY', 'pinky_DipZ', 'pinky_TipX', 'pinky_TipY', 'pinky_TipZ'],\n",
       "      dtype='object')"
      ]
     },
     "execution_count": 5,
     "metadata": {},
     "output_type": "execute_result"
    }
   ],
   "source": [
    "df.columns"
   ]
  },
  {
   "cell_type": "code",
   "execution_count": 6,
   "id": "742ccf7f",
   "metadata": {},
   "outputs": [],
   "source": [
    "X = df.drop(columns = ['class_type'])\n",
    "y = df['class_type']"
   ]
  },
  {
   "cell_type": "code",
   "execution_count": 7,
   "id": "9532d9d5",
   "metadata": {},
   "outputs": [
    {
     "data": {
      "text/plain": [
       "((1033, 63), (1033,))"
      ]
     },
     "execution_count": 7,
     "metadata": {},
     "output_type": "execute_result"
    }
   ],
   "source": [
    "X.shape, y.shape"
   ]
  },
  {
   "cell_type": "code",
   "execution_count": 8,
   "id": "04ac0963",
   "metadata": {},
   "outputs": [
    {
     "data": {
      "text/plain": [
       "M    42\n",
       "E    42\n",
       "A    42\n",
       "R    42\n",
       "L    42\n",
       "W    42\n",
       "V    42\n",
       "F    42\n",
       "B    42\n",
       "U    41\n",
       "T    41\n",
       "D    41\n",
       "K    41\n",
       "Y    41\n",
       "I    41\n",
       "Z    41\n",
       "N    41\n",
       "S    40\n",
       "O    39\n",
       "C    38\n",
       "H    38\n",
       "G    37\n",
       "X    35\n",
       "P    34\n",
       "Q    34\n",
       "J    32\n",
       "Name: class_type, dtype: int64"
      ]
     },
     "execution_count": 8,
     "metadata": {},
     "output_type": "execute_result"
    }
   ],
   "source": [
    "y.value_counts()"
   ]
  },
  {
   "cell_type": "markdown",
   "id": "4f92ea06",
   "metadata": {},
   "source": [
    "## Encoding"
   ]
  },
  {
   "cell_type": "code",
   "execution_count": 9,
   "id": "1d257191",
   "metadata": {},
   "outputs": [
    {
     "name": "stdout",
     "output_type": "stream",
     "text": [
      "LE has encoded letter classes into ['A' 'B' 'C' 'D' 'E' 'F' 'G' 'H' 'I' 'J' 'K' 'L' 'M' 'N' 'O' 'P' 'Q' 'R'\n",
      " 'S' 'T' 'U' 'V' 'W' 'X' 'Y' 'Z']\n"
     ]
    }
   ],
   "source": [
    "# Instantiate LabelEncoder\n",
    "label_encoder = LabelEncoder()\n",
    "\n",
    "# Fit to target\n",
    "label_encoder.fit(y)\n",
    "\n",
    "# Find encoded classes\n",
    "print(f\"LE has encoded letter classes into {label_encoder.classes_}\")"
   ]
  },
  {
   "cell_type": "code",
   "execution_count": 10,
   "id": "db8fe9b5",
   "metadata": {},
   "outputs": [],
   "source": [
    "# Transform targets\n",
    "y_encoded = label_encoder.transform(y)"
   ]
  },
  {
   "cell_type": "code",
   "execution_count": 11,
   "id": "4f650fbe",
   "metadata": {},
   "outputs": [
    {
     "data": {
      "text/plain": [
       "array([13, 13, 13, ...,  9,  9,  9])"
      ]
     },
     "execution_count": 11,
     "metadata": {},
     "output_type": "execute_result"
    }
   ],
   "source": [
    "y_encoded"
   ]
  },
  {
   "cell_type": "markdown",
   "id": "946143c5",
   "metadata": {},
   "source": [
    "## KNN Model"
   ]
  },
  {
   "cell_type": "code",
   "execution_count": 12,
   "id": "74c1254f",
   "metadata": {},
   "outputs": [
    {
     "data": {
      "text/html": [
       "<style>#sk-container-id-1 {color: black;background-color: white;}#sk-container-id-1 pre{padding: 0;}#sk-container-id-1 div.sk-toggleable {background-color: white;}#sk-container-id-1 label.sk-toggleable__label {cursor: pointer;display: block;width: 100%;margin-bottom: 0;padding: 0.3em;box-sizing: border-box;text-align: center;}#sk-container-id-1 label.sk-toggleable__label-arrow:before {content: \"▸\";float: left;margin-right: 0.25em;color: #696969;}#sk-container-id-1 label.sk-toggleable__label-arrow:hover:before {color: black;}#sk-container-id-1 div.sk-estimator:hover label.sk-toggleable__label-arrow:before {color: black;}#sk-container-id-1 div.sk-toggleable__content {max-height: 0;max-width: 0;overflow: hidden;text-align: left;background-color: #f0f8ff;}#sk-container-id-1 div.sk-toggleable__content pre {margin: 0.2em;color: black;border-radius: 0.25em;background-color: #f0f8ff;}#sk-container-id-1 input.sk-toggleable__control:checked~div.sk-toggleable__content {max-height: 200px;max-width: 100%;overflow: auto;}#sk-container-id-1 input.sk-toggleable__control:checked~label.sk-toggleable__label-arrow:before {content: \"▾\";}#sk-container-id-1 div.sk-estimator input.sk-toggleable__control:checked~label.sk-toggleable__label {background-color: #d4ebff;}#sk-container-id-1 div.sk-label input.sk-toggleable__control:checked~label.sk-toggleable__label {background-color: #d4ebff;}#sk-container-id-1 input.sk-hidden--visually {border: 0;clip: rect(1px 1px 1px 1px);clip: rect(1px, 1px, 1px, 1px);height: 1px;margin: -1px;overflow: hidden;padding: 0;position: absolute;width: 1px;}#sk-container-id-1 div.sk-estimator {font-family: monospace;background-color: #f0f8ff;border: 1px dotted black;border-radius: 0.25em;box-sizing: border-box;margin-bottom: 0.5em;}#sk-container-id-1 div.sk-estimator:hover {background-color: #d4ebff;}#sk-container-id-1 div.sk-parallel-item::after {content: \"\";width: 100%;border-bottom: 1px solid gray;flex-grow: 1;}#sk-container-id-1 div.sk-label:hover label.sk-toggleable__label {background-color: #d4ebff;}#sk-container-id-1 div.sk-serial::before {content: \"\";position: absolute;border-left: 1px solid gray;box-sizing: border-box;top: 0;bottom: 0;left: 50%;z-index: 0;}#sk-container-id-1 div.sk-serial {display: flex;flex-direction: column;align-items: center;background-color: white;padding-right: 0.2em;padding-left: 0.2em;position: relative;}#sk-container-id-1 div.sk-item {position: relative;z-index: 1;}#sk-container-id-1 div.sk-parallel {display: flex;align-items: stretch;justify-content: center;background-color: white;position: relative;}#sk-container-id-1 div.sk-item::before, #sk-container-id-1 div.sk-parallel-item::before {content: \"\";position: absolute;border-left: 1px solid gray;box-sizing: border-box;top: 0;bottom: 0;left: 50%;z-index: -1;}#sk-container-id-1 div.sk-parallel-item {display: flex;flex-direction: column;z-index: 1;position: relative;background-color: white;}#sk-container-id-1 div.sk-parallel-item:first-child::after {align-self: flex-end;width: 50%;}#sk-container-id-1 div.sk-parallel-item:last-child::after {align-self: flex-start;width: 50%;}#sk-container-id-1 div.sk-parallel-item:only-child::after {width: 0;}#sk-container-id-1 div.sk-dashed-wrapped {border: 1px dashed gray;margin: 0 0.4em 0.5em 0.4em;box-sizing: border-box;padding-bottom: 0.4em;background-color: white;}#sk-container-id-1 div.sk-label label {font-family: monospace;font-weight: bold;display: inline-block;line-height: 1.2em;}#sk-container-id-1 div.sk-label-container {text-align: center;}#sk-container-id-1 div.sk-container {/* jupyter's `normalize.less` sets `[hidden] { display: none; }` but bootstrap.min.css set `[hidden] { display: none !important; }` so we also need the `!important` here to be able to override the default hidden behavior on the sphinx rendered scikit-learn.org. See: https://github.com/scikit-learn/scikit-learn/issues/21755 */display: inline-block !important;position: relative;}#sk-container-id-1 div.sk-text-repr-fallback {display: none;}</style><div id=\"sk-container-id-1\" class=\"sk-top-container\"><div class=\"sk-text-repr-fallback\"><pre>KNeighborsClassifier(n_neighbors=3)</pre><b>In a Jupyter environment, please rerun this cell to show the HTML representation or trust the notebook. <br />On GitHub, the HTML representation is unable to render, please try loading this page with nbviewer.org.</b></div><div class=\"sk-container\" hidden><div class=\"sk-item\"><div class=\"sk-estimator sk-toggleable\"><input class=\"sk-toggleable__control sk-hidden--visually\" id=\"sk-estimator-id-1\" type=\"checkbox\" checked><label for=\"sk-estimator-id-1\" class=\"sk-toggleable__label sk-toggleable__label-arrow\">KNeighborsClassifier</label><div class=\"sk-toggleable__content\"><pre>KNeighborsClassifier(n_neighbors=3)</pre></div></div></div></div></div>"
      ],
      "text/plain": [
       "KNeighborsClassifier(n_neighbors=3)"
      ]
     },
     "execution_count": 12,
     "metadata": {},
     "output_type": "execute_result"
    }
   ],
   "source": [
    "# Instantiate the model\n",
    "knn_model = KNeighborsClassifier(n_neighbors = 3)\n",
    "knn_model.fit(X, y_encoded)"
   ]
  },
  {
   "cell_type": "code",
   "execution_count": 13,
   "id": "90b9dba5",
   "metadata": {},
   "outputs": [
    {
     "data": {
      "text/plain": [
       "0.6591857792786455"
      ]
     },
     "execution_count": 13,
     "metadata": {},
     "output_type": "execute_result"
    }
   ],
   "source": [
    "# Train the model on the scaled Training data\n",
    "cv_results = cross_validate(knn_model, X, y_encoded)\n",
    "\n",
    "base_knn_score = cv_results['test_score'].mean()\n",
    "\n",
    "base_knn_score"
   ]
  },
  {
   "cell_type": "markdown",
   "id": "57d11836",
   "metadata": {},
   "source": [
    "# Validation Set"
   ]
  },
  {
   "cell_type": "code",
   "execution_count": 18,
   "id": "3c8002a1",
   "metadata": {},
   "outputs": [],
   "source": [
    "df_val = pd.read_csv('../sample_sets/sample_validation.csv')"
   ]
  },
  {
   "cell_type": "code",
   "execution_count": 19,
   "id": "1d4d1aba",
   "metadata": {},
   "outputs": [],
   "source": [
    "X_val = df_val.drop(columns = ['class_type'])\n",
    "y_val = df_val['class_type']"
   ]
  },
  {
   "cell_type": "code",
   "execution_count": 20,
   "id": "279138a6",
   "metadata": {},
   "outputs": [],
   "source": [
    "y_val_encoded = label_encoder.transform(y_val)"
   ]
  },
  {
   "cell_type": "code",
   "execution_count": 21,
   "id": "de800d66",
   "metadata": {},
   "outputs": [
    {
     "data": {
      "text/plain": [
       "0.6617647058823529"
      ]
     },
     "execution_count": 21,
     "metadata": {},
     "output_type": "execute_result"
    }
   ],
   "source": [
    "knn_model.score(X_val, y_val_encoded)"
   ]
  }
 ],
 "metadata": {
  "kernelspec": {
   "display_name": "Python 3 (ipykernel)",
   "language": "python",
   "name": "python3"
  },
  "language_info": {
   "codemirror_mode": {
    "name": "ipython",
    "version": 3
   },
   "file_extension": ".py",
   "mimetype": "text/x-python",
   "name": "python",
   "nbconvert_exporter": "python",
   "pygments_lexer": "ipython3",
   "version": "3.10.6"
  },
  "toc": {
   "base_numbering": 1,
   "nav_menu": {},
   "number_sections": true,
   "sideBar": true,
   "skip_h1_title": false,
   "title_cell": "Table of Contents",
   "title_sidebar": "Contents",
   "toc_cell": false,
   "toc_position": {},
   "toc_section_display": true,
   "toc_window_display": false
  }
 },
 "nbformat": 4,
 "nbformat_minor": 5
}
