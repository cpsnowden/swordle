{
 "cells": [
  {
   "cell_type": "markdown",
   "id": "4bdb1a64",
   "metadata": {},
   "source": [
    "# Sign Game Server"
   ]
  },
  {
   "cell_type": "markdown",
   "id": "f90694f4",
   "metadata": {},
   "source": [
    "Game Plan:"
   ]
  },
  {
   "cell_type": "code",
   "execution_count": 1,
   "id": "613a1722",
   "metadata": {},
   "outputs": [],
   "source": [
    "# Imports\n",
    "import numpy as np\n",
    "import pandas as pd\n",
    "import matplotlib.pyplot as plt\n",
    "from tensorflow.keras import models\n",
    "from tensorflow.keras import Sequential, layers\n",
    "from sklearn.preprocessing import LabelEncoder\n",
    "from sklearn.model_selection import train_test_split\n",
    "from tensorflow.keras.utils import to_categorical\n",
    "from tensorflow.keras.callbacks import EarlyStopping\n",
    "import string"
   ]
  },
  {
   "cell_type": "code",
   "execution_count": 2,
   "id": "e4886fff",
   "metadata": {},
   "outputs": [
    {
     "name": "stderr",
     "output_type": "stream",
     "text": [
      "objc[55636]: Class CaptureDelegate is implemented in both /Users/calebgarfinkel/.pyenv/versions/3.10.6/envs/sign-game-server/lib/python3.10/site-packages/mediapipe/.dylibs/libopencv_videoio.3.4.16.dylib (0x284154860) and /Users/calebgarfinkel/.pyenv/versions/3.10.6/envs/sign-game-server/lib/python3.10/site-packages/cv2/cv2.abi3.so (0x2c5e625a0). One of the two will be used. Which one is undefined.\n",
      "objc[55636]: Class CVWindow is implemented in both /Users/calebgarfinkel/.pyenv/versions/3.10.6/envs/sign-game-server/lib/python3.10/site-packages/mediapipe/.dylibs/libopencv_highgui.3.4.16.dylib (0x282ac0a68) and /Users/calebgarfinkel/.pyenv/versions/3.10.6/envs/sign-game-server/lib/python3.10/site-packages/cv2/cv2.abi3.so (0x2c5e625f0). One of the two will be used. Which one is undefined.\n",
      "objc[55636]: Class CVView is implemented in both /Users/calebgarfinkel/.pyenv/versions/3.10.6/envs/sign-game-server/lib/python3.10/site-packages/mediapipe/.dylibs/libopencv_highgui.3.4.16.dylib (0x282ac0a90) and /Users/calebgarfinkel/.pyenv/versions/3.10.6/envs/sign-game-server/lib/python3.10/site-packages/cv2/cv2.abi3.so (0x2c5e62618). One of the two will be used. Which one is undefined.\n",
      "objc[55636]: Class CVSlider is implemented in both /Users/calebgarfinkel/.pyenv/versions/3.10.6/envs/sign-game-server/lib/python3.10/site-packages/mediapipe/.dylibs/libopencv_highgui.3.4.16.dylib (0x282ac0ab8) and /Users/calebgarfinkel/.pyenv/versions/3.10.6/envs/sign-game-server/lib/python3.10/site-packages/cv2/cv2.abi3.so (0x2c5e62640). One of the two will be used. Which one is undefined.\n"
     ]
    }
   ],
   "source": [
    "from sign_game.ml.landmarks import Landmarks"
   ]
  },
  {
   "cell_type": "code",
   "execution_count": 3,
   "id": "257b051f",
   "metadata": {},
   "outputs": [
    {
     "name": "stderr",
     "output_type": "stream",
     "text": [
      "INFO: Created TensorFlow Lite XNNPACK delegate for CPU.\n"
     ]
    }
   ],
   "source": [
    "landmark = Landmarks()"
   ]
  },
  {
   "cell_type": "code",
   "execution_count": 10,
   "id": "17df61f2",
   "metadata": {
    "collapsed": true
   },
   "outputs": [],
   "source": [
    "# !pip list"
   ]
  },
  {
   "cell_type": "markdown",
   "id": "bf1a4ebd",
   "metadata": {},
   "source": [
    "protobuf 3.11.0"
   ]
  },
  {
   "cell_type": "markdown",
   "id": "3e8360e0",
   "metadata": {},
   "source": [
    "## Dataset Preprocessing"
   ]
  },
  {
   "cell_type": "code",
   "execution_count": 4,
   "id": "70fb64fa",
   "metadata": {},
   "outputs": [],
   "source": [
    "# Dataset\n",
    "df1 = pd.read_csv('../raw_data/hand-landmarks.csv')"
   ]
  },
  {
   "cell_type": "code",
   "execution_count": 5,
   "id": "16decf9a",
   "metadata": {},
   "outputs": [
    {
     "data": {
      "text/plain": [
       "Index(['Unnamed: 0', 'WRIST_x', 'WRIST_y', 'WRIST_z', 'THUMB_CMC_x',\n",
       "       'THUMB_CMC_y', 'THUMB_CMC_z', 'THUMB_MCP_x', 'THUMB_MCP_y',\n",
       "       'THUMB_MCP_z', 'THUMB_IP_x', 'THUMB_IP_y', 'THUMB_IP_z', 'THUMB_TIP_x',\n",
       "       'THUMB_TIP_y', 'THUMB_TIP_z', 'INDEX_FINGER_MCP_x',\n",
       "       'INDEX_FINGER_MCP_y', 'INDEX_FINGER_MCP_z', 'INDEX_FINGER_PIP_x',\n",
       "       'INDEX_FINGER_PIP_y', 'INDEX_FINGER_PIP_z', 'INDEX_FINGER_DIP_x',\n",
       "       'INDEX_FINGER_DIP_y', 'INDEX_FINGER_DIP_z', 'INDEX_FINGER_TIP_x',\n",
       "       'INDEX_FINGER_TIP_y', 'INDEX_FINGER_TIP_z', 'MIDDLE_FINGER_MCP_x',\n",
       "       'MIDDLE_FINGER_MCP_y', 'MIDDLE_FINGER_MCP_z', 'MIDDLE_FINGER_PIP_x',\n",
       "       'MIDDLE_FINGER_PIP_y', 'MIDDLE_FINGER_PIP_z', 'MIDDLE_FINGER_DIP_x',\n",
       "       'MIDDLE_FINGER_DIP_y', 'MIDDLE_FINGER_DIP_z', 'MIDDLE_FINGER_TIP_x',\n",
       "       'MIDDLE_FINGER_TIP_y', 'MIDDLE_FINGER_TIP_z', 'RING_FINGER_MCP_x',\n",
       "       'RING_FINGER_MCP_y', 'RING_FINGER_MCP_z', 'RING_FINGER_PIP_x',\n",
       "       'RING_FINGER_PIP_y', 'RING_FINGER_PIP_z', 'RING_FINGER_DIP_x',\n",
       "       'RING_FINGER_DIP_y', 'RING_FINGER_DIP_z', 'RING_FINGER_TIP_x',\n",
       "       'RING_FINGER_TIP_y', 'RING_FINGER_TIP_z', 'PINKY_MCP_x', 'PINKY_MCP_y',\n",
       "       'PINKY_MCP_z', 'PINKY_PIP_x', 'PINKY_PIP_y', 'PINKY_PIP_z',\n",
       "       'PINKY_DIP_x', 'PINKY_DIP_y', 'PINKY_DIP_z', 'PINKY_TIP_x',\n",
       "       'PINKY_TIP_y', 'PINKY_TIP_z', 'TARGET'],\n",
       "      dtype='object')"
      ]
     },
     "execution_count": 5,
     "metadata": {},
     "output_type": "execute_result"
    }
   ],
   "source": [
    "df1.columns"
   ]
  },
  {
   "cell_type": "code",
   "execution_count": 6,
   "id": "7097a18b",
   "metadata": {},
   "outputs": [
    {
     "data": {
      "text/plain": [
       "Index(['WRIST_x', 'WRIST_y', 'WRIST_z', 'THUMB_CMC_x', 'THUMB_CMC_y',\n",
       "       'THUMB_CMC_z', 'THUMB_MCP_x', 'THUMB_MCP_y', 'THUMB_MCP_z',\n",
       "       'THUMB_IP_x', 'THUMB_IP_y', 'THUMB_IP_z', 'THUMB_TIP_x', 'THUMB_TIP_y',\n",
       "       'THUMB_TIP_z', 'INDEX_FINGER_MCP_x', 'INDEX_FINGER_MCP_y',\n",
       "       'INDEX_FINGER_MCP_z', 'INDEX_FINGER_PIP_x', 'INDEX_FINGER_PIP_y',\n",
       "       'INDEX_FINGER_PIP_z', 'INDEX_FINGER_DIP_x', 'INDEX_FINGER_DIP_y',\n",
       "       'INDEX_FINGER_DIP_z', 'INDEX_FINGER_TIP_x', 'INDEX_FINGER_TIP_y',\n",
       "       'INDEX_FINGER_TIP_z', 'MIDDLE_FINGER_MCP_x', 'MIDDLE_FINGER_MCP_y',\n",
       "       'MIDDLE_FINGER_MCP_z', 'MIDDLE_FINGER_PIP_x', 'MIDDLE_FINGER_PIP_y',\n",
       "       'MIDDLE_FINGER_PIP_z', 'MIDDLE_FINGER_DIP_x', 'MIDDLE_FINGER_DIP_y',\n",
       "       'MIDDLE_FINGER_DIP_z', 'MIDDLE_FINGER_TIP_x', 'MIDDLE_FINGER_TIP_y',\n",
       "       'MIDDLE_FINGER_TIP_z', 'RING_FINGER_MCP_x', 'RING_FINGER_MCP_y',\n",
       "       'RING_FINGER_MCP_z', 'RING_FINGER_PIP_x', 'RING_FINGER_PIP_y',\n",
       "       'RING_FINGER_PIP_z', 'RING_FINGER_DIP_x', 'RING_FINGER_DIP_y',\n",
       "       'RING_FINGER_DIP_z', 'RING_FINGER_TIP_x', 'RING_FINGER_TIP_y',\n",
       "       'RING_FINGER_TIP_z', 'PINKY_MCP_x', 'PINKY_MCP_y', 'PINKY_MCP_z',\n",
       "       'PINKY_PIP_x', 'PINKY_PIP_y', 'PINKY_PIP_z', 'PINKY_DIP_x',\n",
       "       'PINKY_DIP_y', 'PINKY_DIP_z', 'PINKY_TIP_x', 'PINKY_TIP_y',\n",
       "       'PINKY_TIP_z'],\n",
       "      dtype='object')"
      ]
     },
     "execution_count": 6,
     "metadata": {},
     "output_type": "execute_result"
    }
   ],
   "source": [
    "X1 = df1.drop(columns=df1.columns[[0, -1]], axis=1)\n",
    "X1.columns"
   ]
  },
  {
   "cell_type": "code",
   "execution_count": 7,
   "id": "7de92415",
   "metadata": {},
   "outputs": [],
   "source": [
    "df2 = pd.read_csv('../sample_sets/sample_training.csv')"
   ]
  },
  {
   "cell_type": "code",
   "execution_count": 8,
   "id": "69237240",
   "metadata": {},
   "outputs": [
    {
     "data": {
      "text/plain": [
       "Index(['class_type', 'wristX', 'wristY', 'wristZ', 'thumb_CmcX', 'thumb_CmcY',\n",
       "       'thumb_CmcZ', 'thumb_McpX', 'thumb_McpY', 'thumb_McpZ', 'thumb_IpX',\n",
       "       'thumb_IpY', 'thumb_IpZ', 'thumb_TipX', 'thumb_TipY', 'thumb_TipZ',\n",
       "       'index_McpX', 'index_McpY', 'index_McpZ', 'index_PipX', 'index_PipY',\n",
       "       'index_PipZ', 'index_DipX', 'index_DipY', 'index_DipZ', 'index_TipX',\n",
       "       'index_TipY', 'index_TipZ', 'middle_McpX', 'middle_McpY', 'middle_McpZ',\n",
       "       'middle_PipX', 'middle_PipY', 'middle_PipZ', 'middle_DipX',\n",
       "       'middle_DipY', 'middle_DipZ', 'middle_TipX', 'middle_TipY',\n",
       "       'middle_TipZ', 'ring_McpX', 'ring_McpY', 'ring_McpZ', 'ring_PipX',\n",
       "       'ring_PipY', 'ring_PipZ', 'ring_DipX', 'ring_DipY', 'ring_DipZ',\n",
       "       'ring_TipX', 'ring_TipY', 'ring_TipZ', 'pinky_McpX', 'pinky_McpY',\n",
       "       'pinky_McpZ', 'pinky_PipX', 'pinky_PipY', 'pinky_PipZ', 'pinky_DipX',\n",
       "       'pinky_DipY', 'pinky_DipZ', 'pinky_TipX', 'pinky_TipY', 'pinky_TipZ'],\n",
       "      dtype='object')"
      ]
     },
     "execution_count": 8,
     "metadata": {},
     "output_type": "execute_result"
    }
   ],
   "source": [
    "df2.columns"
   ]
  },
  {
   "cell_type": "code",
   "execution_count": 9,
   "id": "c8488a90",
   "metadata": {},
   "outputs": [
    {
     "data": {
      "text/plain": [
       "Index(['WRIST_x', 'WRIST_y', 'WRIST_z', 'THUMB_CMC_x', 'THUMB_CMC_y',\n",
       "       'THUMB_CMC_z', 'THUMB_MCP_x', 'THUMB_MCP_y', 'THUMB_MCP_z',\n",
       "       'THUMB_IP_x', 'THUMB_IP_y', 'THUMB_IP_z', 'THUMB_TIP_x', 'THUMB_TIP_y',\n",
       "       'THUMB_TIP_z', 'INDEX_FINGER_MCP_x', 'INDEX_FINGER_MCP_y',\n",
       "       'INDEX_FINGER_MCP_z', 'INDEX_FINGER_PIP_x', 'INDEX_FINGER_PIP_y',\n",
       "       'INDEX_FINGER_PIP_z', 'INDEX_FINGER_DIP_x', 'INDEX_FINGER_DIP_y',\n",
       "       'INDEX_FINGER_DIP_z', 'INDEX_FINGER_TIP_x', 'INDEX_FINGER_TIP_y',\n",
       "       'INDEX_FINGER_TIP_z', 'MIDDLE_FINGER_MCP_x', 'MIDDLE_FINGER_MCP_y',\n",
       "       'MIDDLE_FINGER_MCP_z', 'MIDDLE_FINGER_PIP_x', 'MIDDLE_FINGER_PIP_y',\n",
       "       'MIDDLE_FINGER_PIP_z', 'MIDDLE_FINGER_DIP_x', 'MIDDLE_FINGER_DIP_y',\n",
       "       'MIDDLE_FINGER_DIP_z', 'MIDDLE_FINGER_TIP_x', 'MIDDLE_FINGER_TIP_y',\n",
       "       'MIDDLE_FINGER_TIP_z', 'RING_FINGER_MCP_x', 'RING_FINGER_MCP_y',\n",
       "       'RING_FINGER_MCP_z', 'RING_FINGER_PIP_x', 'RING_FINGER_PIP_y',\n",
       "       'RING_FINGER_PIP_z', 'RING_FINGER_DIP_x', 'RING_FINGER_DIP_y',\n",
       "       'RING_FINGER_DIP_z', 'RING_FINGER_TIP_x', 'RING_FINGER_TIP_y',\n",
       "       'RING_FINGER_TIP_z', 'PINKY_MCP_x', 'PINKY_MCP_y', 'PINKY_MCP_z',\n",
       "       'PINKY_PIP_x', 'PINKY_PIP_y', 'PINKY_PIP_z', 'PINKY_DIP_x',\n",
       "       'PINKY_DIP_y', 'PINKY_DIP_z', 'PINKY_TIP_x', 'PINKY_TIP_y',\n",
       "       'PINKY_TIP_z'],\n",
       "      dtype='object')"
      ]
     },
     "execution_count": 9,
     "metadata": {},
     "output_type": "execute_result"
    }
   ],
   "source": [
    "X2 = df2.drop(columns=df2.columns[0], axis=1)\n",
    "X2.columns=X1.columns\n",
    "X2.columns"
   ]
  },
  {
   "cell_type": "code",
   "execution_count": 10,
   "id": "74302f18",
   "metadata": {},
   "outputs": [
    {
     "name": "stderr",
     "output_type": "stream",
     "text": [
      "/var/folders/tk/8tg4bh0j0fx3cbdk4nrv8rfw0000gn/T/ipykernel_55636/2572424810.py:1: FutureWarning: The frame.append method is deprecated and will be removed from pandas in a future version. Use pandas.concat instead.\n",
      "  X = X1.append(X2, ignore_index=True)\n"
     ]
    },
    {
     "data": {
      "text/plain": [
       "(2848, 63)"
      ]
     },
     "execution_count": 10,
     "metadata": {},
     "output_type": "execute_result"
    }
   ],
   "source": [
    "X = X1.append(X2, ignore_index=True)\n",
    "X.shape"
   ]
  },
  {
   "cell_type": "code",
   "execution_count": 11,
   "id": "2d583035",
   "metadata": {},
   "outputs": [
    {
     "name": "stderr",
     "output_type": "stream",
     "text": [
      "/var/folders/tk/8tg4bh0j0fx3cbdk4nrv8rfw0000gn/T/ipykernel_55636/3843065781.py:3: FutureWarning: The series.append method is deprecated and will be removed from pandas in a future version. Use pandas.concat instead.\n",
      "  y=y1.append(y2, ignore_index=True)\n"
     ]
    },
    {
     "data": {
      "text/plain": [
       "0       A\n",
       "1       A\n",
       "2       A\n",
       "3       A\n",
       "4       A\n",
       "       ..\n",
       "2843    J\n",
       "2844    J\n",
       "2845    J\n",
       "2846    J\n",
       "2847    J\n",
       "Length: 2848, dtype: object"
      ]
     },
     "execution_count": 11,
     "metadata": {},
     "output_type": "execute_result"
    }
   ],
   "source": [
    "y1=df1['TARGET']\n",
    "y2=df2['class_type']\n",
    "y=y1.append(y2, ignore_index=True)\n",
    "y"
   ]
  },
  {
   "cell_type": "code",
   "execution_count": 12,
   "id": "25d78695",
   "metadata": {},
   "outputs": [
    {
     "data": {
      "text/plain": [
       "A    112\n",
       "L    112\n",
       "W    112\n",
       "E    112\n",
       "F    112\n",
       "V    112\n",
       "R    112\n",
       "B    112\n",
       "M    112\n",
       "Y    111\n",
       "U    111\n",
       "N    111\n",
       "K    111\n",
       "I    111\n",
       "D    111\n",
       "Z    111\n",
       "S    110\n",
       "O    109\n",
       "H    108\n",
       "C    108\n",
       "G    107\n",
       "T    106\n",
       "X    105\n",
       "P    104\n",
       "Q    104\n",
       "J    102\n",
       "dtype: int64"
      ]
     },
     "execution_count": 12,
     "metadata": {},
     "output_type": "execute_result"
    }
   ],
   "source": [
    "y.value_counts()"
   ]
  },
  {
   "cell_type": "code",
   "execution_count": 13,
   "id": "ccd7ab34",
   "metadata": {},
   "outputs": [],
   "source": [
    "# Encoding letters to numerical, A-Z = 0-25\n",
    "y = pd.Categorical(y)"
   ]
  },
  {
   "cell_type": "code",
   "execution_count": 14,
   "id": "7f9a0e97",
   "metadata": {},
   "outputs": [
    {
     "data": {
      "text/plain": [
       "CategoricalDtype(categories=['A', 'B', 'C', 'D', 'E', 'F', 'G', 'H', 'I', 'J', 'K', 'L',\n",
       "                  'M', 'N', 'O', 'P', 'Q', 'R', 'S', 'T', 'U', 'V', 'W', 'X',\n",
       "                  'Y', 'Z'],\n",
       ", ordered=False)"
      ]
     },
     "execution_count": 14,
     "metadata": {},
     "output_type": "execute_result"
    }
   ],
   "source": [
    "y.dtype"
   ]
  },
  {
   "cell_type": "code",
   "execution_count": 15,
   "id": "f71b92cf",
   "metadata": {},
   "outputs": [
    {
     "data": {
      "text/plain": [
       "['A',\n",
       " 'B',\n",
       " 'C',\n",
       " 'D',\n",
       " 'E',\n",
       " 'F',\n",
       " 'G',\n",
       " 'H',\n",
       " 'I',\n",
       " 'J',\n",
       " 'K',\n",
       " 'L',\n",
       " 'M',\n",
       " 'N',\n",
       " 'O',\n",
       " 'P',\n",
       " 'Q',\n",
       " 'R',\n",
       " 'S',\n",
       " 'T',\n",
       " 'U',\n",
       " 'V',\n",
       " 'W',\n",
       " 'X',\n",
       " 'Y',\n",
       " 'Z']"
      ]
     },
     "execution_count": 15,
     "metadata": {},
     "output_type": "execute_result"
    }
   ],
   "source": [
    "cat_list = list(y.categories)\n",
    "cat_list"
   ]
  },
  {
   "cell_type": "code",
   "execution_count": 16,
   "id": "742ccf7f",
   "metadata": {},
   "outputs": [
    {
     "data": {
      "text/plain": [
       "2848"
      ]
     },
     "metadata": {},
     "output_type": "display_data"
    },
    {
     "data": {
      "text/plain": [
       "array([0, 0, 0, ..., 9, 9, 9], dtype=int8)"
      ]
     },
     "execution_count": 16,
     "metadata": {},
     "output_type": "execute_result"
    }
   ],
   "source": [
    "y = y.codes\n",
    "display(len(y))\n",
    "y"
   ]
  },
  {
   "cell_type": "code",
   "execution_count": 17,
   "id": "5cf3359f",
   "metadata": {},
   "outputs": [],
   "source": [
    "X_train, X_test, y_train, y_test = train_test_split(X, y, test_size = 0.2, random_state=42)"
   ]
  },
  {
   "cell_type": "code",
   "execution_count": 18,
   "id": "9532d9d5",
   "metadata": {},
   "outputs": [
    {
     "data": {
      "text/plain": [
       "((2278, 63), (2278,), (570, 63), (570,))"
      ]
     },
     "execution_count": 18,
     "metadata": {},
     "output_type": "execute_result"
    }
   ],
   "source": [
    "X_train.shape, y_train.shape, X_test.shape, y_test.shape"
   ]
  },
  {
   "cell_type": "code",
   "execution_count": 19,
   "id": "4c950fd9",
   "metadata": {},
   "outputs": [
    {
     "name": "stdout",
     "output_type": "stream",
     "text": [
      "26\n"
     ]
    }
   ],
   "source": [
    "classes = len(cat_list)\n",
    "print(classes)"
   ]
  },
  {
   "cell_type": "code",
   "execution_count": 20,
   "id": "e5e0ec70",
   "metadata": {},
   "outputs": [],
   "source": [
    "# y_train = to_categorical(y_train, num_classes=classes)"
   ]
  },
  {
   "cell_type": "code",
   "execution_count": 21,
   "id": "7be218c8",
   "metadata": {},
   "outputs": [],
   "source": [
    "# y_test = to_categorical(y_test, num_classes=classes)"
   ]
  },
  {
   "cell_type": "code",
   "execution_count": 22,
   "id": "4cc17e15",
   "metadata": {},
   "outputs": [
    {
     "name": "stdout",
     "output_type": "stream",
     "text": [
      "(2278, 63, 1) (570, 63, 1)\n"
     ]
    }
   ],
   "source": [
    "X_train = np.reshape(np.array(X_train), (X_train.shape[0], X_train.shape[1], 1))\n",
    "X_test = np.reshape(np.array(X_test), (X_test.shape[0], X_test.shape[1], 1))\n",
    "print(X_train.shape, X_test.shape)"
   ]
  },
  {
   "cell_type": "markdown",
   "id": "946143c5",
   "metadata": {},
   "source": [
    "## CNN Model"
   ]
  },
  {
   "cell_type": "markdown",
   "id": "af8da51d",
   "metadata": {
    "heading_collapsed": true
   },
   "source": [
    "### Original CNN"
   ]
  },
  {
   "cell_type": "code",
   "execution_count": 23,
   "id": "74c1254f",
   "metadata": {
    "hidden": true
   },
   "outputs": [],
   "source": [
    "# Architecture\n",
    "# model = models.Sequential()\n",
    "# model.add(layers.Conv1D(filters=512, kernel_size=7, strides=1, padding='causal', input_shape=X_train.shape[1:3], activation='relu'))\n",
    "# model.add(layers.Conv1D(filters=512, kernel_size=7, strides=1, padding='causal', activation='relu'))\n",
    "# model.add(layers.MaxPooling1D(pool_size=2))\n",
    "# model.add(layers.Conv1D(filters=256, kernel_size=5, strides=1, padding='causal', activation='relu'))\n",
    "# model.add(layers.Conv1D(filters=256, kernel_size=5, strides=1, padding='causal', activation='relu'))\n",
    "# model.add(layers.MaxPooling1D(pool_size=2))\n",
    "# model.add(layers.Conv1D(filters=256, kernel_size=3, strides=1, padding='causal', activation='relu'))\n",
    "# model.add(layers.Conv1D(filters=256, kernel_size=3, strides=1, padding='causal', activation='relu'))\n",
    "# model.add(layers.MaxPooling1D(pool_size=2))\n",
    "# model.add(layers.Dropout(0.2))\n",
    "# model.add(layers.Flatten())\n",
    "# model.add(layers.Dense(256, activation='relu'))\n",
    "# model.add(layers.Dense(26, activation='softmax')) \n",
    "#accuracy: 0.89"
   ]
  },
  {
   "cell_type": "markdown",
   "id": "927c0abd",
   "metadata": {
    "heading_collapsed": true
   },
   "source": [
    "### Reduced CNN 1"
   ]
  },
  {
   "cell_type": "code",
   "execution_count": 24,
   "id": "566c941d",
   "metadata": {
    "hidden": true
   },
   "outputs": [],
   "source": [
    "# model = models.Sequential()\n",
    "# model.add(layers.Conv1D(filters=64, kernel_size=3, strides=1, padding='causal', input_shape=X_train.shape[1:3], activation='relu'))\n",
    "# model.add(layers.MaxPooling1D(pool_size=2))\n",
    "# model.add(layers.Conv1D(filters=64, kernel_size=3, strides=1, padding='causal', activation='relu'))\n",
    "# model.add(layers.MaxPooling1D(pool_size=2))\n",
    "# model.add(layers.Conv1D(filters=64, kernel_size=3, strides=1, padding='causal', activation='relu'))\n",
    "# model.add(layers.MaxPooling1D(pool_size=2))\n",
    "# model.add(layers.Dropout(0.2))\n",
    "# model.add(layers.Flatten())\n",
    "# model.add(layers.Dense(256, activation='relu'))\n",
    "# model.add(layers.Dense(26, activation='softmax'))\n",
    "# accuracy: 0.71"
   ]
  },
  {
   "cell_type": "markdown",
   "id": "2b0d4a25",
   "metadata": {
    "heading_collapsed": true
   },
   "source": [
    "### Reduced CNN 2"
   ]
  },
  {
   "cell_type": "code",
   "execution_count": null,
   "id": "1f3e95bf",
   "metadata": {
    "hidden": true
   },
   "outputs": [],
   "source": [
    "# model = models.Sequential()\n",
    "# model.add(layers.Conv1D(filters=32, kernel_size=3, strides=1, padding='causal', input_shape=X_train.shape[1:3], activation='relu'))\n",
    "# model.add(layers.MaxPooling1D(pool_size=2))\n",
    "# model.add(layers.Conv1D(filters=64, kernel_size=3, strides=1, padding='causal', activation='relu'))\n",
    "# model.add(layers.MaxPooling1D(pool_size=2))\n",
    "# model.add(layers.Conv1D(filters=128, kernel_size=3, strides=1, padding='causal', activation='relu'))\n",
    "# model.add(layers.MaxPooling1D(pool_size=2))\n",
    "# model.add(layers.Dropout(0.2))\n",
    "# model.add(layers.Flatten())\n",
    "# model.add(layers.Dense(256, activation='relu'))\n",
    "# model.add(layers.Dense(26, activation='softmax'))\n",
    "# accuracy: 0.81"
   ]
  },
  {
   "cell_type": "markdown",
   "id": "f708177a",
   "metadata": {
    "heading_collapsed": true
   },
   "source": [
    "### Reduced CNN 3"
   ]
  },
  {
   "cell_type": "code",
   "execution_count": 42,
   "id": "349677b3",
   "metadata": {
    "hidden": true
   },
   "outputs": [],
   "source": [
    "model = models.Sequential()\n",
    "model.add(layers.Conv1D(filters=64, kernel_size=3, strides=1, padding='causal', input_shape=X_train.shape[1:3], activation='relu'))\n",
    "model.add(layers.MaxPooling1D(pool_size=2))\n",
    "model.add(layers.Conv1D(filters=128, kernel_size=3, strides=1, padding='causal', activation='relu'))\n",
    "model.add(layers.MaxPooling1D(pool_size=2))\n",
    "model.add(layers.Conv1D(filters=256, kernel_size=3, strides=1, padding='causal', activation='relu'))\n",
    "model.add(layers.MaxPooling1D(pool_size=2))\n",
    "model.add(layers.Dropout(0.2))\n",
    "model.add(layers.Flatten())\n",
    "model.add(layers.Dense(256, activation='relu'))\n",
    "model.add(layers.Dense(26, activation='softmax'))\n",
    "# accuracy: 0.86"
   ]
  },
  {
   "cell_type": "markdown",
   "id": "3f3d25d2",
   "metadata": {},
   "source": [
    "### Reduced CNN 4"
   ]
  },
  {
   "cell_type": "code",
   "execution_count": 25,
   "id": "999d57e6",
   "metadata": {},
   "outputs": [],
   "source": [
    "model = models.Sequential()\n",
    "model.add(layers.Conv1D(filters=16, kernel_size=3, strides=1, padding='causal', input_shape=X_train.shape[1:3], activation='relu'))\n",
    "model.add(layers.MaxPooling1D(pool_size=2))\n",
    "model.add(layers.Conv1D(filters=32, kernel_size=3, strides=1, padding='causal', activation='relu'))\n",
    "model.add(layers.MaxPooling1D(pool_size=2))\n",
    "model.add(layers.Conv1D(filters=64, kernel_size=3, strides=1, padding='causal', activation='relu'))\n",
    "model.add(layers.MaxPooling1D(pool_size=2))\n",
    "model.add(layers.Dropout(0.2))\n",
    "model.add(layers.Flatten())\n",
    "model.add(layers.Dense(128, activation='relu'))\n",
    "model.add(layers.Dense(26, activation='softmax'))"
   ]
  },
  {
   "cell_type": "code",
   "execution_count": 26,
   "id": "90b9dba5",
   "metadata": {},
   "outputs": [],
   "source": [
    "model.compile(loss = 'sparse_categorical_crossentropy', optimizer='adam', metrics=['accuracy'])"
   ]
  },
  {
   "cell_type": "code",
   "execution_count": 27,
   "id": "db4bf013",
   "metadata": {},
   "outputs": [
    {
     "name": "stdout",
     "output_type": "stream",
     "text": [
      "Model: \"sequential\"\n",
      "_________________________________________________________________\n",
      " Layer (type)                Output Shape              Param #   \n",
      "=================================================================\n",
      " conv1d (Conv1D)             (None, 63, 16)            64        \n",
      "                                                                 \n",
      " max_pooling1d (MaxPooling1D  (None, 31, 16)           0         \n",
      " )                                                               \n",
      "                                                                 \n",
      " conv1d_1 (Conv1D)           (None, 31, 32)            1568      \n",
      "                                                                 \n",
      " max_pooling1d_1 (MaxPooling  (None, 15, 32)           0         \n",
      " 1D)                                                             \n",
      "                                                                 \n",
      " conv1d_2 (Conv1D)           (None, 15, 64)            6208      \n",
      "                                                                 \n",
      " max_pooling1d_2 (MaxPooling  (None, 7, 64)            0         \n",
      " 1D)                                                             \n",
      "                                                                 \n",
      " dropout (Dropout)           (None, 7, 64)             0         \n",
      "                                                                 \n",
      " flatten (Flatten)           (None, 448)               0         \n",
      "                                                                 \n",
      " dense (Dense)               (None, 128)               57472     \n",
      "                                                                 \n",
      " dense_1 (Dense)             (None, 26)                3354      \n",
      "                                                                 \n",
      "=================================================================\n",
      "Total params: 68,666\n",
      "Trainable params: 68,666\n",
      "Non-trainable params: 0\n",
      "_________________________________________________________________\n"
     ]
    }
   ],
   "source": [
    "model.summary()"
   ]
  },
  {
   "cell_type": "code",
   "execution_count": 28,
   "id": "ba2b7c38",
   "metadata": {},
   "outputs": [],
   "source": [
    "es = EarlyStopping(patience=10, restore_best_weights=True)"
   ]
  },
  {
   "cell_type": "code",
   "execution_count": 29,
   "id": "a56582a4",
   "metadata": {},
   "outputs": [
    {
     "name": "stdout",
     "output_type": "stream",
     "text": [
      "Epoch 1/500\n"
     ]
    },
    {
     "name": "stderr",
     "output_type": "stream",
     "text": [
      "2023-03-09 14:21:08.395733: W tensorflow/tsl/platform/profile_utils/cpu_utils.cc:128] Failed to get CPU frequency: 0 Hz\n"
     ]
    },
    {
     "name": "stdout",
     "output_type": "stream",
     "text": [
      "50/50 [==============================] - 1s 4ms/step - loss: 35.1835 - accuracy: 0.0496 - val_loss: 5.0175 - val_accuracy: 0.0497\n",
      "Epoch 2/500\n",
      "50/50 [==============================] - 0s 2ms/step - loss: 4.4670 - accuracy: 0.0533 - val_loss: 3.3039 - val_accuracy: 0.0629\n",
      "Epoch 3/500\n",
      "50/50 [==============================] - 0s 2ms/step - loss: 3.4921 - accuracy: 0.0583 - val_loss: 3.2356 - val_accuracy: 0.0380\n",
      "Epoch 4/500\n",
      "50/50 [==============================] - 0s 3ms/step - loss: 3.3042 - accuracy: 0.0590 - val_loss: 3.1823 - val_accuracy: 0.0497\n",
      "Epoch 5/500\n",
      "50/50 [==============================] - 0s 2ms/step - loss: 3.2290 - accuracy: 0.0753 - val_loss: 3.1382 - val_accuracy: 0.0658\n",
      "Epoch 6/500\n",
      "50/50 [==============================] - 0s 2ms/step - loss: 3.1940 - accuracy: 0.1066 - val_loss: 3.0452 - val_accuracy: 0.1506\n",
      "Epoch 7/500\n",
      "50/50 [==============================] - 0s 2ms/step - loss: 2.9639 - accuracy: 0.1939 - val_loss: 2.7118 - val_accuracy: 0.3275\n",
      "Epoch 8/500\n",
      "50/50 [==============================] - 0s 2ms/step - loss: 2.5086 - accuracy: 0.2804 - val_loss: 2.1835 - val_accuracy: 0.3187\n",
      "Epoch 9/500\n",
      "50/50 [==============================] - 0s 2ms/step - loss: 2.1165 - accuracy: 0.3425 - val_loss: 1.8502 - val_accuracy: 0.4708\n",
      "Epoch 10/500\n",
      "50/50 [==============================] - 0s 2ms/step - loss: 1.8562 - accuracy: 0.4316 - val_loss: 1.6648 - val_accuracy: 0.5102\n",
      "Epoch 11/500\n",
      "50/50 [==============================] - 0s 2ms/step - loss: 1.7406 - accuracy: 0.4567 - val_loss: 1.4686 - val_accuracy: 0.5190\n",
      "Epoch 12/500\n",
      "50/50 [==============================] - 0s 2ms/step - loss: 1.5682 - accuracy: 0.5182 - val_loss: 1.3864 - val_accuracy: 0.5863\n",
      "Epoch 13/500\n",
      "50/50 [==============================] - 0s 2ms/step - loss: 1.4589 - accuracy: 0.5433 - val_loss: 1.2420 - val_accuracy: 0.6360\n",
      "Epoch 14/500\n",
      "50/50 [==============================] - 0s 3ms/step - loss: 1.3927 - accuracy: 0.5721 - val_loss: 1.1767 - val_accuracy: 0.6345\n",
      "Epoch 15/500\n",
      "50/50 [==============================] - 0s 2ms/step - loss: 1.3191 - accuracy: 0.5822 - val_loss: 1.1137 - val_accuracy: 0.6228\n",
      "Epoch 16/500\n",
      "50/50 [==============================] - 0s 2ms/step - loss: 1.2113 - accuracy: 0.6186 - val_loss: 0.9998 - val_accuracy: 0.7032\n",
      "Epoch 17/500\n",
      "50/50 [==============================] - 0s 2ms/step - loss: 1.1878 - accuracy: 0.6317 - val_loss: 1.0004 - val_accuracy: 0.6988\n",
      "Epoch 18/500\n",
      "50/50 [==============================] - 0s 2ms/step - loss: 1.1674 - accuracy: 0.6393 - val_loss: 1.0242 - val_accuracy: 0.6974\n",
      "Epoch 19/500\n",
      "50/50 [==============================] - 0s 2ms/step - loss: 1.1341 - accuracy: 0.6493 - val_loss: 0.9389 - val_accuracy: 0.7105\n",
      "Epoch 20/500\n",
      "50/50 [==============================] - 0s 2ms/step - loss: 1.0770 - accuracy: 0.6706 - val_loss: 0.9342 - val_accuracy: 0.7310\n",
      "Epoch 21/500\n",
      "50/50 [==============================] - 0s 2ms/step - loss: 1.1151 - accuracy: 0.6568 - val_loss: 0.9115 - val_accuracy: 0.7222\n",
      "Epoch 22/500\n",
      "50/50 [==============================] - 0s 2ms/step - loss: 0.9914 - accuracy: 0.6995 - val_loss: 0.8686 - val_accuracy: 0.7456\n",
      "Epoch 23/500\n",
      "50/50 [==============================] - 0s 2ms/step - loss: 0.9738 - accuracy: 0.7045 - val_loss: 0.8771 - val_accuracy: 0.7398\n",
      "Epoch 24/500\n",
      "50/50 [==============================] - 0s 2ms/step - loss: 0.9217 - accuracy: 0.7095 - val_loss: 1.4659 - val_accuracy: 0.7208\n",
      "Epoch 25/500\n",
      "50/50 [==============================] - 0s 2ms/step - loss: 1.0603 - accuracy: 0.6813 - val_loss: 0.9210 - val_accuracy: 0.7164\n",
      "Epoch 26/500\n",
      "50/50 [==============================] - 0s 2ms/step - loss: 0.9806 - accuracy: 0.6982 - val_loss: 0.7827 - val_accuracy: 0.7544\n",
      "Epoch 27/500\n",
      "50/50 [==============================] - 0s 2ms/step - loss: 0.9298 - accuracy: 0.7139 - val_loss: 0.8135 - val_accuracy: 0.7398\n",
      "Epoch 28/500\n",
      "50/50 [==============================] - 0s 2ms/step - loss: 0.9533 - accuracy: 0.7152 - val_loss: 0.7865 - val_accuracy: 0.7500\n",
      "Epoch 29/500\n",
      "50/50 [==============================] - 0s 2ms/step - loss: 0.9025 - accuracy: 0.7039 - val_loss: 0.7894 - val_accuracy: 0.7602\n",
      "Epoch 30/500\n",
      "50/50 [==============================] - 0s 2ms/step - loss: 0.8877 - accuracy: 0.7265 - val_loss: 0.8124 - val_accuracy: 0.7544\n",
      "Epoch 31/500\n",
      "50/50 [==============================] - 0s 2ms/step - loss: 0.8612 - accuracy: 0.7315 - val_loss: 0.7832 - val_accuracy: 0.7617\n",
      "Epoch 32/500\n",
      "50/50 [==============================] - 0s 2ms/step - loss: 0.8361 - accuracy: 0.7403 - val_loss: 0.6994 - val_accuracy: 0.8012\n",
      "Epoch 33/500\n",
      "50/50 [==============================] - 0s 2ms/step - loss: 0.8531 - accuracy: 0.7346 - val_loss: 0.7498 - val_accuracy: 0.7792\n",
      "Epoch 34/500\n",
      "50/50 [==============================] - 0s 2ms/step - loss: 0.7536 - accuracy: 0.7673 - val_loss: 0.7007 - val_accuracy: 0.8041\n",
      "Epoch 35/500\n",
      "50/50 [==============================] - 0s 2ms/step - loss: 0.7343 - accuracy: 0.7610 - val_loss: 0.6970 - val_accuracy: 0.8099\n",
      "Epoch 36/500\n",
      "50/50 [==============================] - 0s 2ms/step - loss: 0.7347 - accuracy: 0.7735 - val_loss: 0.7258 - val_accuracy: 0.7749\n",
      "Epoch 37/500\n",
      "50/50 [==============================] - 0s 2ms/step - loss: 0.7231 - accuracy: 0.7635 - val_loss: 0.6846 - val_accuracy: 0.7982\n",
      "Epoch 38/500\n",
      "50/50 [==============================] - 0s 2ms/step - loss: 0.7205 - accuracy: 0.7754 - val_loss: 0.6767 - val_accuracy: 0.8085\n",
      "Epoch 39/500\n",
      "50/50 [==============================] - 0s 2ms/step - loss: 0.7097 - accuracy: 0.7760 - val_loss: 0.7023 - val_accuracy: 0.7968\n",
      "Epoch 40/500\n",
      "50/50 [==============================] - 0s 2ms/step - loss: 0.7176 - accuracy: 0.7792 - val_loss: 0.7201 - val_accuracy: 0.7719\n",
      "Epoch 41/500\n",
      "50/50 [==============================] - 0s 2ms/step - loss: 0.6975 - accuracy: 0.7886 - val_loss: 0.6662 - val_accuracy: 0.7880\n",
      "Epoch 42/500\n",
      "50/50 [==============================] - 0s 2ms/step - loss: 0.7572 - accuracy: 0.7647 - val_loss: 0.7088 - val_accuracy: 0.7617\n",
      "Epoch 43/500\n",
      "50/50 [==============================] - 0s 2ms/step - loss: 0.6573 - accuracy: 0.7880 - val_loss: 0.6884 - val_accuracy: 0.7909\n",
      "Epoch 44/500\n",
      "50/50 [==============================] - 0s 2ms/step - loss: 0.6852 - accuracy: 0.7829 - val_loss: 0.6241 - val_accuracy: 0.7939\n",
      "Epoch 45/500\n",
      "50/50 [==============================] - 0s 2ms/step - loss: 0.6400 - accuracy: 0.7898 - val_loss: 0.6100 - val_accuracy: 0.8319\n",
      "Epoch 46/500\n",
      "50/50 [==============================] - 0s 2ms/step - loss: 0.6626 - accuracy: 0.7892 - val_loss: 0.6410 - val_accuracy: 0.7968\n",
      "Epoch 47/500\n",
      "50/50 [==============================] - 0s 2ms/step - loss: 0.6500 - accuracy: 0.8005 - val_loss: 0.6173 - val_accuracy: 0.8216\n",
      "Epoch 48/500\n",
      "50/50 [==============================] - 0s 2ms/step - loss: 0.5891 - accuracy: 0.8049 - val_loss: 0.6274 - val_accuracy: 0.8158\n",
      "Epoch 49/500\n",
      "50/50 [==============================] - 0s 2ms/step - loss: 0.6152 - accuracy: 0.8068 - val_loss: 0.6486 - val_accuracy: 0.8129\n",
      "Epoch 50/500\n",
      "50/50 [==============================] - 0s 2ms/step - loss: 0.5706 - accuracy: 0.8206 - val_loss: 0.5974 - val_accuracy: 0.8246\n",
      "Epoch 51/500\n",
      "50/50 [==============================] - 0s 2ms/step - loss: 0.5689 - accuracy: 0.8187 - val_loss: 0.6015 - val_accuracy: 0.8173\n",
      "Epoch 52/500\n",
      "50/50 [==============================] - 0s 2ms/step - loss: 0.5704 - accuracy: 0.8162 - val_loss: 0.6929 - val_accuracy: 0.8026\n",
      "Epoch 53/500\n",
      "50/50 [==============================] - 0s 2ms/step - loss: 0.5571 - accuracy: 0.8275 - val_loss: 0.5793 - val_accuracy: 0.8363\n",
      "Epoch 54/500\n",
      "50/50 [==============================] - 0s 2ms/step - loss: 0.5043 - accuracy: 0.8381 - val_loss: 0.5899 - val_accuracy: 0.8216\n",
      "Epoch 55/500\n",
      "50/50 [==============================] - 0s 2ms/step - loss: 0.5267 - accuracy: 0.8338 - val_loss: 0.6622 - val_accuracy: 0.7968\n",
      "Epoch 56/500\n",
      "50/50 [==============================] - 0s 2ms/step - loss: 0.5836 - accuracy: 0.8250 - val_loss: 0.6502 - val_accuracy: 0.8187\n",
      "Epoch 57/500\n",
      "50/50 [==============================] - 0s 2ms/step - loss: 0.5154 - accuracy: 0.8325 - val_loss: 0.5543 - val_accuracy: 0.8275\n",
      "Epoch 58/500\n",
      "50/50 [==============================] - 0s 2ms/step - loss: 0.5508 - accuracy: 0.8156 - val_loss: 0.6204 - val_accuracy: 0.8099\n"
     ]
    },
    {
     "name": "stdout",
     "output_type": "stream",
     "text": [
      "Epoch 59/500\n",
      "50/50 [==============================] - 0s 2ms/step - loss: 0.5843 - accuracy: 0.8118 - val_loss: 0.6597 - val_accuracy: 0.8099\n",
      "Epoch 60/500\n",
      "50/50 [==============================] - 0s 2ms/step - loss: 0.6051 - accuracy: 0.8124 - val_loss: 0.6112 - val_accuracy: 0.8377\n",
      "Epoch 61/500\n",
      "50/50 [==============================] - 0s 2ms/step - loss: 0.5497 - accuracy: 0.8369 - val_loss: 0.5531 - val_accuracy: 0.8392\n",
      "Epoch 62/500\n",
      "50/50 [==============================] - 0s 2ms/step - loss: 0.5074 - accuracy: 0.8400 - val_loss: 0.6073 - val_accuracy: 0.8202\n",
      "Epoch 63/500\n",
      "50/50 [==============================] - 0s 2ms/step - loss: 0.6120 - accuracy: 0.8212 - val_loss: 0.6107 - val_accuracy: 0.8099\n",
      "Epoch 64/500\n",
      "50/50 [==============================] - 0s 2ms/step - loss: 0.5069 - accuracy: 0.8325 - val_loss: 0.5709 - val_accuracy: 0.8450\n",
      "Epoch 65/500\n",
      "50/50 [==============================] - 0s 2ms/step - loss: 0.5258 - accuracy: 0.8294 - val_loss: 0.5455 - val_accuracy: 0.8260\n",
      "Epoch 66/500\n",
      "50/50 [==============================] - 0s 2ms/step - loss: 0.5032 - accuracy: 0.8513 - val_loss: 0.6070 - val_accuracy: 0.8289\n",
      "Epoch 67/500\n",
      "50/50 [==============================] - 0s 2ms/step - loss: 0.4855 - accuracy: 0.8413 - val_loss: 0.5125 - val_accuracy: 0.8523\n",
      "Epoch 68/500\n",
      "50/50 [==============================] - 0s 2ms/step - loss: 0.4775 - accuracy: 0.8425 - val_loss: 0.5294 - val_accuracy: 0.8465\n",
      "Epoch 69/500\n",
      "50/50 [==============================] - 0s 2ms/step - loss: 0.4362 - accuracy: 0.8620 - val_loss: 0.5455 - val_accuracy: 0.8523\n",
      "Epoch 70/500\n",
      "50/50 [==============================] - 0s 2ms/step - loss: 0.4585 - accuracy: 0.8532 - val_loss: 0.5031 - val_accuracy: 0.8626\n",
      "Epoch 71/500\n",
      "50/50 [==============================] - 0s 2ms/step - loss: 0.5046 - accuracy: 0.8325 - val_loss: 0.5845 - val_accuracy: 0.8392\n",
      "Epoch 72/500\n",
      "50/50 [==============================] - 0s 2ms/step - loss: 0.5318 - accuracy: 0.8312 - val_loss: 0.6260 - val_accuracy: 0.8187\n",
      "Epoch 73/500\n",
      "50/50 [==============================] - 0s 2ms/step - loss: 0.4645 - accuracy: 0.8614 - val_loss: 0.5599 - val_accuracy: 0.8392\n",
      "Epoch 74/500\n",
      "50/50 [==============================] - 0s 2ms/step - loss: 0.5085 - accuracy: 0.8407 - val_loss: 0.5430 - val_accuracy: 0.8596\n",
      "Epoch 75/500\n",
      "50/50 [==============================] - 0s 2ms/step - loss: 0.4452 - accuracy: 0.8632 - val_loss: 0.5170 - val_accuracy: 0.8728\n",
      "Epoch 76/500\n",
      "50/50 [==============================] - 0s 2ms/step - loss: 0.4879 - accuracy: 0.8432 - val_loss: 0.5173 - val_accuracy: 0.8480\n",
      "Epoch 77/500\n",
      "50/50 [==============================] - 0s 2ms/step - loss: 0.4792 - accuracy: 0.8469 - val_loss: 0.5498 - val_accuracy: 0.8509\n",
      "Epoch 78/500\n",
      "50/50 [==============================] - 0s 2ms/step - loss: 0.4863 - accuracy: 0.8482 - val_loss: 0.4782 - val_accuracy: 0.8670\n",
      "Epoch 79/500\n",
      "50/50 [==============================] - 0s 2ms/step - loss: 0.4358 - accuracy: 0.8645 - val_loss: 0.5353 - val_accuracy: 0.8553\n",
      "Epoch 80/500\n",
      "50/50 [==============================] - 0s 2ms/step - loss: 0.4009 - accuracy: 0.8752 - val_loss: 0.4740 - val_accuracy: 0.8743\n",
      "Epoch 81/500\n",
      "50/50 [==============================] - 0s 2ms/step - loss: 0.3981 - accuracy: 0.8770 - val_loss: 0.6358 - val_accuracy: 0.8319\n",
      "Epoch 82/500\n",
      "50/50 [==============================] - 0s 2ms/step - loss: 0.4087 - accuracy: 0.8745 - val_loss: 0.4669 - val_accuracy: 0.8860\n",
      "Epoch 83/500\n",
      "50/50 [==============================] - 0s 2ms/step - loss: 0.4068 - accuracy: 0.8689 - val_loss: 0.4721 - val_accuracy: 0.8845\n",
      "Epoch 84/500\n",
      "50/50 [==============================] - 0s 2ms/step - loss: 0.3635 - accuracy: 0.8846 - val_loss: 0.4592 - val_accuracy: 0.8816\n",
      "Epoch 85/500\n",
      "50/50 [==============================] - 0s 2ms/step - loss: 0.3945 - accuracy: 0.8689 - val_loss: 0.5192 - val_accuracy: 0.8743\n",
      "Epoch 86/500\n",
      "50/50 [==============================] - 0s 2ms/step - loss: 0.3968 - accuracy: 0.8670 - val_loss: 0.4916 - val_accuracy: 0.8845\n",
      "Epoch 87/500\n",
      "50/50 [==============================] - 0s 2ms/step - loss: 0.3715 - accuracy: 0.8808 - val_loss: 0.5612 - val_accuracy: 0.8406\n",
      "Epoch 88/500\n",
      "50/50 [==============================] - 0s 2ms/step - loss: 0.3893 - accuracy: 0.8846 - val_loss: 0.5420 - val_accuracy: 0.8655\n",
      "Epoch 89/500\n",
      "50/50 [==============================] - 0s 2ms/step - loss: 0.3882 - accuracy: 0.8770 - val_loss: 0.5461 - val_accuracy: 0.8699\n",
      "Epoch 90/500\n",
      "50/50 [==============================] - 0s 2ms/step - loss: 0.3312 - accuracy: 0.8946 - val_loss: 0.4468 - val_accuracy: 0.8845\n",
      "Epoch 91/500\n",
      "50/50 [==============================] - 0s 2ms/step - loss: 0.3887 - accuracy: 0.8726 - val_loss: 0.5197 - val_accuracy: 0.8465\n",
      "Epoch 92/500\n",
      "50/50 [==============================] - 0s 2ms/step - loss: 0.3969 - accuracy: 0.8720 - val_loss: 0.4925 - val_accuracy: 0.8684\n",
      "Epoch 93/500\n",
      "50/50 [==============================] - 0s 2ms/step - loss: 0.3521 - accuracy: 0.8908 - val_loss: 0.4997 - val_accuracy: 0.8728\n",
      "Epoch 94/500\n",
      "50/50 [==============================] - 0s 2ms/step - loss: 0.3728 - accuracy: 0.8877 - val_loss: 0.5378 - val_accuracy: 0.8670\n",
      "Epoch 95/500\n",
      "50/50 [==============================] - 0s 2ms/step - loss: 0.4539 - accuracy: 0.8664 - val_loss: 0.5306 - val_accuracy: 0.8699\n",
      "Epoch 96/500\n",
      "50/50 [==============================] - 0s 2ms/step - loss: 0.3744 - accuracy: 0.8858 - val_loss: 0.4914 - val_accuracy: 0.8801\n",
      "Epoch 97/500\n",
      "50/50 [==============================] - 0s 2ms/step - loss: 0.3776 - accuracy: 0.8789 - val_loss: 0.4707 - val_accuracy: 0.8801\n",
      "Epoch 98/500\n",
      "50/50 [==============================] - 0s 2ms/step - loss: 0.3399 - accuracy: 0.8908 - val_loss: 0.4590 - val_accuracy: 0.8889\n",
      "Epoch 99/500\n",
      "50/50 [==============================] - 0s 2ms/step - loss: 0.3141 - accuracy: 0.8977 - val_loss: 0.4967 - val_accuracy: 0.8728\n",
      "Epoch 100/500\n",
      "50/50 [==============================] - 0s 2ms/step - loss: 0.3276 - accuracy: 0.8946 - val_loss: 0.4776 - val_accuracy: 0.8874\n"
     ]
    }
   ],
   "source": [
    "history = model.fit(X_train, \n",
    "                    y_train,\n",
    "                    epochs=500, \n",
    "                    validation_split=0.3, \n",
    "                    callbacks=es)"
   ]
  },
  {
   "cell_type": "code",
   "execution_count": 30,
   "id": "f25e0463",
   "metadata": {},
   "outputs": [
    {
     "name": "stdout",
     "output_type": "stream",
     "text": [
      "18/18 [==============================] - 0s 816us/step - loss: 0.4791 - accuracy: 0.8982\n"
     ]
    },
    {
     "data": {
      "text/plain": [
       "[0.4791259169578552, 0.898245632648468]"
      ]
     },
     "execution_count": 30,
     "metadata": {},
     "output_type": "execute_result"
    }
   ],
   "source": [
    "model.evaluate(X_test, y_test)"
   ]
  },
  {
   "cell_type": "markdown",
   "id": "d11b650b",
   "metadata": {},
   "source": [
    "## Predict"
   ]
  },
  {
   "cell_type": "code",
   "execution_count": 31,
   "id": "b242ef4b",
   "metadata": {},
   "outputs": [],
   "source": [
    "# Dataset\n",
    "df_pred = pd.read_csv('../sample_sets/sample_validation.csv')"
   ]
  },
  {
   "cell_type": "code",
   "execution_count": 32,
   "id": "15fd6583",
   "metadata": {},
   "outputs": [
    {
     "data": {
      "text/plain": [
       "Index(['class_type', 'wristX', 'wristY', 'wristZ', 'thumb_CmcX', 'thumb_CmcY',\n",
       "       'thumb_CmcZ', 'thumb_McpX', 'thumb_McpY', 'thumb_McpZ', 'thumb_IpX',\n",
       "       'thumb_IpY', 'thumb_IpZ', 'thumb_TipX', 'thumb_TipY', 'thumb_TipZ',\n",
       "       'index_McpX', 'index_McpY', 'index_McpZ', 'index_PipX', 'index_PipY',\n",
       "       'index_PipZ', 'index_DipX', 'index_DipY', 'index_DipZ', 'index_TipX',\n",
       "       'index_TipY', 'index_TipZ', 'middle_McpX', 'middle_McpY', 'middle_McpZ',\n",
       "       'middle_PipX', 'middle_PipY', 'middle_PipZ', 'middle_DipX',\n",
       "       'middle_DipY', 'middle_DipZ', 'middle_TipX', 'middle_TipY',\n",
       "       'middle_TipZ', 'ring_McpX', 'ring_McpY', 'ring_McpZ', 'ring_PipX',\n",
       "       'ring_PipY', 'ring_PipZ', 'ring_DipX', 'ring_DipY', 'ring_DipZ',\n",
       "       'ring_TipX', 'ring_TipY', 'ring_TipZ', 'pinky_McpX', 'pinky_McpY',\n",
       "       'pinky_McpZ', 'pinky_PipX', 'pinky_PipY', 'pinky_PipZ', 'pinky_DipX',\n",
       "       'pinky_DipY', 'pinky_DipZ', 'pinky_TipX', 'pinky_TipY', 'pinky_TipZ'],\n",
       "      dtype='object')"
      ]
     },
     "execution_count": 32,
     "metadata": {},
     "output_type": "execute_result"
    }
   ],
   "source": [
    "df_pred.columns"
   ]
  },
  {
   "cell_type": "code",
   "execution_count": 33,
   "id": "65a7eddd",
   "metadata": {},
   "outputs": [
    {
     "data": {
      "text/html": [
       "<div>\n",
       "<style scoped>\n",
       "    .dataframe tbody tr th:only-of-type {\n",
       "        vertical-align: middle;\n",
       "    }\n",
       "\n",
       "    .dataframe tbody tr th {\n",
       "        vertical-align: top;\n",
       "    }\n",
       "\n",
       "    .dataframe thead th {\n",
       "        text-align: right;\n",
       "    }\n",
       "</style>\n",
       "<table border=\"1\" class=\"dataframe\">\n",
       "  <thead>\n",
       "    <tr style=\"text-align: right;\">\n",
       "      <th></th>\n",
       "      <th>wristX</th>\n",
       "      <th>wristY</th>\n",
       "      <th>wristZ</th>\n",
       "      <th>thumb_CmcX</th>\n",
       "      <th>thumb_CmcY</th>\n",
       "      <th>thumb_CmcZ</th>\n",
       "      <th>thumb_McpX</th>\n",
       "      <th>thumb_McpY</th>\n",
       "      <th>thumb_McpZ</th>\n",
       "      <th>thumb_IpX</th>\n",
       "      <th>...</th>\n",
       "      <th>pinky_McpZ</th>\n",
       "      <th>pinky_PipX</th>\n",
       "      <th>pinky_PipY</th>\n",
       "      <th>pinky_PipZ</th>\n",
       "      <th>pinky_DipX</th>\n",
       "      <th>pinky_DipY</th>\n",
       "      <th>pinky_DipZ</th>\n",
       "      <th>pinky_TipX</th>\n",
       "      <th>pinky_TipY</th>\n",
       "      <th>pinky_TipZ</th>\n",
       "    </tr>\n",
       "  </thead>\n",
       "  <tbody>\n",
       "    <tr>\n",
       "      <th>0</th>\n",
       "      <td>67.593429</td>\n",
       "      <td>3675.696075</td>\n",
       "      <td>-0.000018</td>\n",
       "      <td>99.616661</td>\n",
       "      <td>3761.902771</td>\n",
       "      <td>-0.026927</td>\n",
       "      <td>110.972045</td>\n",
       "      <td>3835.375763</td>\n",
       "      <td>-0.026853</td>\n",
       "      <td>121.125584</td>\n",
       "      <td>...</td>\n",
       "      <td>0.072837</td>\n",
       "      <td>114.973211</td>\n",
       "      <td>3854.573547</td>\n",
       "      <td>0.097510</td>\n",
       "      <td>129.272298</td>\n",
       "      <td>3879.857758</td>\n",
       "      <td>0.108352</td>\n",
       "      <td>140.462808</td>\n",
       "      <td>3898.238983</td>\n",
       "      <td>0.113854</td>\n",
       "    </tr>\n",
       "    <tr>\n",
       "      <th>1</th>\n",
       "      <td>1436.803349</td>\n",
       "      <td>1737.654764</td>\n",
       "      <td>-0.000152</td>\n",
       "      <td>1578.083852</td>\n",
       "      <td>1765.562633</td>\n",
       "      <td>-0.157858</td>\n",
       "      <td>1641.237340</td>\n",
       "      <td>1777.532579</td>\n",
       "      <td>-0.304467</td>\n",
       "      <td>1646.324825</td>\n",
       "      <td>...</td>\n",
       "      <td>-0.341164</td>\n",
       "      <td>1227.836695</td>\n",
       "      <td>1684.198194</td>\n",
       "      <td>-0.456003</td>\n",
       "      <td>1278.155567</td>\n",
       "      <td>1867.738249</td>\n",
       "      <td>-0.464728</td>\n",
       "      <td>1338.902637</td>\n",
       "      <td>1969.229223</td>\n",
       "      <td>-0.469522</td>\n",
       "    </tr>\n",
       "    <tr>\n",
       "      <th>2</th>\n",
       "      <td>648.545802</td>\n",
       "      <td>1607.948065</td>\n",
       "      <td>-0.000153</td>\n",
       "      <td>467.789233</td>\n",
       "      <td>1466.462970</td>\n",
       "      <td>-0.050314</td>\n",
       "      <td>448.115349</td>\n",
       "      <td>1191.233873</td>\n",
       "      <td>-0.097409</td>\n",
       "      <td>611.626387</td>\n",
       "      <td>...</td>\n",
       "      <td>-0.163922</td>\n",
       "      <td>998.544693</td>\n",
       "      <td>1039.246440</td>\n",
       "      <td>-0.247517</td>\n",
       "      <td>893.199384</td>\n",
       "      <td>1167.122245</td>\n",
       "      <td>-0.246745</td>\n",
       "      <td>882.732987</td>\n",
       "      <td>1264.709234</td>\n",
       "      <td>-0.227733</td>\n",
       "    </tr>\n",
       "    <tr>\n",
       "      <th>3</th>\n",
       "      <td>833.924472</td>\n",
       "      <td>1559.609413</td>\n",
       "      <td>-0.000164</td>\n",
       "      <td>648.933053</td>\n",
       "      <td>1397.195578</td>\n",
       "      <td>-0.041743</td>\n",
       "      <td>647.326112</td>\n",
       "      <td>1105.966210</td>\n",
       "      <td>-0.078414</td>\n",
       "      <td>848.145723</td>\n",
       "      <td>...</td>\n",
       "      <td>-0.155674</td>\n",
       "      <td>1185.740709</td>\n",
       "      <td>996.946692</td>\n",
       "      <td>-0.238493</td>\n",
       "      <td>1068.991184</td>\n",
       "      <td>1137.645721</td>\n",
       "      <td>-0.229178</td>\n",
       "      <td>1069.342017</td>\n",
       "      <td>1233.988047</td>\n",
       "      <td>-0.199588</td>\n",
       "    </tr>\n",
       "    <tr>\n",
       "      <th>4</th>\n",
       "      <td>2585.928783</td>\n",
       "      <td>2014.379934</td>\n",
       "      <td>-0.000058</td>\n",
       "      <td>2489.925442</td>\n",
       "      <td>1913.919084</td>\n",
       "      <td>-0.022915</td>\n",
       "      <td>2510.127912</td>\n",
       "      <td>1722.629985</td>\n",
       "      <td>-0.031609</td>\n",
       "      <td>2600.052752</td>\n",
       "      <td>...</td>\n",
       "      <td>-0.016604</td>\n",
       "      <td>2819.434075</td>\n",
       "      <td>1749.852462</td>\n",
       "      <td>-0.053624</td>\n",
       "      <td>2737.283750</td>\n",
       "      <td>1812.189479</td>\n",
       "      <td>-0.053119</td>\n",
       "      <td>2664.588332</td>\n",
       "      <td>1866.325679</td>\n",
       "      <td>-0.041351</td>\n",
       "    </tr>\n",
       "    <tr>\n",
       "      <th>...</th>\n",
       "      <td>...</td>\n",
       "      <td>...</td>\n",
       "      <td>...</td>\n",
       "      <td>...</td>\n",
       "      <td>...</td>\n",
       "      <td>...</td>\n",
       "      <td>...</td>\n",
       "      <td>...</td>\n",
       "      <td>...</td>\n",
       "      <td>...</td>\n",
       "      <td>...</td>\n",
       "      <td>...</td>\n",
       "      <td>...</td>\n",
       "      <td>...</td>\n",
       "      <td>...</td>\n",
       "      <td>...</td>\n",
       "      <td>...</td>\n",
       "      <td>...</td>\n",
       "      <td>...</td>\n",
       "      <td>...</td>\n",
       "      <td>...</td>\n",
       "    </tr>\n",
       "    <tr>\n",
       "      <th>199</th>\n",
       "      <td>1354.846124</td>\n",
       "      <td>1946.291035</td>\n",
       "      <td>-0.000071</td>\n",
       "      <td>1436.005777</td>\n",
       "      <td>1831.889364</td>\n",
       "      <td>0.112920</td>\n",
       "      <td>1450.998651</td>\n",
       "      <td>1713.268372</td>\n",
       "      <td>0.166175</td>\n",
       "      <td>1466.387431</td>\n",
       "      <td>...</td>\n",
       "      <td>0.008276</td>\n",
       "      <td>1312.858226</td>\n",
       "      <td>1421.120537</td>\n",
       "      <td>0.016607</td>\n",
       "      <td>1307.488609</td>\n",
       "      <td>1353.245492</td>\n",
       "      <td>0.018358</td>\n",
       "      <td>1307.269927</td>\n",
       "      <td>1301.262153</td>\n",
       "      <td>0.013307</td>\n",
       "    </tr>\n",
       "    <tr>\n",
       "      <th>200</th>\n",
       "      <td>900.431514</td>\n",
       "      <td>1510.550857</td>\n",
       "      <td>-0.000056</td>\n",
       "      <td>1124.763131</td>\n",
       "      <td>1308.396101</td>\n",
       "      <td>0.072219</td>\n",
       "      <td>1196.975231</td>\n",
       "      <td>1071.930170</td>\n",
       "      <td>0.099373</td>\n",
       "      <td>1109.926462</td>\n",
       "      <td>...</td>\n",
       "      <td>-0.109490</td>\n",
       "      <td>413.159043</td>\n",
       "      <td>927.854598</td>\n",
       "      <td>-0.097462</td>\n",
       "      <td>296.604931</td>\n",
       "      <td>811.812997</td>\n",
       "      <td>-0.115920</td>\n",
       "      <td>186.776280</td>\n",
       "      <td>710.417211</td>\n",
       "      <td>-0.161983</td>\n",
       "    </tr>\n",
       "    <tr>\n",
       "      <th>201</th>\n",
       "      <td>72.850646</td>\n",
       "      <td>3754.295013</td>\n",
       "      <td>-0.000019</td>\n",
       "      <td>135.652102</td>\n",
       "      <td>3874.291260</td>\n",
       "      <td>-0.027033</td>\n",
       "      <td>141.803033</td>\n",
       "      <td>3974.507446</td>\n",
       "      <td>-0.027239</td>\n",
       "      <td>144.245676</td>\n",
       "      <td>...</td>\n",
       "      <td>0.094596</td>\n",
       "      <td>69.929686</td>\n",
       "      <td>3992.984802</td>\n",
       "      <td>0.126661</td>\n",
       "      <td>85.686087</td>\n",
       "      <td>4023.706146</td>\n",
       "      <td>0.142894</td>\n",
       "      <td>99.380424</td>\n",
       "      <td>4046.099579</td>\n",
       "      <td>0.154124</td>\n",
       "    </tr>\n",
       "    <tr>\n",
       "      <th>202</th>\n",
       "      <td>1260.964149</td>\n",
       "      <td>2159.256546</td>\n",
       "      <td>0.000274</td>\n",
       "      <td>1335.243220</td>\n",
       "      <td>1851.975826</td>\n",
       "      <td>0.219779</td>\n",
       "      <td>1252.857707</td>\n",
       "      <td>1601.350079</td>\n",
       "      <td>0.317800</td>\n",
       "      <td>1106.594398</td>\n",
       "      <td>...</td>\n",
       "      <td>-0.040661</td>\n",
       "      <td>391.540262</td>\n",
       "      <td>1692.171650</td>\n",
       "      <td>0.013872</td>\n",
       "      <td>211.291803</td>\n",
       "      <td>1652.817776</td>\n",
       "      <td>0.028499</td>\n",
       "      <td>59.546666</td>\n",
       "      <td>1606.800190</td>\n",
       "      <td>0.009594</td>\n",
       "    </tr>\n",
       "    <tr>\n",
       "      <th>203</th>\n",
       "      <td>832.683742</td>\n",
       "      <td>1521.819592</td>\n",
       "      <td>-0.000016</td>\n",
       "      <td>1057.297468</td>\n",
       "      <td>1329.810143</td>\n",
       "      <td>0.070253</td>\n",
       "      <td>1127.873182</td>\n",
       "      <td>1096.859455</td>\n",
       "      <td>0.100716</td>\n",
       "      <td>1036.263585</td>\n",
       "      <td>...</td>\n",
       "      <td>-0.102614</td>\n",
       "      <td>348.142892</td>\n",
       "      <td>979.875326</td>\n",
       "      <td>-0.096110</td>\n",
       "      <td>225.390255</td>\n",
       "      <td>869.132936</td>\n",
       "      <td>-0.121741</td>\n",
       "      <td>107.118905</td>\n",
       "      <td>768.324792</td>\n",
       "      <td>-0.176002</td>\n",
       "    </tr>\n",
       "  </tbody>\n",
       "</table>\n",
       "<p>204 rows × 63 columns</p>\n",
       "</div>"
      ],
      "text/plain": [
       "          wristX       wristY    wristZ   thumb_CmcX   thumb_CmcY  thumb_CmcZ  \\\n",
       "0      67.593429  3675.696075 -0.000018    99.616661  3761.902771   -0.026927   \n",
       "1    1436.803349  1737.654764 -0.000152  1578.083852  1765.562633   -0.157858   \n",
       "2     648.545802  1607.948065 -0.000153   467.789233  1466.462970   -0.050314   \n",
       "3     833.924472  1559.609413 -0.000164   648.933053  1397.195578   -0.041743   \n",
       "4    2585.928783  2014.379934 -0.000058  2489.925442  1913.919084   -0.022915   \n",
       "..           ...          ...       ...          ...          ...         ...   \n",
       "199  1354.846124  1946.291035 -0.000071  1436.005777  1831.889364    0.112920   \n",
       "200   900.431514  1510.550857 -0.000056  1124.763131  1308.396101    0.072219   \n",
       "201    72.850646  3754.295013 -0.000019   135.652102  3874.291260   -0.027033   \n",
       "202  1260.964149  2159.256546  0.000274  1335.243220  1851.975826    0.219779   \n",
       "203   832.683742  1521.819592 -0.000016  1057.297468  1329.810143    0.070253   \n",
       "\n",
       "      thumb_McpX   thumb_McpY  thumb_McpZ    thumb_IpX  ...  pinky_McpZ  \\\n",
       "0     110.972045  3835.375763   -0.026853   121.125584  ...    0.072837   \n",
       "1    1641.237340  1777.532579   -0.304467  1646.324825  ...   -0.341164   \n",
       "2     448.115349  1191.233873   -0.097409   611.626387  ...   -0.163922   \n",
       "3     647.326112  1105.966210   -0.078414   848.145723  ...   -0.155674   \n",
       "4    2510.127912  1722.629985   -0.031609  2600.052752  ...   -0.016604   \n",
       "..           ...          ...         ...          ...  ...         ...   \n",
       "199  1450.998651  1713.268372    0.166175  1466.387431  ...    0.008276   \n",
       "200  1196.975231  1071.930170    0.099373  1109.926462  ...   -0.109490   \n",
       "201   141.803033  3974.507446   -0.027239   144.245676  ...    0.094596   \n",
       "202  1252.857707  1601.350079    0.317800  1106.594398  ...   -0.040661   \n",
       "203  1127.873182  1096.859455    0.100716  1036.263585  ...   -0.102614   \n",
       "\n",
       "      pinky_PipX   pinky_PipY  pinky_PipZ   pinky_DipX   pinky_DipY  \\\n",
       "0     114.973211  3854.573547    0.097510   129.272298  3879.857758   \n",
       "1    1227.836695  1684.198194   -0.456003  1278.155567  1867.738249   \n",
       "2     998.544693  1039.246440   -0.247517   893.199384  1167.122245   \n",
       "3    1185.740709   996.946692   -0.238493  1068.991184  1137.645721   \n",
       "4    2819.434075  1749.852462   -0.053624  2737.283750  1812.189479   \n",
       "..           ...          ...         ...          ...          ...   \n",
       "199  1312.858226  1421.120537    0.016607  1307.488609  1353.245492   \n",
       "200   413.159043   927.854598   -0.097462   296.604931   811.812997   \n",
       "201    69.929686  3992.984802    0.126661    85.686087  4023.706146   \n",
       "202   391.540262  1692.171650    0.013872   211.291803  1652.817776   \n",
       "203   348.142892   979.875326   -0.096110   225.390255   869.132936   \n",
       "\n",
       "     pinky_DipZ   pinky_TipX   pinky_TipY  pinky_TipZ  \n",
       "0      0.108352   140.462808  3898.238983    0.113854  \n",
       "1     -0.464728  1338.902637  1969.229223   -0.469522  \n",
       "2     -0.246745   882.732987  1264.709234   -0.227733  \n",
       "3     -0.229178  1069.342017  1233.988047   -0.199588  \n",
       "4     -0.053119  2664.588332  1866.325679   -0.041351  \n",
       "..          ...          ...          ...         ...  \n",
       "199    0.018358  1307.269927  1301.262153    0.013307  \n",
       "200   -0.115920   186.776280   710.417211   -0.161983  \n",
       "201    0.142894    99.380424  4046.099579    0.154124  \n",
       "202    0.028499    59.546666  1606.800190    0.009594  \n",
       "203   -0.121741   107.118905   768.324792   -0.176002  \n",
       "\n",
       "[204 rows x 63 columns]"
      ]
     },
     "execution_count": 33,
     "metadata": {},
     "output_type": "execute_result"
    }
   ],
   "source": [
    "X_pred = df_pred.drop(columns = ['class_type'])\n",
    "X_pred"
   ]
  },
  {
   "cell_type": "code",
   "execution_count": 34,
   "id": "84cd29a3",
   "metadata": {},
   "outputs": [
    {
     "data": {
      "text/plain": [
       "(204, 63, 1)"
      ]
     },
     "metadata": {},
     "output_type": "display_data"
    },
    {
     "data": {
      "text/plain": [
       "numpy.ndarray"
      ]
     },
     "metadata": {},
     "output_type": "display_data"
    }
   ],
   "source": [
    "X_pred = np.reshape(np.array(X_pred), (X_pred.shape[0], X_pred.shape[1], 1))\n",
    "display(X_pred.shape)\n",
    "display(type(X_pred))"
   ]
  },
  {
   "cell_type": "code",
   "execution_count": 60,
   "id": "971b8916",
   "metadata": {},
   "outputs": [
    {
     "data": {
      "text/plain": [
       "0      N\n",
       "1      N\n",
       "2      N\n",
       "3      N\n",
       "4      N\n",
       "      ..\n",
       "199    J\n",
       "200    J\n",
       "201    J\n",
       "202    J\n",
       "203    J\n",
       "Name: class_type, Length: 204, dtype: object"
      ]
     },
     "execution_count": 60,
     "metadata": {},
     "output_type": "execute_result"
    }
   ],
   "source": [
    "y_act = df_pred['class_type']\n",
    "y_act"
   ]
  },
  {
   "cell_type": "code",
   "execution_count": 61,
   "id": "f72dd3a1",
   "metadata": {},
   "outputs": [
    {
     "name": "stdout",
     "output_type": "stream",
     "text": [
      "7/7 [==============================] - 0s 1ms/step\n"
     ]
    },
    {
     "data": {
      "text/plain": [
       "array([[3.0128675e-04, 7.1483463e-02, 1.9986966e-01, ..., 1.1340240e-03,\n",
       "        2.0885082e-05, 9.9486229e-04],\n",
       "       [3.0138030e-05, 3.7758343e-04, 2.6883427e-07, ..., 5.3741480e-04,\n",
       "        2.6755901e-03, 5.2823923e-03],\n",
       "       [3.8324943e-06, 7.4575488e-05, 3.1499576e-04, ..., 3.4749337e-06,\n",
       "        2.3069919e-08, 1.2980892e-06],\n",
       "       ...,\n",
       "       [2.3116294e-04, 7.0449941e-02, 2.0160230e-01, ..., 1.0014522e-03,\n",
       "        1.2304229e-05, 7.2396221e-04],\n",
       "       [9.6819028e-02, 3.3259726e-04, 6.8305567e-06, ..., 3.8184505e-03,\n",
       "        9.6564839e-04, 1.9354795e-04],\n",
       "       [7.3243193e-03, 1.3882038e-07, 3.0736810e-08, ..., 2.1267217e-03,\n",
       "        1.3204506e-02, 4.0545806e-04]], dtype=float32)"
      ]
     },
     "execution_count": 61,
     "metadata": {},
     "output_type": "execute_result"
    }
   ],
   "source": [
    "y_pred = model.predict(X_pred)\n",
    "y_pred"
   ]
  },
  {
   "cell_type": "code",
   "execution_count": 62,
   "id": "1e771422",
   "metadata": {},
   "outputs": [
    {
     "data": {
      "text/plain": [
       "['C',\n",
       " 'Q',\n",
       " 'N',\n",
       " 'N',\n",
       " 'N',\n",
       " 'Q',\n",
       " 'E',\n",
       " 'N',\n",
       " 'R',\n",
       " 'R',\n",
       " 'R',\n",
       " 'R',\n",
       " 'V',\n",
       " 'C',\n",
       " 'R',\n",
       " 'U',\n",
       " 'B',\n",
       " 'B',\n",
       " 'B',\n",
       " 'B',\n",
       " 'B',\n",
       " 'B',\n",
       " 'F',\n",
       " 'C',\n",
       " 'B',\n",
       " 'I',\n",
       " 'I',\n",
       " 'I',\n",
       " 'I',\n",
       " 'I',\n",
       " 'I',\n",
       " 'I',\n",
       " 'F',\n",
       " 'N',\n",
       " 'F',\n",
       " 'F',\n",
       " 'F',\n",
       " 'F',\n",
       " 'F',\n",
       " 'F',\n",
       " 'H',\n",
       " 'C',\n",
       " 'H',\n",
       " 'H',\n",
       " 'H',\n",
       " 'H',\n",
       " 'H',\n",
       " 'H',\n",
       " 'E',\n",
       " 'E',\n",
       " 'E',\n",
       " 'X',\n",
       " 'E',\n",
       " 'E',\n",
       " 'B',\n",
       " 'W',\n",
       " 'B',\n",
       " 'U',\n",
       " 'U',\n",
       " 'U',\n",
       " 'U',\n",
       " 'R',\n",
       " 'K',\n",
       " 'U',\n",
       " 'M',\n",
       " 'I',\n",
       " 'B',\n",
       " 'M',\n",
       " 'M',\n",
       " 'M',\n",
       " 'M',\n",
       " 'Q',\n",
       " 'G',\n",
       " 'Z',\n",
       " 'P',\n",
       " 'X',\n",
       " 'M',\n",
       " 'Z',\n",
       " 'X',\n",
       " 'L',\n",
       " 'H',\n",
       " 'K',\n",
       " 'B',\n",
       " 'K',\n",
       " 'K',\n",
       " 'V',\n",
       " 'K',\n",
       " 'K',\n",
       " 'K',\n",
       " 'K',\n",
       " 'Q',\n",
       " 'Q',\n",
       " 'Q',\n",
       " 'Q',\n",
       " 'Q',\n",
       " 'Q',\n",
       " 'Q',\n",
       " 'Y',\n",
       " 'Y',\n",
       " 'Y',\n",
       " 'Y',\n",
       " 'Y',\n",
       " 'Y',\n",
       " 'Y',\n",
       " 'Y',\n",
       " 'S',\n",
       " 'I',\n",
       " 'J',\n",
       " 'S',\n",
       " 'S',\n",
       " 'Q',\n",
       " 'Q',\n",
       " 'J',\n",
       " 'H',\n",
       " 'G',\n",
       " 'G',\n",
       " 'G',\n",
       " 'C',\n",
       " 'G',\n",
       " 'G',\n",
       " 'G',\n",
       " 'A',\n",
       " 'A',\n",
       " 'Y',\n",
       " 'I',\n",
       " 'C',\n",
       " 'J',\n",
       " 'A',\n",
       " 'V',\n",
       " 'O',\n",
       " 'O',\n",
       " 'O',\n",
       " 'O',\n",
       " 'O',\n",
       " 'C',\n",
       " 'Z',\n",
       " 'O',\n",
       " 'T',\n",
       " 'X',\n",
       " 'I',\n",
       " 'C',\n",
       " 'L',\n",
       " 'T',\n",
       " 'C',\n",
       " 'T',\n",
       " 'V',\n",
       " 'V',\n",
       " 'V',\n",
       " 'W',\n",
       " 'V',\n",
       " 'V',\n",
       " 'R',\n",
       " 'V',\n",
       " 'Z',\n",
       " 'Z',\n",
       " 'P',\n",
       " 'Z',\n",
       " 'Z',\n",
       " 'Z',\n",
       " 'Z',\n",
       " 'C',\n",
       " 'C',\n",
       " 'O',\n",
       " 'C',\n",
       " 'C',\n",
       " 'O',\n",
       " 'C',\n",
       " 'C',\n",
       " 'P',\n",
       " 'P',\n",
       " 'P',\n",
       " 'Z',\n",
       " 'P',\n",
       " 'L',\n",
       " 'L',\n",
       " 'C',\n",
       " 'L',\n",
       " 'L',\n",
       " 'L',\n",
       " 'L',\n",
       " 'L',\n",
       " 'T',\n",
       " 'W',\n",
       " 'W',\n",
       " 'M',\n",
       " 'W',\n",
       " 'W',\n",
       " 'W',\n",
       " 'W',\n",
       " 'W',\n",
       " 'W',\n",
       " 'D',\n",
       " 'D',\n",
       " 'C',\n",
       " 'D',\n",
       " 'D',\n",
       " 'D',\n",
       " 'V',\n",
       " 'J',\n",
       " 'J',\n",
       " 'J',\n",
       " 'C',\n",
       " 'J',\n",
       " 'J']"
      ]
     },
     "execution_count": 62,
     "metadata": {},
     "output_type": "execute_result"
    }
   ],
   "source": [
    "preds = [cat_list[np.argmax(pred)] for pred in y_pred]\n",
    "preds"
   ]
  },
  {
   "cell_type": "code",
   "execution_count": 38,
   "id": "f5e14f39",
   "metadata": {},
   "outputs": [
    {
     "name": "stdout",
     "output_type": "stream",
     "text": [
      "Correct Predictions:  0.7058823529411765\n"
     ]
    }
   ],
   "source": [
    "correct=0\n",
    "comparisons=list(zip(preds, y_act))\n",
    "for comparison in comparisons:\n",
    "    if comparison[0]==comparison[1]:\n",
    "        correct+=1\n",
    "correct_percent=correct/len(y_act)\n",
    "print('Correct Predictions: ', correct_percent)"
   ]
  },
  {
   "cell_type": "code",
   "execution_count": 39,
   "id": "a4d79ea6",
   "metadata": {},
   "outputs": [
    {
     "data": {
      "text/plain": [
       "array(['A', 'B', 'C', 'D', 'E', 'F', 'G', 'H', 'I', 'J', 'K', 'L', 'M',\n",
       "       'N', 'O', 'P', 'Q', 'R', 'S', 'T', 'U', 'V', 'W', 'X', 'Y', 'Z'],\n",
       "      dtype='<U1')"
      ]
     },
     "execution_count": 39,
     "metadata": {},
     "output_type": "execute_result"
    }
   ],
   "source": [
    "np.unique(np.array(preds))"
   ]
  },
  {
   "cell_type": "code",
   "execution_count": 42,
   "id": "f091d9d0",
   "metadata": {
    "collapsed": true
   },
   "outputs": [
    {
     "data": {
      "text/plain": [
       "['C',\n",
       " 'Q',\n",
       " 'N',\n",
       " 'N',\n",
       " 'N',\n",
       " 'Q',\n",
       " 'E',\n",
       " 'N',\n",
       " 'R',\n",
       " 'R',\n",
       " 'R',\n",
       " 'R',\n",
       " 'V',\n",
       " 'C',\n",
       " 'R',\n",
       " 'U',\n",
       " 'B',\n",
       " 'B',\n",
       " 'B',\n",
       " 'B',\n",
       " 'B',\n",
       " 'B',\n",
       " 'F',\n",
       " 'C',\n",
       " 'B',\n",
       " 'I',\n",
       " 'I',\n",
       " 'I',\n",
       " 'I',\n",
       " 'I',\n",
       " 'I',\n",
       " 'I',\n",
       " 'F',\n",
       " 'N',\n",
       " 'F',\n",
       " 'F',\n",
       " 'F',\n",
       " 'F',\n",
       " 'F',\n",
       " 'F',\n",
       " 'H',\n",
       " 'C',\n",
       " 'H',\n",
       " 'H',\n",
       " 'H',\n",
       " 'H',\n",
       " 'H',\n",
       " 'H',\n",
       " 'E',\n",
       " 'E',\n",
       " 'E',\n",
       " 'X',\n",
       " 'E',\n",
       " 'E',\n",
       " 'B',\n",
       " 'W',\n",
       " 'B',\n",
       " 'U',\n",
       " 'U',\n",
       " 'U',\n",
       " 'U',\n",
       " 'R',\n",
       " 'K',\n",
       " 'U',\n",
       " 'M',\n",
       " 'I',\n",
       " 'B',\n",
       " 'M',\n",
       " 'M',\n",
       " 'M',\n",
       " 'M',\n",
       " 'Q',\n",
       " 'G',\n",
       " 'Z',\n",
       " 'P',\n",
       " 'X',\n",
       " 'M',\n",
       " 'Z',\n",
       " 'X',\n",
       " 'L',\n",
       " 'H',\n",
       " 'K',\n",
       " 'B',\n",
       " 'K',\n",
       " 'K',\n",
       " 'V',\n",
       " 'K',\n",
       " 'K',\n",
       " 'K',\n",
       " 'K',\n",
       " 'Q',\n",
       " 'Q',\n",
       " 'Q',\n",
       " 'Q',\n",
       " 'Q',\n",
       " 'Q',\n",
       " 'Q',\n",
       " 'Y',\n",
       " 'Y',\n",
       " 'Y',\n",
       " 'Y',\n",
       " 'Y',\n",
       " 'Y',\n",
       " 'Y',\n",
       " 'Y',\n",
       " 'S',\n",
       " 'I',\n",
       " 'J',\n",
       " 'S',\n",
       " 'S',\n",
       " 'Q',\n",
       " 'Q',\n",
       " 'J',\n",
       " 'H',\n",
       " 'G',\n",
       " 'G',\n",
       " 'G',\n",
       " 'C',\n",
       " 'G',\n",
       " 'G',\n",
       " 'G',\n",
       " 'A',\n",
       " 'A',\n",
       " 'Y',\n",
       " 'I',\n",
       " 'C',\n",
       " 'J',\n",
       " 'A',\n",
       " 'V',\n",
       " 'O',\n",
       " 'O',\n",
       " 'O',\n",
       " 'O',\n",
       " 'O',\n",
       " 'C',\n",
       " 'Z',\n",
       " 'O',\n",
       " 'T',\n",
       " 'X',\n",
       " 'I',\n",
       " 'C',\n",
       " 'L',\n",
       " 'T',\n",
       " 'C',\n",
       " 'T',\n",
       " 'V',\n",
       " 'V',\n",
       " 'V',\n",
       " 'W',\n",
       " 'V',\n",
       " 'V',\n",
       " 'R',\n",
       " 'V',\n",
       " 'Z',\n",
       " 'Z',\n",
       " 'P',\n",
       " 'Z',\n",
       " 'Z',\n",
       " 'Z',\n",
       " 'Z',\n",
       " 'C',\n",
       " 'C',\n",
       " 'O',\n",
       " 'C',\n",
       " 'C',\n",
       " 'O',\n",
       " 'C',\n",
       " 'C',\n",
       " 'P',\n",
       " 'P',\n",
       " 'P',\n",
       " 'Z',\n",
       " 'P',\n",
       " 'L',\n",
       " 'L',\n",
       " 'C',\n",
       " 'L',\n",
       " 'L',\n",
       " 'L',\n",
       " 'L',\n",
       " 'L',\n",
       " 'T',\n",
       " 'W',\n",
       " 'W',\n",
       " 'M',\n",
       " 'W',\n",
       " 'W',\n",
       " 'W',\n",
       " 'W',\n",
       " 'W',\n",
       " 'W',\n",
       " 'D',\n",
       " 'D',\n",
       " 'C',\n",
       " 'D',\n",
       " 'D',\n",
       " 'D',\n",
       " 'V',\n",
       " 'J',\n",
       " 'J',\n",
       " 'J',\n",
       " 'C',\n",
       " 'J',\n",
       " 'J']"
      ]
     },
     "execution_count": 42,
     "metadata": {},
     "output_type": "execute_result"
    }
   ],
   "source": [
    "preds"
   ]
  },
  {
   "cell_type": "code",
   "execution_count": 51,
   "id": "06e05d86",
   "metadata": {},
   "outputs": [
    {
     "name": "stdout",
     "output_type": "stream",
     "text": [
      "204 204\n"
     ]
    }
   ],
   "source": [
    "print(len(preds), len(y_act))"
   ]
  },
  {
   "cell_type": "code",
   "execution_count": 94,
   "id": "853e59da",
   "metadata": {},
   "outputs": [
    {
     "name": "stdout",
     "output_type": "stream",
     "text": [
      "              precision    recall  f1-score   support\n",
      "\n",
      "           A       1.00      0.38      0.55         8\n",
      "           B       0.64      0.78      0.70         9\n",
      "           C       0.33      0.75      0.46         8\n",
      "           D       1.00      0.71      0.83         7\n",
      "           E       0.83      0.62      0.71         8\n",
      "           F       0.88      0.88      0.88         8\n",
      "           G       0.86      0.75      0.80         8\n",
      "           H       0.78      0.88      0.82         8\n",
      "           I       0.64      1.00      0.78         7\n",
      "           J       0.62      0.83      0.71         6\n",
      "           K       0.88      0.78      0.82         9\n",
      "           L       0.78      0.78      0.78         9\n",
      "           M       0.71      0.56      0.63         9\n",
      "           N       0.80      0.50      0.62         8\n",
      "           O       0.75      0.75      0.75         8\n",
      "           P       0.67      0.80      0.73         5\n",
      "           Q       0.58      1.00      0.74         7\n",
      "           R       0.71      0.62      0.67         8\n",
      "           S       1.00      0.38      0.55         8\n",
      "           T       0.75      0.38      0.50         8\n",
      "           U       0.83      0.62      0.71         8\n",
      "           V       0.60      0.75      0.67         8\n",
      "           W       0.80      0.89      0.84         9\n",
      "           X       0.50      0.25      0.33         8\n",
      "           Y       0.89      1.00      0.94         8\n",
      "           Z       0.60      0.86      0.71         7\n",
      "\n",
      "    accuracy                           0.71       204\n",
      "   macro avg       0.75      0.71      0.70       204\n",
      "weighted avg       0.75      0.71      0.70       204\n",
      "\n"
     ]
    },
    {
     "data": {
      "image/png": "[encoded data removed]",
      "text/plain": [
       "<Figure size 1000x1000 with 2 Axes>"
      ]
     },
     "metadata": {},
     "output_type": "display_data"
    }
   ],
   "source": [
    "from sklearn.metrics import ConfusionMatrixDisplay\n",
    "from sklearn.metrics import classification_report\n",
    "from sklearn.model_selection import cross_val_predict\n",
    "\n",
    "def evaluate_matrix(y_true, y_pred):\n",
    "    disp = ConfusionMatrixDisplay.from_predictions(y_true, y_pred)\n",
    "    plt.close(1) # don't display pre-sized matrix\n",
    "    fig, ax = plt.subplots(figsize=(10, 10))\n",
    "    disp.plot(ax=ax)\n",
    "    print(classification_report(y_true, y_pred))\n",
    "    plt.show()\n",
    "\n",
    "\n",
    "evaluate_matrix(y_act, preds)"
   ]
  },
  {
   "cell_type": "code",
   "execution_count": 96,
   "id": "617970ae",
   "metadata": {},
   "outputs": [],
   "source": [
    "def evaluate_model(model, X_test, y_test):\n",
    "    # Preditions on holdout test dataset\n",
    "    y_pred = model.predict(X_test)\n",
    "    y_pred = np.argmax(y_pred, axis=1)\n",
    "    \n",
    "    # Calculate confusion matrix\n",
    "    cm = confusion_matrix(y_test, y_pred)\n",
    "    cm_df = pd.DataFrame(cm, index=range(26), columns=range(26))\n",
    "    plt.figure(figsize=(10, 8))\n",
    "    plt.title('Model Confusion Matrix')\n",
    "    plt.xlabel('Predicted Letter')\n",
    "    plt.ylabel('True Letter')\n",
    "    plt.xticks(range(26), labels=range(26))\n",
    "    plt.yticks(range(26), labels=range(26))\n",
    "    plt.imshow(cm_df, cmap='Blues')\n",
    "    plt.colorbar()\n",
    "    plt.show()\n",
    "    \n",
    "    # Calculate classification report\n",
    "    report = classification_report(y_test, y_pred)\n",
    "    print(report)\n",
    "    \n",
    "    # Calculate accuracy\n",
    "    accuracy = np.mean(y_pred == y_test)\n",
    "    print('Accuracy:', accuracy)\n",
    "\n",
    "evaluate_model(model, X_pred, )"
   ]
  },
  {
   "cell_type": "code",
   "execution_count": null,
   "id": "e5125597",
   "metadata": {},
   "outputs": [],
   "source": []
  }
 ],
 "metadata": {
  "kernelspec": {
   "display_name": "Python 3 (ipykernel)",
   "language": "python",
   "name": "python3"
  },
  "language_info": {
   "codemirror_mode": {
    "name": "ipython",
    "version": 3
   },
   "file_extension": ".py",
   "mimetype": "text/x-python",
   "name": "python",
   "nbconvert_exporter": "python",
   "pygments_lexer": "ipython3",
   "version": "3.10.6"
  },
  "toc": {
   "base_numbering": 1,
   "nav_menu": {},
   "number_sections": true,
   "sideBar": true,
   "skip_h1_title": false,
   "title_cell": "Table of Contents",
   "title_sidebar": "Contents",
   "toc_cell": false,
   "toc_position": {},
   "toc_section_display": true,
   "toc_window_display": false
  }
 },
 "nbformat": 4,
 "nbformat_minor": 5
}
