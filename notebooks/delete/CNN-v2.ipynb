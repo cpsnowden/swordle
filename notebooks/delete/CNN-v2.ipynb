{
 "cells": [
  {
   "cell_type": "markdown",
   "id": "4bdb1a64",
   "metadata": {},
   "source": [
    "# Sign Game Server"
   ]
  },
  {
   "cell_type": "markdown",
   "id": "f90694f4",
   "metadata": {},
   "source": [
    "Game Plan:"
   ]
  },
  {
   "cell_type": "code",
   "execution_count": 1,
   "id": "613a1722",
   "metadata": {},
   "outputs": [
    {
     "name": "stderr",
     "output_type": "stream",
     "text": [
      "2023-03-07 21:49:25.665350: I tensorflow/core/platform/cpu_feature_guard.cc:193] This TensorFlow binary is optimized with oneAPI Deep Neural Network Library (oneDNN) to use the following CPU instructions in performance-critical operations:  AVX2 FMA\n",
      "To enable them in other operations, rebuild TensorFlow with the appropriate compiler flags.\n",
      "2023-03-07 21:49:27.388527: W tensorflow/compiler/xla/stream_executor/platform/default/dso_loader.cc:64] Could not load dynamic library 'libcudart.so.11.0'; dlerror: libcudart.so.11.0: cannot open shared object file: No such file or directory\n",
      "2023-03-07 21:49:27.388569: I tensorflow/compiler/xla/stream_executor/cuda/cudart_stub.cc:29] Ignore above cudart dlerror if you do not have a GPU set up on your machine.\n",
      "2023-03-07 21:49:29.432117: W tensorflow/compiler/xla/stream_executor/platform/default/dso_loader.cc:64] Could not load dynamic library 'libnvinfer.so.7'; dlerror: libnvinfer.so.7: cannot open shared object file: No such file or directory\n",
      "2023-03-07 21:49:29.432512: W tensorflow/compiler/xla/stream_executor/platform/default/dso_loader.cc:64] Could not load dynamic library 'libnvinfer_plugin.so.7'; dlerror: libnvinfer_plugin.so.7: cannot open shared object file: No such file or directory\n",
      "2023-03-07 21:49:29.432531: W tensorflow/compiler/tf2tensorrt/utils/py_utils.cc:38] TF-TRT Warning: Cannot dlopen some TensorRT libraries. If you would like to use Nvidia GPU with TensorRT, please make sure the missing libraries mentioned above are installed properly.\n"
     ]
    }
   ],
   "source": [
    "# Imports\n",
    "import numpy as np\n",
    "import pandas as pd\n",
    "import matplotlib.pyplot as plt\n",
    "from tensorflow.keras import models\n",
    "from tensorflow.keras import Sequential, layers\n",
    "from sklearn.preprocessing import LabelEncoder\n",
    "from tensorflow.keras.utils import to_categorical\n",
    "from tensorflow.keras.callbacks import EarlyStopping"
   ]
  },
  {
   "cell_type": "markdown",
   "id": "b1fa5920",
   "metadata": {
    "heading_collapsed": true
   },
   "source": [
    "## Later Code"
   ]
  },
  {
   "cell_type": "code",
   "execution_count": null,
   "id": "9cce4029",
   "metadata": {
    "hidden": true
   },
   "outputs": [],
   "source": [
    "# from tensorflow.keras.models import Sequential\n",
    "# from tensorflow.keras.layers import LSTM, Dense\n",
    "# from tensorflow.keras.callbacks import EarlyStopping\n",
    "\n",
    "\n",
    "# def initialize_model():\n",
    "#     model = Sequential()\n",
    "#     model.add(LSTM(units=, activation='tanh', return_sequence=True, inputshape=()))\n",
    "#     model.add(LSTM(units=, activation='tanh', return_sequences=True))\n",
    "#     model.add(LSTM(units=, activation='tanh', return_sequences=False))\n",
    "#     model.add(Dense(, activation='relu'))\n",
    "#     model.add(Dense(, activation='relu'))\n",
    "#     model.add(Dense(26, activation='softmax'))\n",
    "#     return model\n",
    "\n",
    "# def compile_model(model):\n",
    "#     model.compile(loss='categorical_crossentropy',\n",
    "#                   optimizer='adam',\n",
    "#                   metrics=['accuracy'])\n",
    "#     return model\n",
    "\n",
    "# def train_model(model: Model,\n",
    "#                 X: np.ndarray,\n",
    "#                 y: np.ndarray):\n",
    "#     es = EarlyStopping(monitor='val_loss',\n",
    "#                        patience=,\n",
    "#                        restore_best_weights=True,\n",
    "#                        verbose=0)\n",
    "    \n",
    "#     history = model.fit(X, y, epochs=1000, callbacks=[es], verbose=0)\n",
    "#     return model, history"
   ]
  },
  {
   "cell_type": "markdown",
   "id": "3e8360e0",
   "metadata": {},
   "source": [
    "## Dataset Cleaning"
   ]
  },
  {
   "cell_type": "code",
   "execution_count": 2,
   "id": "70fb64fa",
   "metadata": {},
   "outputs": [],
   "source": [
    "# Dataset\n",
    "df_train = pd.read_csv('../sample_sets/sample_training.csv')"
   ]
  },
  {
   "cell_type": "code",
   "execution_count": 3,
   "id": "e08859e1",
   "metadata": {},
   "outputs": [
    {
     "data": {
      "text/plain": [
       "(1033, 64)"
      ]
     },
     "execution_count": 3,
     "metadata": {},
     "output_type": "execute_result"
    }
   ],
   "source": [
    "df_train.shape"
   ]
  },
  {
   "cell_type": "code",
   "execution_count": 4,
   "id": "d88c60b9",
   "metadata": {},
   "outputs": [
    {
     "data": {
      "text/plain": [
       "Index(['class_type', 'wristX', 'wristY', 'wristZ', 'thumb_CmcX', 'thumb_CmcY',\n",
       "       'thumb_CmcZ', 'thumb_McpX', 'thumb_McpY', 'thumb_McpZ', 'thumb_IpX',\n",
       "       'thumb_IpY', 'thumb_IpZ', 'thumb_TipX', 'thumb_TipY', 'thumb_TipZ',\n",
       "       'index_McpX', 'index_McpY', 'index_McpZ', 'index_PipX', 'index_PipY',\n",
       "       'index_PipZ', 'index_DipX', 'index_DipY', 'index_DipZ', 'index_TipX',\n",
       "       'index_TipY', 'index_TipZ', 'middle_McpX', 'middle_McpY', 'middle_McpZ',\n",
       "       'middle_PipX', 'middle_PipY', 'middle_PipZ', 'middle_DipX',\n",
       "       'middle_DipY', 'middle_DipZ', 'middle_TipX', 'middle_TipY',\n",
       "       'middle_TipZ', 'ring_McpX', 'ring_McpY', 'ring_McpZ', 'ring_PipX',\n",
       "       'ring_PipY', 'ring_PipZ', 'ring_DipX', 'ring_DipY', 'ring_DipZ',\n",
       "       'ring_TipX', 'ring_TipY', 'ring_TipZ', 'pinky_McpX', 'pinky_McpY',\n",
       "       'pinky_McpZ', 'pinky_PipX', 'pinky_PipY', 'pinky_PipZ', 'pinky_DipX',\n",
       "       'pinky_DipY', 'pinky_DipZ', 'pinky_TipX', 'pinky_TipY', 'pinky_TipZ'],\n",
       "      dtype='object')"
      ]
     },
     "execution_count": 4,
     "metadata": {},
     "output_type": "execute_result"
    }
   ],
   "source": [
    "df_train.columns"
   ]
  },
  {
   "cell_type": "code",
   "execution_count": 5,
   "id": "742ccf7f",
   "metadata": {},
   "outputs": [],
   "source": [
    "X_train = df_train.drop(columns = ['class_type'])"
   ]
  },
  {
   "cell_type": "code",
   "execution_count": 6,
   "id": "9c7ee7d4",
   "metadata": {},
   "outputs": [],
   "source": [
    "df_train[\"class_type\"] = pd.Categorical(df_train[\"class_type\"])\n",
    "df_train[\"class_type\"] = df_train.class_type.cat.codes"
   ]
  },
  {
   "cell_type": "code",
   "execution_count": 7,
   "id": "3852f09d",
   "metadata": {},
   "outputs": [],
   "source": [
    "y_train=df_train['class_type']\n",
    "y_train=to_categorical(y_train, num_classes=26)"
   ]
  },
  {
   "cell_type": "code",
   "execution_count": 8,
   "id": "9532d9d5",
   "metadata": {},
   "outputs": [
    {
     "data": {
      "text/plain": [
       "((1033, 63), (1033, 26))"
      ]
     },
     "execution_count": 8,
     "metadata": {},
     "output_type": "execute_result"
    }
   ],
   "source": [
    "X_train.shape, y_train.shape"
   ]
  },
  {
   "cell_type": "code",
   "execution_count": 9,
   "id": "4c950fd9",
   "metadata": {},
   "outputs": [
    {
     "data": {
      "text/plain": [
       "array([[0., 0., 0., ..., 0., 0., 0.],\n",
       "       [0., 0., 0., ..., 0., 0., 0.],\n",
       "       [0., 0., 0., ..., 0., 0., 0.],\n",
       "       ...,\n",
       "       [0., 0., 0., ..., 0., 0., 0.],\n",
       "       [0., 0., 0., ..., 0., 0., 0.],\n",
       "       [0., 0., 0., ..., 0., 0., 0.]], dtype=float32)"
      ]
     },
     "execution_count": 9,
     "metadata": {},
     "output_type": "execute_result"
    }
   ],
   "source": [
    "y_train"
   ]
  },
  {
   "cell_type": "code",
   "execution_count": 10,
   "id": "4cc17e15",
   "metadata": {},
   "outputs": [
    {
     "data": {
      "text/plain": [
       "(1033, 63, 1)"
      ]
     },
     "execution_count": 10,
     "metadata": {},
     "output_type": "execute_result"
    }
   ],
   "source": [
    "X_train = np.reshape(np.array(X_train), (X_train.shape[0], X_train.shape[1], 1))\n",
    "X_train.shape"
   ]
  },
  {
   "cell_type": "markdown",
   "id": "57d11836",
   "metadata": {},
   "source": [
    "## Validation Set"
   ]
  },
  {
   "cell_type": "code",
   "execution_count": 31,
   "id": "3c8002a1",
   "metadata": {},
   "outputs": [],
   "source": [
    "df_val = pd.read_csv('../sample_sets/sample_validation.csv')"
   ]
  },
  {
   "cell_type": "code",
   "execution_count": 32,
   "id": "1d4d1aba",
   "metadata": {},
   "outputs": [],
   "source": [
    "X_val = df_val.drop(columns = ['class_type'])\n",
    "y_val = df_val['class_type']"
   ]
  },
  {
   "cell_type": "code",
   "execution_count": 33,
   "id": "101a59cc",
   "metadata": {},
   "outputs": [],
   "source": [
    "df_val[\"class_type\"] = pd.Categorical(df_val[\"class_type\"])\n",
    "df_val[\"class_type\"] = df_val.class_type.cat.codes"
   ]
  },
  {
   "cell_type": "code",
   "execution_count": 34,
   "id": "279138a6",
   "metadata": {},
   "outputs": [],
   "source": [
    "y_val=df_val['class_type']\n",
    "y_val=to_categorical(y_val, num_classes=26)"
   ]
  },
  {
   "cell_type": "code",
   "execution_count": 35,
   "id": "9b17ac75",
   "metadata": {},
   "outputs": [
    {
     "data": {
      "text/plain": [
       "(204, 63, 1)"
      ]
     },
     "execution_count": 35,
     "metadata": {},
     "output_type": "execute_result"
    }
   ],
   "source": [
    "X_val = np.reshape(np.array(X_val), (X_val.shape[0], X_val.shape[1], 1))\n",
    "X_val.shape"
   ]
  },
  {
   "cell_type": "markdown",
   "id": "946143c5",
   "metadata": {},
   "source": [
    "## CNN Model"
   ]
  },
  {
   "cell_type": "code",
   "execution_count": 67,
   "id": "74c1254f",
   "metadata": {},
   "outputs": [],
   "source": [
    "# Architecture\n",
    "# model = models.Sequential()\n",
    "# model.add(layers.Conv1D(filters=512, kernel_size=7, strides=1, padding='causal', input_shape=X_train.shape[1:3], activation='relu'))\n",
    "# model.add(layers.Conv1D(filters=512, kernel_size=7, strides=1, padding='causal', activation='relu'))\n",
    "# model.add(layers.MaxPooling1D(pool_size=2))\n",
    "# model.add(layers.Conv1D(filters=256, kernel_size=5, strides=1, padding='causal', activation='relu'))\n",
    "# model.add(layers.Conv1D(filters=256, kernel_size=5, strides=1, padding='causal', activation='relu'))\n",
    "# model.add(layers.MaxPooling1D(pool_size=2))\n",
    "# model.add(layers.Conv1D(filters=256, kernel_size=3, strides=1, padding='causal', activation='relu'))\n",
    "# model.add(layers.Conv1D(filters=256, kernel_size=3, strides=1, padding='causal', activation='relu'))\n",
    "# model.add(layers.MaxPooling1D(pool_size=2))\n",
    "# model.add(layers.Dropout(0.2))\n",
    "# model.add(layers.Flatten())\n",
    "# model.add(layers.Dense(256, activation='relu'))\n",
    "# model.add(layers.Dense(26, activation='softmax')) \n",
    "#accuracy: 0.89"
   ]
  },
  {
   "cell_type": "code",
   "execution_count": 50,
   "id": "566c941d",
   "metadata": {},
   "outputs": [],
   "source": [
    "# model = models.Sequential()\n",
    "# model.add(layers.Conv1D(filters=64, kernel_size=3, strides=1, padding='causal', input_shape=X_train.shape[1:3], activation='relu'))\n",
    "# model.add(layers.MaxPooling1D(pool_size=2))\n",
    "# model.add(layers.Conv1D(filters=64, kernel_size=3, strides=1, padding='causal', activation='relu'))\n",
    "# model.add(layers.MaxPooling1D(pool_size=2))\n",
    "# model.add(layers.Conv1D(filters=64, kernel_size=3, strides=1, padding='causal', activation='relu'))\n",
    "# model.add(layers.MaxPooling1D(pool_size=2))\n",
    "# model.add(layers.Dropout(0.2))\n",
    "# model.add(layers.Flatten())\n",
    "# model.add(layers.Dense(256, activation='relu'))\n",
    "# model.add(layers.Dense(26, activation='softmax'))\n",
    "# accuracy: 0.71"
   ]
  },
  {
   "cell_type": "code",
   "execution_count": 90,
   "id": "1f3e95bf",
   "metadata": {},
   "outputs": [],
   "source": [
    "# model = models.Sequential()\n",
    "# model.add(layers.Conv1D(filters=32, kernel_size=3, strides=1, padding='causal', input_shape=X_train.shape[1:3], activation='relu'))\n",
    "# model.add(layers.MaxPooling1D(pool_size=2))\n",
    "# model.add(layers.Conv1D(filters=64, kernel_size=3, strides=1, padding='causal', activation='relu'))\n",
    "# model.add(layers.MaxPooling1D(pool_size=2))\n",
    "# model.add(layers.Conv1D(filters=128, kernel_size=3, strides=1, padding='causal', activation='relu'))\n",
    "# model.add(layers.MaxPooling1D(pool_size=2))\n",
    "# model.add(layers.Dropout(0.2))\n",
    "# model.add(layers.Flatten())\n",
    "# model.add(layers.Dense(256, activation='relu'))\n",
    "# model.add(layers.Dense(26, activation='softmax'))\n",
    "# accuracy: 0.81"
   ]
  },
  {
   "cell_type": "code",
   "execution_count": 98,
   "id": "349677b3",
   "metadata": {},
   "outputs": [],
   "source": [
    "model = models.Sequential()\n",
    "model.add(layers.Conv1D(filters=64, kernel_size=3, strides=1, padding='causal', input_shape=X_train.shape[1:3], activation='relu'))\n",
    "model.add(layers.MaxPooling1D(pool_size=2))\n",
    "model.add(layers.Conv1D(filters=128, kernel_size=3, strides=1, padding='causal', activation='relu'))\n",
    "model.add(layers.MaxPooling1D(pool_size=2))\n",
    "model.add(layers.Conv1D(filters=256, kernel_size=3, strides=1, padding='causal', activation='relu'))\n",
    "model.add(layers.MaxPooling1D(pool_size=2))\n",
    "model.add(layers.Dropout(0.2))\n",
    "model.add(layers.Flatten())\n",
    "model.add(layers.Dense(256, activation='relu'))\n",
    "model.add(layers.Dense(26, activation='softmax'))\n",
    "# accuracy: 0.86"
   ]
  },
  {
   "cell_type": "code",
   "execution_count": 99,
   "id": "90b9dba5",
   "metadata": {},
   "outputs": [],
   "source": [
    "\n",
    "model.compile(loss = 'categorical_crossentropy', optimizer='adam', metrics=['accuracy'])"
   ]
  },
  {
   "cell_type": "code",
   "execution_count": 100,
   "id": "db4bf013",
   "metadata": {},
   "outputs": [
    {
     "name": "stdout",
     "output_type": "stream",
     "text": [
      "Model: \"sequential_19\"\n",
      "_________________________________________________________________\n",
      " Layer (type)                Output Shape              Param #   \n",
      "=================================================================\n",
      " conv1d_76 (Conv1D)          (None, 63, 64)            256       \n",
      "                                                                 \n",
      " max_pooling1d_58 (MaxPoolin  (None, 31, 64)           0         \n",
      " g1D)                                                            \n",
      "                                                                 \n",
      " conv1d_77 (Conv1D)          (None, 31, 128)           24704     \n",
      "                                                                 \n",
      " max_pooling1d_59 (MaxPoolin  (None, 15, 128)          0         \n",
      " g1D)                                                            \n",
      "                                                                 \n",
      " conv1d_78 (Conv1D)          (None, 15, 256)           98560     \n",
      "                                                                 \n",
      " max_pooling1d_60 (MaxPoolin  (None, 7, 256)           0         \n",
      " g1D)                                                            \n",
      "                                                                 \n",
      " dropout_21 (Dropout)        (None, 7, 256)            0         \n",
      "                                                                 \n",
      " flatten_19 (Flatten)        (None, 1792)              0         \n",
      "                                                                 \n",
      " dense_38 (Dense)            (None, 256)               459008    \n",
      "                                                                 \n",
      " dense_39 (Dense)            (None, 26)                6682      \n",
      "                                                                 \n",
      "=================================================================\n",
      "Total params: 589,210\n",
      "Trainable params: 589,210\n",
      "Non-trainable params: 0\n",
      "_________________________________________________________________\n"
     ]
    }
   ],
   "source": [
    "model.summary()"
   ]
  },
  {
   "cell_type": "code",
   "execution_count": 101,
   "id": "a56582a4",
   "metadata": {
    "scrolled": true
   },
   "outputs": [
    {
     "name": "stdout",
     "output_type": "stream",
     "text": [
      "Epoch 1/500\n",
      "33/33 [==============================] - 2s 25ms/step - loss: 45.7350 - accuracy: 0.0494 - val_loss: 3.6625 - val_accuracy: 0.0686\n",
      "Epoch 2/500\n",
      "33/33 [==============================] - 1s 16ms/step - loss: 3.3084 - accuracy: 0.1413 - val_loss: 2.9762 - val_accuracy: 0.1618\n",
      "Epoch 3/500\n",
      "33/33 [==============================] - 1s 17ms/step - loss: 2.7323 - accuracy: 0.2197 - val_loss: 2.5648 - val_accuracy: 0.2598\n",
      "Epoch 4/500\n",
      "33/33 [==============================] - 1s 17ms/step - loss: 2.1757 - accuracy: 0.3669 - val_loss: 2.1220 - val_accuracy: 0.3775\n",
      "Epoch 5/500\n",
      "33/33 [==============================] - 1s 19ms/step - loss: 1.8979 - accuracy: 0.4347 - val_loss: 1.9452 - val_accuracy: 0.4559\n",
      "Epoch 6/500\n",
      "33/33 [==============================] - 1s 19ms/step - loss: 1.7333 - accuracy: 0.4724 - val_loss: 1.6782 - val_accuracy: 0.5147\n",
      "Epoch 7/500\n",
      "33/33 [==============================] - 1s 18ms/step - loss: 1.5636 - accuracy: 0.5189 - val_loss: 1.7263 - val_accuracy: 0.5392\n",
      "Epoch 8/500\n",
      "33/33 [==============================] - 1s 19ms/step - loss: 1.4564 - accuracy: 0.5576 - val_loss: 1.6080 - val_accuracy: 0.5294\n",
      "Epoch 9/500\n",
      "33/33 [==============================] - 1s 17ms/step - loss: 1.3968 - accuracy: 0.5847 - val_loss: 1.6397 - val_accuracy: 0.5539\n",
      "Epoch 10/500\n",
      "33/33 [==============================] - 0s 15ms/step - loss: 1.3015 - accuracy: 0.6002 - val_loss: 1.6417 - val_accuracy: 0.5637\n",
      "Epoch 11/500\n",
      "33/33 [==============================] - 1s 16ms/step - loss: 1.3152 - accuracy: 0.5954 - val_loss: 1.4446 - val_accuracy: 0.6176\n",
      "Epoch 12/500\n",
      "33/33 [==============================] - 1s 16ms/step - loss: 1.2042 - accuracy: 0.6244 - val_loss: 1.3615 - val_accuracy: 0.6324\n",
      "Epoch 13/500\n",
      "33/33 [==============================] - 1s 16ms/step - loss: 1.0775 - accuracy: 0.6660 - val_loss: 1.3327 - val_accuracy: 0.6716\n",
      "Epoch 14/500\n",
      "33/33 [==============================] - 1s 18ms/step - loss: 1.0272 - accuracy: 0.6854 - val_loss: 1.3104 - val_accuracy: 0.6422\n",
      "Epoch 15/500\n",
      "33/33 [==============================] - 1s 16ms/step - loss: 1.0872 - accuracy: 0.6815 - val_loss: 1.4331 - val_accuracy: 0.6029\n",
      "Epoch 16/500\n",
      "33/33 [==============================] - 0s 15ms/step - loss: 1.0289 - accuracy: 0.6941 - val_loss: 1.3298 - val_accuracy: 0.6225\n",
      "Epoch 17/500\n",
      "33/33 [==============================] - 0s 15ms/step - loss: 0.9718 - accuracy: 0.7076 - val_loss: 1.2588 - val_accuracy: 0.6324\n",
      "Epoch 18/500\n",
      "33/33 [==============================] - 0s 15ms/step - loss: 0.8961 - accuracy: 0.7241 - val_loss: 1.3015 - val_accuracy: 0.6667\n",
      "Epoch 19/500\n",
      "33/33 [==============================] - 1s 15ms/step - loss: 0.9058 - accuracy: 0.7222 - val_loss: 1.2596 - val_accuracy: 0.6520\n",
      "Epoch 20/500\n",
      "33/33 [==============================] - 1s 16ms/step - loss: 0.8904 - accuracy: 0.7299 - val_loss: 1.3302 - val_accuracy: 0.6324\n",
      "Epoch 21/500\n",
      "33/33 [==============================] - 1s 16ms/step - loss: 0.9168 - accuracy: 0.7270 - val_loss: 1.2000 - val_accuracy: 0.6373\n",
      "Epoch 22/500\n",
      "33/33 [==============================] - 0s 15ms/step - loss: 0.9874 - accuracy: 0.6941 - val_loss: 1.4565 - val_accuracy: 0.6275\n",
      "Epoch 23/500\n",
      "33/33 [==============================] - 0s 15ms/step - loss: 1.1361 - accuracy: 0.6709 - val_loss: 1.4586 - val_accuracy: 0.6225\n",
      "Epoch 24/500\n",
      "33/33 [==============================] - 0s 15ms/step - loss: 0.9648 - accuracy: 0.6912 - val_loss: 1.2349 - val_accuracy: 0.6618\n",
      "Epoch 25/500\n",
      "33/33 [==============================] - 0s 15ms/step - loss: 1.0306 - accuracy: 0.6747 - val_loss: 1.0832 - val_accuracy: 0.7108\n",
      "Epoch 26/500\n",
      "33/33 [==============================] - 1s 17ms/step - loss: 0.8924 - accuracy: 0.7231 - val_loss: 1.1744 - val_accuracy: 0.6667\n",
      "Epoch 27/500\n",
      "33/33 [==============================] - 1s 17ms/step - loss: 0.7795 - accuracy: 0.7473 - val_loss: 1.1762 - val_accuracy: 0.7108\n",
      "Epoch 28/500\n",
      "33/33 [==============================] - 1s 16ms/step - loss: 0.8069 - accuracy: 0.7415 - val_loss: 1.0774 - val_accuracy: 0.6961\n",
      "Epoch 29/500\n",
      "33/33 [==============================] - 1s 17ms/step - loss: 0.8138 - accuracy: 0.7260 - val_loss: 1.1354 - val_accuracy: 0.7206\n",
      "Epoch 30/500\n",
      "33/33 [==============================] - 1s 19ms/step - loss: 0.8106 - accuracy: 0.7328 - val_loss: 1.1321 - val_accuracy: 0.6912\n",
      "Epoch 31/500\n",
      "33/33 [==============================] - 1s 21ms/step - loss: 0.7219 - accuracy: 0.7715 - val_loss: 1.0427 - val_accuracy: 0.7500\n",
      "Epoch 32/500\n",
      "33/33 [==============================] - 1s 20ms/step - loss: 0.7143 - accuracy: 0.7832 - val_loss: 1.0043 - val_accuracy: 0.7549\n",
      "Epoch 33/500\n",
      "33/33 [==============================] - 1s 21ms/step - loss: 0.5777 - accuracy: 0.8064 - val_loss: 0.9788 - val_accuracy: 0.7353\n",
      "Epoch 34/500\n",
      "33/33 [==============================] - 1s 20ms/step - loss: 0.6389 - accuracy: 0.7986 - val_loss: 1.0027 - val_accuracy: 0.7304\n",
      "Epoch 35/500\n",
      "33/33 [==============================] - 1s 22ms/step - loss: 0.6381 - accuracy: 0.7957 - val_loss: 1.0985 - val_accuracy: 0.7255\n",
      "Epoch 36/500\n",
      "33/33 [==============================] - 1s 21ms/step - loss: 0.6302 - accuracy: 0.7977 - val_loss: 1.0598 - val_accuracy: 0.7500\n",
      "Epoch 37/500\n",
      "33/33 [==============================] - 1s 21ms/step - loss: 0.5295 - accuracy: 0.8306 - val_loss: 0.9661 - val_accuracy: 0.7647\n",
      "Epoch 38/500\n",
      "33/33 [==============================] - 1s 20ms/step - loss: 0.6260 - accuracy: 0.7928 - val_loss: 0.9810 - val_accuracy: 0.7353\n",
      "Epoch 39/500\n",
      "33/33 [==============================] - 1s 22ms/step - loss: 0.5951 - accuracy: 0.8045 - val_loss: 0.9008 - val_accuracy: 0.7843\n",
      "Epoch 40/500\n",
      "33/33 [==============================] - 1s 21ms/step - loss: 0.5421 - accuracy: 0.8190 - val_loss: 0.9884 - val_accuracy: 0.7451\n",
      "Epoch 41/500\n",
      "33/33 [==============================] - 1s 21ms/step - loss: 0.6155 - accuracy: 0.8083 - val_loss: 0.8914 - val_accuracy: 0.7745\n",
      "Epoch 42/500\n",
      "33/33 [==============================] - 1s 21ms/step - loss: 0.5435 - accuracy: 0.8287 - val_loss: 0.9400 - val_accuracy: 0.7696\n",
      "Epoch 43/500\n",
      "33/33 [==============================] - 1s 21ms/step - loss: 0.5305 - accuracy: 0.8199 - val_loss: 1.0153 - val_accuracy: 0.7598\n",
      "Epoch 44/500\n",
      "33/33 [==============================] - 1s 21ms/step - loss: 0.5322 - accuracy: 0.8316 - val_loss: 0.9795 - val_accuracy: 0.7892\n",
      "Epoch 45/500\n",
      "33/33 [==============================] - 1s 21ms/step - loss: 0.5454 - accuracy: 0.8112 - val_loss: 1.0464 - val_accuracy: 0.7206\n",
      "Epoch 46/500\n",
      "33/33 [==============================] - 1s 21ms/step - loss: 0.7099 - accuracy: 0.7773 - val_loss: 1.0656 - val_accuracy: 0.7255\n",
      "Epoch 47/500\n",
      "33/33 [==============================] - 1s 23ms/step - loss: 0.6488 - accuracy: 0.7773 - val_loss: 1.1846 - val_accuracy: 0.7255\n",
      "Epoch 48/500\n",
      "33/33 [==============================] - 1s 21ms/step - loss: 0.6298 - accuracy: 0.8006 - val_loss: 1.1369 - val_accuracy: 0.7451\n",
      "Epoch 49/500\n",
      "33/33 [==============================] - 1s 22ms/step - loss: 0.5204 - accuracy: 0.8258 - val_loss: 1.0634 - val_accuracy: 0.7549\n",
      "Epoch 50/500\n",
      "33/33 [==============================] - 1s 25ms/step - loss: 0.4564 - accuracy: 0.8403 - val_loss: 1.0723 - val_accuracy: 0.7892\n",
      "Epoch 51/500\n",
      "33/33 [==============================] - 1s 20ms/step - loss: 0.4719 - accuracy: 0.8587 - val_loss: 0.9169 - val_accuracy: 0.7794\n"
     ]
    },
    {
     "data": {
      "text/plain": [
       "<keras.callbacks.History at 0x7f6add393940>"
      ]
     },
     "execution_count": 101,
     "metadata": {},
     "output_type": "execute_result"
    }
   ],
   "source": [
    "model.fit(X_train, y_train, epochs=500, validation_data=(X_val, y_val), callbacks=EarlyStopping(patience=10, restore_best_weights=True))"
   ]
  },
  {
   "cell_type": "code",
   "execution_count": null,
   "id": "f25e0463",
   "metadata": {},
   "outputs": [],
   "source": []
  },
  {
   "cell_type": "code",
   "execution_count": null,
   "id": "f5aa3c70",
   "metadata": {},
   "outputs": [],
   "source": []
  }
 ],
 "metadata": {
  "kernelspec": {
   "display_name": "Python 3 (ipykernel)",
   "language": "python",
   "name": "python3"
  },
  "language_info": {
   "codemirror_mode": {
    "name": "ipython",
    "version": 3
   },
   "file_extension": ".py",
   "mimetype": "text/x-python",
   "name": "python",
   "nbconvert_exporter": "python",
   "pygments_lexer": "ipython3",
   "version": "3.10.6"
  },
  "toc": {
   "base_numbering": 1,
   "nav_menu": {},
   "number_sections": true,
   "sideBar": true,
   "skip_h1_title": false,
   "title_cell": "Table of Contents",
   "title_sidebar": "Contents",
   "toc_cell": false,
   "toc_position": {},
   "toc_section_display": true,
   "toc_window_display": false
  }
 },
 "nbformat": 4,
 "nbformat_minor": 5
}
