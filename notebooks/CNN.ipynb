{
 "cells": [
  {
   "cell_type": "markdown",
   "id": "4bdb1a64",
   "metadata": {},
   "source": [
    "# Sign Game Server"
   ]
  },
  {
   "cell_type": "markdown",
   "id": "f90694f4",
   "metadata": {},
   "source": [
    "Game Plan:"
   ]
  },
  {
   "cell_type": "code",
   "execution_count": 1,
   "id": "613a1722",
   "metadata": {},
   "outputs": [
    {
     "name": "stderr",
     "output_type": "stream",
     "text": [
      "2023-03-07 16:57:51.841766: I tensorflow/core/platform/cpu_feature_guard.cc:193] This TensorFlow binary is optimized with oneAPI Deep Neural Network Library (oneDNN) to use the following CPU instructions in performance-critical operations:  AVX2 FMA\n",
      "To enable them in other operations, rebuild TensorFlow with the appropriate compiler flags.\n",
      "2023-03-07 16:57:52.273197: W tensorflow/compiler/xla/stream_executor/platform/default/dso_loader.cc:64] Could not load dynamic library 'libcudart.so.11.0'; dlerror: libcudart.so.11.0: cannot open shared object file: No such file or directory\n",
      "2023-03-07 16:57:52.273227: I tensorflow/compiler/xla/stream_executor/cuda/cudart_stub.cc:29] Ignore above cudart dlerror if you do not have a GPU set up on your machine.\n",
      "2023-03-07 16:57:53.769565: W tensorflow/compiler/xla/stream_executor/platform/default/dso_loader.cc:64] Could not load dynamic library 'libnvinfer.so.7'; dlerror: libnvinfer.so.7: cannot open shared object file: No such file or directory\n",
      "2023-03-07 16:57:53.769868: W tensorflow/compiler/xla/stream_executor/platform/default/dso_loader.cc:64] Could not load dynamic library 'libnvinfer_plugin.so.7'; dlerror: libnvinfer_plugin.so.7: cannot open shared object file: No such file or directory\n",
      "2023-03-07 16:57:53.769898: W tensorflow/compiler/tf2tensorrt/utils/py_utils.cc:38] TF-TRT Warning: Cannot dlopen some TensorRT libraries. If you would like to use Nvidia GPU with TensorRT, please make sure the missing libraries mentioned above are installed properly.\n"
     ]
    }
   ],
   "source": [
    "# Imports\n",
    "import numpy as np\n",
    "import pandas as pd\n",
    "import matplotlib.pyplot as plt\n",
    "from tensorflow.keras import models\n",
    "from tensorflow.keras import Sequential, layers\n",
    "from sklearn.preprocessing import LabelEncoder\n",
    "from tensorflow.keras.utils import to_categorical"
   ]
  },
  {
   "cell_type": "markdown",
   "id": "b1fa5920",
   "metadata": {
    "heading_collapsed": true
   },
   "source": [
    "## Later Code"
   ]
  },
  {
   "cell_type": "code",
   "execution_count": null,
   "id": "9cce4029",
   "metadata": {
    "hidden": true
   },
   "outputs": [],
   "source": [
    "# from tensorflow.keras.models import Sequential\n",
    "# from tensorflow.keras.layers import LSTM, Dense\n",
    "# from tensorflow.keras.callbacks import EarlyStopping\n",
    "\n",
    "\n",
    "# def initialize_model():\n",
    "#     model = Sequential()\n",
    "#     model.add(LSTM(units=, activation='tanh', return_sequence=True, inputshape=()))\n",
    "#     model.add(LSTM(units=, activation='tanh', return_sequences=True))\n",
    "#     model.add(LSTM(units=, activation='tanh', return_sequences=False))\n",
    "#     model.add(Dense(, activation='relu'))\n",
    "#     model.add(Dense(, activation='relu'))\n",
    "#     model.add(Dense(26, activation='softmax'))\n",
    "#     return model\n",
    "\n",
    "# def compile_model(model):\n",
    "#     model.compile(loss='categorical_crossentropy',\n",
    "#                   optimizer='adam',\n",
    "#                   metrics=['accuracy'])\n",
    "#     return model\n",
    "\n",
    "# def train_model(model: Model,\n",
    "#                 X: np.ndarray,\n",
    "#                 y: np.ndarray):\n",
    "#     es = EarlyStopping(monitor='val_loss',\n",
    "#                        patience=,\n",
    "#                        restore_best_weights=True,\n",
    "#                        verbose=0)\n",
    "    \n",
    "#     history = model.fit(X, y, epochs=1000, callbacks=[es], verbose=0)\n",
    "#     return model, history"
   ]
  },
  {
   "cell_type": "markdown",
   "id": "3e8360e0",
   "metadata": {},
   "source": [
    "## Dataset Cleaning"
   ]
  },
  {
   "cell_type": "code",
   "execution_count": 3,
   "id": "70fb64fa",
   "metadata": {},
   "outputs": [],
   "source": [
    "# Dataset\n",
    "df_train = pd.read_csv('../sample_sets/sample_training.csv')"
   ]
  },
  {
   "cell_type": "code",
   "execution_count": 4,
   "id": "e08859e1",
   "metadata": {},
   "outputs": [
    {
     "data": {
      "text/plain": [
       "(1033, 64)"
      ]
     },
     "execution_count": 4,
     "metadata": {},
     "output_type": "execute_result"
    }
   ],
   "source": [
    "df_train.shape"
   ]
  },
  {
   "cell_type": "code",
   "execution_count": 5,
   "id": "d88c60b9",
   "metadata": {
    "collapsed": true
   },
   "outputs": [
    {
     "data": {
      "text/plain": [
       "Index(['class_type', 'wristX', 'wristY', 'wristZ', 'thumb_CmcX', 'thumb_CmcY',\n",
       "       'thumb_CmcZ', 'thumb_McpX', 'thumb_McpY', 'thumb_McpZ', 'thumb_IpX',\n",
       "       'thumb_IpY', 'thumb_IpZ', 'thumb_TipX', 'thumb_TipY', 'thumb_TipZ',\n",
       "       'index_McpX', 'index_McpY', 'index_McpZ', 'index_PipX', 'index_PipY',\n",
       "       'index_PipZ', 'index_DipX', 'index_DipY', 'index_DipZ', 'index_TipX',\n",
       "       'index_TipY', 'index_TipZ', 'middle_McpX', 'middle_McpY', 'middle_McpZ',\n",
       "       'middle_PipX', 'middle_PipY', 'middle_PipZ', 'middle_DipX',\n",
       "       'middle_DipY', 'middle_DipZ', 'middle_TipX', 'middle_TipY',\n",
       "       'middle_TipZ', 'ring_McpX', 'ring_McpY', 'ring_McpZ', 'ring_PipX',\n",
       "       'ring_PipY', 'ring_PipZ', 'ring_DipX', 'ring_DipY', 'ring_DipZ',\n",
       "       'ring_TipX', 'ring_TipY', 'ring_TipZ', 'pinky_McpX', 'pinky_McpY',\n",
       "       'pinky_McpZ', 'pinky_PipX', 'pinky_PipY', 'pinky_PipZ', 'pinky_DipX',\n",
       "       'pinky_DipY', 'pinky_DipZ', 'pinky_TipX', 'pinky_TipY', 'pinky_TipZ'],\n",
       "      dtype='object')"
      ]
     },
     "execution_count": 5,
     "metadata": {},
     "output_type": "execute_result"
    }
   ],
   "source": [
    "df_train.columns"
   ]
  },
  {
   "cell_type": "code",
   "execution_count": 7,
   "id": "742ccf7f",
   "metadata": {},
   "outputs": [],
   "source": [
    "X_train = df_train.drop(columns = ['class_type'])"
   ]
  },
  {
   "cell_type": "code",
   "execution_count": 8,
   "id": "9c7ee7d4",
   "metadata": {},
   "outputs": [],
   "source": [
    "df_train[\"class_type\"] = pd.Categorical(df_train[\"class_type\"])\n",
    "df_train[\"class_type\"] = df_train.class_type.cat.codes"
   ]
  },
  {
   "cell_type": "code",
   "execution_count": 10,
   "id": "3852f09d",
   "metadata": {},
   "outputs": [],
   "source": [
    "y_train=df_train['class_type']\n",
    "y_train=to_categorical(y_train, num_classes=26)"
   ]
  },
  {
   "cell_type": "code",
   "execution_count": 11,
   "id": "9532d9d5",
   "metadata": {},
   "outputs": [
    {
     "data": {
      "text/plain": [
       "((1033, 63), (1033, 26))"
      ]
     },
     "execution_count": 11,
     "metadata": {},
     "output_type": "execute_result"
    }
   ],
   "source": [
    "X_train.shape, y_train.shape"
   ]
  },
  {
   "cell_type": "code",
   "execution_count": 13,
   "id": "4c950fd9",
   "metadata": {},
   "outputs": [
    {
     "data": {
      "text/plain": [
       "array([[0., 0., 0., ..., 0., 0., 0.],\n",
       "       [0., 0., 0., ..., 0., 0., 0.],\n",
       "       [0., 0., 0., ..., 0., 0., 0.],\n",
       "       ...,\n",
       "       [0., 0., 0., ..., 0., 0., 0.],\n",
       "       [0., 0., 0., ..., 0., 0., 0.],\n",
       "       [0., 0., 0., ..., 0., 0., 0.]], dtype=float32)"
      ]
     },
     "execution_count": 13,
     "metadata": {},
     "output_type": "execute_result"
    }
   ],
   "source": [
    "y_train"
   ]
  },
  {
   "cell_type": "code",
   "execution_count": 20,
   "id": "4cc17e15",
   "metadata": {},
   "outputs": [
    {
     "data": {
      "text/plain": [
       "(1033, 63, 1)"
      ]
     },
     "execution_count": 20,
     "metadata": {},
     "output_type": "execute_result"
    }
   ],
   "source": [
    "X_train = np.reshape(np.array(X_train), (X_train.shape[0], X_train.shape[1], 1))\n",
    "X_train.shape"
   ]
  },
  {
   "cell_type": "markdown",
   "id": "946143c5",
   "metadata": {},
   "source": [
    "## CNN Model"
   ]
  },
  {
   "cell_type": "code",
   "execution_count": 21,
   "id": "74c1254f",
   "metadata": {},
   "outputs": [],
   "source": [
    "# Architecture\n",
    "model = models.Sequential()\n",
    "model.add(layers.Conv1D(filters=32, kernel_size=5, strides=1, padding='causal', input_shape=X_train.shape[1:3], activation='relu'))\n",
    "model.add(layers.Conv1D(filters=32, kernel_size=5, strides=1, padding='causal', activation='relu'))\n",
    "model.add(layers.MaxPooling1D(pool_size=2))\n",
    "model.add(layers.Conv1D(filters=64, kernel_size=5, strides=1, padding='causal', activation='relu'))\n",
    "model.add(layers.Conv1D(filters=64, kernel_size=5, strides=1, padding='causal', activation='relu'))\n",
    "model.add(layers.MaxPooling1D(pool_size=2))\n",
    "model.add(layers.Conv1D(filters=128, kernel_size=5, strides=1, padding='causal', activation='relu'))\n",
    "model.add(layers.Conv1D(filters=128, kernel_size=5, strides=1, padding='causal', activation='relu'))\n",
    "model.add(layers.MaxPooling1D(pool_size=2))\n",
    "model.add(layers.Conv1D(filters=256, kernel_size=5, strides=1, padding='causal', activation='relu'))\n",
    "model.add(layers.Conv1D(filters=256, kernel_size=5, strides=1, padding='causal', activation='relu'))\n",
    "model.add(layers.MaxPooling1D(pool_size=2))\n",
    "model.add(layers.Dropout(0.2))\n",
    "model.add(layers.Flatten())\n",
    "model.add(layers.Dense(512, activation='relu'))\n",
    "model.add(layers.Dense(26, activation='softmax'))"
   ]
  },
  {
   "cell_type": "code",
   "execution_count": 22,
   "id": "90b9dba5",
   "metadata": {},
   "outputs": [],
   "source": [
    "model.compile(loss = 'categorical_crossentropy', optimizer='adam', metrics=['accuracy'])"
   ]
  },
  {
   "cell_type": "code",
   "execution_count": 23,
   "id": "db4bf013",
   "metadata": {},
   "outputs": [
    {
     "name": "stdout",
     "output_type": "stream",
     "text": [
      "Model: \"sequential_1\"\n",
      "_________________________________________________________________\n",
      " Layer (type)                Output Shape              Param #   \n",
      "=================================================================\n",
      " conv1d_1 (Conv1D)           (None, 63, 32)            192       \n",
      "                                                                 \n",
      " conv1d_2 (Conv1D)           (None, 63, 32)            5152      \n",
      "                                                                 \n",
      " max_pooling1d (MaxPooling1D  (None, 31, 32)           0         \n",
      " )                                                               \n",
      "                                                                 \n",
      " conv1d_3 (Conv1D)           (None, 31, 64)            10304     \n",
      "                                                                 \n",
      " conv1d_4 (Conv1D)           (None, 31, 64)            20544     \n",
      "                                                                 \n",
      " max_pooling1d_1 (MaxPooling  (None, 15, 64)           0         \n",
      " 1D)                                                             \n",
      "                                                                 \n",
      " conv1d_5 (Conv1D)           (None, 15, 128)           41088     \n",
      "                                                                 \n",
      " conv1d_6 (Conv1D)           (None, 15, 128)           82048     \n",
      "                                                                 \n",
      " max_pooling1d_2 (MaxPooling  (None, 7, 128)           0         \n",
      " 1D)                                                             \n",
      "                                                                 \n",
      " conv1d_7 (Conv1D)           (None, 7, 256)            164096    \n",
      "                                                                 \n",
      " conv1d_8 (Conv1D)           (None, 7, 256)            327936    \n",
      "                                                                 \n",
      " max_pooling1d_3 (MaxPooling  (None, 3, 256)           0         \n",
      " 1D)                                                             \n",
      "                                                                 \n",
      " dropout (Dropout)           (None, 3, 256)            0         \n",
      "                                                                 \n",
      " flatten (Flatten)           (None, 768)               0         \n",
      "                                                                 \n",
      " dense (Dense)               (None, 512)               393728    \n",
      "                                                                 \n",
      " dense_1 (Dense)             (None, 26)                13338     \n",
      "                                                                 \n",
      "=================================================================\n",
      "Total params: 1,058,426\n",
      "Trainable params: 1,058,426\n",
      "Non-trainable params: 0\n",
      "_________________________________________________________________\n"
     ]
    }
   ],
   "source": [
    "model.summary()"
   ]
  },
  {
   "cell_type": "code",
   "execution_count": 25,
   "id": "a56582a4",
   "metadata": {},
   "outputs": [
    {
     "name": "stdout",
     "output_type": "stream",
     "text": [
      "Epoch 1/100\n",
      "33/33 [==============================] - 1s 22ms/step - loss: 2.1716 - accuracy: 0.2924\n",
      "Epoch 2/100\n",
      "33/33 [==============================] - 1s 22ms/step - loss: 2.0696 - accuracy: 0.3136\n",
      "Epoch 3/100\n",
      "33/33 [==============================] - 1s 22ms/step - loss: 1.7348 - accuracy: 0.4134\n",
      "Epoch 4/100\n",
      "33/33 [==============================] - 1s 24ms/step - loss: 1.7214 - accuracy: 0.4153\n",
      "Epoch 5/100\n",
      "33/33 [==============================] - 1s 24ms/step - loss: 1.6081 - accuracy: 0.4569\n",
      "Epoch 6/100\n",
      "33/33 [==============================] - 1s 23ms/step - loss: 1.4837 - accuracy: 0.4898\n",
      "Epoch 7/100\n",
      "33/33 [==============================] - 1s 22ms/step - loss: 1.3242 - accuracy: 0.5431\n",
      "Epoch 8/100\n",
      "33/33 [==============================] - 1s 25ms/step - loss: 1.2713 - accuracy: 0.5818\n",
      "Epoch 9/100\n",
      "33/33 [==============================] - 1s 22ms/step - loss: 1.2591 - accuracy: 0.5857\n",
      "Epoch 10/100\n",
      "33/33 [==============================] - 1s 22ms/step - loss: 1.1005 - accuracy: 0.6244\n",
      "Epoch 11/100\n",
      "33/33 [==============================] - 1s 22ms/step - loss: 1.0343 - accuracy: 0.6651\n",
      "Epoch 12/100\n",
      "33/33 [==============================] - 1s 22ms/step - loss: 0.9321 - accuracy: 0.6893\n",
      "Epoch 13/100\n",
      "33/33 [==============================] - 1s 23ms/step - loss: 0.9018 - accuracy: 0.6893\n",
      "Epoch 14/100\n",
      "33/33 [==============================] - 1s 25ms/step - loss: 0.8226 - accuracy: 0.7096\n",
      "Epoch 15/100\n",
      "33/33 [==============================] - 1s 26ms/step - loss: 0.8731 - accuracy: 0.7125\n",
      "Epoch 16/100\n",
      "33/33 [==============================] - 1s 23ms/step - loss: 0.8122 - accuracy: 0.7377\n",
      "Epoch 17/100\n",
      "33/33 [==============================] - 1s 25ms/step - loss: 0.7314 - accuracy: 0.7493\n",
      "Epoch 18/100\n",
      "33/33 [==============================] - 1s 22ms/step - loss: 0.6763 - accuracy: 0.7599\n",
      "Epoch 19/100\n",
      "33/33 [==============================] - 1s 23ms/step - loss: 0.7333 - accuracy: 0.7473\n",
      "Epoch 20/100\n",
      "33/33 [==============================] - 1s 23ms/step - loss: 0.7140 - accuracy: 0.7638\n",
      "Epoch 21/100\n",
      "33/33 [==============================] - 1s 24ms/step - loss: 0.5710 - accuracy: 0.8015\n",
      "Epoch 22/100\n",
      "33/33 [==============================] - 1s 22ms/step - loss: 0.5737 - accuracy: 0.8083\n",
      "Epoch 23/100\n",
      "33/33 [==============================] - 1s 24ms/step - loss: 0.5779 - accuracy: 0.8103\n",
      "Epoch 24/100\n",
      "33/33 [==============================] - 1s 22ms/step - loss: 0.4858 - accuracy: 0.8267\n",
      "Epoch 25/100\n",
      "33/33 [==============================] - 1s 23ms/step - loss: 0.4940 - accuracy: 0.8228\n",
      "Epoch 26/100\n",
      "33/33 [==============================] - 1s 23ms/step - loss: 0.4370 - accuracy: 0.8596\n",
      "Epoch 27/100\n",
      "33/33 [==============================] - 1s 22ms/step - loss: 0.5028 - accuracy: 0.8345\n",
      "Epoch 28/100\n",
      "33/33 [==============================] - 1s 23ms/step - loss: 0.4545 - accuracy: 0.8432\n",
      "Epoch 29/100\n",
      "33/33 [==============================] - 1s 24ms/step - loss: 0.4302 - accuracy: 0.8509\n",
      "Epoch 30/100\n",
      "33/33 [==============================] - 1s 23ms/step - loss: 0.4556 - accuracy: 0.8577\n",
      "Epoch 31/100\n",
      "33/33 [==============================] - 1s 24ms/step - loss: 0.3755 - accuracy: 0.8567\n",
      "Epoch 32/100\n",
      "33/33 [==============================] - 1s 24ms/step - loss: 0.3919 - accuracy: 0.8703\n",
      "Epoch 33/100\n",
      "33/33 [==============================] - 1s 24ms/step - loss: 0.5047 - accuracy: 0.8354\n",
      "Epoch 34/100\n",
      "33/33 [==============================] - 1s 23ms/step - loss: 0.3779 - accuracy: 0.8645\n",
      "Epoch 35/100\n",
      "33/33 [==============================] - 1s 23ms/step - loss: 0.4198 - accuracy: 0.8470\n",
      "Epoch 36/100\n",
      "33/33 [==============================] - 1s 26ms/step - loss: 0.3525 - accuracy: 0.8848\n",
      "Epoch 37/100\n",
      "33/33 [==============================] - 1s 27ms/step - loss: 0.3611 - accuracy: 0.8780\n",
      "Epoch 38/100\n",
      "33/33 [==============================] - 1s 24ms/step - loss: 0.3975 - accuracy: 0.8761\n",
      "Epoch 39/100\n",
      "33/33 [==============================] - 1s 25ms/step - loss: 0.2023 - accuracy: 0.9313\n",
      "Epoch 40/100\n",
      "33/33 [==============================] - 1s 22ms/step - loss: 0.2872 - accuracy: 0.8916\n",
      "Epoch 41/100\n",
      "33/33 [==============================] - 1s 23ms/step - loss: 0.2810 - accuracy: 0.8974\n",
      "Epoch 42/100\n",
      "33/33 [==============================] - 1s 23ms/step - loss: 0.5701 - accuracy: 0.8219\n",
      "Epoch 43/100\n",
      "33/33 [==============================] - 1s 24ms/step - loss: 0.3270 - accuracy: 0.8906\n",
      "Epoch 44/100\n",
      "33/33 [==============================] - 1s 23ms/step - loss: 0.2916 - accuracy: 0.9003\n",
      "Epoch 45/100\n",
      "33/33 [==============================] - 1s 26ms/step - loss: 0.4100 - accuracy: 0.8490\n",
      "Epoch 46/100\n",
      "33/33 [==============================] - 1s 26ms/step - loss: 0.3805 - accuracy: 0.8693\n",
      "Epoch 47/100\n",
      "33/33 [==============================] - 1s 27ms/step - loss: 0.4977 - accuracy: 0.8558\n",
      "Epoch 48/100\n",
      "33/33 [==============================] - 1s 23ms/step - loss: 0.3334 - accuracy: 0.8935\n",
      "Epoch 49/100\n",
      "33/33 [==============================] - 1s 23ms/step - loss: 0.2660 - accuracy: 0.9032\n",
      "Epoch 50/100\n",
      "33/33 [==============================] - 1s 22ms/step - loss: 0.2094 - accuracy: 0.9274\n",
      "Epoch 51/100\n",
      "33/33 [==============================] - 1s 23ms/step - loss: 0.1945 - accuracy: 0.9303\n",
      "Epoch 52/100\n",
      "33/33 [==============================] - 1s 24ms/step - loss: 0.2301 - accuracy: 0.9138\n",
      "Epoch 53/100\n",
      "33/33 [==============================] - 1s 23ms/step - loss: 0.3201 - accuracy: 0.9003\n",
      "Epoch 54/100\n",
      "33/33 [==============================] - 1s 24ms/step - loss: 0.1972 - accuracy: 0.9303\n",
      "Epoch 55/100\n",
      "33/33 [==============================] - 1s 24ms/step - loss: 0.2285 - accuracy: 0.9177\n",
      "Epoch 56/100\n",
      "33/33 [==============================] - 1s 24ms/step - loss: 0.3393 - accuracy: 0.8955\n",
      "Epoch 57/100\n",
      "33/33 [==============================] - 1s 26ms/step - loss: 0.2397 - accuracy: 0.9226\n",
      "Epoch 58/100\n",
      "33/33 [==============================] - 1s 24ms/step - loss: 0.1580 - accuracy: 0.9380\n",
      "Epoch 59/100\n",
      "33/33 [==============================] - 1s 23ms/step - loss: 0.1556 - accuracy: 0.9409\n",
      "Epoch 60/100\n",
      "33/33 [==============================] - 1s 26ms/step - loss: 0.3015 - accuracy: 0.9080\n",
      "Epoch 61/100\n",
      "33/33 [==============================] - 1s 24ms/step - loss: 0.2236 - accuracy: 0.9226\n",
      "Epoch 62/100\n",
      "33/33 [==============================] - 1s 23ms/step - loss: 0.3256 - accuracy: 0.8964\n",
      "Epoch 63/100\n",
      "33/33 [==============================] - 1s 24ms/step - loss: 0.2454 - accuracy: 0.9022\n",
      "Epoch 64/100\n",
      "33/33 [==============================] - 1s 23ms/step - loss: 0.2669 - accuracy: 0.9013\n",
      "Epoch 65/100\n",
      "33/33 [==============================] - 1s 24ms/step - loss: 0.1988 - accuracy: 0.9313\n",
      "Epoch 66/100\n",
      "33/33 [==============================] - 1s 25ms/step - loss: 0.1304 - accuracy: 0.9584\n",
      "Epoch 67/100\n",
      "33/33 [==============================] - 1s 24ms/step - loss: 0.1117 - accuracy: 0.9622\n",
      "Epoch 68/100\n",
      "33/33 [==============================] - 1s 24ms/step - loss: 0.1339 - accuracy: 0.9506\n",
      "Epoch 69/100\n",
      "33/33 [==============================] - 1s 25ms/step - loss: 0.1682 - accuracy: 0.9448\n",
      "Epoch 70/100\n",
      "33/33 [==============================] - 1s 25ms/step - loss: 0.1712 - accuracy: 0.9332\n",
      "Epoch 71/100\n",
      "33/33 [==============================] - 1s 23ms/step - loss: 0.2037 - accuracy: 0.9293\n",
      "Epoch 72/100\n",
      "33/33 [==============================] - 1s 23ms/step - loss: 0.2034 - accuracy: 0.9255\n",
      "Epoch 73/100\n",
      "33/33 [==============================] - 1s 25ms/step - loss: 0.2964 - accuracy: 0.9129\n",
      "Epoch 74/100\n",
      "33/33 [==============================] - 1s 23ms/step - loss: 0.4038 - accuracy: 0.8703\n",
      "Epoch 75/100\n",
      "33/33 [==============================] - 1s 23ms/step - loss: 0.1916 - accuracy: 0.9351\n",
      "Epoch 76/100\n",
      "33/33 [==============================] - 1s 23ms/step - loss: 0.3978 - accuracy: 0.8838\n",
      "Epoch 77/100\n",
      "33/33 [==============================] - 1s 23ms/step - loss: 0.2780 - accuracy: 0.9071\n",
      "Epoch 78/100\n",
      "33/33 [==============================] - 1s 23ms/step - loss: 0.2980 - accuracy: 0.9061\n",
      "Epoch 79/100\n",
      "33/33 [==============================] - 1s 23ms/step - loss: 0.4178 - accuracy: 0.8722\n",
      "Epoch 80/100\n",
      "33/33 [==============================] - 1s 22ms/step - loss: 0.2214 - accuracy: 0.9264\n",
      "Epoch 81/100\n",
      "33/33 [==============================] - 1s 24ms/step - loss: 0.1662 - accuracy: 0.9419\n",
      "Epoch 82/100\n"
     ]
    },
    {
     "name": "stdout",
     "output_type": "stream",
     "text": [
      "33/33 [==============================] - 1s 22ms/step - loss: 0.2102 - accuracy: 0.9371\n",
      "Epoch 83/100\n",
      "33/33 [==============================] - 1s 23ms/step - loss: 0.2266 - accuracy: 0.9187\n",
      "Epoch 84/100\n",
      "33/33 [==============================] - 1s 23ms/step - loss: 0.1473 - accuracy: 0.9468\n",
      "Epoch 85/100\n",
      "33/33 [==============================] - 1s 23ms/step - loss: 0.1077 - accuracy: 0.9632\n",
      "Epoch 86/100\n",
      "33/33 [==============================] - 1s 22ms/step - loss: 0.1147 - accuracy: 0.9603\n",
      "Epoch 87/100\n",
      "33/33 [==============================] - 1s 25ms/step - loss: 0.0949 - accuracy: 0.9642\n",
      "Epoch 88/100\n",
      "33/33 [==============================] - 1s 23ms/step - loss: 0.1145 - accuracy: 0.9555\n",
      "Epoch 89/100\n",
      "33/33 [==============================] - 1s 23ms/step - loss: 0.1289 - accuracy: 0.9574\n",
      "Epoch 90/100\n",
      "33/33 [==============================] - 1s 25ms/step - loss: 0.1097 - accuracy: 0.9613\n",
      "Epoch 91/100\n",
      "33/33 [==============================] - 1s 23ms/step - loss: 0.1592 - accuracy: 0.9497\n",
      "Epoch 92/100\n",
      "33/33 [==============================] - 1s 23ms/step - loss: 0.2165 - accuracy: 0.9245\n",
      "Epoch 93/100\n",
      "33/33 [==============================] - 1s 23ms/step - loss: 0.2178 - accuracy: 0.9274\n",
      "Epoch 94/100\n",
      "33/33 [==============================] - 1s 23ms/step - loss: 0.1645 - accuracy: 0.9419\n",
      "Epoch 95/100\n",
      "33/33 [==============================] - 1s 23ms/step - loss: 0.1383 - accuracy: 0.9564\n",
      "Epoch 96/100\n",
      "33/33 [==============================] - 1s 23ms/step - loss: 0.1953 - accuracy: 0.9380\n",
      "Epoch 97/100\n",
      "33/33 [==============================] - 1s 23ms/step - loss: 0.2569 - accuracy: 0.9197\n",
      "Epoch 98/100\n",
      "33/33 [==============================] - 1s 22ms/step - loss: 0.1857 - accuracy: 0.9380\n",
      "Epoch 99/100\n",
      "33/33 [==============================] - 1s 23ms/step - loss: 0.1151 - accuracy: 0.9564\n",
      "Epoch 100/100\n",
      "33/33 [==============================] - 1s 23ms/step - loss: 0.1051 - accuracy: 0.9632\n"
     ]
    },
    {
     "data": {
      "text/plain": [
       "<keras.callbacks.History at 0x7f7e0c332a70>"
      ]
     },
     "execution_count": 25,
     "metadata": {},
     "output_type": "execute_result"
    }
   ],
   "source": [
    "model.fit(X_train, y_train, epochs=100)"
   ]
  },
  {
   "cell_type": "code",
   "execution_count": null,
   "id": "f25e0463",
   "metadata": {},
   "outputs": [],
   "source": []
  },
  {
   "cell_type": "markdown",
   "id": "57d11836",
   "metadata": {},
   "source": [
    "# Validation Set"
   ]
  },
  {
   "cell_type": "code",
   "execution_count": 27,
   "id": "3c8002a1",
   "metadata": {},
   "outputs": [],
   "source": [
    "df_val = pd.read_csv('../sample_sets/sample_validation.csv')"
   ]
  },
  {
   "cell_type": "code",
   "execution_count": 28,
   "id": "1d4d1aba",
   "metadata": {},
   "outputs": [],
   "source": [
    "X_val = df_val.drop(columns = ['class_type'])\n",
    "y_val = df_val['class_type']"
   ]
  },
  {
   "cell_type": "code",
   "execution_count": 31,
   "id": "101a59cc",
   "metadata": {},
   "outputs": [],
   "source": [
    "df_val[\"class_type\"] = pd.Categorical(df_val[\"class_type\"])\n",
    "df_val[\"class_type\"] = df_val.class_type.cat.codes"
   ]
  },
  {
   "cell_type": "code",
   "execution_count": 32,
   "id": "279138a6",
   "metadata": {},
   "outputs": [],
   "source": [
    "y_val=df_val['class_type']\n",
    "y_val=to_categorical(y_val, num_classes=26)"
   ]
  },
  {
   "cell_type": "code",
   "execution_count": 33,
   "id": "9b17ac75",
   "metadata": {},
   "outputs": [
    {
     "data": {
      "text/plain": [
       "(204, 63, 1)"
      ]
     },
     "execution_count": 33,
     "metadata": {},
     "output_type": "execute_result"
    }
   ],
   "source": [
    "X_val = np.reshape(np.array(X_val), (X_val.shape[0], X_val.shape[1], 1))\n",
    "X_val.shape"
   ]
  },
  {
   "cell_type": "code",
   "execution_count": 34,
   "id": "de800d66",
   "metadata": {},
   "outputs": [
    {
     "name": "stdout",
     "output_type": "stream",
     "text": [
      "7/7 [==============================] - 0s 7ms/step - loss: 1.3824 - accuracy: 0.8235\n"
     ]
    },
    {
     "data": {
      "text/plain": [
       "[1.3824421167373657, 0.8235294222831726]"
      ]
     },
     "execution_count": 34,
     "metadata": {},
     "output_type": "execute_result"
    }
   ],
   "source": [
    "model.evaluate(X_val, y_val)"
   ]
  },
  {
   "cell_type": "code",
   "execution_count": null,
   "id": "f5aa3c70",
   "metadata": {},
   "outputs": [],
   "source": []
  }
 ],
 "metadata": {
  "kernelspec": {
   "display_name": "Python 3 (ipykernel)",
   "language": "python",
   "name": "python3"
  },
  "language_info": {
   "codemirror_mode": {
    "name": "ipython",
    "version": 3
   },
   "file_extension": ".py",
   "mimetype": "text/x-python",
   "name": "python",
   "nbconvert_exporter": "python",
   "pygments_lexer": "ipython3",
   "version": "3.10.6"
  },
  "toc": {
   "base_numbering": 1,
   "nav_menu": {},
   "number_sections": true,
   "sideBar": true,
   "skip_h1_title": false,
   "title_cell": "Table of Contents",
   "title_sidebar": "Contents",
   "toc_cell": false,
   "toc_position": {},
   "toc_section_display": true,
   "toc_window_display": false
  }
 },
 "nbformat": 4,
 "nbformat_minor": 5
}
