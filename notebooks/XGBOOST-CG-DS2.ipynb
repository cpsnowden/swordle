{
 "cells": [
  {
   "cell_type": "markdown",
   "id": "4bdb1a64",
   "metadata": {},
   "source": [
    "# Sign Game Server"
   ]
  },
  {
   "cell_type": "code",
   "execution_count": 71,
   "id": "613a1722",
   "metadata": {},
   "outputs": [],
   "source": [
    "# Imports\n",
    "import numpy as np\n",
    "import pandas as pd\n",
    "import matplotlib.pyplot as plt\n",
    "from tensorflow.keras import models\n",
    "from tensorflow.keras import Sequential, layers\n",
    "from sklearn.preprocessing import LabelEncoder, StandardScaler\n",
    "from sklearn.model_selection import train_test_split\n",
    "from tensorflow.keras.utils import to_categorical\n",
    "from tensorflow.keras.callbacks import EarlyStopping\n",
    "import string\n",
    "from sklearn.preprocessing import LabelEncoder, OrdinalEncoder\n",
    "from sklearn.neighbors import KNeighborsClassifier\n",
    "from sklearn.metrics import accuracy_score\n",
    "import xgboost as xgb\n",
    "import timeit\n",
    "\n",
    "from sign_game.ml.landmarks import Landmarks\n",
    "import cv2"
   ]
  },
  {
   "cell_type": "markdown",
   "id": "3e8360e0",
   "metadata": {
    "heading_collapsed": true
   },
   "source": [
    "## Dataset Preprocessing"
   ]
  },
  {
   "cell_type": "code",
   "execution_count": 2,
   "id": "70fb64fa",
   "metadata": {
    "hidden": true
   },
   "outputs": [],
   "source": [
    "# Dataset\n",
    "df_train = pd.read_csv('/Users/calebgarfinkel/Documents/Study/Le Wagon/Project/data/train.csv')\n",
    "df_test = pd.read_csv('/Users/calebgarfinkel/Documents/Study/Le Wagon/Project/data/test.csv')"
   ]
  },
  {
   "cell_type": "code",
   "execution_count": 3,
   "id": "16decf9a",
   "metadata": {
    "hidden": true
   },
   "outputs": [
    {
     "data": {
      "text/plain": [
       "Index(['Unnamed: 0', 'WRIST_X', 'WRIST_Y', 'WRIST_Z', 'THUMB_CMC_X',\n",
       "       'THUMB_CMC_Y', 'THUMB_CMC_Z', 'THUMB_MCP_X', 'THUMB_MCP_Y',\n",
       "       'THUMB_MCP_Z', 'THUMB_IP_X', 'THUMB_IP_Y', 'THUMB_IP_Z', 'THUMB_TIP_X',\n",
       "       'THUMB_TIP_Y', 'THUMB_TIP_Z', 'INDEX_FINGER_MCP_X',\n",
       "       'INDEX_FINGER_MCP_Y', 'INDEX_FINGER_MCP_Z', 'INDEX_FINGER_PIP_X',\n",
       "       'INDEX_FINGER_PIP_Y', 'INDEX_FINGER_PIP_Z', 'INDEX_FINGER_DIP_X',\n",
       "       'INDEX_FINGER_DIP_Y', 'INDEX_FINGER_DIP_Z', 'INDEX_FINGER_TIP_X',\n",
       "       'INDEX_FINGER_TIP_Y', 'INDEX_FINGER_TIP_Z', 'MIDDLE_FINGER_MCP_X',\n",
       "       'MIDDLE_FINGER_MCP_Y', 'MIDDLE_FINGER_MCP_Z', 'MIDDLE_FINGER_PIP_X',\n",
       "       'MIDDLE_FINGER_PIP_Y', 'MIDDLE_FINGER_PIP_Z', 'MIDDLE_FINGER_DIP_X',\n",
       "       'MIDDLE_FINGER_DIP_Y', 'MIDDLE_FINGER_DIP_Z', 'MIDDLE_FINGER_TIP_X',\n",
       "       'MIDDLE_FINGER_TIP_Y', 'MIDDLE_FINGER_TIP_Z', 'RING_FINGER_MCP_X',\n",
       "       'RING_FINGER_MCP_Y', 'RING_FINGER_MCP_Z', 'RING_FINGER_PIP_X',\n",
       "       'RING_FINGER_PIP_Y', 'RING_FINGER_PIP_Z', 'RING_FINGER_DIP_X',\n",
       "       'RING_FINGER_DIP_Y', 'RING_FINGER_DIP_Z', 'RING_FINGER_TIP_X',\n",
       "       'RING_FINGER_TIP_Y', 'RING_FINGER_TIP_Z', 'PINKY_MCP_X', 'PINKY_MCP_Y',\n",
       "       'PINKY_MCP_Z', 'PINKY_PIP_X', 'PINKY_PIP_Y', 'PINKY_PIP_Z',\n",
       "       'PINKY_DIP_X', 'PINKY_DIP_Y', 'PINKY_DIP_Z', 'PINKY_TIP_X',\n",
       "       'PINKY_TIP_Y', 'PINKY_TIP_Z', 'TARGET', 'PATH'],\n",
       "      dtype='object')"
      ]
     },
     "execution_count": 3,
     "metadata": {},
     "output_type": "execute_result"
    }
   ],
   "source": [
    "df_test.columns"
   ]
  },
  {
   "cell_type": "code",
   "execution_count": 4,
   "id": "7097a18b",
   "metadata": {
    "hidden": true
   },
   "outputs": [],
   "source": [
    "# Drop unwanted columns in train/test sets\n",
    "df_test = df_test.drop(columns=df_test.columns[[0, -1]], axis=1)\n",
    "df_train = df_train.drop(columns=df_train.columns[[0, -1]], axis=1)"
   ]
  },
  {
   "cell_type": "code",
   "execution_count": 66,
   "id": "07cd62ef",
   "metadata": {
    "hidden": true
   },
   "outputs": [
    {
     "data": {
      "text/plain": [
       "(172629, 64)"
      ]
     },
     "execution_count": 66,
     "metadata": {},
     "output_type": "execute_result"
    }
   ],
   "source": [
    "df_t.shape"
   ]
  },
  {
   "cell_type": "code",
   "execution_count": 5,
   "id": "74302f18",
   "metadata": {
    "hidden": true
   },
   "outputs": [],
   "source": [
    "# Drop NA values, reset index\n",
    "df_train = df_train.dropna().reset_index(drop=True)\n",
    "df_test = df_test.dropna().reset_index(drop=True)"
   ]
  },
  {
   "cell_type": "code",
   "execution_count": 6,
   "id": "68a0de4d",
   "metadata": {
    "hidden": true
   },
   "outputs": [],
   "source": [
    "X_train, y_train = df_train.drop(\"TARGET\", axis=1), df_train[['TARGET']]\n",
    "X_test, y_test = df_test.drop(\"TARGET\", axis=1), df_test[['TARGET']]"
   ]
  },
  {
   "cell_type": "code",
   "execution_count": 7,
   "id": "689ba271",
   "metadata": {
    "hidden": true
   },
   "outputs": [],
   "source": [
    "X_test, X_val, y_test, y_val = train_test_split(\n",
    "    X_test, y_test, test_size = 0.5, random_state = 42)"
   ]
  },
  {
   "cell_type": "code",
   "execution_count": 8,
   "id": "7743bc09",
   "metadata": {
    "hidden": true
   },
   "outputs": [
    {
     "data": {
      "text/plain": [
       "(21650, 1)"
      ]
     },
     "execution_count": 8,
     "metadata": {},
     "output_type": "execute_result"
    }
   ],
   "source": [
    "y_test.shape"
   ]
  },
  {
   "cell_type": "code",
   "execution_count": 9,
   "id": "cf3d7795",
   "metadata": {
    "hidden": true
   },
   "outputs": [],
   "source": [
    "# Encode y to numeric\n",
    "oe = OrdinalEncoder()\n",
    "oe.fit(y_train.values.reshape(-1,1))\n",
    "y_train_enc = oe.transform(y_train.values.reshape(-1,1))\n",
    "y_val_enc = oe.transform(y_val.values.reshape(-1,1))\n",
    "y_test_enc = oe.transform(y_test.values.reshape(-1,1))"
   ]
  },
  {
   "cell_type": "markdown",
   "id": "af5c96b6",
   "metadata": {},
   "source": [
    "## Run below to load model"
   ]
  },
  {
   "cell_type": "code",
   "execution_count": null,
   "id": "dcba36d3",
   "metadata": {},
   "outputs": [],
   "source": [
    "model = xgb.Booster()\n",
    "model.load_model('model_xgboost.h5')"
   ]
  },
  {
   "cell_type": "markdown",
   "id": "19769d92",
   "metadata": {
    "heading_collapsed": true
   },
   "source": [
    "## Run Below to Retrain Model"
   ]
  },
  {
   "cell_type": "code",
   "execution_count": 12,
   "id": "40fd916f",
   "metadata": {
    "hidden": true
   },
   "outputs": [
    {
     "name": "stdout",
     "output_type": "stream",
     "text": [
      "[0]\teval-mlogloss:3.15856\ttrain-mlogloss:3.15520\n",
      "[20]\teval-mlogloss:2.14679\ttrain-mlogloss:2.10184\n",
      "[40]\teval-mlogloss:1.67679\ttrain-mlogloss:1.61056\n",
      "[60]\teval-mlogloss:1.37432\ttrain-mlogloss:1.29364\n",
      "[80]\teval-mlogloss:1.15502\ttrain-mlogloss:1.06397\n",
      "[100]\teval-mlogloss:0.98615\ttrain-mlogloss:0.88754\n",
      "[120]\teval-mlogloss:0.85231\ttrain-mlogloss:0.74842\n",
      "[140]\teval-mlogloss:0.74432\ttrain-mlogloss:0.63586\n",
      "[160]\teval-mlogloss:0.65574\ttrain-mlogloss:0.54349\n",
      "[180]\teval-mlogloss:0.58270\ttrain-mlogloss:0.46755\n",
      "[200]\teval-mlogloss:0.52169\ttrain-mlogloss:0.40410\n",
      "[220]\teval-mlogloss:0.47034\ttrain-mlogloss:0.35090\n",
      "[240]\teval-mlogloss:0.42726\ttrain-mlogloss:0.30631\n",
      "[260]\teval-mlogloss:0.39030\ttrain-mlogloss:0.26833\n",
      "[280]\teval-mlogloss:0.35893\ttrain-mlogloss:0.23614\n",
      "[300]\teval-mlogloss:0.33188\ttrain-mlogloss:0.20883\n",
      "[320]\teval-mlogloss:0.30864\ttrain-mlogloss:0.18539\n",
      "[340]\teval-mlogloss:0.28853\ttrain-mlogloss:0.16529\n",
      "[360]\teval-mlogloss:0.27136\ttrain-mlogloss:0.14838\n",
      "[380]\teval-mlogloss:0.25645\ttrain-mlogloss:0.13382\n",
      "[400]\teval-mlogloss:0.24334\ttrain-mlogloss:0.12117\n",
      "[420]\teval-mlogloss:0.23208\ttrain-mlogloss:0.11027\n",
      "[440]\teval-mlogloss:0.22227\ttrain-mlogloss:0.10080\n",
      "[460]\teval-mlogloss:0.21351\ttrain-mlogloss:0.09256\n",
      "[480]\teval-mlogloss:0.20580\ttrain-mlogloss:0.08531\n",
      "[500]\teval-mlogloss:0.19899\ttrain-mlogloss:0.07900\n",
      "[520]\teval-mlogloss:0.19289\ttrain-mlogloss:0.07337\n",
      "[540]\teval-mlogloss:0.18739\ttrain-mlogloss:0.06841\n",
      "[560]\teval-mlogloss:0.18242\ttrain-mlogloss:0.06399\n",
      "[580]\teval-mlogloss:0.17805\ttrain-mlogloss:0.06011\n",
      "[600]\teval-mlogloss:0.17409\ttrain-mlogloss:0.05665\n",
      "[620]\teval-mlogloss:0.17053\ttrain-mlogloss:0.05356\n",
      "[640]\teval-mlogloss:0.16729\ttrain-mlogloss:0.05081\n",
      "[660]\teval-mlogloss:0.16431\ttrain-mlogloss:0.04836\n",
      "[680]\teval-mlogloss:0.16167\ttrain-mlogloss:0.04619\n",
      "[700]\teval-mlogloss:0.15924\ttrain-mlogloss:0.04418\n",
      "[720]\teval-mlogloss:0.15703\ttrain-mlogloss:0.04237\n",
      "[740]\teval-mlogloss:0.15504\ttrain-mlogloss:0.04073\n",
      "[760]\teval-mlogloss:0.15324\ttrain-mlogloss:0.03929\n",
      "[780]\teval-mlogloss:0.15157\ttrain-mlogloss:0.03802\n",
      "[800]\teval-mlogloss:0.14996\ttrain-mlogloss:0.03679\n",
      "[820]\teval-mlogloss:0.14853\ttrain-mlogloss:0.03570\n",
      "[840]\teval-mlogloss:0.14722\ttrain-mlogloss:0.03473\n",
      "[860]\teval-mlogloss:0.14595\ttrain-mlogloss:0.03380\n",
      "[880]\teval-mlogloss:0.14481\ttrain-mlogloss:0.03298\n",
      "[900]\teval-mlogloss:0.14380\ttrain-mlogloss:0.03227\n",
      "[920]\teval-mlogloss:0.14294\ttrain-mlogloss:0.03166\n",
      "[940]\teval-mlogloss:0.14227\ttrain-mlogloss:0.03120\n",
      "[960]\teval-mlogloss:0.14177\ttrain-mlogloss:0.03086\n",
      "[980]\teval-mlogloss:0.14139\ttrain-mlogloss:0.03061\n",
      "[999]\teval-mlogloss:0.14107\ttrain-mlogloss:0.03040\n"
     ]
    }
   ],
   "source": [
    "params = {\n",
    "    \"max_depth\": 10,\n",
    "    \"learning_rate\": 0.01,\n",
    "    \"gamma\" : 1,\n",
    "    \"objective\": \"multi:softprob\", \n",
    "    \"tree_method\": \"hist\", \n",
    "    \"num_class\": 26\n",
    "}\n",
    "\n",
    "\n",
    "dtrain_clf = xgb.DMatrix(X_train, label=y_train_enc)\n",
    "dval_clf = xgb.DMatrix(X_val, label=y_val_enc)\n",
    "\n",
    "evallist = [(dval_clf, 'eval'), (dtrain_clf, 'train')]\n",
    "\n",
    "num_rounds = 1000\n",
    "\n",
    "model = xgb.train(params = params, \n",
    "                  dtrain = dtrain_clf, \n",
    "                  num_boost_round = num_rounds, \n",
    "                  evals = evallist,\n",
    "                  verbose_eval = 20,\n",
    "                  early_stopping_rounds = 50\n",
    "                 )\n"
   ]
  },
  {
   "cell_type": "markdown",
   "id": "b4e700d9",
   "metadata": {},
   "source": [
    "## Evaluate Model"
   ]
  },
  {
   "cell_type": "code",
   "execution_count": 77,
   "id": "9532d9d5",
   "metadata": {},
   "outputs": [
    {
     "name": "stdout",
     "output_type": "stream",
     "text": [
      "Accuracy: 96.22%\n"
     ]
    }
   ],
   "source": [
    "dtest = xgb.DMatrix(X_test)\n",
    "y_pred = np.argmax(model.predict(dtest), axis=1)\n",
    "\n",
    "accuracy = accuracy_score(y_test_enc, y_pred)\n",
    "print(\"Accuracy: %.2f%%\" % (accuracy * 100.0))"
   ]
  },
  {
   "cell_type": "code",
   "execution_count": 78,
   "id": "b5505dec",
   "metadata": {
    "scrolled": false
   },
   "outputs": [],
   "source": [
    "from sign_game.ml.evaluate import evaluate_model"
   ]
  },
  {
   "cell_type": "code",
   "execution_count": 79,
   "id": "b6e3d85a",
   "metadata": {},
   "outputs": [
    {
     "data": {
      "image/png": "[encoded data removed]",
      "text/plain": [
       "<Figure size 1000x1000 with 2 Axes>"
      ]
     },
     "metadata": {},
     "output_type": "display_data"
    },
    {
     "name": "stdout",
     "output_type": "stream",
     "text": [
      "              precision    recall  f1-score   support\n",
      "\n",
      "         0.0       0.96      0.95      0.96       882\n",
      "         1.0       0.98      0.99      0.99       891\n",
      "         2.0       0.97      0.98      0.97       844\n",
      "         3.0       0.98      0.98      0.98       954\n",
      "         4.0       0.96      0.97      0.96       932\n",
      "         5.0       0.98      0.99      0.98       933\n",
      "         6.0       0.96      0.96      0.96       838\n",
      "         7.0       0.97      0.95      0.96       758\n",
      "         8.0       0.96      0.96      0.96       839\n",
      "         9.0       0.96      0.96      0.96       843\n",
      "        10.0       0.99      0.96      0.98       960\n",
      "        11.0       0.99      0.97      0.98       952\n",
      "        12.0       0.95      0.96      0.95       718\n",
      "        13.0       0.96      0.93      0.95       594\n",
      "        14.0       0.96      0.97      0.96       834\n",
      "        15.0       0.95      0.97      0.96       634\n",
      "        16.0       0.95      0.95      0.95       714\n",
      "        17.0       0.94      0.95      0.95       883\n",
      "        18.0       0.92      0.95      0.94       778\n",
      "        19.0       0.94      0.95      0.95       850\n",
      "        20.0       0.90      0.92      0.91       677\n",
      "        21.0       0.97      0.95      0.96       863\n",
      "        22.0       0.98      0.97      0.97       855\n",
      "        23.0       0.96      0.96      0.96       909\n",
      "        24.0       0.98      0.97      0.97       847\n",
      "        25.0       0.96      0.96      0.96       868\n",
      "\n",
      "    accuracy                           0.96     21650\n",
      "   macro avg       0.96      0.96      0.96     21650\n",
      "weighted avg       0.96      0.96      0.96     21650\n",
      "\n"
     ]
    }
   ],
   "source": [
    "evaluate_model(y_test_enc, y_pred)"
   ]
  },
  {
   "cell_type": "markdown",
   "id": "b2bd2426",
   "metadata": {
    "heading_collapsed": true
   },
   "source": [
    "## Run to save model"
   ]
  },
  {
   "cell_type": "code",
   "execution_count": 75,
   "id": "00853bbc",
   "metadata": {
    "hidden": true
   },
   "outputs": [],
   "source": [
    "model.save_model(\"model_xgboost.h5\")"
   ]
  },
  {
   "cell_type": "markdown",
   "id": "47601b50",
   "metadata": {},
   "source": [
    "# Testing"
   ]
  },
  {
   "cell_type": "code",
   "execution_count": 15,
   "id": "1a624c3c",
   "metadata": {
    "scrolled": true
   },
   "outputs": [
    {
     "name": "stderr",
     "output_type": "stream",
     "text": [
      "INFO: Created TensorFlow Lite XNNPACK delegate for CPU.\n"
     ]
    }
   ],
   "source": [
    "landmarks = Landmarks()"
   ]
  },
  {
   "cell_type": "code",
   "execution_count": 16,
   "id": "716e537b",
   "metadata": {},
   "outputs": [],
   "source": [
    "image=cv2.imread('../sample_sets/img/Letter.png')"
   ]
  },
  {
   "cell_type": "code",
   "execution_count": 17,
   "id": "361360a6",
   "metadata": {},
   "outputs": [],
   "source": [
    "cv2_img_w_landmarks, landmark_object = landmarks.image_to_landmark(image, draw_landmarks=True)"
   ]
  },
  {
   "cell_type": "code",
   "execution_count": 18,
   "id": "6c3fa263",
   "metadata": {
    "scrolled": true
   },
   "outputs": [],
   "source": [
    "img_test = pd.DataFrame.from_dict([landmark_object])"
   ]
  },
  {
   "cell_type": "code",
   "execution_count": 19,
   "id": "b4d740ae",
   "metadata": {},
   "outputs": [
    {
     "data": {
      "text/html": [
       "<div>\n",
       "<style scoped>\n",
       "    .dataframe tbody tr th:only-of-type {\n",
       "        vertical-align: middle;\n",
       "    }\n",
       "\n",
       "    .dataframe tbody tr th {\n",
       "        vertical-align: top;\n",
       "    }\n",
       "\n",
       "    .dataframe thead th {\n",
       "        text-align: right;\n",
       "    }\n",
       "</style>\n",
       "<table border=\"1\" class=\"dataframe\">\n",
       "  <thead>\n",
       "    <tr style=\"text-align: right;\">\n",
       "      <th></th>\n",
       "      <th>WRIST_x</th>\n",
       "      <th>WRIST_y</th>\n",
       "      <th>WRIST_z</th>\n",
       "      <th>THUMB_CMC_x</th>\n",
       "      <th>THUMB_CMC_y</th>\n",
       "      <th>THUMB_CMC_z</th>\n",
       "      <th>THUMB_MCP_x</th>\n",
       "      <th>THUMB_MCP_y</th>\n",
       "      <th>THUMB_MCP_z</th>\n",
       "      <th>THUMB_IP_x</th>\n",
       "      <th>...</th>\n",
       "      <th>PINKY_MCP_z</th>\n",
       "      <th>PINKY_PIP_x</th>\n",
       "      <th>PINKY_PIP_y</th>\n",
       "      <th>PINKY_PIP_z</th>\n",
       "      <th>PINKY_DIP_x</th>\n",
       "      <th>PINKY_DIP_y</th>\n",
       "      <th>PINKY_DIP_z</th>\n",
       "      <th>PINKY_TIP_x</th>\n",
       "      <th>PINKY_TIP_y</th>\n",
       "      <th>PINKY_TIP_z</th>\n",
       "    </tr>\n",
       "  </thead>\n",
       "  <tbody>\n",
       "    <tr>\n",
       "      <th>0</th>\n",
       "      <td>0.261234</td>\n",
       "      <td>0.642789</td>\n",
       "      <td>-4.421173e-07</td>\n",
       "      <td>0.313893</td>\n",
       "      <td>0.610385</td>\n",
       "      <td>-0.014049</td>\n",
       "      <td>0.35688</td>\n",
       "      <td>0.54315</td>\n",
       "      <td>-0.020047</td>\n",
       "      <td>0.383495</td>\n",
       "      <td>...</td>\n",
       "      <td>-0.025077</td>\n",
       "      <td>0.251333</td>\n",
       "      <td>0.424395</td>\n",
       "      <td>-0.039875</td>\n",
       "      <td>0.255736</td>\n",
       "      <td>0.477642</td>\n",
       "      <td>-0.028354</td>\n",
       "      <td>0.254637</td>\n",
       "      <td>0.510424</td>\n",
       "      <td>-0.014955</td>\n",
       "    </tr>\n",
       "  </tbody>\n",
       "</table>\n",
       "<p>1 rows × 63 columns</p>\n",
       "</div>"
      ],
      "text/plain": [
       "    WRIST_x   WRIST_y       WRIST_z  THUMB_CMC_x  THUMB_CMC_y  THUMB_CMC_z  \\\n",
       "0  0.261234  0.642789 -4.421173e-07     0.313893     0.610385    -0.014049   \n",
       "\n",
       "   THUMB_MCP_x  THUMB_MCP_y  THUMB_MCP_z  THUMB_IP_x  ...  PINKY_MCP_z  \\\n",
       "0      0.35688      0.54315    -0.020047    0.383495  ...    -0.025077   \n",
       "\n",
       "   PINKY_PIP_x  PINKY_PIP_y  PINKY_PIP_z  PINKY_DIP_x  PINKY_DIP_y  \\\n",
       "0     0.251333     0.424395    -0.039875     0.255736     0.477642   \n",
       "\n",
       "   PINKY_DIP_z  PINKY_TIP_x  PINKY_TIP_y  PINKY_TIP_z  \n",
       "0    -0.028354     0.254637     0.510424    -0.014955  \n",
       "\n",
       "[1 rows x 63 columns]"
      ]
     },
     "execution_count": 19,
     "metadata": {},
     "output_type": "execute_result"
    }
   ],
   "source": [
    "img_test"
   ]
  },
  {
   "cell_type": "code",
   "execution_count": 20,
   "id": "3c3b8d51",
   "metadata": {},
   "outputs": [],
   "source": [
    "img_test = img_test.rename(columns=lambda x: x.replace('_x', '_X').replace('_y', '_Y').replace('_z', '_Z'))"
   ]
  },
  {
   "cell_type": "code",
   "execution_count": 23,
   "id": "56cc649c",
   "metadata": {
    "scrolled": true
   },
   "outputs": [],
   "source": [
    "dtest = xgb.DMatrix(img_test)\n",
    "y_pred = np.argmax(model.predict(dtest), axis=1)"
   ]
  },
  {
   "cell_type": "code",
   "execution_count": 24,
   "id": "3b2d34c5",
   "metadata": {},
   "outputs": [
    {
     "data": {
      "text/plain": [
       "array([18])"
      ]
     },
     "execution_count": 24,
     "metadata": {},
     "output_type": "execute_result"
    }
   ],
   "source": [
    "y_pred"
   ]
  },
  {
   "cell_type": "markdown",
   "id": "57d65ed7",
   "metadata": {},
   "source": [
    "## Test 2"
   ]
  },
  {
   "cell_type": "code",
   "execution_count": 57,
   "id": "477d6924",
   "metadata": {},
   "outputs": [
    {
     "data": {
      "text/plain": [
       "array([20])"
      ]
     },
     "execution_count": 57,
     "metadata": {},
     "output_type": "execute_result"
    }
   ],
   "source": [
    "image = cv2.imread('../sample_sets/img/letter_r.jpg')\n",
    "cv2_img_w_landmarks, landmark_object = landmarks.image_to_landmark(image, draw_landmarks=True)\n",
    "img_test = pd.DataFrame.from_dict([landmark_object])\n",
    "img_test = img_test.rename(columns=lambda x: x.replace('_x', '_X').replace('_y', '_Y').replace('_z', '_Z'))\n",
    "\n",
    "dtest = xgb.DMatrix(img_test)\n",
    "y_pred = np.argmax(model.predict(dtest), axis=1)\n",
    "y_pred"
   ]
  },
  {
   "cell_type": "code",
   "execution_count": 84,
   "id": "9bbc158a",
   "metadata": {},
   "outputs": [
    {
     "name": "stdout",
     "output_type": "stream",
     "text": [
      "Time taken to run this cell: 0.052486 seconds\n",
      "[20]\n"
     ]
    }
   ],
   "source": [
    "start_time = timeit.default_timer()\n",
    "\n",
    "image = cv2.imread('../sample_sets/img/letter_u.jpg')\n",
    "cv2_img_w_landmarks, landmark_object = landmarks.image_to_landmark(image, draw_landmarks=True)\n",
    "img_test = pd.DataFrame.from_dict([landmark_object])\n",
    "img_test = img_test.rename(columns=lambda x: x.replace('_x', '_X').replace('_y', '_Y').replace('_z', '_Z'))\n",
    "\n",
    "dtest = xgb.DMatrix(img_test)\n",
    "y_pred = np.argmax(model.predict(dtest), axis=1)\n",
    "\n",
    "elapsed = timeit.default_timer() - start_time\n",
    "print(f\"Time taken to run this cell: {elapsed:.6f} seconds\")\n",
    "print(y_pred)\n"
   ]
  },
  {
   "cell_type": "code",
   "execution_count": 83,
   "id": "509d1499",
   "metadata": {},
   "outputs": [
    {
     "name": "stdout",
     "output_type": "stream",
     "text": [
      "Time taken to run this cell: 0.148054 seconds\n",
      "[8]\n"
     ]
    }
   ],
   "source": [
    "# let's add timeit to calculate how long it takes to run this cell?\n",
    "\n",
    "start_time = timeit.default_timer()\n",
    "\n",
    "image = cv2.imread('../sample_sets/img/letter_i.png')\n",
    "cv2_img_w_landmarks, landmark_object = landmarks.image_to_landmark(image, draw_landmarks=True)\n",
    "img_test = pd.DataFrame.from_dict([landmark_object])\n",
    "img_test = img_test.rename(columns=lambda x: x.replace('_x', '_X').replace('_y', '_Y').replace('_z', '_Z'))\n",
    "\n",
    "dtest = xgb.DMatrix(img_test)\n",
    "y_pred = np.argmax(model.predict(dtest), axis=1)\n",
    "\n",
    "elapsed = timeit.default_timer() - start_time\n",
    "print(f\"Time taken to run this cell: {elapsed:.6f} seconds\")\n",
    "print(y_pred)\n"
   ]
  },
  {
   "cell_type": "code",
   "execution_count": null,
   "id": "986bd571",
   "metadata": {},
   "outputs": [],
   "source": []
  }
 ],
 "metadata": {
  "kernelspec": {
   "display_name": "Python 3 (ipykernel)",
   "language": "python",
   "name": "python3"
  },
  "language_info": {
   "codemirror_mode": {
    "name": "ipython",
    "version": 3
   },
   "file_extension": ".py",
   "mimetype": "text/x-python",
   "name": "python",
   "nbconvert_exporter": "python",
   "pygments_lexer": "ipython3",
   "version": "3.10.6"
  },
  "toc": {
   "base_numbering": 1,
   "nav_menu": {},
   "number_sections": true,
   "sideBar": true,
   "skip_h1_title": false,
   "title_cell": "Table of Contents",
   "title_sidebar": "Contents",
   "toc_cell": false,
   "toc_position": {},
   "toc_section_display": true,
   "toc_window_display": false
  }
 },
 "nbformat": 4,
 "nbformat_minor": 5
}
