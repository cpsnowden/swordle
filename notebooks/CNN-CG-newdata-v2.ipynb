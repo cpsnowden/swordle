{
 "cells": [
  {
   "cell_type": "markdown",
   "id": "4bdb1a64",
   "metadata": {},
   "source": [
    "# Sign Game Server"
   ]
  },
  {
   "cell_type": "markdown",
   "id": "f90694f4",
   "metadata": {},
   "source": [
    "Game Plan:"
   ]
  },
  {
   "cell_type": "code",
   "execution_count": 3,
   "id": "613a1722",
   "metadata": {},
   "outputs": [
    {
     "name": "stderr",
     "output_type": "stream",
     "text": [
      "2023-03-08 23:56:29.585048: I tensorflow/core/platform/cpu_feature_guard.cc:193] This TensorFlow binary is optimized with oneAPI Deep Neural Network Library (oneDNN) to use the following CPU instructions in performance-critical operations:  AVX2 FMA\n",
      "To enable them in other operations, rebuild TensorFlow with the appropriate compiler flags.\n",
      "2023-03-08 23:56:29.730440: W tensorflow/stream_executor/platform/default/dso_loader.cc:64] Could not load dynamic library 'libcudart.so.11.0'; dlerror: libcudart.so.11.0: cannot open shared object file: No such file or directory\n",
      "2023-03-08 23:56:29.730462: I tensorflow/stream_executor/cuda/cudart_stub.cc:29] Ignore above cudart dlerror if you do not have a GPU set up on your machine.\n",
      "2023-03-08 23:56:29.759215: E tensorflow/stream_executor/cuda/cuda_blas.cc:2981] Unable to register cuBLAS factory: Attempting to register factory for plugin cuBLAS when one has already been registered\n",
      "2023-03-08 23:56:30.562505: W tensorflow/stream_executor/platform/default/dso_loader.cc:64] Could not load dynamic library 'libnvinfer.so.7'; dlerror: libnvinfer.so.7: cannot open shared object file: No such file or directory\n",
      "2023-03-08 23:56:30.562608: W tensorflow/stream_executor/platform/default/dso_loader.cc:64] Could not load dynamic library 'libnvinfer_plugin.so.7'; dlerror: libnvinfer_plugin.so.7: cannot open shared object file: No such file or directory\n",
      "2023-03-08 23:56:30.562616: W tensorflow/compiler/tf2tensorrt/utils/py_utils.cc:38] TF-TRT Warning: Cannot dlopen some TensorRT libraries. If you would like to use Nvidia GPU with TensorRT, please make sure the missing libraries mentioned above are installed properly.\n"
     ]
    }
   ],
   "source": [
    "# Imports\n",
    "import numpy as np\n",
    "import pandas as pd\n",
    "import matplotlib.pyplot as plt\n",
    "from tensorflow.keras import models\n",
    "from tensorflow.keras import Sequential, layers\n",
    "from sklearn.preprocessing import LabelEncoder\n",
    "from sklearn.model_selection import train_test_split\n",
    "from tensorflow.keras.utils import to_categorical\n",
    "from tensorflow.keras.callbacks import EarlyStopping\n",
    "import string"
   ]
  },
  {
   "cell_type": "code",
   "execution_count": 2,
   "id": "e4886fff",
   "metadata": {},
   "outputs": [
    {
     "ename": "ModuleNotFoundError",
     "evalue": "No module named 'sign_game'",
     "output_type": "error",
     "traceback": [
      "\u001b[0;31m---------------------------------------------------------------------------\u001b[0m",
      "\u001b[0;31mModuleNotFoundError\u001b[0m                       Traceback (most recent call last)",
      "Cell \u001b[0;32mIn[2], line 1\u001b[0m\n\u001b[0;32m----> 1\u001b[0m \u001b[39mfrom\u001b[39;00m \u001b[39msign_game\u001b[39;00m\u001b[39m.\u001b[39;00m\u001b[39mml\u001b[39;00m\u001b[39m.\u001b[39;00m\u001b[39mlandmarks\u001b[39;00m \u001b[39mimport\u001b[39;00m Landmarks\n",
      "\u001b[0;31mModuleNotFoundError\u001b[0m: No module named 'sign_game'"
     ]
    }
   ],
   "source": [
    "from sign_game.ml.landmarks import Landmarks"
   ]
  },
  {
   "cell_type": "code",
   "execution_count": 36,
   "id": "257b051f",
   "metadata": {},
   "outputs": [
    {
     "ename": "NameError",
     "evalue": "name 'Landmarks' is not defined",
     "output_type": "error",
     "traceback": [
      "\u001b[0;31m---------------------------------------------------------------------------\u001b[0m",
      "\u001b[0;31mNameError\u001b[0m                                 Traceback (most recent call last)",
      "Cell \u001b[0;32mIn[36], line 1\u001b[0m\n\u001b[0;32m----> 1\u001b[0m landmark \u001b[38;5;241m=\u001b[39m \u001b[43mLandmarks\u001b[49m()\n",
      "\u001b[0;31mNameError\u001b[0m: name 'Landmarks' is not defined"
     ]
    }
   ],
   "source": [
    "landmark = Landmarks()"
   ]
  },
  {
   "cell_type": "code",
   "execution_count": 4,
   "id": "17df61f2",
   "metadata": {
    "collapsed": true
   },
   "outputs": [
    {
     "name": "stderr",
     "output_type": "stream",
     "text": [
      "INFO: Created TensorFlow Lite XNNPACK delegate for CPU.\n"
     ]
    },
    {
     "name": "stdout",
     "output_type": "stream",
     "text": [
      "Package                  Version   Editable project location\r\n",
      "------------------------ --------- ----------------------------------------------------------\r\n",
      "absl-py                  1.4.0\r\n",
      "anyio                    3.6.2\r\n",
      "appnope                  0.1.3\r\n",
      "argon2-cffi              21.3.0\r\n",
      "argon2-cffi-bindings     21.2.0\r\n",
      "arrow                    1.2.3\r\n",
      "asttokens                2.2.1\r\n",
      "astunparse               1.6.3\r\n",
      "attrs                    22.2.0\r\n",
      "backcall                 0.2.0\r\n",
      "beautifulsoup4           4.11.2\r\n",
      "bleach                   6.0.0\r\n",
      "cachetools               5.3.0\r\n",
      "certifi                  2022.12.7\r\n",
      "cffi                     1.15.1\r\n",
      "charset-normalizer       3.1.0\r\n",
      "click                    8.1.3\r\n",
      "comm                     0.1.2\r\n",
      "contourpy                1.0.7\r\n",
      "cycler                   0.11.0\r\n",
      "debugpy                  1.6.6\r\n",
      "decorator                5.1.1\r\n",
      "defusedxml               0.7.1\r\n",
      "executing                1.2.0\r\n",
      "fastapi                  0.93.0\r\n",
      "fastjsonschema           2.16.3\r\n",
      "flatbuffers              23.3.3\r\n",
      "fonttools                4.39.0\r\n",
      "fqdn                     1.5.1\r\n",
      "gast                     0.4.0\r\n",
      "google-auth              2.16.2\r\n",
      "google-auth-oauthlib     0.4.6\r\n",
      "google-pasta             0.2.0\r\n",
      "grpcio                   1.51.3\r\n",
      "h11                      0.14.0\r\n",
      "h5py                     3.8.0\r\n",
      "httptools                0.5.0\r\n",
      "idna                     3.4\r\n",
      "ipykernel                6.21.3\r\n",
      "ipython                  8.11.0\r\n",
      "ipython-genutils         0.2.0\r\n",
      "ipywidgets               8.0.4\r\n",
      "isoduration              20.11.0\r\n",
      "jedi                     0.18.2\r\n",
      "Jinja2                   3.1.2\r\n",
      "joblib                   1.2.0\r\n",
      "jsonpointer              2.3\r\n",
      "jsonschema               4.17.3\r\n",
      "jupyter                  1.0.0\r\n",
      "jupyter_client           8.0.3\r\n",
      "jupyter-console          6.6.3\r\n",
      "jupyter_core             5.2.0\r\n",
      "jupyter-events           0.6.3\r\n",
      "jupyter_server           2.4.0\r\n",
      "jupyter_server_terminals 0.4.4\r\n",
      "jupyterlab-pygments      0.2.2\r\n",
      "jupyterlab-widgets       3.0.5\r\n",
      "keras                    2.11.0\r\n",
      "kiwisolver               1.4.4\r\n",
      "libclang                 15.0.6.1\r\n",
      "Markdown                 3.4.1\r\n",
      "MarkupSafe               2.1.2\r\n",
      "matplotlib               3.7.1\r\n",
      "matplotlib-inline        0.1.6\r\n",
      "mediapipe-silicon        0.9.1\r\n",
      "mistune                  2.0.5\r\n",
      "nbclassic                0.5.3\r\n",
      "nbclient                 0.7.2\r\n",
      "nbconvert                7.2.9\r\n",
      "nbformat                 5.7.3\r\n",
      "nest-asyncio             1.5.6\r\n",
      "notebook                 6.5.3\r\n",
      "notebook_shim            0.2.2\r\n",
      "numpy                    1.24.2\r\n",
      "oauthlib                 3.2.2\r\n",
      "opencv-contrib-python    4.7.0.72\r\n",
      "opencv-python            4.7.0.72\r\n",
      "opt-einsum               3.3.0\r\n",
      "packaging                23.0\r\n",
      "pandas                   1.5.3\r\n",
      "pandocfilters            1.5.0\r\n",
      "parso                    0.8.3\r\n",
      "pexpect                  4.8.0\r\n",
      "pickleshare              0.7.5\r\n",
      "Pillow                   9.4.0\r\n",
      "pip                      22.2.1\r\n",
      "platformdirs             3.1.0\r\n",
      "prometheus-client        0.16.0\r\n",
      "prompt-toolkit           3.0.38\r\n",
      "protobuf                 3.19.6\r\n",
      "psutil                   5.9.4\r\n",
      "ptyprocess               0.7.0\r\n",
      "pure-eval                0.2.2\r\n",
      "pyasn1                   0.4.8\r\n",
      "pyasn1-modules           0.2.8\r\n",
      "pycparser                2.21\r\n",
      "pydantic                 1.10.5\r\n",
      "Pygments                 2.14.0\r\n",
      "pyparsing                3.0.9\r\n",
      "pyrsistent               0.19.3\r\n",
      "python-dateutil          2.8.2\r\n",
      "python-dotenv            1.0.0\r\n",
      "python-json-logger       2.0.7\r\n",
      "pytz                     2022.7.1\r\n",
      "PyYAML                   6.0\r\n",
      "pyzmq                    25.0.0\r\n",
      "qtconsole                5.4.0\r\n",
      "QtPy                     2.3.0\r\n",
      "requests                 2.28.2\r\n",
      "requests-oauthlib        1.3.1\r\n",
      "rfc3339-validator        0.1.4\r\n",
      "rfc3986-validator        0.1.1\r\n",
      "rsa                      4.9\r\n",
      "scikit-learn             1.2.1\r\n",
      "scipy                    1.10.1\r\n",
      "Send2Trash               1.8.0\r\n",
      "setuptools               63.2.0\r\n",
      "SignGameServer           1.0       /Users/calebgarfinkel/code/CalebGarfinkel/sign-game-server\r\n",
      "six                      1.16.0\r\n",
      "sniffio                  1.3.0\r\n",
      "soupsieve                2.4\r\n",
      "stack-data               0.6.2\r\n",
      "starlette                0.25.0\r\n",
      "tensorboard              2.11.2\r\n",
      "tensorboard-data-server  0.6.1\r\n",
      "tensorboard-plugin-wit   1.8.1\r\n",
      "tensorflow-estimator     2.11.0\r\n",
      "tensorflow-macos         2.11.0\r\n",
      "termcolor                2.2.0\r\n",
      "terminado                0.17.1\r\n",
      "threadpoolctl            3.1.0\r\n",
      "tinycss2                 1.2.1\r\n",
      "tornado                  6.2\r\n",
      "traitlets                5.9.0\r\n",
      "typing_extensions        4.5.0\r\n",
      "uri-template             1.2.0\r\n",
      "urllib3                  1.26.14\r\n",
      "uvicorn                  0.20.0\r\n",
      "uvloop                   0.17.0\r\n",
      "watchfiles               0.18.1\r\n",
      "wcwidth                  0.2.6\r\n",
      "webcolors                1.12\r\n",
      "webencodings             0.5.1\r\n",
      "websocket-client         1.5.1\r\n",
      "websockets               10.4\r\n",
      "Werkzeug                 2.2.3\r\n",
      "wheel                    0.38.4\r\n",
      "widgetsnbextension       4.0.5\r\n",
      "wrapt                    1.15.0\r\n",
      "\r\n",
      "\u001b[1m[\u001b[0m\u001b[34;49mnotice\u001b[0m\u001b[1;39;49m]\u001b[0m\u001b[39;49m A new release of pip available: \u001b[0m\u001b[31;49m22.2.1\u001b[0m\u001b[39;49m -> \u001b[0m\u001b[32;49m23.0.1\u001b[0m\r\n",
      "\u001b[1m[\u001b[0m\u001b[34;49mnotice\u001b[0m\u001b[1;39;49m]\u001b[0m\u001b[39;49m To update, run: \u001b[0m\u001b[32;49mpython -m pip install --upgrade pip\u001b[0m\r\n"
     ]
    }
   ],
   "source": [
    "# !pip list"
   ]
  },
  {
   "cell_type": "markdown",
   "id": "bf1a4ebd",
   "metadata": {},
   "source": [
    "protobuf 3.11.0"
   ]
  },
  {
   "cell_type": "markdown",
   "id": "3e8360e0",
   "metadata": {},
   "source": [
    "## Dataset Preprocessing"
   ]
  },
  {
   "cell_type": "code",
   "execution_count": 43,
   "id": "70fb64fa",
   "metadata": {},
   "outputs": [],
   "source": [
    "# Dataset\n",
    "df1 = pd.read_csv('../raw_data/hand-landmarks.csv')"
   ]
  },
  {
   "cell_type": "code",
   "execution_count": 44,
   "id": "16decf9a",
   "metadata": {},
   "outputs": [
    {
     "data": {
      "text/plain": [
       "Index(['Unnamed: 0', 'WRIST_x', 'WRIST_y', 'WRIST_z', 'THUMB_CMC_x',\n",
       "       'THUMB_CMC_y', 'THUMB_CMC_z', 'THUMB_MCP_x', 'THUMB_MCP_y',\n",
       "       'THUMB_MCP_z', 'THUMB_IP_x', 'THUMB_IP_y', 'THUMB_IP_z', 'THUMB_TIP_x',\n",
       "       'THUMB_TIP_y', 'THUMB_TIP_z', 'INDEX_FINGER_MCP_x',\n",
       "       'INDEX_FINGER_MCP_y', 'INDEX_FINGER_MCP_z', 'INDEX_FINGER_PIP_x',\n",
       "       'INDEX_FINGER_PIP_y', 'INDEX_FINGER_PIP_z', 'INDEX_FINGER_DIP_x',\n",
       "       'INDEX_FINGER_DIP_y', 'INDEX_FINGER_DIP_z', 'INDEX_FINGER_TIP_x',\n",
       "       'INDEX_FINGER_TIP_y', 'INDEX_FINGER_TIP_z', 'MIDDLE_FINGER_MCP_x',\n",
       "       'MIDDLE_FINGER_MCP_y', 'MIDDLE_FINGER_MCP_z', 'MIDDLE_FINGER_PIP_x',\n",
       "       'MIDDLE_FINGER_PIP_y', 'MIDDLE_FINGER_PIP_z', 'MIDDLE_FINGER_DIP_x',\n",
       "       'MIDDLE_FINGER_DIP_y', 'MIDDLE_FINGER_DIP_z', 'MIDDLE_FINGER_TIP_x',\n",
       "       'MIDDLE_FINGER_TIP_y', 'MIDDLE_FINGER_TIP_z', 'RING_FINGER_MCP_x',\n",
       "       'RING_FINGER_MCP_y', 'RING_FINGER_MCP_z', 'RING_FINGER_PIP_x',\n",
       "       'RING_FINGER_PIP_y', 'RING_FINGER_PIP_z', 'RING_FINGER_DIP_x',\n",
       "       'RING_FINGER_DIP_y', 'RING_FINGER_DIP_z', 'RING_FINGER_TIP_x',\n",
       "       'RING_FINGER_TIP_y', 'RING_FINGER_TIP_z', 'PINKY_MCP_x', 'PINKY_MCP_y',\n",
       "       'PINKY_MCP_z', 'PINKY_PIP_x', 'PINKY_PIP_y', 'PINKY_PIP_z',\n",
       "       'PINKY_DIP_x', 'PINKY_DIP_y', 'PINKY_DIP_z', 'PINKY_TIP_x',\n",
       "       'PINKY_TIP_y', 'PINKY_TIP_z', 'TARGET'],\n",
       "      dtype='object')"
      ]
     },
     "execution_count": 44,
     "metadata": {},
     "output_type": "execute_result"
    }
   ],
   "source": [
    "df1.columns"
   ]
  },
  {
   "cell_type": "code",
   "execution_count": 45,
   "id": "7097a18b",
   "metadata": {},
   "outputs": [
    {
     "data": {
      "text/plain": [
       "Index(['WRIST_x', 'WRIST_y', 'WRIST_z', 'THUMB_CMC_x', 'THUMB_CMC_y',\n",
       "       'THUMB_CMC_z', 'THUMB_MCP_x', 'THUMB_MCP_y', 'THUMB_MCP_z',\n",
       "       'THUMB_IP_x', 'THUMB_IP_y', 'THUMB_IP_z', 'THUMB_TIP_x', 'THUMB_TIP_y',\n",
       "       'THUMB_TIP_z', 'INDEX_FINGER_MCP_x', 'INDEX_FINGER_MCP_y',\n",
       "       'INDEX_FINGER_MCP_z', 'INDEX_FINGER_PIP_x', 'INDEX_FINGER_PIP_y',\n",
       "       'INDEX_FINGER_PIP_z', 'INDEX_FINGER_DIP_x', 'INDEX_FINGER_DIP_y',\n",
       "       'INDEX_FINGER_DIP_z', 'INDEX_FINGER_TIP_x', 'INDEX_FINGER_TIP_y',\n",
       "       'INDEX_FINGER_TIP_z', 'MIDDLE_FINGER_MCP_x', 'MIDDLE_FINGER_MCP_y',\n",
       "       'MIDDLE_FINGER_MCP_z', 'MIDDLE_FINGER_PIP_x', 'MIDDLE_FINGER_PIP_y',\n",
       "       'MIDDLE_FINGER_PIP_z', 'MIDDLE_FINGER_DIP_x', 'MIDDLE_FINGER_DIP_y',\n",
       "       'MIDDLE_FINGER_DIP_z', 'MIDDLE_FINGER_TIP_x', 'MIDDLE_FINGER_TIP_y',\n",
       "       'MIDDLE_FINGER_TIP_z', 'RING_FINGER_MCP_x', 'RING_FINGER_MCP_y',\n",
       "       'RING_FINGER_MCP_z', 'RING_FINGER_PIP_x', 'RING_FINGER_PIP_y',\n",
       "       'RING_FINGER_PIP_z', 'RING_FINGER_DIP_x', 'RING_FINGER_DIP_y',\n",
       "       'RING_FINGER_DIP_z', 'RING_FINGER_TIP_x', 'RING_FINGER_TIP_y',\n",
       "       'RING_FINGER_TIP_z', 'PINKY_MCP_x', 'PINKY_MCP_y', 'PINKY_MCP_z',\n",
       "       'PINKY_PIP_x', 'PINKY_PIP_y', 'PINKY_PIP_z', 'PINKY_DIP_x',\n",
       "       'PINKY_DIP_y', 'PINKY_DIP_z', 'PINKY_TIP_x', 'PINKY_TIP_y',\n",
       "       'PINKY_TIP_z'],\n",
       "      dtype='object')"
      ]
     },
     "execution_count": 45,
     "metadata": {},
     "output_type": "execute_result"
    }
   ],
   "source": [
    "X1 = df1.drop(columns=df1.columns[[0, -1]], axis=1)\n",
    "X1.columns"
   ]
  },
  {
   "cell_type": "code",
   "execution_count": 46,
   "id": "7de92415",
   "metadata": {},
   "outputs": [],
   "source": [
    "df2 = pd.read_csv('../sample_sets/sample_training.csv')"
   ]
  },
  {
   "cell_type": "code",
   "execution_count": 47,
   "id": "69237240",
   "metadata": {},
   "outputs": [
    {
     "data": {
      "text/plain": [
       "Index(['class_type', 'wristX', 'wristY', 'wristZ', 'thumb_CmcX', 'thumb_CmcY',\n",
       "       'thumb_CmcZ', 'thumb_McpX', 'thumb_McpY', 'thumb_McpZ', 'thumb_IpX',\n",
       "       'thumb_IpY', 'thumb_IpZ', 'thumb_TipX', 'thumb_TipY', 'thumb_TipZ',\n",
       "       'index_McpX', 'index_McpY', 'index_McpZ', 'index_PipX', 'index_PipY',\n",
       "       'index_PipZ', 'index_DipX', 'index_DipY', 'index_DipZ', 'index_TipX',\n",
       "       'index_TipY', 'index_TipZ', 'middle_McpX', 'middle_McpY', 'middle_McpZ',\n",
       "       'middle_PipX', 'middle_PipY', 'middle_PipZ', 'middle_DipX',\n",
       "       'middle_DipY', 'middle_DipZ', 'middle_TipX', 'middle_TipY',\n",
       "       'middle_TipZ', 'ring_McpX', 'ring_McpY', 'ring_McpZ', 'ring_PipX',\n",
       "       'ring_PipY', 'ring_PipZ', 'ring_DipX', 'ring_DipY', 'ring_DipZ',\n",
       "       'ring_TipX', 'ring_TipY', 'ring_TipZ', 'pinky_McpX', 'pinky_McpY',\n",
       "       'pinky_McpZ', 'pinky_PipX', 'pinky_PipY', 'pinky_PipZ', 'pinky_DipX',\n",
       "       'pinky_DipY', 'pinky_DipZ', 'pinky_TipX', 'pinky_TipY', 'pinky_TipZ'],\n",
       "      dtype='object')"
      ]
     },
     "execution_count": 47,
     "metadata": {},
     "output_type": "execute_result"
    }
   ],
   "source": [
    "df2.columns"
   ]
  },
  {
   "cell_type": "code",
   "execution_count": 48,
   "id": "c8488a90",
   "metadata": {},
   "outputs": [
    {
     "data": {
      "text/plain": [
       "Index(['WRIST_x', 'WRIST_y', 'WRIST_z', 'THUMB_CMC_x', 'THUMB_CMC_y',\n",
       "       'THUMB_CMC_z', 'THUMB_MCP_x', 'THUMB_MCP_y', 'THUMB_MCP_z',\n",
       "       'THUMB_IP_x', 'THUMB_IP_y', 'THUMB_IP_z', 'THUMB_TIP_x', 'THUMB_TIP_y',\n",
       "       'THUMB_TIP_z', 'INDEX_FINGER_MCP_x', 'INDEX_FINGER_MCP_y',\n",
       "       'INDEX_FINGER_MCP_z', 'INDEX_FINGER_PIP_x', 'INDEX_FINGER_PIP_y',\n",
       "       'INDEX_FINGER_PIP_z', 'INDEX_FINGER_DIP_x', 'INDEX_FINGER_DIP_y',\n",
       "       'INDEX_FINGER_DIP_z', 'INDEX_FINGER_TIP_x', 'INDEX_FINGER_TIP_y',\n",
       "       'INDEX_FINGER_TIP_z', 'MIDDLE_FINGER_MCP_x', 'MIDDLE_FINGER_MCP_y',\n",
       "       'MIDDLE_FINGER_MCP_z', 'MIDDLE_FINGER_PIP_x', 'MIDDLE_FINGER_PIP_y',\n",
       "       'MIDDLE_FINGER_PIP_z', 'MIDDLE_FINGER_DIP_x', 'MIDDLE_FINGER_DIP_y',\n",
       "       'MIDDLE_FINGER_DIP_z', 'MIDDLE_FINGER_TIP_x', 'MIDDLE_FINGER_TIP_y',\n",
       "       'MIDDLE_FINGER_TIP_z', 'RING_FINGER_MCP_x', 'RING_FINGER_MCP_y',\n",
       "       'RING_FINGER_MCP_z', 'RING_FINGER_PIP_x', 'RING_FINGER_PIP_y',\n",
       "       'RING_FINGER_PIP_z', 'RING_FINGER_DIP_x', 'RING_FINGER_DIP_y',\n",
       "       'RING_FINGER_DIP_z', 'RING_FINGER_TIP_x', 'RING_FINGER_TIP_y',\n",
       "       'RING_FINGER_TIP_z', 'PINKY_MCP_x', 'PINKY_MCP_y', 'PINKY_MCP_z',\n",
       "       'PINKY_PIP_x', 'PINKY_PIP_y', 'PINKY_PIP_z', 'PINKY_DIP_x',\n",
       "       'PINKY_DIP_y', 'PINKY_DIP_z', 'PINKY_TIP_x', 'PINKY_TIP_y',\n",
       "       'PINKY_TIP_z'],\n",
       "      dtype='object')"
      ]
     },
     "execution_count": 48,
     "metadata": {},
     "output_type": "execute_result"
    }
   ],
   "source": [
    "X2 = df2.drop(columns=df2.columns[0], axis=1)\n",
    "X2.columns=X1.columns\n",
    "X2.columns"
   ]
  },
  {
   "cell_type": "code",
   "execution_count": 49,
   "id": "74302f18",
   "metadata": {},
   "outputs": [
    {
     "name": "stderr",
     "output_type": "stream",
     "text": [
      "/tmp/ipykernel_14179/2572424810.py:1: FutureWarning: The frame.append method is deprecated and will be removed from pandas in a future version. Use pandas.concat instead.\n",
      "  X = X1.append(X2, ignore_index=True)\n"
     ]
    },
    {
     "data": {
      "text/plain": [
       "(2848, 63)"
      ]
     },
     "execution_count": 49,
     "metadata": {},
     "output_type": "execute_result"
    }
   ],
   "source": [
    "X = X1.append(X2, ignore_index=True)\n",
    "X.shape"
   ]
  },
  {
   "cell_type": "code",
   "execution_count": 64,
   "id": "2d583035",
   "metadata": {},
   "outputs": [
    {
     "name": "stderr",
     "output_type": "stream",
     "text": [
      "/tmp/ipykernel_14179/3843065781.py:3: FutureWarning: The series.append method is deprecated and will be removed from pandas in a future version. Use pandas.concat instead.\n",
      "  y=y1.append(y2, ignore_index=True)\n"
     ]
    },
    {
     "data": {
      "text/plain": [
       "0       A\n",
       "1       A\n",
       "2       A\n",
       "3       A\n",
       "4       A\n",
       "       ..\n",
       "2843    J\n",
       "2844    J\n",
       "2845    J\n",
       "2846    J\n",
       "2847    J\n",
       "Length: 2848, dtype: object"
      ]
     },
     "execution_count": 64,
     "metadata": {},
     "output_type": "execute_result"
    }
   ],
   "source": [
    "y1=df1['TARGET']\n",
    "y2=df2['class_type']\n",
    "y=y1.append(y2, ignore_index=True)\n",
    "y"
   ]
  },
  {
   "cell_type": "code",
   "execution_count": 65,
   "id": "25d78695",
   "metadata": {},
   "outputs": [
    {
     "data": {
      "text/plain": [
       "A    112\n",
       "L    112\n",
       "W    112\n",
       "E    112\n",
       "F    112\n",
       "V    112\n",
       "R    112\n",
       "B    112\n",
       "M    112\n",
       "Y    111\n",
       "U    111\n",
       "N    111\n",
       "K    111\n",
       "I    111\n",
       "D    111\n",
       "Z    111\n",
       "S    110\n",
       "O    109\n",
       "H    108\n",
       "C    108\n",
       "G    107\n",
       "T    106\n",
       "X    105\n",
       "P    104\n",
       "Q    104\n",
       "J    102\n",
       "dtype: int64"
      ]
     },
     "execution_count": 65,
     "metadata": {},
     "output_type": "execute_result"
    }
   ],
   "source": [
    "y.value_counts()"
   ]
  },
  {
   "cell_type": "code",
   "execution_count": 66,
   "id": "ccd7ab34",
   "metadata": {},
   "outputs": [],
   "source": [
    "# Encoding letters to numerical, A-Z = 0-25\n",
    "y = pd.Categorical(y)"
   ]
  },
  {
   "cell_type": "code",
   "execution_count": 67,
   "id": "7f9a0e97",
   "metadata": {},
   "outputs": [
    {
     "data": {
      "text/plain": [
       "CategoricalDtype(categories=['A', 'B', 'C', 'D', 'E', 'F', 'G', 'H', 'I', 'J', 'K', 'L',\n",
       "                  'M', 'N', 'O', 'P', 'Q', 'R', 'S', 'T', 'U', 'V', 'W', 'X',\n",
       "                  'Y', 'Z'],\n",
       ", ordered=False)"
      ]
     },
     "execution_count": 67,
     "metadata": {},
     "output_type": "execute_result"
    }
   ],
   "source": [
    "y.dtype"
   ]
  },
  {
   "cell_type": "code",
   "execution_count": 68,
   "id": "f71b92cf",
   "metadata": {},
   "outputs": [
    {
     "data": {
      "text/plain": [
       "['A',\n",
       " 'B',\n",
       " 'C',\n",
       " 'D',\n",
       " 'E',\n",
       " 'F',\n",
       " 'G',\n",
       " 'H',\n",
       " 'I',\n",
       " 'J',\n",
       " 'K',\n",
       " 'L',\n",
       " 'M',\n",
       " 'N',\n",
       " 'O',\n",
       " 'P',\n",
       " 'Q',\n",
       " 'R',\n",
       " 'S',\n",
       " 'T',\n",
       " 'U',\n",
       " 'V',\n",
       " 'W',\n",
       " 'X',\n",
       " 'Y',\n",
       " 'Z']"
      ]
     },
     "execution_count": 68,
     "metadata": {},
     "output_type": "execute_result"
    }
   ],
   "source": [
    "cat_list = list(y.categories)\n",
    "cat_list"
   ]
  },
  {
   "cell_type": "code",
   "execution_count": 69,
   "id": "742ccf7f",
   "metadata": {},
   "outputs": [
    {
     "data": {
      "text/plain": [
       "2848"
      ]
     },
     "metadata": {},
     "output_type": "display_data"
    },
    {
     "data": {
      "text/plain": [
       "array([0, 0, 0, ..., 9, 9, 9], dtype=int8)"
      ]
     },
     "execution_count": 69,
     "metadata": {},
     "output_type": "execute_result"
    }
   ],
   "source": [
    "y = y.codes\n",
    "display(len(y))\n",
    "y"
   ]
  },
  {
   "cell_type": "code",
   "execution_count": 70,
   "id": "5cf3359f",
   "metadata": {},
   "outputs": [],
   "source": [
    "X_train, X_test, y_train, y_test = train_test_split(X, y, test_size = 0.2, random_state=42)"
   ]
  },
  {
   "cell_type": "code",
   "execution_count": 71,
   "id": "9532d9d5",
   "metadata": {},
   "outputs": [
    {
     "data": {
      "text/plain": [
       "((2278, 63), (2278,), (570, 63), (570,))"
      ]
     },
     "execution_count": 71,
     "metadata": {},
     "output_type": "execute_result"
    }
   ],
   "source": [
    "X_train.shape, y_train.shape, X_test.shape, y_test.shape"
   ]
  },
  {
   "cell_type": "code",
   "execution_count": 73,
   "id": "4c950fd9",
   "metadata": {},
   "outputs": [
    {
     "name": "stdout",
     "output_type": "stream",
     "text": [
      "26\n"
     ]
    }
   ],
   "source": [
    "classes = len(cat_list)\n",
    "print(classes)"
   ]
  },
  {
   "cell_type": "code",
   "execution_count": 14,
   "id": "e5e0ec70",
   "metadata": {},
   "outputs": [],
   "source": [
    "# y_train = to_categorical(y_train, num_classes=classes)"
   ]
  },
  {
   "cell_type": "code",
   "execution_count": 15,
   "id": "7be218c8",
   "metadata": {},
   "outputs": [],
   "source": [
    "# y_test = to_categorical(y_test, num_classes=classes)"
   ]
  },
  {
   "cell_type": "code",
   "execution_count": 76,
   "id": "4cc17e15",
   "metadata": {},
   "outputs": [
    {
     "name": "stdout",
     "output_type": "stream",
     "text": [
      "(2278, 63, 1) (570, 63, 1)\n"
     ]
    }
   ],
   "source": [
    "X_train = np.reshape(np.array(X_train), (X_train.shape[0], X_train.shape[1], 1))\n",
    "X_test = np.reshape(np.array(X_test), (X_test.shape[0], X_test.shape[1], 1))\n",
    "print(X_train.shape, X_test.shape)"
   ]
  },
  {
   "cell_type": "markdown",
   "id": "946143c5",
   "metadata": {},
   "source": [
    "## CNN Model"
   ]
  },
  {
   "cell_type": "markdown",
   "id": "af8da51d",
   "metadata": {
    "heading_collapsed": true
   },
   "source": [
    "### Original CNN"
   ]
  },
  {
   "cell_type": "code",
   "execution_count": null,
   "id": "74c1254f",
   "metadata": {
    "hidden": true
   },
   "outputs": [],
   "source": [
    "# Architecture\n",
    "# model = models.Sequential()\n",
    "# model.add(layers.Conv1D(filters=512, kernel_size=7, strides=1, padding='causal', input_shape=X_train.shape[1:3], activation='relu'))\n",
    "# model.add(layers.Conv1D(filters=512, kernel_size=7, strides=1, padding='causal', activation='relu'))\n",
    "# model.add(layers.MaxPooling1D(pool_size=2))\n",
    "# model.add(layers.Conv1D(filters=256, kernel_size=5, strides=1, padding='causal', activation='relu'))\n",
    "# model.add(layers.Conv1D(filters=256, kernel_size=5, strides=1, padding='causal', activation='relu'))\n",
    "# model.add(layers.MaxPooling1D(pool_size=2))\n",
    "# model.add(layers.Conv1D(filters=256, kernel_size=3, strides=1, padding='causal', activation='relu'))\n",
    "# model.add(layers.Conv1D(filters=256, kernel_size=3, strides=1, padding='causal', activation='relu'))\n",
    "# model.add(layers.MaxPooling1D(pool_size=2))\n",
    "# model.add(layers.Dropout(0.2))\n",
    "# model.add(layers.Flatten())\n",
    "# model.add(layers.Dense(256, activation='relu'))\n",
    "# model.add(layers.Dense(26, activation='softmax')) \n",
    "#accuracy: 0.89"
   ]
  },
  {
   "cell_type": "markdown",
   "id": "927c0abd",
   "metadata": {
    "heading_collapsed": true
   },
   "source": [
    "### Reduced CNN 1"
   ]
  },
  {
   "cell_type": "code",
   "execution_count": null,
   "id": "566c941d",
   "metadata": {
    "hidden": true
   },
   "outputs": [],
   "source": [
    "# model = models.Sequential()\n",
    "# model.add(layers.Conv1D(filters=64, kernel_size=3, strides=1, padding='causal', input_shape=X_train.shape[1:3], activation='relu'))\n",
    "# model.add(layers.MaxPooling1D(pool_size=2))\n",
    "# model.add(layers.Conv1D(filters=64, kernel_size=3, strides=1, padding='causal', activation='relu'))\n",
    "# model.add(layers.MaxPooling1D(pool_size=2))\n",
    "# model.add(layers.Conv1D(filters=64, kernel_size=3, strides=1, padding='causal', activation='relu'))\n",
    "# model.add(layers.MaxPooling1D(pool_size=2))\n",
    "# model.add(layers.Dropout(0.2))\n",
    "# model.add(layers.Flatten())\n",
    "# model.add(layers.Dense(256, activation='relu'))\n",
    "# model.add(layers.Dense(26, activation='softmax'))\n",
    "# accuracy: 0.71"
   ]
  },
  {
   "cell_type": "markdown",
   "id": "2b0d4a25",
   "metadata": {
    "heading_collapsed": true
   },
   "source": [
    "### Reduced CNN 2"
   ]
  },
  {
   "cell_type": "code",
   "execution_count": null,
   "id": "1f3e95bf",
   "metadata": {
    "hidden": true
   },
   "outputs": [],
   "source": [
    "# model = models.Sequential()\n",
    "# model.add(layers.Conv1D(filters=32, kernel_size=3, strides=1, padding='causal', input_shape=X_train.shape[1:3], activation='relu'))\n",
    "# model.add(layers.MaxPooling1D(pool_size=2))\n",
    "# model.add(layers.Conv1D(filters=64, kernel_size=3, strides=1, padding='causal', activation='relu'))\n",
    "# model.add(layers.MaxPooling1D(pool_size=2))\n",
    "# model.add(layers.Conv1D(filters=128, kernel_size=3, strides=1, padding='causal', activation='relu'))\n",
    "# model.add(layers.MaxPooling1D(pool_size=2))\n",
    "# model.add(layers.Dropout(0.2))\n",
    "# model.add(layers.Flatten())\n",
    "# model.add(layers.Dense(256, activation='relu'))\n",
    "# model.add(layers.Dense(26, activation='softmax'))\n",
    "# accuracy: 0.81"
   ]
  },
  {
   "cell_type": "markdown",
   "id": "f708177a",
   "metadata": {
    "heading_collapsed": true
   },
   "source": [
    "### Reduced CNN 3"
   ]
  },
  {
   "cell_type": "code",
   "execution_count": 42,
   "id": "349677b3",
   "metadata": {
    "hidden": true
   },
   "outputs": [],
   "source": [
    "model = models.Sequential()\n",
    "model.add(layers.Conv1D(filters=64, kernel_size=3, strides=1, padding='causal', input_shape=X_train.shape[1:3], activation='relu'))\n",
    "model.add(layers.MaxPooling1D(pool_size=2))\n",
    "model.add(layers.Conv1D(filters=128, kernel_size=3, strides=1, padding='causal', activation='relu'))\n",
    "model.add(layers.MaxPooling1D(pool_size=2))\n",
    "model.add(layers.Conv1D(filters=256, kernel_size=3, strides=1, padding='causal', activation='relu'))\n",
    "model.add(layers.MaxPooling1D(pool_size=2))\n",
    "model.add(layers.Dropout(0.2))\n",
    "model.add(layers.Flatten())\n",
    "model.add(layers.Dense(256, activation='relu'))\n",
    "model.add(layers.Dense(26, activation='softmax'))\n",
    "# accuracy: 0.86"
   ]
  },
  {
   "cell_type": "markdown",
   "id": "3f3d25d2",
   "metadata": {},
   "source": [
    "### Reduced CNN 4"
   ]
  },
  {
   "cell_type": "code",
   "execution_count": 83,
   "id": "999d57e6",
   "metadata": {},
   "outputs": [],
   "source": [
    "model = models.Sequential()\n",
    "model.add(layers.Conv1D(filters=16, kernel_size=3, strides=1, padding='causal', input_shape=X_train.shape[1:3], activation='relu'))\n",
    "model.add(layers.MaxPooling1D(pool_size=2))\n",
    "model.add(layers.Conv1D(filters=32, kernel_size=3, strides=1, padding='causal', activation='relu'))\n",
    "model.add(layers.MaxPooling1D(pool_size=2))\n",
    "model.add(layers.Conv1D(filters=64, kernel_size=3, strides=1, padding='causal', activation='relu'))\n",
    "model.add(layers.MaxPooling1D(pool_size=2))\n",
    "model.add(layers.Dropout(0.2))\n",
    "model.add(layers.Flatten())\n",
    "model.add(layers.Dense(128, activation='relu'))\n",
    "model.add(layers.Dense(26, activation='softmax'))"
   ]
  },
  {
   "cell_type": "code",
   "execution_count": 84,
   "id": "90b9dba5",
   "metadata": {},
   "outputs": [],
   "source": [
    "model.compile(loss = 'sparse_categorical_crossentropy', optimizer='adam', metrics=['accuracy'])"
   ]
  },
  {
   "cell_type": "code",
   "execution_count": 85,
   "id": "db4bf013",
   "metadata": {},
   "outputs": [
    {
     "name": "stdout",
     "output_type": "stream",
     "text": [
      "Model: \"sequential_1\"\n",
      "_________________________________________________________________\n",
      " Layer (type)                Output Shape              Param #   \n",
      "=================================================================\n",
      " conv1d_3 (Conv1D)           (None, 63, 16)            64        \n",
      "                                                                 \n",
      " max_pooling1d_3 (MaxPooling  (None, 31, 16)           0         \n",
      " 1D)                                                             \n",
      "                                                                 \n",
      " conv1d_4 (Conv1D)           (None, 31, 32)            1568      \n",
      "                                                                 \n",
      " max_pooling1d_4 (MaxPooling  (None, 15, 32)           0         \n",
      " 1D)                                                             \n",
      "                                                                 \n",
      " conv1d_5 (Conv1D)           (None, 15, 64)            6208      \n",
      "                                                                 \n",
      " max_pooling1d_5 (MaxPooling  (None, 7, 64)            0         \n",
      " 1D)                                                             \n",
      "                                                                 \n",
      " dropout_1 (Dropout)         (None, 7, 64)             0         \n",
      "                                                                 \n",
      " flatten_1 (Flatten)         (None, 448)               0         \n",
      "                                                                 \n",
      " dense_2 (Dense)             (None, 128)               57472     \n",
      "                                                                 \n",
      " dense_3 (Dense)             (None, 26)                3354      \n",
      "                                                                 \n",
      "=================================================================\n",
      "Total params: 68,666\n",
      "Trainable params: 68,666\n",
      "Non-trainable params: 0\n",
      "_________________________________________________________________\n"
     ]
    }
   ],
   "source": [
    "model.summary()"
   ]
  },
  {
   "cell_type": "code",
   "execution_count": 87,
   "id": "ba2b7c38",
   "metadata": {},
   "outputs": [],
   "source": [
    "es = EarlyStopping(patience=10, restore_best_weights=True)"
   ]
  },
  {
   "cell_type": "code",
   "execution_count": 88,
   "id": "a56582a4",
   "metadata": {
    "scrolled": true
   },
   "outputs": [
    {
     "name": "stdout",
     "output_type": "stream",
     "text": [
      "Epoch 1/500\n",
      "50/50 [==============================] - 1s 12ms/step - loss: 29.5428 - accuracy: 0.0464 - val_loss: 4.7678 - val_accuracy: 0.0643\n",
      "Epoch 2/500\n",
      "50/50 [==============================] - 0s 6ms/step - loss: 4.3488 - accuracy: 0.0646 - val_loss: 3.3738 - val_accuracy: 0.0921\n",
      "Epoch 3/500\n",
      "50/50 [==============================] - 0s 6ms/step - loss: 3.4946 - accuracy: 0.0784 - val_loss: 3.2493 - val_accuracy: 0.1301\n",
      "Epoch 4/500\n",
      "50/50 [==============================] - 0s 6ms/step - loss: 3.3071 - accuracy: 0.1085 - val_loss: 3.1886 - val_accuracy: 0.1213\n",
      "Epoch 5/500\n",
      "50/50 [==============================] - 0s 6ms/step - loss: 3.3475 - accuracy: 0.1148 - val_loss: 3.0190 - val_accuracy: 0.1740\n",
      "Epoch 6/500\n",
      "50/50 [==============================] - 0s 6ms/step - loss: 2.9749 - accuracy: 0.1593 - val_loss: 2.7864 - val_accuracy: 0.2529\n",
      "Epoch 7/500\n",
      "50/50 [==============================] - 0s 6ms/step - loss: 2.7293 - accuracy: 0.2189 - val_loss: 2.4911 - val_accuracy: 0.3202\n",
      "Epoch 8/500\n",
      "50/50 [==============================] - 0s 6ms/step - loss: 2.4365 - accuracy: 0.2967 - val_loss: 2.1497 - val_accuracy: 0.3743\n",
      "Epoch 9/500\n",
      "50/50 [==============================] - 0s 6ms/step - loss: 2.1702 - accuracy: 0.3557 - val_loss: 1.8777 - val_accuracy: 0.4678\n",
      "Epoch 10/500\n",
      "50/50 [==============================] - 0s 6ms/step - loss: 1.9290 - accuracy: 0.4166 - val_loss: 1.6695 - val_accuracy: 0.4898\n",
      "Epoch 11/500\n",
      "50/50 [==============================] - 0s 6ms/step - loss: 1.7453 - accuracy: 0.4837 - val_loss: 1.5028 - val_accuracy: 0.5585\n",
      "Epoch 12/500\n",
      "50/50 [==============================] - 0s 6ms/step - loss: 1.6572 - accuracy: 0.5050 - val_loss: 1.4517 - val_accuracy: 0.5322\n",
      "Epoch 13/500\n",
      "50/50 [==============================] - 0s 6ms/step - loss: 1.5516 - accuracy: 0.5107 - val_loss: 1.3190 - val_accuracy: 0.5921\n",
      "Epoch 14/500\n",
      "50/50 [==============================] - 0s 6ms/step - loss: 1.4720 - accuracy: 0.5420 - val_loss: 1.3113 - val_accuracy: 0.6009\n",
      "Epoch 15/500\n",
      "50/50 [==============================] - 0s 6ms/step - loss: 1.4331 - accuracy: 0.5464 - val_loss: 1.3136 - val_accuracy: 0.5819\n",
      "Epoch 16/500\n",
      "50/50 [==============================] - 0s 6ms/step - loss: 1.4124 - accuracy: 0.5621 - val_loss: 1.2232 - val_accuracy: 0.6199\n",
      "Epoch 17/500\n",
      "50/50 [==============================] - 0s 6ms/step - loss: 1.3187 - accuracy: 0.5878 - val_loss: 1.1389 - val_accuracy: 0.6608\n",
      "Epoch 18/500\n",
      "50/50 [==============================] - 0s 6ms/step - loss: 1.2770 - accuracy: 0.5954 - val_loss: 1.1947 - val_accuracy: 0.6096\n",
      "Epoch 19/500\n",
      "50/50 [==============================] - 0s 6ms/step - loss: 1.3386 - accuracy: 0.5891 - val_loss: 1.1122 - val_accuracy: 0.6652\n",
      "Epoch 20/500\n",
      "50/50 [==============================] - 0s 6ms/step - loss: 1.1739 - accuracy: 0.6399 - val_loss: 1.1088 - val_accuracy: 0.6564\n",
      "Epoch 21/500\n",
      "50/50 [==============================] - 0s 9ms/step - loss: 1.1391 - accuracy: 0.6449 - val_loss: 1.0040 - val_accuracy: 0.7164\n",
      "Epoch 22/500\n",
      "50/50 [==============================] - 0s 6ms/step - loss: 1.0775 - accuracy: 0.6568 - val_loss: 0.9404 - val_accuracy: 0.7500\n",
      "Epoch 23/500\n",
      "50/50 [==============================] - 0s 7ms/step - loss: 1.1011 - accuracy: 0.6468 - val_loss: 0.9766 - val_accuracy: 0.7266\n",
      "Epoch 24/500\n",
      "50/50 [==============================] - 0s 7ms/step - loss: 1.0576 - accuracy: 0.6826 - val_loss: 0.9475 - val_accuracy: 0.7047\n",
      "Epoch 25/500\n",
      "50/50 [==============================] - 0s 6ms/step - loss: 1.0191 - accuracy: 0.6725 - val_loss: 0.8826 - val_accuracy: 0.7295\n",
      "Epoch 26/500\n",
      "50/50 [==============================] - 0s 7ms/step - loss: 0.9890 - accuracy: 0.6876 - val_loss: 0.8911 - val_accuracy: 0.7339\n",
      "Epoch 27/500\n",
      "50/50 [==============================] - 0s 7ms/step - loss: 0.9614 - accuracy: 0.6976 - val_loss: 0.8672 - val_accuracy: 0.7500\n",
      "Epoch 28/500\n",
      "50/50 [==============================] - 0s 7ms/step - loss: 0.9334 - accuracy: 0.7108 - val_loss: 0.7893 - val_accuracy: 0.7661\n",
      "Epoch 29/500\n",
      "50/50 [==============================] - 0s 7ms/step - loss: 0.9440 - accuracy: 0.6976 - val_loss: 0.8345 - val_accuracy: 0.7602\n",
      "Epoch 30/500\n",
      "50/50 [==============================] - 0s 7ms/step - loss: 0.8582 - accuracy: 0.7415 - val_loss: 0.8297 - val_accuracy: 0.7471\n",
      "Epoch 31/500\n",
      "50/50 [==============================] - 0s 8ms/step - loss: 0.9223 - accuracy: 0.7133 - val_loss: 0.8230 - val_accuracy: 0.7456\n",
      "Epoch 32/500\n",
      "50/50 [==============================] - 0s 10ms/step - loss: 0.8562 - accuracy: 0.7271 - val_loss: 0.7843 - val_accuracy: 0.7705\n",
      "Epoch 33/500\n",
      "50/50 [==============================] - 0s 10ms/step - loss: 0.9258 - accuracy: 0.7051 - val_loss: 0.7532 - val_accuracy: 0.7836\n",
      "Epoch 34/500\n",
      "50/50 [==============================] - 1s 11ms/step - loss: 0.8413 - accuracy: 0.7440 - val_loss: 0.7378 - val_accuracy: 0.7705\n",
      "Epoch 35/500\n",
      "50/50 [==============================] - 1s 12ms/step - loss: 0.7858 - accuracy: 0.7509 - val_loss: 0.7127 - val_accuracy: 0.7865\n",
      "Epoch 36/500\n",
      "50/50 [==============================] - 1s 10ms/step - loss: 0.7113 - accuracy: 0.7685 - val_loss: 0.7034 - val_accuracy: 0.7953\n",
      "Epoch 37/500\n",
      "50/50 [==============================] - 1s 11ms/step - loss: 0.7425 - accuracy: 0.7748 - val_loss: 0.7629 - val_accuracy: 0.7719\n",
      "Epoch 38/500\n",
      "50/50 [==============================] - 0s 9ms/step - loss: 0.8281 - accuracy: 0.7302 - val_loss: 0.7737 - val_accuracy: 0.7515\n",
      "Epoch 39/500\n",
      "50/50 [==============================] - 0s 9ms/step - loss: 0.8378 - accuracy: 0.7384 - val_loss: 0.7596 - val_accuracy: 0.7544\n",
      "Epoch 40/500\n",
      "50/50 [==============================] - 0s 9ms/step - loss: 0.7265 - accuracy: 0.7635 - val_loss: 0.7493 - val_accuracy: 0.7749\n",
      "Epoch 41/500\n",
      "50/50 [==============================] - 0s 9ms/step - loss: 0.7668 - accuracy: 0.7641 - val_loss: 0.7374 - val_accuracy: 0.7968\n",
      "Epoch 42/500\n",
      "50/50 [==============================] - 0s 9ms/step - loss: 0.7976 - accuracy: 0.7465 - val_loss: 0.7123 - val_accuracy: 0.7895\n",
      "Epoch 43/500\n",
      "50/50 [==============================] - 0s 9ms/step - loss: 0.6892 - accuracy: 0.7829 - val_loss: 0.6277 - val_accuracy: 0.8143\n",
      "Epoch 44/500\n",
      "50/50 [==============================] - 0s 9ms/step - loss: 0.7072 - accuracy: 0.7779 - val_loss: 0.6528 - val_accuracy: 0.8099\n",
      "Epoch 45/500\n",
      "50/50 [==============================] - 0s 10ms/step - loss: 0.6545 - accuracy: 0.8005 - val_loss: 0.6727 - val_accuracy: 0.8041\n",
      "Epoch 46/500\n",
      "50/50 [==============================] - 1s 11ms/step - loss: 0.6856 - accuracy: 0.7792 - val_loss: 0.6918 - val_accuracy: 0.7997\n",
      "Epoch 47/500\n",
      "50/50 [==============================] - 1s 10ms/step - loss: 0.6811 - accuracy: 0.7861 - val_loss: 0.7670 - val_accuracy: 0.7822\n",
      "Epoch 48/500\n",
      "50/50 [==============================] - 0s 10ms/step - loss: 0.6883 - accuracy: 0.7804 - val_loss: 0.6222 - val_accuracy: 0.8289\n",
      "Epoch 49/500\n",
      "50/50 [==============================] - 1s 10ms/step - loss: 0.6321 - accuracy: 0.8036 - val_loss: 0.6655 - val_accuracy: 0.8114\n",
      "Epoch 50/500\n",
      "50/50 [==============================] - 1s 11ms/step - loss: 0.6277 - accuracy: 0.7986 - val_loss: 0.7025 - val_accuracy: 0.7749\n",
      "Epoch 51/500\n",
      "50/50 [==============================] - 0s 9ms/step - loss: 0.6507 - accuracy: 0.7936 - val_loss: 0.6487 - val_accuracy: 0.8319\n",
      "Epoch 52/500\n",
      "50/50 [==============================] - 0s 9ms/step - loss: 0.6463 - accuracy: 0.8024 - val_loss: 0.6153 - val_accuracy: 0.8304\n",
      "Epoch 53/500\n",
      "50/50 [==============================] - 0s 10ms/step - loss: 0.6398 - accuracy: 0.8011 - val_loss: 0.6616 - val_accuracy: 0.8143\n",
      "Epoch 54/500\n",
      "50/50 [==============================] - 0s 10ms/step - loss: 0.6714 - accuracy: 0.8049 - val_loss: 0.6406 - val_accuracy: 0.8231\n",
      "Epoch 55/500\n",
      "50/50 [==============================] - 0s 9ms/step - loss: 0.6247 - accuracy: 0.8036 - val_loss: 0.6642 - val_accuracy: 0.8275\n",
      "Epoch 56/500\n",
      "50/50 [==============================] - 0s 9ms/step - loss: 0.6037 - accuracy: 0.8162 - val_loss: 0.6238 - val_accuracy: 0.8202\n",
      "Epoch 57/500\n",
      "50/50 [==============================] - 0s 9ms/step - loss: 0.6263 - accuracy: 0.7911 - val_loss: 0.6323 - val_accuracy: 0.8187\n",
      "Epoch 58/500\n"
     ]
    },
    {
     "name": "stdout",
     "output_type": "stream",
     "text": [
      "50/50 [==============================] - 0s 9ms/step - loss: 0.6212 - accuracy: 0.8124 - val_loss: 0.6533 - val_accuracy: 0.8085\n",
      "Epoch 59/500\n",
      "50/50 [==============================] - 0s 9ms/step - loss: 0.6124 - accuracy: 0.8024 - val_loss: 0.6733 - val_accuracy: 0.8187\n",
      "Epoch 60/500\n",
      "50/50 [==============================] - 0s 9ms/step - loss: 0.6237 - accuracy: 0.8055 - val_loss: 0.6389 - val_accuracy: 0.8216\n",
      "Epoch 61/500\n",
      "50/50 [==============================] - 0s 9ms/step - loss: 0.5889 - accuracy: 0.8156 - val_loss: 0.6051 - val_accuracy: 0.8304\n",
      "Epoch 62/500\n",
      "50/50 [==============================] - 0s 9ms/step - loss: 0.5451 - accuracy: 0.8181 - val_loss: 0.5860 - val_accuracy: 0.8143\n",
      "Epoch 63/500\n",
      "50/50 [==============================] - 0s 9ms/step - loss: 0.5948 - accuracy: 0.8093 - val_loss: 0.5880 - val_accuracy: 0.8260\n",
      "Epoch 64/500\n",
      "50/50 [==============================] - 0s 9ms/step - loss: 0.5549 - accuracy: 0.8225 - val_loss: 0.5629 - val_accuracy: 0.8480\n",
      "Epoch 65/500\n",
      "50/50 [==============================] - 0s 9ms/step - loss: 0.5561 - accuracy: 0.8218 - val_loss: 0.6546 - val_accuracy: 0.8041\n",
      "Epoch 66/500\n",
      "50/50 [==============================] - 0s 9ms/step - loss: 0.6193 - accuracy: 0.8074 - val_loss: 0.6251 - val_accuracy: 0.8348\n",
      "Epoch 67/500\n",
      "50/50 [==============================] - 0s 9ms/step - loss: 0.5212 - accuracy: 0.8325 - val_loss: 0.5881 - val_accuracy: 0.8363\n",
      "Epoch 68/500\n",
      "50/50 [==============================] - 0s 9ms/step - loss: 0.5418 - accuracy: 0.8331 - val_loss: 0.6324 - val_accuracy: 0.8406\n",
      "Epoch 69/500\n",
      "50/50 [==============================] - 0s 9ms/step - loss: 0.5396 - accuracy: 0.8300 - val_loss: 0.5912 - val_accuracy: 0.8611\n",
      "Epoch 70/500\n",
      "50/50 [==============================] - 0s 9ms/step - loss: 0.5059 - accuracy: 0.8438 - val_loss: 0.5580 - val_accuracy: 0.8538\n",
      "Epoch 71/500\n",
      "50/50 [==============================] - 0s 9ms/step - loss: 0.4911 - accuracy: 0.8419 - val_loss: 0.6134 - val_accuracy: 0.8260\n",
      "Epoch 72/500\n",
      "50/50 [==============================] - 0s 9ms/step - loss: 0.4891 - accuracy: 0.8400 - val_loss: 0.6065 - val_accuracy: 0.8363\n",
      "Epoch 73/500\n",
      "50/50 [==============================] - 0s 9ms/step - loss: 0.5288 - accuracy: 0.8256 - val_loss: 0.6472 - val_accuracy: 0.8304\n",
      "Epoch 74/500\n",
      "50/50 [==============================] - 0s 9ms/step - loss: 0.4766 - accuracy: 0.8413 - val_loss: 0.5430 - val_accuracy: 0.8640\n",
      "Epoch 75/500\n",
      "50/50 [==============================] - 0s 9ms/step - loss: 0.4679 - accuracy: 0.8563 - val_loss: 0.6002 - val_accuracy: 0.8494\n",
      "Epoch 76/500\n",
      "50/50 [==============================] - 0s 9ms/step - loss: 0.4608 - accuracy: 0.8519 - val_loss: 0.5476 - val_accuracy: 0.8553\n",
      "Epoch 77/500\n",
      "50/50 [==============================] - 0s 10ms/step - loss: 0.4452 - accuracy: 0.8563 - val_loss: 0.6977 - val_accuracy: 0.8333\n",
      "Epoch 78/500\n",
      "50/50 [==============================] - 0s 10ms/step - loss: 0.4333 - accuracy: 0.8632 - val_loss: 0.6415 - val_accuracy: 0.8436\n",
      "Epoch 79/500\n",
      "50/50 [==============================] - 1s 11ms/step - loss: 0.4515 - accuracy: 0.8551 - val_loss: 0.6258 - val_accuracy: 0.8377\n",
      "Epoch 80/500\n",
      "50/50 [==============================] - 0s 9ms/step - loss: 0.5305 - accuracy: 0.8287 - val_loss: 0.6615 - val_accuracy: 0.8216\n",
      "Epoch 81/500\n",
      "50/50 [==============================] - 0s 9ms/step - loss: 0.4800 - accuracy: 0.8419 - val_loss: 0.6597 - val_accuracy: 0.8158\n",
      "Epoch 82/500\n",
      "50/50 [==============================] - 0s 9ms/step - loss: 0.4934 - accuracy: 0.8444 - val_loss: 0.6146 - val_accuracy: 0.8509\n",
      "Epoch 83/500\n",
      "50/50 [==============================] - 0s 9ms/step - loss: 0.4434 - accuracy: 0.8595 - val_loss: 0.5784 - val_accuracy: 0.8406\n",
      "Epoch 84/500\n",
      "50/50 [==============================] - 0s 9ms/step - loss: 0.4391 - accuracy: 0.8526 - val_loss: 0.6940 - val_accuracy: 0.8553\n"
     ]
    }
   ],
   "source": [
    "history = model.fit(X_train, \n",
    "                    y_train,\n",
    "                    epochs=500, \n",
    "                    validation_split=0.3, \n",
    "                    callbacks=es)"
   ]
  },
  {
   "cell_type": "code",
   "execution_count": 89,
   "id": "f25e0463",
   "metadata": {},
   "outputs": [
    {
     "name": "stdout",
     "output_type": "stream",
     "text": [
      "18/18 [==============================] - 0s 3ms/step - loss: 0.5533 - accuracy: 0.8754\n"
     ]
    },
    {
     "data": {
      "text/plain": [
       "[0.5533124804496765, 0.8754385709762573]"
      ]
     },
     "execution_count": 89,
     "metadata": {},
     "output_type": "execute_result"
    }
   ],
   "source": [
    "model.evaluate(X_test, y_test)"
   ]
  },
  {
   "cell_type": "markdown",
   "id": "d11b650b",
   "metadata": {},
   "source": [
    "## Predict"
   ]
  },
  {
   "cell_type": "code",
   "execution_count": 90,
   "id": "b242ef4b",
   "metadata": {},
   "outputs": [],
   "source": [
    "# Dataset\n",
    "df_pred = pd.read_csv('../sample_sets/sample_validation.csv')"
   ]
  },
  {
   "cell_type": "code",
   "execution_count": 91,
   "id": "15fd6583",
   "metadata": {},
   "outputs": [
    {
     "data": {
      "text/plain": [
       "Index(['class_type', 'wristX', 'wristY', 'wristZ', 'thumb_CmcX', 'thumb_CmcY',\n",
       "       'thumb_CmcZ', 'thumb_McpX', 'thumb_McpY', 'thumb_McpZ', 'thumb_IpX',\n",
       "       'thumb_IpY', 'thumb_IpZ', 'thumb_TipX', 'thumb_TipY', 'thumb_TipZ',\n",
       "       'index_McpX', 'index_McpY', 'index_McpZ', 'index_PipX', 'index_PipY',\n",
       "       'index_PipZ', 'index_DipX', 'index_DipY', 'index_DipZ', 'index_TipX',\n",
       "       'index_TipY', 'index_TipZ', 'middle_McpX', 'middle_McpY', 'middle_McpZ',\n",
       "       'middle_PipX', 'middle_PipY', 'middle_PipZ', 'middle_DipX',\n",
       "       'middle_DipY', 'middle_DipZ', 'middle_TipX', 'middle_TipY',\n",
       "       'middle_TipZ', 'ring_McpX', 'ring_McpY', 'ring_McpZ', 'ring_PipX',\n",
       "       'ring_PipY', 'ring_PipZ', 'ring_DipX', 'ring_DipY', 'ring_DipZ',\n",
       "       'ring_TipX', 'ring_TipY', 'ring_TipZ', 'pinky_McpX', 'pinky_McpY',\n",
       "       'pinky_McpZ', 'pinky_PipX', 'pinky_PipY', 'pinky_PipZ', 'pinky_DipX',\n",
       "       'pinky_DipY', 'pinky_DipZ', 'pinky_TipX', 'pinky_TipY', 'pinky_TipZ'],\n",
       "      dtype='object')"
      ]
     },
     "execution_count": 91,
     "metadata": {},
     "output_type": "execute_result"
    }
   ],
   "source": [
    "df_pred.columns"
   ]
  },
  {
   "cell_type": "code",
   "execution_count": 92,
   "id": "65a7eddd",
   "metadata": {},
   "outputs": [
    {
     "data": {
      "text/html": [
       "<div>\n",
       "<style scoped>\n",
       "    .dataframe tbody tr th:only-of-type {\n",
       "        vertical-align: middle;\n",
       "    }\n",
       "\n",
       "    .dataframe tbody tr th {\n",
       "        vertical-align: top;\n",
       "    }\n",
       "\n",
       "    .dataframe thead th {\n",
       "        text-align: right;\n",
       "    }\n",
       "</style>\n",
       "<table border=\"1\" class=\"dataframe\">\n",
       "  <thead>\n",
       "    <tr style=\"text-align: right;\">\n",
       "      <th></th>\n",
       "      <th>wristX</th>\n",
       "      <th>wristY</th>\n",
       "      <th>wristZ</th>\n",
       "      <th>thumb_CmcX</th>\n",
       "      <th>thumb_CmcY</th>\n",
       "      <th>thumb_CmcZ</th>\n",
       "      <th>thumb_McpX</th>\n",
       "      <th>thumb_McpY</th>\n",
       "      <th>thumb_McpZ</th>\n",
       "      <th>thumb_IpX</th>\n",
       "      <th>...</th>\n",
       "      <th>pinky_McpZ</th>\n",
       "      <th>pinky_PipX</th>\n",
       "      <th>pinky_PipY</th>\n",
       "      <th>pinky_PipZ</th>\n",
       "      <th>pinky_DipX</th>\n",
       "      <th>pinky_DipY</th>\n",
       "      <th>pinky_DipZ</th>\n",
       "      <th>pinky_TipX</th>\n",
       "      <th>pinky_TipY</th>\n",
       "      <th>pinky_TipZ</th>\n",
       "    </tr>\n",
       "  </thead>\n",
       "  <tbody>\n",
       "    <tr>\n",
       "      <th>0</th>\n",
       "      <td>67.593429</td>\n",
       "      <td>3675.696075</td>\n",
       "      <td>-0.000018</td>\n",
       "      <td>99.616661</td>\n",
       "      <td>3761.902771</td>\n",
       "      <td>-0.026927</td>\n",
       "      <td>110.972045</td>\n",
       "      <td>3835.375763</td>\n",
       "      <td>-0.026853</td>\n",
       "      <td>121.125584</td>\n",
       "      <td>...</td>\n",
       "      <td>0.072837</td>\n",
       "      <td>114.973211</td>\n",
       "      <td>3854.573547</td>\n",
       "      <td>0.097510</td>\n",
       "      <td>129.272298</td>\n",
       "      <td>3879.857758</td>\n",
       "      <td>0.108352</td>\n",
       "      <td>140.462808</td>\n",
       "      <td>3898.238983</td>\n",
       "      <td>0.113854</td>\n",
       "    </tr>\n",
       "    <tr>\n",
       "      <th>1</th>\n",
       "      <td>1436.803349</td>\n",
       "      <td>1737.654764</td>\n",
       "      <td>-0.000152</td>\n",
       "      <td>1578.083852</td>\n",
       "      <td>1765.562633</td>\n",
       "      <td>-0.157858</td>\n",
       "      <td>1641.237340</td>\n",
       "      <td>1777.532579</td>\n",
       "      <td>-0.304467</td>\n",
       "      <td>1646.324825</td>\n",
       "      <td>...</td>\n",
       "      <td>-0.341164</td>\n",
       "      <td>1227.836695</td>\n",
       "      <td>1684.198194</td>\n",
       "      <td>-0.456003</td>\n",
       "      <td>1278.155567</td>\n",
       "      <td>1867.738249</td>\n",
       "      <td>-0.464728</td>\n",
       "      <td>1338.902637</td>\n",
       "      <td>1969.229223</td>\n",
       "      <td>-0.469522</td>\n",
       "    </tr>\n",
       "    <tr>\n",
       "      <th>2</th>\n",
       "      <td>648.545802</td>\n",
       "      <td>1607.948065</td>\n",
       "      <td>-0.000153</td>\n",
       "      <td>467.789233</td>\n",
       "      <td>1466.462970</td>\n",
       "      <td>-0.050314</td>\n",
       "      <td>448.115349</td>\n",
       "      <td>1191.233873</td>\n",
       "      <td>-0.097409</td>\n",
       "      <td>611.626387</td>\n",
       "      <td>...</td>\n",
       "      <td>-0.163922</td>\n",
       "      <td>998.544693</td>\n",
       "      <td>1039.246440</td>\n",
       "      <td>-0.247517</td>\n",
       "      <td>893.199384</td>\n",
       "      <td>1167.122245</td>\n",
       "      <td>-0.246745</td>\n",
       "      <td>882.732987</td>\n",
       "      <td>1264.709234</td>\n",
       "      <td>-0.227733</td>\n",
       "    </tr>\n",
       "    <tr>\n",
       "      <th>3</th>\n",
       "      <td>833.924472</td>\n",
       "      <td>1559.609413</td>\n",
       "      <td>-0.000164</td>\n",
       "      <td>648.933053</td>\n",
       "      <td>1397.195578</td>\n",
       "      <td>-0.041743</td>\n",
       "      <td>647.326112</td>\n",
       "      <td>1105.966210</td>\n",
       "      <td>-0.078414</td>\n",
       "      <td>848.145723</td>\n",
       "      <td>...</td>\n",
       "      <td>-0.155674</td>\n",
       "      <td>1185.740709</td>\n",
       "      <td>996.946692</td>\n",
       "      <td>-0.238493</td>\n",
       "      <td>1068.991184</td>\n",
       "      <td>1137.645721</td>\n",
       "      <td>-0.229178</td>\n",
       "      <td>1069.342017</td>\n",
       "      <td>1233.988047</td>\n",
       "      <td>-0.199588</td>\n",
       "    </tr>\n",
       "    <tr>\n",
       "      <th>4</th>\n",
       "      <td>2585.928783</td>\n",
       "      <td>2014.379934</td>\n",
       "      <td>-0.000058</td>\n",
       "      <td>2489.925442</td>\n",
       "      <td>1913.919084</td>\n",
       "      <td>-0.022915</td>\n",
       "      <td>2510.127912</td>\n",
       "      <td>1722.629985</td>\n",
       "      <td>-0.031609</td>\n",
       "      <td>2600.052752</td>\n",
       "      <td>...</td>\n",
       "      <td>-0.016604</td>\n",
       "      <td>2819.434075</td>\n",
       "      <td>1749.852462</td>\n",
       "      <td>-0.053624</td>\n",
       "      <td>2737.283750</td>\n",
       "      <td>1812.189479</td>\n",
       "      <td>-0.053119</td>\n",
       "      <td>2664.588332</td>\n",
       "      <td>1866.325679</td>\n",
       "      <td>-0.041351</td>\n",
       "    </tr>\n",
       "    <tr>\n",
       "      <th>...</th>\n",
       "      <td>...</td>\n",
       "      <td>...</td>\n",
       "      <td>...</td>\n",
       "      <td>...</td>\n",
       "      <td>...</td>\n",
       "      <td>...</td>\n",
       "      <td>...</td>\n",
       "      <td>...</td>\n",
       "      <td>...</td>\n",
       "      <td>...</td>\n",
       "      <td>...</td>\n",
       "      <td>...</td>\n",
       "      <td>...</td>\n",
       "      <td>...</td>\n",
       "      <td>...</td>\n",
       "      <td>...</td>\n",
       "      <td>...</td>\n",
       "      <td>...</td>\n",
       "      <td>...</td>\n",
       "      <td>...</td>\n",
       "      <td>...</td>\n",
       "    </tr>\n",
       "    <tr>\n",
       "      <th>199</th>\n",
       "      <td>1354.846124</td>\n",
       "      <td>1946.291035</td>\n",
       "      <td>-0.000071</td>\n",
       "      <td>1436.005777</td>\n",
       "      <td>1831.889364</td>\n",
       "      <td>0.112920</td>\n",
       "      <td>1450.998651</td>\n",
       "      <td>1713.268372</td>\n",
       "      <td>0.166175</td>\n",
       "      <td>1466.387431</td>\n",
       "      <td>...</td>\n",
       "      <td>0.008276</td>\n",
       "      <td>1312.858226</td>\n",
       "      <td>1421.120537</td>\n",
       "      <td>0.016607</td>\n",
       "      <td>1307.488609</td>\n",
       "      <td>1353.245492</td>\n",
       "      <td>0.018358</td>\n",
       "      <td>1307.269927</td>\n",
       "      <td>1301.262153</td>\n",
       "      <td>0.013307</td>\n",
       "    </tr>\n",
       "    <tr>\n",
       "      <th>200</th>\n",
       "      <td>900.431514</td>\n",
       "      <td>1510.550857</td>\n",
       "      <td>-0.000056</td>\n",
       "      <td>1124.763131</td>\n",
       "      <td>1308.396101</td>\n",
       "      <td>0.072219</td>\n",
       "      <td>1196.975231</td>\n",
       "      <td>1071.930170</td>\n",
       "      <td>0.099373</td>\n",
       "      <td>1109.926462</td>\n",
       "      <td>...</td>\n",
       "      <td>-0.109490</td>\n",
       "      <td>413.159043</td>\n",
       "      <td>927.854598</td>\n",
       "      <td>-0.097462</td>\n",
       "      <td>296.604931</td>\n",
       "      <td>811.812997</td>\n",
       "      <td>-0.115920</td>\n",
       "      <td>186.776280</td>\n",
       "      <td>710.417211</td>\n",
       "      <td>-0.161983</td>\n",
       "    </tr>\n",
       "    <tr>\n",
       "      <th>201</th>\n",
       "      <td>72.850646</td>\n",
       "      <td>3754.295013</td>\n",
       "      <td>-0.000019</td>\n",
       "      <td>135.652102</td>\n",
       "      <td>3874.291260</td>\n",
       "      <td>-0.027033</td>\n",
       "      <td>141.803033</td>\n",
       "      <td>3974.507446</td>\n",
       "      <td>-0.027239</td>\n",
       "      <td>144.245676</td>\n",
       "      <td>...</td>\n",
       "      <td>0.094596</td>\n",
       "      <td>69.929686</td>\n",
       "      <td>3992.984802</td>\n",
       "      <td>0.126661</td>\n",
       "      <td>85.686087</td>\n",
       "      <td>4023.706146</td>\n",
       "      <td>0.142894</td>\n",
       "      <td>99.380424</td>\n",
       "      <td>4046.099579</td>\n",
       "      <td>0.154124</td>\n",
       "    </tr>\n",
       "    <tr>\n",
       "      <th>202</th>\n",
       "      <td>1260.964149</td>\n",
       "      <td>2159.256546</td>\n",
       "      <td>0.000274</td>\n",
       "      <td>1335.243220</td>\n",
       "      <td>1851.975826</td>\n",
       "      <td>0.219779</td>\n",
       "      <td>1252.857707</td>\n",
       "      <td>1601.350079</td>\n",
       "      <td>0.317800</td>\n",
       "      <td>1106.594398</td>\n",
       "      <td>...</td>\n",
       "      <td>-0.040661</td>\n",
       "      <td>391.540262</td>\n",
       "      <td>1692.171650</td>\n",
       "      <td>0.013872</td>\n",
       "      <td>211.291803</td>\n",
       "      <td>1652.817776</td>\n",
       "      <td>0.028499</td>\n",
       "      <td>59.546666</td>\n",
       "      <td>1606.800190</td>\n",
       "      <td>0.009594</td>\n",
       "    </tr>\n",
       "    <tr>\n",
       "      <th>203</th>\n",
       "      <td>832.683742</td>\n",
       "      <td>1521.819592</td>\n",
       "      <td>-0.000016</td>\n",
       "      <td>1057.297468</td>\n",
       "      <td>1329.810143</td>\n",
       "      <td>0.070253</td>\n",
       "      <td>1127.873182</td>\n",
       "      <td>1096.859455</td>\n",
       "      <td>0.100716</td>\n",
       "      <td>1036.263585</td>\n",
       "      <td>...</td>\n",
       "      <td>-0.102614</td>\n",
       "      <td>348.142892</td>\n",
       "      <td>979.875326</td>\n",
       "      <td>-0.096110</td>\n",
       "      <td>225.390255</td>\n",
       "      <td>869.132936</td>\n",
       "      <td>-0.121741</td>\n",
       "      <td>107.118905</td>\n",
       "      <td>768.324792</td>\n",
       "      <td>-0.176002</td>\n",
       "    </tr>\n",
       "  </tbody>\n",
       "</table>\n",
       "<p>204 rows × 63 columns</p>\n",
       "</div>"
      ],
      "text/plain": [
       "          wristX       wristY    wristZ   thumb_CmcX   thumb_CmcY  thumb_CmcZ  \\\n",
       "0      67.593429  3675.696075 -0.000018    99.616661  3761.902771   -0.026927   \n",
       "1    1436.803349  1737.654764 -0.000152  1578.083852  1765.562633   -0.157858   \n",
       "2     648.545802  1607.948065 -0.000153   467.789233  1466.462970   -0.050314   \n",
       "3     833.924472  1559.609413 -0.000164   648.933053  1397.195578   -0.041743   \n",
       "4    2585.928783  2014.379934 -0.000058  2489.925442  1913.919084   -0.022915   \n",
       "..           ...          ...       ...          ...          ...         ...   \n",
       "199  1354.846124  1946.291035 -0.000071  1436.005777  1831.889364    0.112920   \n",
       "200   900.431514  1510.550857 -0.000056  1124.763131  1308.396101    0.072219   \n",
       "201    72.850646  3754.295013 -0.000019   135.652102  3874.291260   -0.027033   \n",
       "202  1260.964149  2159.256546  0.000274  1335.243220  1851.975826    0.219779   \n",
       "203   832.683742  1521.819592 -0.000016  1057.297468  1329.810143    0.070253   \n",
       "\n",
       "      thumb_McpX   thumb_McpY  thumb_McpZ    thumb_IpX  ...  pinky_McpZ  \\\n",
       "0     110.972045  3835.375763   -0.026853   121.125584  ...    0.072837   \n",
       "1    1641.237340  1777.532579   -0.304467  1646.324825  ...   -0.341164   \n",
       "2     448.115349  1191.233873   -0.097409   611.626387  ...   -0.163922   \n",
       "3     647.326112  1105.966210   -0.078414   848.145723  ...   -0.155674   \n",
       "4    2510.127912  1722.629985   -0.031609  2600.052752  ...   -0.016604   \n",
       "..           ...          ...         ...          ...  ...         ...   \n",
       "199  1450.998651  1713.268372    0.166175  1466.387431  ...    0.008276   \n",
       "200  1196.975231  1071.930170    0.099373  1109.926462  ...   -0.109490   \n",
       "201   141.803033  3974.507446   -0.027239   144.245676  ...    0.094596   \n",
       "202  1252.857707  1601.350079    0.317800  1106.594398  ...   -0.040661   \n",
       "203  1127.873182  1096.859455    0.100716  1036.263585  ...   -0.102614   \n",
       "\n",
       "      pinky_PipX   pinky_PipY  pinky_PipZ   pinky_DipX   pinky_DipY  \\\n",
       "0     114.973211  3854.573547    0.097510   129.272298  3879.857758   \n",
       "1    1227.836695  1684.198194   -0.456003  1278.155567  1867.738249   \n",
       "2     998.544693  1039.246440   -0.247517   893.199384  1167.122245   \n",
       "3    1185.740709   996.946692   -0.238493  1068.991184  1137.645721   \n",
       "4    2819.434075  1749.852462   -0.053624  2737.283750  1812.189479   \n",
       "..           ...          ...         ...          ...          ...   \n",
       "199  1312.858226  1421.120537    0.016607  1307.488609  1353.245492   \n",
       "200   413.159043   927.854598   -0.097462   296.604931   811.812997   \n",
       "201    69.929686  3992.984802    0.126661    85.686087  4023.706146   \n",
       "202   391.540262  1692.171650    0.013872   211.291803  1652.817776   \n",
       "203   348.142892   979.875326   -0.096110   225.390255   869.132936   \n",
       "\n",
       "     pinky_DipZ   pinky_TipX   pinky_TipY  pinky_TipZ  \n",
       "0      0.108352   140.462808  3898.238983    0.113854  \n",
       "1     -0.464728  1338.902637  1969.229223   -0.469522  \n",
       "2     -0.246745   882.732987  1264.709234   -0.227733  \n",
       "3     -0.229178  1069.342017  1233.988047   -0.199588  \n",
       "4     -0.053119  2664.588332  1866.325679   -0.041351  \n",
       "..          ...          ...          ...         ...  \n",
       "199    0.018358  1307.269927  1301.262153    0.013307  \n",
       "200   -0.115920   186.776280   710.417211   -0.161983  \n",
       "201    0.142894    99.380424  4046.099579    0.154124  \n",
       "202    0.028499    59.546666  1606.800190    0.009594  \n",
       "203   -0.121741   107.118905   768.324792   -0.176002  \n",
       "\n",
       "[204 rows x 63 columns]"
      ]
     },
     "execution_count": 92,
     "metadata": {},
     "output_type": "execute_result"
    }
   ],
   "source": [
    "X_pred = df_pred.drop(columns = ['class_type'])\n",
    "X_pred"
   ]
  },
  {
   "cell_type": "code",
   "execution_count": 93,
   "id": "84cd29a3",
   "metadata": {},
   "outputs": [
    {
     "data": {
      "text/plain": [
       "(204, 63, 1)"
      ]
     },
     "metadata": {},
     "output_type": "display_data"
    },
    {
     "data": {
      "text/plain": [
       "numpy.ndarray"
      ]
     },
     "metadata": {},
     "output_type": "display_data"
    }
   ],
   "source": [
    "X_pred = np.reshape(np.array(X_pred), (X_pred.shape[0], X_pred.shape[1], 1))\n",
    "display(X_pred.shape)\n",
    "display(type(X_pred))"
   ]
  },
  {
   "cell_type": "code",
   "execution_count": 94,
   "id": "971b8916",
   "metadata": {},
   "outputs": [
    {
     "data": {
      "text/plain": [
       "0      N\n",
       "1      N\n",
       "2      N\n",
       "3      N\n",
       "4      N\n",
       "      ..\n",
       "199    J\n",
       "200    J\n",
       "201    J\n",
       "202    J\n",
       "203    J\n",
       "Name: class_type, Length: 204, dtype: object"
      ]
     },
     "execution_count": 94,
     "metadata": {},
     "output_type": "execute_result"
    }
   ],
   "source": [
    "y_act=df_pred['class_type']\n",
    "y_act"
   ]
  },
  {
   "cell_type": "code",
   "execution_count": 95,
   "id": "f72dd3a1",
   "metadata": {},
   "outputs": [
    {
     "name": "stdout",
     "output_type": "stream",
     "text": [
      "7/7 [==============================] - 0s 3ms/step\n"
     ]
    },
    {
     "data": {
      "text/plain": [
       "array([[4.06886311e-03, 8.07576329e-02, 3.43941785e-02, ...,\n",
       "        1.48171559e-04, 3.07850532e-05, 5.21077891e-04],\n",
       "       [1.92235783e-02, 1.71487369e-02, 1.03487605e-02, ...,\n",
       "        2.26096913e-01, 3.82540450e-02, 2.07605828e-02],\n",
       "       [4.09215827e-05, 1.77528337e-03, 2.14708946e-03, ...,\n",
       "        3.07371764e-08, 2.15204828e-03, 4.41824377e-05],\n",
       "       ...,\n",
       "       [3.60278529e-03, 8.50392878e-02, 4.12154943e-02, ...,\n",
       "        1.64694065e-04, 2.31153099e-05, 4.81841620e-04],\n",
       "       [6.05830969e-03, 7.66794642e-07, 2.46762938e-05, ...,\n",
       "        4.46307195e-06, 4.31345627e-02, 1.02261811e-05],\n",
       "       [1.32140284e-03, 2.06737113e-07, 1.29862919e-05, ...,\n",
       "        9.54463417e-07, 2.39913329e-03, 1.56078897e-06]], dtype=float32)"
      ]
     },
     "execution_count": 95,
     "metadata": {},
     "output_type": "execute_result"
    }
   ],
   "source": [
    "y_pred=model.predict(X_pred)\n",
    "y_pred"
   ]
  },
  {
   "cell_type": "code",
   "execution_count": 96,
   "id": "1e771422",
   "metadata": {},
   "outputs": [
    {
     "data": {
      "text/plain": [
       "['T',\n",
       " 'W',\n",
       " 'E',\n",
       " 'N',\n",
       " 'N',\n",
       " 'Q',\n",
       " 'N',\n",
       " 'J',\n",
       " 'R',\n",
       " 'R',\n",
       " 'R',\n",
       " 'R',\n",
       " 'L',\n",
       " 'T',\n",
       " 'R',\n",
       " 'U',\n",
       " 'W',\n",
       " 'B',\n",
       " 'B',\n",
       " 'F',\n",
       " 'B',\n",
       " 'B',\n",
       " 'K',\n",
       " 'D',\n",
       " 'B',\n",
       " 'M',\n",
       " 'J',\n",
       " 'I',\n",
       " 'Y',\n",
       " 'S',\n",
       " 'I',\n",
       " 'I',\n",
       " 'F',\n",
       " 'I',\n",
       " 'F',\n",
       " 'F',\n",
       " 'F',\n",
       " 'F',\n",
       " 'B',\n",
       " 'F',\n",
       " 'H',\n",
       " 'L',\n",
       " 'H',\n",
       " 'H',\n",
       " 'H',\n",
       " 'O',\n",
       " 'H',\n",
       " 'H',\n",
       " 'E',\n",
       " 'J',\n",
       " 'E',\n",
       " 'E',\n",
       " 'E',\n",
       " 'E',\n",
       " 'C',\n",
       " 'E',\n",
       " 'B',\n",
       " 'U',\n",
       " 'U',\n",
       " 'U',\n",
       " 'U',\n",
       " 'R',\n",
       " 'V',\n",
       " 'U',\n",
       " 'E',\n",
       " 'J',\n",
       " 'E',\n",
       " 'M',\n",
       " 'M',\n",
       " 'K',\n",
       " 'M',\n",
       " 'Z',\n",
       " 'N',\n",
       " 'K',\n",
       " 'V',\n",
       " 'X',\n",
       " 'J',\n",
       " 'X',\n",
       " 'X',\n",
       " 'L',\n",
       " 'T',\n",
       " 'K',\n",
       " 'N',\n",
       " 'K',\n",
       " 'K',\n",
       " 'V',\n",
       " 'K',\n",
       " 'K',\n",
       " 'K',\n",
       " 'K',\n",
       " 'Z',\n",
       " 'N',\n",
       " 'N',\n",
       " 'Q',\n",
       " 'Q',\n",
       " 'Q',\n",
       " 'Q',\n",
       " 'Y',\n",
       " 'Y',\n",
       " 'Y',\n",
       " 'Y',\n",
       " 'M',\n",
       " 'Y',\n",
       " 'Y',\n",
       " 'I',\n",
       " 'S',\n",
       " 'S',\n",
       " 'M',\n",
       " 'S',\n",
       " 'S',\n",
       " 'N',\n",
       " 'N',\n",
       " 'R',\n",
       " 'A',\n",
       " 'G',\n",
       " 'G',\n",
       " 'G',\n",
       " 'T',\n",
       " 'G',\n",
       " 'G',\n",
       " 'N',\n",
       " 'A',\n",
       " 'A',\n",
       " 'A',\n",
       " 'Y',\n",
       " 'D',\n",
       " 'A',\n",
       " 'A',\n",
       " 'L',\n",
       " 'O',\n",
       " 'O',\n",
       " 'O',\n",
       " 'O',\n",
       " 'O',\n",
       " 'T',\n",
       " 'O',\n",
       " 'O',\n",
       " 'T',\n",
       " 'N',\n",
       " 'Y',\n",
       " 'T',\n",
       " 'J',\n",
       " 'A',\n",
       " 'N',\n",
       " 'T',\n",
       " 'V',\n",
       " 'V',\n",
       " 'V',\n",
       " 'V',\n",
       " 'V',\n",
       " 'V',\n",
       " 'N',\n",
       " 'V',\n",
       " 'Z',\n",
       " 'Z',\n",
       " 'G',\n",
       " 'G',\n",
       " 'Z',\n",
       " 'Z',\n",
       " 'Z',\n",
       " 'O',\n",
       " 'O',\n",
       " 'O',\n",
       " 'C',\n",
       " 'C',\n",
       " 'O',\n",
       " 'D',\n",
       " 'J',\n",
       " 'Q',\n",
       " 'P',\n",
       " 'P',\n",
       " 'J',\n",
       " 'S',\n",
       " 'L',\n",
       " 'L',\n",
       " 'T',\n",
       " 'L',\n",
       " 'L',\n",
       " 'L',\n",
       " 'L',\n",
       " 'L',\n",
       " 'L',\n",
       " 'W',\n",
       " 'W',\n",
       " 'S',\n",
       " 'W',\n",
       " 'W',\n",
       " 'W',\n",
       " 'W',\n",
       " 'W',\n",
       " 'W',\n",
       " 'D',\n",
       " 'D',\n",
       " 'D',\n",
       " 'I',\n",
       " 'D',\n",
       " 'D',\n",
       " 'L',\n",
       " 'J',\n",
       " 'J',\n",
       " 'J',\n",
       " 'T',\n",
       " 'J',\n",
       " 'J']"
      ]
     },
     "execution_count": 96,
     "metadata": {},
     "output_type": "execute_result"
    }
   ],
   "source": [
    "preds = [cat_list[np.argmax(pred)] for pred in y_pred]\n",
    "preds"
   ]
  },
  {
   "cell_type": "code",
   "execution_count": 98,
   "id": "f5e14f39",
   "metadata": {},
   "outputs": [
    {
     "name": "stdout",
     "output_type": "stream",
     "text": [
      "Correct Predictions:  0.6274509803921569\n"
     ]
    }
   ],
   "source": [
    "correct=0\n",
    "comparisons=list(zip(preds, y_act))\n",
    "for comparison in comparisons:\n",
    "    if comparison[0]==comparison[1]:\n",
    "        correct+=1\n",
    "correct_percent=correct/len(y_act)\n",
    "print('Correct Predictions: ', correct_percent)"
   ]
  },
  {
   "cell_type": "code",
   "execution_count": 97,
   "id": "a4d79ea6",
   "metadata": {},
   "outputs": [
    {
     "data": {
      "text/plain": [
       "array(['A', 'B', 'C', 'D', 'E', 'F', 'G', 'H', 'I', 'J', 'K', 'L', 'M',\n",
       "       'N', 'O', 'P', 'Q', 'R', 'S', 'T', 'U', 'V', 'W', 'X', 'Y', 'Z'],\n",
       "      dtype='<U1')"
      ]
     },
     "execution_count": 97,
     "metadata": {},
     "output_type": "execute_result"
    }
   ],
   "source": [
    "np.unique(np.array(preds))"
   ]
  },
  {
   "cell_type": "code",
   "execution_count": null,
   "id": "f091d9d0",
   "metadata": {},
   "outputs": [],
   "source": []
  }
 ],
 "metadata": {
  "kernelspec": {
   "display_name": "Python 3 (ipykernel)",
   "language": "python",
   "name": "python3"
  },
  "language_info": {
   "codemirror_mode": {
    "name": "ipython",
    "version": 3
   },
   "file_extension": ".py",
   "mimetype": "text/x-python",
   "name": "python",
   "nbconvert_exporter": "python",
   "pygments_lexer": "ipython3",
   "version": "3.10.6"
  },
  "toc": {
   "base_numbering": 1,
   "nav_menu": {},
   "number_sections": true,
   "sideBar": true,
   "skip_h1_title": false,
   "title_cell": "Table of Contents",
   "title_sidebar": "Contents",
   "toc_cell": false,
   "toc_position": {},
   "toc_section_display": true,
   "toc_window_display": false
  }
 },
 "nbformat": 4,
 "nbformat_minor": 5
}
