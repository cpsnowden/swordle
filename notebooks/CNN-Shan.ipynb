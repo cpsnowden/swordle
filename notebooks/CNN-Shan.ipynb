{
 "cells": [
  {
   "cell_type": "markdown",
   "id": "4bdb1a64",
   "metadata": {},
   "source": [
    "# Sign Game Server"
   ]
  },
  {
   "cell_type": "markdown",
   "id": "f90694f4",
   "metadata": {},
   "source": [
    "Game Plan:"
   ]
  },
  {
   "cell_type": "code",
   "execution_count": 158,
   "id": "613a1722",
   "metadata": {},
   "outputs": [],
   "source": [
    "# Imports\n",
    "import numpy as np\n",
    "import pandas as pd\n",
    "import matplotlib.pyplot as plt\n",
    "from tensorflow.keras import models\n",
    "from tensorflow.keras import Sequential, layers\n",
    "from sklearn.preprocessing import LabelEncoder\n",
    "from sklearn.model_selection import train_test_split\n",
    "from tensorflow.keras.utils import to_categorical\n",
    "from tensorflow.keras.callbacks import EarlyStopping\n",
    "import string"
   ]
  },
  {
   "cell_type": "code",
   "execution_count": null,
   "id": "0161ffc0",
   "metadata": {},
   "outputs": [],
   "source": []
  },
  {
   "cell_type": "code",
   "execution_count": 159,
   "id": "17df61f2",
   "metadata": {
    "collapsed": true
   },
   "outputs": [
    {
     "name": "stdout",
     "output_type": "stream",
     "text": [
      "Package                           Version\n",
      "--------------------------------- ------------\n",
      "absl-py                           1.3.0\n",
      "altair                            4.2.0\n",
      "anyio                             3.6.2\n",
      "argon2-cffi                       21.3.0\n",
      "argon2-cffi-bindings              21.2.0\n",
      "astroid                           2.11.7\n",
      "asttokens                         2.0.8\n",
      "astunparse                        1.6.3\n",
      "attrs                             22.1.0\n",
      "Augmentor                         0.2.10\n",
      "autopep8                          1.6.0\n",
      "Babel                             2.10.3\n",
      "backcall                          0.2.0\n",
      "beautifulsoup4                    4.11.1\n",
      "bleach                            5.0.1\n",
      "blinker                           1.5\n",
      "branca                            0.5.0\n",
      "cachetools                        5.2.0\n",
      "certifi                           2022.9.24\n",
      "cffi                              1.15.1\n",
      "charset-normalizer                2.1.1\n",
      "click                             8.1.3\n",
      "cloudpickle                       2.2.0\n",
      "colorama                          0.4.5\n",
      "commonmark                        0.9.1\n",
      "cycler                            0.11.0\n",
      "Cython                            0.29.32\n",
      "dask                              2022.7.1\n",
      "db-dtypes                         1.0.4\n",
      "deap                              1.3.3\n",
      "debugpy                           1.6.3\n",
      "decorator                         5.1.1\n",
      "defusedxml                        0.7.1\n",
      "dill                              0.3.6\n",
      "entrypoints                       0.4\n",
      "etils                             0.8.0\n",
      "executing                         1.1.1\n",
      "fastapi                           0.93.0\n",
      "fastjsonschema                    2.16.2\n",
      "flake8                            4.0.1\n",
      "flatbuffers                       22.9.24\n",
      "folium                            0.12.1.post1\n",
      "fonttools                         4.38.0\n",
      "fsspec                            2022.10.0\n",
      "future                            0.18.3\n",
      "gast                              0.4.0\n",
      "gensim                            4.2.0\n",
      "gitdb                             4.0.9\n",
      "GitPython                         3.1.29\n",
      "google-api-core                   2.10.2\n",
      "google-auth                       2.13.0\n",
      "google-auth-oauthlib              0.4.6\n",
      "google-cloud-bigquery             2.34.4\n",
      "google-cloud-bigquery-storage     2.16.2\n",
      "google-cloud-core                 2.3.2\n",
      "google-cloud-storage              2.4.0\n",
      "google-crc32c                     1.5.0\n",
      "google-pasta                      0.2.0\n",
      "google-resumable-media            2.4.0\n",
      "google-trans-new                  1.1.9\n",
      "googleapis-common-protos          1.56.4\n",
      "grpcio                            1.50.0\n",
      "grpcio-status                     1.48.2\n",
      "h11                               0.12.0\n",
      "h5py                              3.7.0\n",
      "htmlmin                           0.1.12\n",
      "httpcore                          0.15.0\n",
      "httptools                         0.5.0\n",
      "httpx                             0.23.0\n",
      "idna                              3.4\n",
      "ImageHash                         4.3.1\n",
      "imageio                           2.22.2\n",
      "imbalanced-learn                  0.9.1\n",
      "imblearn                          0.0\n",
      "importlib-metadata                5.0.0\n",
      "importlib-resources               5.10.0\n",
      "iniconfig                         1.1.1\n",
      "ipdb                              0.13.9\n",
      "ipykernel                         6.15.3\n",
      "ipympl                            0.9.2\n",
      "ipython                           8.5.0\n",
      "ipython-genutils                  0.2.0\n",
      "ipywidgets                        7.7.2\n",
      "isort                             5.10.1\n",
      "jedi                              0.18.1\n",
      "Jinja2                            3.1.2\n",
      "joblib                            1.1.1\n",
      "json5                             0.9.10\n",
      "jsonschema                        4.16.0\n",
      "jupyter_client                    7.4.3\n",
      "jupyter-contrib-core              0.4.0\n",
      "jupyter-contrib-nbextensions      0.5.1\n",
      "jupyter_core                      4.11.2\n",
      "jupyter-highlight-selected-word   0.2.0\n",
      "jupyter-latex-envs                1.4.6\n",
      "jupyter-nbextensions-configurator 0.5.0\n",
      "jupyter-resource-usage            0.6.3\n",
      "jupyter-server                    1.21.0\n",
      "jupyterlab                        3.4.8\n",
      "jupyterlab-pygments               0.2.2\n",
      "jupyterlab_server                 2.16.1\n",
      "jupyterlab-widgets                1.1.1\n",
      "kaggle                            1.5.12\n",
      "keras                             2.10.0\n",
      "Keras-Preprocessing               1.1.2\n",
      "kiwisolver                        1.4.4\n",
      "lazy-object-proxy                 1.7.1\n",
      "libclang                          14.0.6\n",
      "locket                            1.0.0\n",
      "lxml                              4.9.1\n",
      "Markdown                          3.4.1\n",
      "MarkupSafe                        2.1.1\n",
      "matplotlib                        3.5.3\n",
      "matplotlib-inline                 0.1.6\n",
      "mccabe                            0.6.1\n",
      "mediapipe                         0.9.1.0\n",
      "memoized-property                 1.0.3\n",
      "missingno                         0.5.1\n",
      "mistune                           0.8.4\n",
      "multimethod                       1.8\n",
      "nbclassic                         0.4.7\n",
      "nbclient                          0.7.0\n",
      "nbconvert                         6.5.4\n",
      "nbformat                          5.7.0\n",
      "nbresult                          0.0.9\n",
      "nest-asyncio                      1.5.6\n",
      "networkx                          2.8.7\n",
      "nltk                              3.7\n",
      "notebook                          6.4.12\n",
      "notebook_shim                     0.2.0\n",
      "nuclear                           1.3.4\n",
      "numpy                             1.23.4\n",
      "oauthlib                          3.2.2\n",
      "opencv-contrib-python             4.7.0.72\n",
      "opencv-python                     4.7.0.72\n",
      "opt-einsum                        3.3.0\n",
      "packaging                         21.3\n",
      "pandas                            1.4.4\n",
      "pandas-gbq                        0.17.9\n",
      "pandas-profiling                  3.3.0\n",
      "pandocfilters                     1.5.0\n",
      "parso                             0.8.3\n",
      "partd                             1.3.0\n",
      "patsy                             0.5.3\n",
      "pexpect                           4.8.0\n",
      "phik                              0.12.2\n",
      "pickleshare                       0.7.5\n",
      "Pillow                            9.1.1\n",
      "pip                               23.0.1\n",
      "platformdirs                      2.5.2\n",
      "plotly                            5.9.0\n",
      "pluggy                            1.0.0\n",
      "pmdarima                          2.0.1\n",
      "prometheus-client                 0.15.0\n",
      "promise                           2.3\n",
      "prompt-toolkit                    3.0.31\n",
      "proto-plus                        1.22.1\n",
      "protobuf                          3.19.6\n",
      "psutil                            5.9.3\n",
      "psycopg2-binary                   2.9.4\n",
      "ptyprocess                        0.7.0\n",
      "pure-eval                         0.2.2\n",
      "py                                1.11.0\n",
      "pyarrow                           8.0.0\n",
      "pyasn1                            0.4.8\n",
      "pyasn1-modules                    0.2.8\n",
      "pycodestyle                       2.8.0\n",
      "pycparser                         2.21\n",
      "pydantic                          1.9.2\n",
      "pydata-google-auth                1.4.0\n",
      "pydeck                            0.8.0b4\n",
      "pyflakes                          2.4.0\n",
      "Pygments                          2.13.0\n",
      "pylint                            2.14.5\n",
      "Pympler                           1.0.1\n",
      "pyparsing                         3.0.9\n",
      "pyrsistent                        0.18.1\n",
      "pytest                            7.1.3\n",
      "pytest-asyncio                    0.19.0\n",
      "python-dateutil                   2.8.2\n",
      "python-dotenv                     0.20.0\n",
      "python-multipart                  0.0.6\n",
      "python-slugify                    6.1.2\n",
      "pytz                              2022.1\n",
      "pytz-deprecation-shim             0.1.0.post0\n",
      "PyWavelets                        1.4.1\n",
      "PyYAML                            5.4.1\n",
      "pyzmq                             24.0.1\n",
      "regex                             2022.9.13\n",
      "regex-rename                      1.0.0\n",
      "requests                          2.28.1\n",
      "requests-oauthlib                 1.3.1\n",
      "rfc3986                           1.5.0\n",
      "rich                              12.6.0\n",
      "rsa                               4.9\n",
      "scikit-image                      0.19.3\n",
      "scikit-learn                      1.1.2\n",
      "scipy                             1.8.1\n",
      "seaborn                           0.11.2\n",
      "semver                            2.13.0\n",
      "Send2Trash                        1.8.0\n",
      "setuptools                        63.2.0\n",
      "setuptools-scm                    6.4.2\n",
      "six                               1.16.0\n",
      "smart-open                        6.2.0\n",
      "smmap                             5.0.0\n",
      "sniffio                           1.3.0\n",
      "soupsieve                         2.3.2.post1\n",
      "stack-data                        0.5.1\n",
      "starlette                         0.25.0\n",
      "statsmodels                       0.13.2\n",
      "stopit                            1.1.2\n",
      "streamlit                         1.11.1\n",
      "tangled-up-in-unicode             0.2.0\n",
      "tenacity                          8.1.0\n",
      "tensorboard                       2.10.1\n",
      "tensorboard-data-server           0.6.1\n",
      "tensorboard-plugin-wit            1.8.1\n",
      "tensorflow                        2.10.0\n",
      "tensorflow-datasets               4.6.0\n",
      "tensorflow-estimator              2.10.0\n",
      "tensorflow-io-gcs-filesystem      0.27.0\n",
      "tensorflow-metadata               1.10.0\n",
      "termcolor                         2.0.1\n",
      "terminado                         0.16.0\n",
      "text-unidecode                    1.3\n",
      "threadpoolctl                     3.1.0\n",
      "tifffile                          2022.10.10\n",
      "tinycss2                          1.2.1\n",
      "toml                              0.10.2\n",
      "tomli                             2.0.1\n",
      "tomlkit                           0.11.5\n",
      "toolz                             0.12.0\n",
      "tornado                           6.2\n",
      "TPOT                              0.11.7\n",
      "tqdm                              4.64.1\n",
      "traitlets                         5.5.0\n",
      "typing_extensions                 4.4.0\n",
      "tzdata                            2022.5\n",
      "tzlocal                           4.2\n",
      "update-checker                    0.18.0\n",
      "urllib3                           1.26.12\n",
      "uvicorn                           0.20.0\n",
      "uvloop                            0.17.0\n",
      "validators                        0.20.0\n",
      "visions                           0.7.5\n",
      "watchdog                          2.1.9\n",
      "watchfiles                        0.18.1\n",
      "wcwidth                           0.2.5\n",
      "webencodings                      0.5.1\n",
      "websocket-client                  1.4.1\n",
      "websockets                        10.4\n",
      "Werkzeug                          2.2.2\n",
      "wheel                             0.38.4\n",
      "widgetsnbextension                3.6.1\n",
      "wrapt                             1.14.1\n",
      "xgboost                           1.6.2\n",
      "XlsxWriter                        3.0.3\n",
      "yapf                              0.32.0\n",
      "zipp                              3.10.0\n"
     ]
    }
   ],
   "source": [
    "!pip list"
   ]
  },
  {
   "cell_type": "markdown",
   "id": "bf1a4ebd",
   "metadata": {},
   "source": [
    "protobuf 3.11.0"
   ]
  },
  {
   "cell_type": "markdown",
   "id": "3e8360e0",
   "metadata": {},
   "source": [
    "## Dataset Preprocessing"
   ]
  },
  {
   "cell_type": "code",
   "execution_count": 160,
   "id": "70fb64fa",
   "metadata": {},
   "outputs": [],
   "source": [
    "# Dataset\n",
    "#df1 = pd.read_csv('../raw_data/csv_data/train.csv')"
   ]
  },
  {
   "cell_type": "code",
   "execution_count": 161,
   "id": "6eab2407",
   "metadata": {},
   "outputs": [],
   "source": [
    "df = df1.copy().dropna().reset_index()"
   ]
  },
  {
   "cell_type": "code",
   "execution_count": 162,
   "id": "16decf9a",
   "metadata": {},
   "outputs": [
    {
     "data": {
      "text/plain": [
       "Index(['index', 'Unnamed: 0', 'WRIST_X', 'WRIST_Y', 'WRIST_Z', 'THUMB_CMC_X',\n",
       "       'THUMB_CMC_Y', 'THUMB_CMC_Z', 'THUMB_MCP_X', 'THUMB_MCP_Y',\n",
       "       'THUMB_MCP_Z', 'THUMB_IP_X', 'THUMB_IP_Y', 'THUMB_IP_Z', 'THUMB_TIP_X',\n",
       "       'THUMB_TIP_Y', 'THUMB_TIP_Z', 'INDEX_FINGER_MCP_X',\n",
       "       'INDEX_FINGER_MCP_Y', 'INDEX_FINGER_MCP_Z', 'INDEX_FINGER_PIP_X',\n",
       "       'INDEX_FINGER_PIP_Y', 'INDEX_FINGER_PIP_Z', 'INDEX_FINGER_DIP_X',\n",
       "       'INDEX_FINGER_DIP_Y', 'INDEX_FINGER_DIP_Z', 'INDEX_FINGER_TIP_X',\n",
       "       'INDEX_FINGER_TIP_Y', 'INDEX_FINGER_TIP_Z', 'MIDDLE_FINGER_MCP_X',\n",
       "       'MIDDLE_FINGER_MCP_Y', 'MIDDLE_FINGER_MCP_Z', 'MIDDLE_FINGER_PIP_X',\n",
       "       'MIDDLE_FINGER_PIP_Y', 'MIDDLE_FINGER_PIP_Z', 'MIDDLE_FINGER_DIP_X',\n",
       "       'MIDDLE_FINGER_DIP_Y', 'MIDDLE_FINGER_DIP_Z', 'MIDDLE_FINGER_TIP_X',\n",
       "       'MIDDLE_FINGER_TIP_Y', 'MIDDLE_FINGER_TIP_Z', 'RING_FINGER_MCP_X',\n",
       "       'RING_FINGER_MCP_Y', 'RING_FINGER_MCP_Z', 'RING_FINGER_PIP_X',\n",
       "       'RING_FINGER_PIP_Y', 'RING_FINGER_PIP_Z', 'RING_FINGER_DIP_X',\n",
       "       'RING_FINGER_DIP_Y', 'RING_FINGER_DIP_Z', 'RING_FINGER_TIP_X',\n",
       "       'RING_FINGER_TIP_Y', 'RING_FINGER_TIP_Z', 'PINKY_MCP_X', 'PINKY_MCP_Y',\n",
       "       'PINKY_MCP_Z', 'PINKY_PIP_X', 'PINKY_PIP_Y', 'PINKY_PIP_Z',\n",
       "       'PINKY_DIP_X', 'PINKY_DIP_Y', 'PINKY_DIP_Z', 'PINKY_TIP_X',\n",
       "       'PINKY_TIP_Y', 'PINKY_TIP_Z', 'TARGET', 'PATH'],\n",
       "      dtype='object')"
      ]
     },
     "execution_count": 162,
     "metadata": {},
     "output_type": "execute_result"
    }
   ],
   "source": [
    "df.columns"
   ]
  },
  {
   "cell_type": "code",
   "execution_count": 163,
   "id": "7097a18b",
   "metadata": {},
   "outputs": [
    {
     "data": {
      "text/html": [
       "<div>\n",
       "<style scoped>\n",
       "    .dataframe tbody tr th:only-of-type {\n",
       "        vertical-align: middle;\n",
       "    }\n",
       "\n",
       "    .dataframe tbody tr th {\n",
       "        vertical-align: top;\n",
       "    }\n",
       "\n",
       "    .dataframe thead th {\n",
       "        text-align: right;\n",
       "    }\n",
       "</style>\n",
       "<table border=\"1\" class=\"dataframe\">\n",
       "  <thead>\n",
       "    <tr style=\"text-align: right;\">\n",
       "      <th></th>\n",
       "      <th>WRIST_X</th>\n",
       "      <th>WRIST_Y</th>\n",
       "      <th>WRIST_Z</th>\n",
       "      <th>THUMB_CMC_X</th>\n",
       "      <th>THUMB_CMC_Y</th>\n",
       "      <th>THUMB_CMC_Z</th>\n",
       "      <th>THUMB_MCP_X</th>\n",
       "      <th>THUMB_MCP_Y</th>\n",
       "      <th>THUMB_MCP_Z</th>\n",
       "      <th>THUMB_IP_X</th>\n",
       "      <th>...</th>\n",
       "      <th>PINKY_MCP_Z</th>\n",
       "      <th>PINKY_PIP_X</th>\n",
       "      <th>PINKY_PIP_Y</th>\n",
       "      <th>PINKY_PIP_Z</th>\n",
       "      <th>PINKY_DIP_X</th>\n",
       "      <th>PINKY_DIP_Y</th>\n",
       "      <th>PINKY_DIP_Z</th>\n",
       "      <th>PINKY_TIP_X</th>\n",
       "      <th>PINKY_TIP_Y</th>\n",
       "      <th>PINKY_TIP_Z</th>\n",
       "    </tr>\n",
       "  </thead>\n",
       "  <tbody>\n",
       "    <tr>\n",
       "      <th>0</th>\n",
       "      <td>0.637210</td>\n",
       "      <td>0.809412</td>\n",
       "      <td>3.020628e-07</td>\n",
       "      <td>0.512774</td>\n",
       "      <td>0.712112</td>\n",
       "      <td>-0.034217</td>\n",
       "      <td>0.458524</td>\n",
       "      <td>0.560906</td>\n",
       "      <td>-0.044048</td>\n",
       "      <td>0.522763</td>\n",
       "      <td>...</td>\n",
       "      <td>-0.049284</td>\n",
       "      <td>0.665756</td>\n",
       "      <td>0.339019</td>\n",
       "      <td>-0.064839</td>\n",
       "      <td>0.651039</td>\n",
       "      <td>0.261719</td>\n",
       "      <td>-0.075527</td>\n",
       "      <td>0.636476</td>\n",
       "      <td>0.196306</td>\n",
       "      <td>-0.086300</td>\n",
       "    </tr>\n",
       "    <tr>\n",
       "      <th>1</th>\n",
       "      <td>0.551169</td>\n",
       "      <td>0.491262</td>\n",
       "      <td>2.062316e-06</td>\n",
       "      <td>0.671859</td>\n",
       "      <td>0.519571</td>\n",
       "      <td>-0.147540</td>\n",
       "      <td>0.755878</td>\n",
       "      <td>0.502617</td>\n",
       "      <td>-0.289627</td>\n",
       "      <td>0.763081</td>\n",
       "      <td>...</td>\n",
       "      <td>-0.426825</td>\n",
       "      <td>0.366051</td>\n",
       "      <td>0.368505</td>\n",
       "      <td>-0.551383</td>\n",
       "      <td>0.379163</td>\n",
       "      <td>0.490967</td>\n",
       "      <td>-0.609301</td>\n",
       "      <td>0.404357</td>\n",
       "      <td>0.584193</td>\n",
       "      <td>-0.653821</td>\n",
       "    </tr>\n",
       "    <tr>\n",
       "      <th>2</th>\n",
       "      <td>0.686294</td>\n",
       "      <td>0.713084</td>\n",
       "      <td>1.565869e-07</td>\n",
       "      <td>0.572719</td>\n",
       "      <td>0.676401</td>\n",
       "      <td>-0.015456</td>\n",
       "      <td>0.469417</td>\n",
       "      <td>0.611907</td>\n",
       "      <td>-0.038461</td>\n",
       "      <td>0.375150</td>\n",
       "      <td>...</td>\n",
       "      <td>-0.090517</td>\n",
       "      <td>0.577764</td>\n",
       "      <td>0.336889</td>\n",
       "      <td>-0.126363</td>\n",
       "      <td>0.509202</td>\n",
       "      <td>0.300105</td>\n",
       "      <td>-0.146626</td>\n",
       "      <td>0.446786</td>\n",
       "      <td>0.294199</td>\n",
       "      <td>-0.158336</td>\n",
       "    </tr>\n",
       "    <tr>\n",
       "      <th>3</th>\n",
       "      <td>0.613139</td>\n",
       "      <td>0.778134</td>\n",
       "      <td>-1.897673e-07</td>\n",
       "      <td>0.491187</td>\n",
       "      <td>0.746994</td>\n",
       "      <td>-0.076983</td>\n",
       "      <td>0.359688</td>\n",
       "      <td>0.653980</td>\n",
       "      <td>-0.116892</td>\n",
       "      <td>0.261926</td>\n",
       "      <td>...</td>\n",
       "      <td>-0.058633</td>\n",
       "      <td>0.703964</td>\n",
       "      <td>0.442102</td>\n",
       "      <td>-0.105841</td>\n",
       "      <td>0.683945</td>\n",
       "      <td>0.520048</td>\n",
       "      <td>-0.077680</td>\n",
       "      <td>0.682067</td>\n",
       "      <td>0.547024</td>\n",
       "      <td>-0.043198</td>\n",
       "    </tr>\n",
       "    <tr>\n",
       "      <th>4</th>\n",
       "      <td>0.506356</td>\n",
       "      <td>0.615224</td>\n",
       "      <td>3.498056e-07</td>\n",
       "      <td>0.438446</td>\n",
       "      <td>0.587186</td>\n",
       "      <td>-0.102750</td>\n",
       "      <td>0.351638</td>\n",
       "      <td>0.539882</td>\n",
       "      <td>-0.180144</td>\n",
       "      <td>0.252407</td>\n",
       "      <td>...</td>\n",
       "      <td>-0.072659</td>\n",
       "      <td>0.606038</td>\n",
       "      <td>0.308292</td>\n",
       "      <td>-0.097601</td>\n",
       "      <td>0.578553</td>\n",
       "      <td>0.248617</td>\n",
       "      <td>-0.109266</td>\n",
       "      <td>0.537409</td>\n",
       "      <td>0.210431</td>\n",
       "      <td>-0.117112</td>\n",
       "    </tr>\n",
       "    <tr>\n",
       "      <th>...</th>\n",
       "      <td>...</td>\n",
       "      <td>...</td>\n",
       "      <td>...</td>\n",
       "      <td>...</td>\n",
       "      <td>...</td>\n",
       "      <td>...</td>\n",
       "      <td>...</td>\n",
       "      <td>...</td>\n",
       "      <td>...</td>\n",
       "      <td>...</td>\n",
       "      <td>...</td>\n",
       "      <td>...</td>\n",
       "      <td>...</td>\n",
       "      <td>...</td>\n",
       "      <td>...</td>\n",
       "      <td>...</td>\n",
       "      <td>...</td>\n",
       "      <td>...</td>\n",
       "      <td>...</td>\n",
       "      <td>...</td>\n",
       "      <td>...</td>\n",
       "    </tr>\n",
       "    <tr>\n",
       "      <th>172624</th>\n",
       "      <td>0.263627</td>\n",
       "      <td>0.535312</td>\n",
       "      <td>1.611651e-06</td>\n",
       "      <td>0.403528</td>\n",
       "      <td>0.515474</td>\n",
       "      <td>-0.044685</td>\n",
       "      <td>0.528242</td>\n",
       "      <td>0.477760</td>\n",
       "      <td>-0.076475</td>\n",
       "      <td>0.636806</td>\n",
       "      <td>...</td>\n",
       "      <td>-0.072697</td>\n",
       "      <td>0.511867</td>\n",
       "      <td>0.300635</td>\n",
       "      <td>-0.104773</td>\n",
       "      <td>0.586523</td>\n",
       "      <td>0.267756</td>\n",
       "      <td>-0.125436</td>\n",
       "      <td>0.653001</td>\n",
       "      <td>0.246486</td>\n",
       "      <td>-0.139497</td>\n",
       "    </tr>\n",
       "    <tr>\n",
       "      <th>172625</th>\n",
       "      <td>0.511463</td>\n",
       "      <td>0.861062</td>\n",
       "      <td>-6.020041e-07</td>\n",
       "      <td>0.422419</td>\n",
       "      <td>0.782233</td>\n",
       "      <td>-0.031144</td>\n",
       "      <td>0.358993</td>\n",
       "      <td>0.701005</td>\n",
       "      <td>-0.049130</td>\n",
       "      <td>0.316516</td>\n",
       "      <td>...</td>\n",
       "      <td>-0.022426</td>\n",
       "      <td>0.669151</td>\n",
       "      <td>0.621616</td>\n",
       "      <td>-0.054109</td>\n",
       "      <td>0.701926</td>\n",
       "      <td>0.587407</td>\n",
       "      <td>-0.057539</td>\n",
       "      <td>0.728264</td>\n",
       "      <td>0.546679</td>\n",
       "      <td>-0.052590</td>\n",
       "    </tr>\n",
       "    <tr>\n",
       "      <th>172626</th>\n",
       "      <td>0.388389</td>\n",
       "      <td>0.807437</td>\n",
       "      <td>-1.529737e-06</td>\n",
       "      <td>0.297456</td>\n",
       "      <td>0.727686</td>\n",
       "      <td>-0.032727</td>\n",
       "      <td>0.267988</td>\n",
       "      <td>0.594614</td>\n",
       "      <td>-0.051199</td>\n",
       "      <td>0.319311</td>\n",
       "      <td>...</td>\n",
       "      <td>-0.038180</td>\n",
       "      <td>0.462980</td>\n",
       "      <td>0.431043</td>\n",
       "      <td>-0.044108</td>\n",
       "      <td>0.438205</td>\n",
       "      <td>0.470834</td>\n",
       "      <td>-0.030186</td>\n",
       "      <td>0.426073</td>\n",
       "      <td>0.528956</td>\n",
       "      <td>-0.021680</td>\n",
       "    </tr>\n",
       "    <tr>\n",
       "      <th>172627</th>\n",
       "      <td>0.646333</td>\n",
       "      <td>0.695424</td>\n",
       "      <td>-4.513188e-07</td>\n",
       "      <td>0.534227</td>\n",
       "      <td>0.634776</td>\n",
       "      <td>-0.003656</td>\n",
       "      <td>0.461395</td>\n",
       "      <td>0.557774</td>\n",
       "      <td>-0.019350</td>\n",
       "      <td>0.403825</td>\n",
       "      <td>...</td>\n",
       "      <td>-0.072576</td>\n",
       "      <td>0.643492</td>\n",
       "      <td>0.271827</td>\n",
       "      <td>-0.086607</td>\n",
       "      <td>0.615850</td>\n",
       "      <td>0.193169</td>\n",
       "      <td>-0.093982</td>\n",
       "      <td>0.581839</td>\n",
       "      <td>0.125560</td>\n",
       "      <td>-0.097428</td>\n",
       "    </tr>\n",
       "    <tr>\n",
       "      <th>172628</th>\n",
       "      <td>0.539760</td>\n",
       "      <td>0.685292</td>\n",
       "      <td>-7.676005e-07</td>\n",
       "      <td>0.639693</td>\n",
       "      <td>0.594974</td>\n",
       "      <td>-0.042994</td>\n",
       "      <td>0.705962</td>\n",
       "      <td>0.468826</td>\n",
       "      <td>-0.052880</td>\n",
       "      <td>0.709367</td>\n",
       "      <td>...</td>\n",
       "      <td>-0.011845</td>\n",
       "      <td>0.419989</td>\n",
       "      <td>0.299554</td>\n",
       "      <td>-0.040614</td>\n",
       "      <td>0.420554</td>\n",
       "      <td>0.236544</td>\n",
       "      <td>-0.046661</td>\n",
       "      <td>0.423603</td>\n",
       "      <td>0.179599</td>\n",
       "      <td>-0.039264</td>\n",
       "    </tr>\n",
       "  </tbody>\n",
       "</table>\n",
       "<p>172629 rows × 63 columns</p>\n",
       "</div>"
      ],
      "text/plain": [
       "         WRIST_X   WRIST_Y       WRIST_Z  THUMB_CMC_X  THUMB_CMC_Y  \\\n",
       "0       0.637210  0.809412  3.020628e-07     0.512774     0.712112   \n",
       "1       0.551169  0.491262  2.062316e-06     0.671859     0.519571   \n",
       "2       0.686294  0.713084  1.565869e-07     0.572719     0.676401   \n",
       "3       0.613139  0.778134 -1.897673e-07     0.491187     0.746994   \n",
       "4       0.506356  0.615224  3.498056e-07     0.438446     0.587186   \n",
       "...          ...       ...           ...          ...          ...   \n",
       "172624  0.263627  0.535312  1.611651e-06     0.403528     0.515474   \n",
       "172625  0.511463  0.861062 -6.020041e-07     0.422419     0.782233   \n",
       "172626  0.388389  0.807437 -1.529737e-06     0.297456     0.727686   \n",
       "172627  0.646333  0.695424 -4.513188e-07     0.534227     0.634776   \n",
       "172628  0.539760  0.685292 -7.676005e-07     0.639693     0.594974   \n",
       "\n",
       "        THUMB_CMC_Z  THUMB_MCP_X  THUMB_MCP_Y  THUMB_MCP_Z  THUMB_IP_X  ...  \\\n",
       "0         -0.034217     0.458524     0.560906    -0.044048    0.522763  ...   \n",
       "1         -0.147540     0.755878     0.502617    -0.289627    0.763081  ...   \n",
       "2         -0.015456     0.469417     0.611907    -0.038461    0.375150  ...   \n",
       "3         -0.076983     0.359688     0.653980    -0.116892    0.261926  ...   \n",
       "4         -0.102750     0.351638     0.539882    -0.180144    0.252407  ...   \n",
       "...             ...          ...          ...          ...         ...  ...   \n",
       "172624    -0.044685     0.528242     0.477760    -0.076475    0.636806  ...   \n",
       "172625    -0.031144     0.358993     0.701005    -0.049130    0.316516  ...   \n",
       "172626    -0.032727     0.267988     0.594614    -0.051199    0.319311  ...   \n",
       "172627    -0.003656     0.461395     0.557774    -0.019350    0.403825  ...   \n",
       "172628    -0.042994     0.705962     0.468826    -0.052880    0.709367  ...   \n",
       "\n",
       "        PINKY_MCP_Z  PINKY_PIP_X  PINKY_PIP_Y  PINKY_PIP_Z  PINKY_DIP_X  \\\n",
       "0         -0.049284     0.665756     0.339019    -0.064839     0.651039   \n",
       "1         -0.426825     0.366051     0.368505    -0.551383     0.379163   \n",
       "2         -0.090517     0.577764     0.336889    -0.126363     0.509202   \n",
       "3         -0.058633     0.703964     0.442102    -0.105841     0.683945   \n",
       "4         -0.072659     0.606038     0.308292    -0.097601     0.578553   \n",
       "...             ...          ...          ...          ...          ...   \n",
       "172624    -0.072697     0.511867     0.300635    -0.104773     0.586523   \n",
       "172625    -0.022426     0.669151     0.621616    -0.054109     0.701926   \n",
       "172626    -0.038180     0.462980     0.431043    -0.044108     0.438205   \n",
       "172627    -0.072576     0.643492     0.271827    -0.086607     0.615850   \n",
       "172628    -0.011845     0.419989     0.299554    -0.040614     0.420554   \n",
       "\n",
       "        PINKY_DIP_Y  PINKY_DIP_Z  PINKY_TIP_X  PINKY_TIP_Y  PINKY_TIP_Z  \n",
       "0          0.261719    -0.075527     0.636476     0.196306    -0.086300  \n",
       "1          0.490967    -0.609301     0.404357     0.584193    -0.653821  \n",
       "2          0.300105    -0.146626     0.446786     0.294199    -0.158336  \n",
       "3          0.520048    -0.077680     0.682067     0.547024    -0.043198  \n",
       "4          0.248617    -0.109266     0.537409     0.210431    -0.117112  \n",
       "...             ...          ...          ...          ...          ...  \n",
       "172624     0.267756    -0.125436     0.653001     0.246486    -0.139497  \n",
       "172625     0.587407    -0.057539     0.728264     0.546679    -0.052590  \n",
       "172626     0.470834    -0.030186     0.426073     0.528956    -0.021680  \n",
       "172627     0.193169    -0.093982     0.581839     0.125560    -0.097428  \n",
       "172628     0.236544    -0.046661     0.423603     0.179599    -0.039264  \n",
       "\n",
       "[172629 rows x 63 columns]"
      ]
     },
     "execution_count": 163,
     "metadata": {},
     "output_type": "execute_result"
    }
   ],
   "source": [
    "X = df.drop(columns=['index', 'Unnamed: 0', 'PATH', 'TARGET'])\n",
    "X"
   ]
  },
  {
   "cell_type": "code",
   "execution_count": 164,
   "id": "2d583035",
   "metadata": {},
   "outputs": [
    {
     "data": {
      "text/plain": [
       "0         B\n",
       "1         M\n",
       "2         C\n",
       "3         T\n",
       "4         C\n",
       "         ..\n",
       "172624    Q\n",
       "172625    Y\n",
       "172626    E\n",
       "172627    F\n",
       "172628    I\n",
       "Name: TARGET, Length: 172629, dtype: object"
      ]
     },
     "execution_count": 164,
     "metadata": {},
     "output_type": "execute_result"
    }
   ],
   "source": [
    "y=df['TARGET']\n",
    "y"
   ]
  },
  {
   "cell_type": "code",
   "execution_count": 165,
   "id": "25d78695",
   "metadata": {},
   "outputs": [
    {
     "data": {
      "text/plain": [
       "L    7735\n",
       "F    7616\n",
       "D    7488\n",
       "K    7311\n",
       "B    7252\n",
       "E    7213\n",
       "R    7153\n",
       "A    7101\n",
       "I    7080\n",
       "Z    7006\n",
       "V    6897\n",
       "X    6897\n",
       "W    6863\n",
       "O    6854\n",
       "Y    6698\n",
       "J    6682\n",
       "S    6674\n",
       "C    6615\n",
       "T    6459\n",
       "G    6396\n",
       "H    6077\n",
       "U    5546\n",
       "M    5434\n",
       "P    5411\n",
       "Q    5192\n",
       "N    4979\n",
       "Name: TARGET, dtype: int64"
      ]
     },
     "execution_count": 165,
     "metadata": {},
     "output_type": "execute_result"
    }
   ],
   "source": [
    "y.value_counts()"
   ]
  },
  {
   "cell_type": "code",
   "execution_count": 166,
   "id": "ccd7ab34",
   "metadata": {},
   "outputs": [],
   "source": [
    "# Encoding letters to numerical, A-Z = 0-25\n",
    "y = pd.Categorical(y)"
   ]
  },
  {
   "cell_type": "code",
   "execution_count": 167,
   "id": "7f9a0e97",
   "metadata": {},
   "outputs": [
    {
     "data": {
      "text/plain": [
       "CategoricalDtype(categories=['A', 'B', 'C', 'D', 'E', 'F', 'G', 'H', 'I', 'J', 'K', 'L',\n",
       "                  'M', 'N', 'O', 'P', 'Q', 'R', 'S', 'T', 'U', 'V', 'W', 'X',\n",
       "                  'Y', 'Z'],\n",
       ", ordered=False)"
      ]
     },
     "execution_count": 167,
     "metadata": {},
     "output_type": "execute_result"
    }
   ],
   "source": [
    "y.dtype"
   ]
  },
  {
   "cell_type": "code",
   "execution_count": 168,
   "id": "f71b92cf",
   "metadata": {},
   "outputs": [
    {
     "data": {
      "text/plain": [
       "['A',\n",
       " 'B',\n",
       " 'C',\n",
       " 'D',\n",
       " 'E',\n",
       " 'F',\n",
       " 'G',\n",
       " 'H',\n",
       " 'I',\n",
       " 'J',\n",
       " 'K',\n",
       " 'L',\n",
       " 'M',\n",
       " 'N',\n",
       " 'O',\n",
       " 'P',\n",
       " 'Q',\n",
       " 'R',\n",
       " 'S',\n",
       " 'T',\n",
       " 'U',\n",
       " 'V',\n",
       " 'W',\n",
       " 'X',\n",
       " 'Y',\n",
       " 'Z']"
      ]
     },
     "execution_count": 168,
     "metadata": {},
     "output_type": "execute_result"
    }
   ],
   "source": [
    "cat_list = list(y.categories)\n",
    "cat_list"
   ]
  },
  {
   "cell_type": "code",
   "execution_count": 169,
   "id": "742ccf7f",
   "metadata": {},
   "outputs": [
    {
     "data": {
      "text/plain": [
       "172629"
      ]
     },
     "metadata": {},
     "output_type": "display_data"
    },
    {
     "data": {
      "text/plain": [
       "array([ 1, 12,  2, ...,  4,  5,  8], dtype=int8)"
      ]
     },
     "metadata": {},
     "output_type": "display_data"
    }
   ],
   "source": [
    "y = y.codes\n",
    "display(len(y))\n",
    "display(y)\n"
   ]
  },
  {
   "cell_type": "code",
   "execution_count": 170,
   "id": "5cf3359f",
   "metadata": {},
   "outputs": [],
   "source": [
    "X_train, X_test, y_train, y_test = train_test_split(X, y, test_size = 0.2, random_state=42)"
   ]
  },
  {
   "cell_type": "code",
   "execution_count": 171,
   "id": "9532d9d5",
   "metadata": {},
   "outputs": [
    {
     "data": {
      "text/plain": [
       "((138103, 63), (138103,), (34526, 63), (34526,))"
      ]
     },
     "execution_count": 171,
     "metadata": {},
     "output_type": "execute_result"
    }
   ],
   "source": [
    "X_train.shape, y_train.shape, X_test.shape, y_test.shape"
   ]
  },
  {
   "cell_type": "code",
   "execution_count": 172,
   "id": "4c950fd9",
   "metadata": {},
   "outputs": [
    {
     "name": "stdout",
     "output_type": "stream",
     "text": [
      "26\n"
     ]
    }
   ],
   "source": [
    "classes = len(cat_list)\n",
    "print(classes)"
   ]
  },
  {
   "cell_type": "code",
   "execution_count": 173,
   "id": "e5e0ec70",
   "metadata": {},
   "outputs": [],
   "source": [
    "# y_train = to_categorical(y_train, num_classes=classes)"
   ]
  },
  {
   "cell_type": "code",
   "execution_count": 174,
   "id": "7be218c8",
   "metadata": {},
   "outputs": [],
   "source": [
    "# y_test = to_categorical(y_test, num_classes=classes)"
   ]
  },
  {
   "cell_type": "code",
   "execution_count": 175,
   "id": "4cc17e15",
   "metadata": {},
   "outputs": [
    {
     "name": "stdout",
     "output_type": "stream",
     "text": [
      "(138103, 63, 1) (34526, 63, 1)\n"
     ]
    }
   ],
   "source": [
    "X_train = np.reshape(np.array(X_train), (X_train.shape[0], X_train.shape[1], 1)).astype(np.float32)\n",
    "X_test = np.reshape(np.array(X_test), (X_test.shape[0], X_test.shape[1], 1)).astype(np.float32)\n",
    "print(X_train.shape, X_test.shape)"
   ]
  },
  {
   "cell_type": "markdown",
   "id": "946143c5",
   "metadata": {},
   "source": [
    "## CNN Model"
   ]
  },
  {
   "cell_type": "markdown",
   "id": "af8da51d",
   "metadata": {
    "heading_collapsed": true
   },
   "source": [
    "### Original CNN"
   ]
  },
  {
   "cell_type": "code",
   "execution_count": 176,
   "id": "74c1254f",
   "metadata": {
    "hidden": true
   },
   "outputs": [],
   "source": [
    "# Architecture\n",
    "# model = models.Sequential()\n",
    "# model.add(layers.Conv1D(filters=512, kernel_size=7, strides=1, padding='causal', input_shape=X_train.shape[1:3], activation='relu'))\n",
    "# model.add(layers.Conv1D(filters=512, kernel_size=7, strides=1, padding='causal', activation='relu'))\n",
    "# model.add(layers.MaxPooling1D(pool_size=2))\n",
    "# model.add(layers.Conv1D(filters=256, kernel_size=5, strides=1, padding='causal', activation='relu'))\n",
    "# model.add(layers.Conv1D(filters=256, kernel_size=5, strides=1, padding='causal', activation='relu'))\n",
    "# model.add(layers.MaxPooling1D(pool_size=2))\n",
    "# model.add(layers.Conv1D(filters=256, kernel_size=3, strides=1, padding='causal', activation='relu'))\n",
    "# model.add(layers.Conv1D(filters=256, kernel_size=3, strides=1, padding='causal', activation='relu'))\n",
    "# model.add(layers.MaxPooling1D(pool_size=2))\n",
    "# model.add(layers.Dropout(0.2))\n",
    "# model.add(layers.Flatten())\n",
    "# model.add(layers.Dense(256, activation='relu'))\n",
    "# model.add(layers.Dense(26, activation='softmax')) \n",
    "#accuracy: 0.89"
   ]
  },
  {
   "cell_type": "markdown",
   "id": "927c0abd",
   "metadata": {
    "heading_collapsed": true
   },
   "source": [
    "### Reduced CNN 1"
   ]
  },
  {
   "cell_type": "code",
   "execution_count": 177,
   "id": "566c941d",
   "metadata": {
    "hidden": true
   },
   "outputs": [],
   "source": [
    "# model = models.Sequential()\n",
    "# model.add(layers.Conv1D(filters=64, kernel_size=3, strides=1, padding='causal', input_shape=X_train.shape[1:3], activation='relu'))\n",
    "# model.add(layers.MaxPooling1D(pool_size=2))\n",
    "# model.add(layers.Conv1D(filters=64, kernel_size=3, strides=1, padding='causal', activation='relu'))\n",
    "# model.add(layers.MaxPooling1D(pool_size=2))\n",
    "# model.add(layers.Conv1D(filters=64, kernel_size=3, strides=1, padding='causal', activation='relu'))\n",
    "# model.add(layers.MaxPooling1D(pool_size=2))\n",
    "# model.add(layers.Dropout(0.2))\n",
    "# model.add(layers.Flatten())\n",
    "# model.add(layers.Dense(256, activation='relu'))\n",
    "# model.add(layers.Dense(26, activation='softmax'))\n",
    "# accuracy: 0.71"
   ]
  },
  {
   "cell_type": "markdown",
   "id": "2b0d4a25",
   "metadata": {
    "heading_collapsed": true
   },
   "source": [
    "### Reduced CNN 2"
   ]
  },
  {
   "cell_type": "code",
   "execution_count": 178,
   "id": "1f3e95bf",
   "metadata": {
    "hidden": true
   },
   "outputs": [],
   "source": [
    "# model = models.Sequential()\n",
    "# model.add(layers.Conv1D(filters=32, kernel_size=3, strides=1, padding='causal', input_shape=X_train.shape[1:3], activation='relu'))\n",
    "# model.add(layers.MaxPooling1D(pool_size=2))\n",
    "# model.add(layers.Conv1D(filters=64, kernel_size=3, strides=1, padding='causal', activation='relu'))\n",
    "# model.add(layers.MaxPooling1D(pool_size=2))\n",
    "# model.add(layers.Conv1D(filters=128, kernel_size=3, strides=1, padding='causal', activation='relu'))\n",
    "# model.add(layers.MaxPooling1D(pool_size=2))\n",
    "# model.add(layers.Dropout(0.2))\n",
    "# model.add(layers.Flatten())\n",
    "# model.add(layers.Dense(256, activation='relu'))\n",
    "# model.add(layers.Dense(26, activation='softmax'))\n",
    "# accuracy: 0.81"
   ]
  },
  {
   "cell_type": "markdown",
   "id": "f708177a",
   "metadata": {
    "heading_collapsed": true
   },
   "source": [
    "### Reduced CNN 3"
   ]
  },
  {
   "cell_type": "code",
   "execution_count": 179,
   "id": "349677b3",
   "metadata": {
    "hidden": true
   },
   "outputs": [],
   "source": [
    "# model = models.Sequential()\n",
    "# model.add(layers.Conv1D(filters=64, kernel_size=3, strides=1, padding='causal', input_shape=X_train.shape[1:3], activation='relu'))\n",
    "# model.add(layers.MaxPooling1D(pool_size=2))\n",
    "# model.add(layers.Conv1D(filters=128, kernel_size=3, strides=1, padding='causal', activation='relu'))\n",
    "# model.add(layers.MaxPooling1D(pool_size=2))\n",
    "# model.add(layers.Conv1D(filters=256, kernel_size=3, strides=1, padding='causal', activation='relu'))\n",
    "# model.add(layers.MaxPooling1D(pool_size=2))\n",
    "# model.add(layers.Dropout(0.2))\n",
    "# model.add(layers.Flatten())\n",
    "# model.add(layers.Dense(256, activation='relu'))\n",
    "# model.add(layers.Dense(26, activation='softmax'))\n",
    "# accuracy: 0.86"
   ]
  },
  {
   "cell_type": "markdown",
   "id": "3f3d25d2",
   "metadata": {},
   "source": [
    "### Reduced CNN 4"
   ]
  },
  {
   "cell_type": "code",
   "execution_count": 180,
   "id": "999d57e6",
   "metadata": {},
   "outputs": [],
   "source": [
    "model = models.Sequential()\n",
    "model.add(layers.Conv1D(filters=16, kernel_size=3, strides=1, padding='causal', input_shape=X_train.shape[1:3], activation='relu'))\n",
    "model.add(layers.MaxPooling1D(pool_size=2))\n",
    "model.add(layers.Conv1D(filters=32, kernel_size=3, strides=1, padding='causal', activation='relu'))\n",
    "model.add(layers.MaxPooling1D(pool_size=2))\n",
    "model.add(layers.Conv1D(filters=64, kernel_size=3, strides=1, padding='causal', activation='relu'))\n",
    "model.add(layers.MaxPooling1D(pool_size=2))\n",
    "model.add(layers.Dropout(0.2))\n",
    "model.add(layers.Flatten())\n",
    "model.add(layers.Dense(128, activation='relu'))\n",
    "model.add(layers.Dense(26, activation='softmax'))"
   ]
  },
  {
   "cell_type": "code",
   "execution_count": 181,
   "id": "90b9dba5",
   "metadata": {},
   "outputs": [],
   "source": [
    "model.compile(loss = 'sparse_categorical_crossentropy', optimizer='adam', metrics=['accuracy'])"
   ]
  },
  {
   "cell_type": "code",
   "execution_count": 182,
   "id": "db4bf013",
   "metadata": {},
   "outputs": [
    {
     "name": "stdout",
     "output_type": "stream",
     "text": [
      "Model: \"sequential_2\"\n",
      "_________________________________________________________________\n",
      " Layer (type)                Output Shape              Param #   \n",
      "=================================================================\n",
      " conv1d_6 (Conv1D)           (None, 63, 16)            64        \n",
      "                                                                 \n",
      " max_pooling1d_6 (MaxPooling  (None, 31, 16)           0         \n",
      " 1D)                                                             \n",
      "                                                                 \n",
      " conv1d_7 (Conv1D)           (None, 31, 32)            1568      \n",
      "                                                                 \n",
      " max_pooling1d_7 (MaxPooling  (None, 15, 32)           0         \n",
      " 1D)                                                             \n",
      "                                                                 \n",
      " conv1d_8 (Conv1D)           (None, 15, 64)            6208      \n",
      "                                                                 \n",
      " max_pooling1d_8 (MaxPooling  (None, 7, 64)            0         \n",
      " 1D)                                                             \n",
      "                                                                 \n",
      " dropout_2 (Dropout)         (None, 7, 64)             0         \n",
      "                                                                 \n",
      " flatten_2 (Flatten)         (None, 448)               0         \n",
      "                                                                 \n",
      " dense_4 (Dense)             (None, 128)               57472     \n",
      "                                                                 \n",
      " dense_5 (Dense)             (None, 26)                3354      \n",
      "                                                                 \n",
      "=================================================================\n",
      "Total params: 68,666\n",
      "Trainable params: 68,666\n",
      "Non-trainable params: 0\n",
      "_________________________________________________________________\n"
     ]
    }
   ],
   "source": [
    "model.summary()"
   ]
  },
  {
   "cell_type": "code",
   "execution_count": 183,
   "id": "ba2b7c38",
   "metadata": {},
   "outputs": [],
   "source": [
    "es = EarlyStopping(patience=10, restore_best_weights=True)"
   ]
  },
  {
   "cell_type": "code",
   "execution_count": 184,
   "id": "a56582a4",
   "metadata": {
    "scrolled": true
   },
   "outputs": [
    {
     "name": "stdout",
     "output_type": "stream",
     "text": [
      "Epoch 1/500\n",
      "3021/3021 [==============================] - 42s 13ms/step - loss: 0.8516 - accuracy: 0.7366 - val_loss: 0.3840 - val_accuracy: 0.8865\n",
      "Epoch 2/500\n",
      "3021/3021 [==============================] - 35s 12ms/step - loss: 0.3474 - accuracy: 0.8944 - val_loss: 0.2422 - val_accuracy: 0.9322\n",
      "Epoch 3/500\n",
      "3021/3021 [==============================] - 38s 12ms/step - loss: 0.2465 - accuracy: 0.9261 - val_loss: 0.1914 - val_accuracy: 0.9437\n",
      "Epoch 4/500\n",
      "3021/3021 [==============================] - 36s 12ms/step - loss: 0.2054 - accuracy: 0.9374 - val_loss: 0.1834 - val_accuracy: 0.9440\n",
      "Epoch 5/500\n",
      "3021/3021 [==============================] - 37s 12ms/step - loss: 0.1806 - accuracy: 0.9438 - val_loss: 0.1502 - val_accuracy: 0.9549\n",
      "Epoch 6/500\n",
      "3021/3021 [==============================] - 38s 12ms/step - loss: 0.1620 - accuracy: 0.9497 - val_loss: 0.1408 - val_accuracy: 0.9591\n",
      "Epoch 7/500\n",
      "3021/3021 [==============================] - 36s 12ms/step - loss: 0.1486 - accuracy: 0.9536 - val_loss: 0.1353 - val_accuracy: 0.9595\n",
      "Epoch 8/500\n",
      "3021/3021 [==============================] - 39s 13ms/step - loss: 0.1381 - accuracy: 0.9565 - val_loss: 0.1224 - val_accuracy: 0.9642\n",
      "Epoch 9/500\n",
      "3021/3021 [==============================] - 38s 13ms/step - loss: 0.1293 - accuracy: 0.9591 - val_loss: 0.1312 - val_accuracy: 0.9613\n",
      "Epoch 10/500\n",
      "3021/3021 [==============================] - 18s 6ms/step - loss: 0.1242 - accuracy: 0.9602 - val_loss: 0.1217 - val_accuracy: 0.9644\n",
      "Epoch 11/500\n",
      "3021/3021 [==============================] - 18s 6ms/step - loss: 0.1168 - accuracy: 0.9621 - val_loss: 0.1143 - val_accuracy: 0.9658\n",
      "Epoch 12/500\n",
      "3021/3021 [==============================] - 18s 6ms/step - loss: 0.1121 - accuracy: 0.9636 - val_loss: 0.1156 - val_accuracy: 0.9660\n",
      "Epoch 13/500\n",
      "3021/3021 [==============================] - 18s 6ms/step - loss: 0.1090 - accuracy: 0.9642 - val_loss: 0.1185 - val_accuracy: 0.9641\n",
      "Epoch 14/500\n",
      "3021/3021 [==============================] - 18s 6ms/step - loss: 0.1057 - accuracy: 0.9648 - val_loss: 0.1137 - val_accuracy: 0.9668\n",
      "Epoch 15/500\n",
      "3021/3021 [==============================] - 18s 6ms/step - loss: 0.1012 - accuracy: 0.9665 - val_loss: 0.1100 - val_accuracy: 0.9678\n",
      "Epoch 16/500\n",
      "3021/3021 [==============================] - 18s 6ms/step - loss: 0.0981 - accuracy: 0.9675 - val_loss: 0.1082 - val_accuracy: 0.9681\n",
      "Epoch 17/500\n",
      "3021/3021 [==============================] - 18s 6ms/step - loss: 0.0949 - accuracy: 0.9685 - val_loss: 0.1079 - val_accuracy: 0.9680\n",
      "Epoch 18/500\n",
      "3021/3021 [==============================] - 18s 6ms/step - loss: 0.0935 - accuracy: 0.9689 - val_loss: 0.1037 - val_accuracy: 0.9692\n",
      "Epoch 19/500\n",
      "3021/3021 [==============================] - 18s 6ms/step - loss: 0.0905 - accuracy: 0.9697 - val_loss: 0.1043 - val_accuracy: 0.9688\n",
      "Epoch 20/500\n",
      "3021/3021 [==============================] - 35s 12ms/step - loss: 0.0876 - accuracy: 0.9700 - val_loss: 0.1119 - val_accuracy: 0.9677\n",
      "Epoch 21/500\n",
      "3021/3021 [==============================] - 43s 14ms/step - loss: 0.0858 - accuracy: 0.9708 - val_loss: 0.1053 - val_accuracy: 0.9695\n",
      "Epoch 22/500\n",
      "3021/3021 [==============================] - 37s 12ms/step - loss: 0.0852 - accuracy: 0.9709 - val_loss: 0.1180 - val_accuracy: 0.9652\n",
      "Epoch 23/500\n",
      "3021/3021 [==============================] - 42s 14ms/step - loss: 0.0818 - accuracy: 0.9725 - val_loss: 0.1097 - val_accuracy: 0.9688\n",
      "Epoch 24/500\n",
      "3021/3021 [==============================] - 41s 13ms/step - loss: 0.0806 - accuracy: 0.9728 - val_loss: 0.1058 - val_accuracy: 0.9709\n",
      "Epoch 25/500\n",
      "3021/3021 [==============================] - 41s 14ms/step - loss: 0.0781 - accuracy: 0.9729 - val_loss: 0.1072 - val_accuracy: 0.9688\n",
      "Epoch 26/500\n",
      "3021/3021 [==============================] - 40s 13ms/step - loss: 0.0776 - accuracy: 0.9735 - val_loss: 0.1050 - val_accuracy: 0.9708\n",
      "Epoch 27/500\n",
      "3021/3021 [==============================] - 41s 13ms/step - loss: 0.0759 - accuracy: 0.9737 - val_loss: 0.1078 - val_accuracy: 0.9693\n",
      "Epoch 28/500\n",
      "3021/3021 [==============================] - 39s 13ms/step - loss: 0.0759 - accuracy: 0.9743 - val_loss: 0.1079 - val_accuracy: 0.9704\n"
     ]
    }
   ],
   "source": [
    "history = model.fit(X_train, \n",
    "                    y_train,\n",
    "                    epochs=500, \n",
    "                    validation_split=0.3, \n",
    "                    callbacks=es)"
   ]
  },
  {
   "cell_type": "code",
   "execution_count": 185,
   "id": "f25e0463",
   "metadata": {},
   "outputs": [
    {
     "name": "stdout",
     "output_type": "stream",
     "text": [
      "1079/1079 [==============================] - 6s 5ms/step - loss: 0.1041 - accuracy: 0.9699\n"
     ]
    },
    {
     "data": {
      "text/plain": [
       "[0.10410112887620926, 0.9698777794837952]"
      ]
     },
     "execution_count": 185,
     "metadata": {},
     "output_type": "execute_result"
    }
   ],
   "source": [
    "model.evaluate(X_test, y_test)"
   ]
  },
  {
   "cell_type": "code",
   "execution_count": 187,
   "id": "dd6a0ec8",
   "metadata": {},
   "outputs": [
    {
     "name": "stderr",
     "output_type": "stream",
     "text": [
      "WARNING:absl:Found untraced functions such as _jit_compiled_convolution_op, _jit_compiled_convolution_op, _jit_compiled_convolution_op while saving (showing 3 of 3). These functions will not be directly callable after loading.\n"
     ]
    },
    {
     "name": "stdout",
     "output_type": "stream",
     "text": [
      "INFO:tensorflow:Assets written to: CNN-nonorm-chonkboi/assets\n"
     ]
    },
    {
     "name": "stderr",
     "output_type": "stream",
     "text": [
      "INFO:tensorflow:Assets written to: CNN-nonorm-chonkboi/assets\n"
     ]
    }
   ],
   "source": [
    "model.save('CNN-nonorm-chonkboi')"
   ]
  },
  {
   "cell_type": "code",
   "execution_count": null,
   "id": "9c728c7f",
   "metadata": {},
   "outputs": [],
   "source": []
  }
 ],
 "metadata": {
  "kernelspec": {
   "display_name": "Python 3 (ipykernel)",
   "language": "python",
   "name": "python3"
  },
  "language_info": {
   "codemirror_mode": {
    "name": "ipython",
    "version": 3
   },
   "file_extension": ".py",
   "mimetype": "text/x-python",
   "name": "python",
   "nbconvert_exporter": "python",
   "pygments_lexer": "ipython3",
   "version": "3.10.6"
  },
  "toc": {
   "base_numbering": 1,
   "nav_menu": {},
   "number_sections": true,
   "sideBar": true,
   "skip_h1_title": false,
   "title_cell": "Table of Contents",
   "title_sidebar": "Contents",
   "toc_cell": false,
   "toc_position": {},
   "toc_section_display": true,
   "toc_window_display": false
  }
 },
 "nbformat": 4,
 "nbformat_minor": 5
}
