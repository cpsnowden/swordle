{
 "cells": [
  {
   "attachments": {},
   "cell_type": "markdown",
   "metadata": {},
   "source": [
    "# The Creation of Swordle: Building a CNN Classifier with Mediapipe and Keras to identify American Sign Language Fingerspelling\n",
    "\n",
    "## Introduction\n",
    "\n",
    "As part of our final project for the 9 week Data Science bootcamp with Le Wagon, our team created a CNN classifier to identify different American Sign Language Fingerspelling letters packaged into a word game to allow the user to practice their signing in American Sign Languge. We chose American Sign Language as this was the language that we were able to find the most data for, but given more resources wand a longer time frame we would have liked to source more accurate Auslan data and expanded out approach to include words as well as individual letters. \n",
    "\n",
    "## Dataset Selection\n",
    "\n",
    "We began with the three following datasets from Kaggle:\n",
    "\n",
    "1. https://www.kaggle.com/datasets/kapillondhe/american-sign-language\n",
    "2. https://www.kaggle.com/datasets/joannracheljacob/american-sign-language-dataset\n",
    "3. https://www.kaggle.com/datasets/ammarnassanalhajali/american-sign-language-letters\n",
    "\n",
    "By applying bash scripting for renaming, copying and moving files, we were able to copy all images to their appropriate collections in the following folder structure:\n",
    "\n",
    "```\n",
    "├── dataset\n",
    "│   ├── A\n",
    "│   ├── B\n",
    "│   ├── ...\n",
    "│   ├── Y\n",
    "│   ├── Z\n",
    "```\n",
    "\n",
    "We then used the Mediapipe library from Google in a python script to convert the image information to 3D coordinate data.\n",
    "\n",
    "Mediapipe is able to overlay coordinate data on images and video of hands and other body parts to efficiently convert images information into coordinate data. For more information, see the Mediapipe documentation.\n",
    "\n",
    "\n",
    "\n"
   ]
  }
 ],
 "metadata": {
  "language_info": {
   "name": "python"
  },
  "orig_nbformat": 4
 },
 "nbformat": 4,
 "nbformat_minor": 2
}
